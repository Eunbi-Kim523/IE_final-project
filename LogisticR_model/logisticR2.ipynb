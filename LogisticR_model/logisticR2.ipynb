{
 "cells": [
  {
   "cell_type": "code",
   "execution_count": 39,
   "id": "e93f6fdc",
   "metadata": {},
   "outputs": [],
   "source": [
    "import pandas as pd\n",
    "import numpy as np\n",
    "from sklearn.model_selection import train_test_split\n",
    "\n",
    "df = pd.read_csv(\"colchange2.csv\", encoding = 'utf-8')"
   ]
  },
  {
   "cell_type": "code",
   "execution_count": 40,
   "id": "481e27a4",
   "metadata": {},
   "outputs": [
    {
     "name": "stdout",
     "output_type": "stream",
     "text": [
      "          발매가  라인  콜라보  month  color_num  col1  col2  col3  col4  col5  day  \\\n",
      "0      259000  21    0      4          1     9     0     0     0     0    0   \n",
      "1      259000  21    0      4          1     9     0     0     0     0    1   \n",
      "2      259000  21    0      4          1     9     0     0     0     0    2   \n",
      "3      259000  21    0      4          1     9     0     0     0     0    3   \n",
      "4      259000  21    0      4          1     9     0     0     0     0    4   \n",
      "...       ...  ..  ...    ...        ...   ...   ...   ...   ...   ...  ...   \n",
      "43948  209000  28    0     10          1     9     0     0     0     0   88   \n",
      "43949  209000  28    0     10          1     9     0     0     0     0   89   \n",
      "43950  209000  28    0     10          1     9     0     0     0     0   90   \n",
      "43951  209000  28    0     10          1     9     0     0     0     0   91   \n",
      "43952  209000  28    0     10          1     9     0     0     0     0   92   \n",
      "\n",
      "       nike  jordan  newbalance  adidas  converse  콜라보유무  type  \n",
      "0         0       0           1       0         0      0   1.0  \n",
      "1         0       0           1       0         0      0   1.0  \n",
      "2         0       0           1       0         0      0   1.0  \n",
      "3         0       0           1       0         0      0   1.0  \n",
      "4         0       0           1       0         0      0   1.0  \n",
      "...     ...     ...         ...     ...       ...    ...   ...  \n",
      "43948     0       0           0       0         1      1   0.0  \n",
      "43949     0       0           0       0         1      1   0.0  \n",
      "43950     0       0           0       0         1      1   0.0  \n",
      "43951     0       0           0       0         1      1   0.0  \n",
      "43952     0       0           0       0         1      1   0.0  \n",
      "\n",
      "[43953 rows x 18 columns]\n"
     ]
    }
   ],
   "source": [
    "print(df)"
   ]
  },
  {
   "cell_type": "code",
   "execution_count": 41,
   "id": "5e55a5f9",
   "metadata": {},
   "outputs": [],
   "source": [
    "df = df[(df['day'] == 2)]\n",
    "df = df.sample(frac=1).reset_index(drop=True)\n",
    "X = df[['발매가', '라인', '콜라보', '콜라보유무', 'month', 'color_num']]\n",
    "Y = df[['type']]"
   ]
  },
  {
   "cell_type": "code",
   "execution_count": 42,
   "id": "297f6414",
   "metadata": {},
   "outputs": [],
   "source": [
    "from sklearn.preprocessing import StandardScaler\n",
    "scaler = StandardScaler()\n",
    "X = scaler.fit_transform(X)\n",
    "X = np.asarray(X).astype(np.int64)"
   ]
  },
  {
   "cell_type": "code",
   "execution_count": 43,
   "id": "8366b503",
   "metadata": {},
   "outputs": [],
   "source": [
    "train_x, test_x, train_y, test_y = train_test_split(X, Y, test_size = 0.4, random_state = 1)"
   ]
  },
  {
   "cell_type": "code",
   "execution_count": 44,
   "id": "78834aad",
   "metadata": {},
   "outputs": [
    {
     "name": "stdout",
     "output_type": "stream",
     "text": [
      "[0 1 0 0 1 1]\n"
     ]
    }
   ],
   "source": [
    "print(train_x[3])"
   ]
  },
  {
   "cell_type": "code",
   "execution_count": 45,
   "id": "b2b7c9b1",
   "metadata": {},
   "outputs": [
    {
     "name": "stderr",
     "output_type": "stream",
     "text": [
      "C:\\Users\\USER\\anaconda3\\lib\\site-packages\\sklearn\\utils\\validation.py:63: DataConversionWarning: A column-vector y was passed when a 1d array was expected. Please change the shape of y to (n_samples, ), for example using ravel().\n",
      "  return f(*args, **kwargs)\n"
     ]
    },
    {
     "data": {
      "text/plain": [
       "LogisticRegression(C=10, multi_class='multinomial')"
      ]
     },
     "execution_count": 45,
     "metadata": {},
     "output_type": "execute_result"
    }
   ],
   "source": [
    "from sklearn.linear_model import LogisticRegression\n",
    "model = LogisticRegression(multi_class = \"multinomial\", solver = \"lbfgs\", C = 10)\n",
    "model.fit(train_x, train_y)"
   ]
  },
  {
   "cell_type": "code",
   "execution_count": 46,
   "id": "2beb4062",
   "metadata": {},
   "outputs": [
    {
     "name": "stdout",
     "output_type": "stream",
     "text": [
      "0.5629370629370629\n"
     ]
    }
   ],
   "source": [
    "print(model.score(train_x, train_y))"
   ]
  },
  {
   "cell_type": "code",
   "execution_count": 47,
   "id": "e04a2a65",
   "metadata": {},
   "outputs": [
    {
     "data": {
      "text/plain": [
       "array([-0.0694922 , -0.55539401, -0.10336167, -0.74050418,  0.08997491,\n",
       "       -0.21684967])"
      ]
     },
     "execution_count": 47,
     "metadata": {},
     "output_type": "execute_result"
    }
   ],
   "source": [
    "model.coef_[0]"
   ]
  },
  {
   "cell_type": "code",
   "execution_count": null,
   "id": "86dfadea",
   "metadata": {},
   "outputs": [],
   "source": []
  },
  {
   "cell_type": "code",
   "execution_count": null,
   "id": "28b9b554",
   "metadata": {},
   "outputs": [],
   "source": []
  },
  {
   "cell_type": "code",
   "execution_count": null,
   "id": "ea608161",
   "metadata": {},
   "outputs": [],
   "source": []
  },
  {
   "cell_type": "code",
   "execution_count": null,
   "id": "a9467eda",
   "metadata": {},
   "outputs": [],
   "source": []
  }
 ],
 "metadata": {
  "kernelspec": {
   "display_name": "Python 3",
   "language": "python",
   "name": "python3"
  },
  "language_info": {
   "codemirror_mode": {
    "name": "ipython",
    "version": 3
   },
   "file_extension": ".py",
   "mimetype": "text/x-python",
   "name": "python",
   "nbconvert_exporter": "python",
   "pygments_lexer": "ipython3",
   "version": "3.8.8"
  }
 },
 "nbformat": 4,
 "nbformat_minor": 5
}
