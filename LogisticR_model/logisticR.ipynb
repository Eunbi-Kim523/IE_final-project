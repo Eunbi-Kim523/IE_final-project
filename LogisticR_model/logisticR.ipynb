{
 "cells": [
  {
   "cell_type": "code",
   "execution_count": 53,
   "id": "e93f6fdc",
   "metadata": {},
   "outputs": [],
   "source": [
    "import pandas as pd\n",
    "import numpy as np\n",
    "from sklearn.model_selection import train_test_split\n",
    "\n",
    "df = pd.read_csv(\"colresult3.csv\", encoding = 'utf-8')"
   ]
  },
  {
   "cell_type": "code",
   "execution_count": 54,
   "id": "481e27a4",
   "metadata": {},
   "outputs": [
    {
     "name": "stdout",
     "output_type": "stream",
     "text": [
      "          발매가  브랜드  라인  콜라보  month  color_num  col1  col2  col3  col4  col5  \\\n",
      "0      259000    3  21    0      4          1     9     0     0     0     0   \n",
      "1      259000    3  21    0      4          1     9     0     0     0     0   \n",
      "2      259000    3  21    0      4          1     9     0     0     0     0   \n",
      "3      259000    3  21    0      4          1     9     0     0     0     0   \n",
      "4      259000    3  21    0      4          1     9     0     0     0     0   \n",
      "...       ...  ...  ..  ...    ...        ...   ...   ...   ...   ...   ...   \n",
      "43948  209000    5  28   40     10          1     9     0     0     0     0   \n",
      "43949  209000    5  28   40     10          1     9     0     0     0     0   \n",
      "43950  209000    5  28   40     10          1     9     0     0     0     0   \n",
      "43951  209000    5  28   40     10          1     9     0     0     0     0   \n",
      "43952  209000    5  28   40     10          1     9     0     0     0     0   \n",
      "\n",
      "       type  day  \n",
      "0       1.0    0  \n",
      "1       1.0    1  \n",
      "2       1.0    2  \n",
      "3       1.0    3  \n",
      "4       1.0    4  \n",
      "...     ...  ...  \n",
      "43948   0.0   88  \n",
      "43949   0.0   89  \n",
      "43950   0.0   90  \n",
      "43951   0.0   91  \n",
      "43952   0.0   92  \n",
      "\n",
      "[43953 rows x 13 columns]\n"
     ]
    }
   ],
   "source": [
    "print(df)"
   ]
  },
  {
   "cell_type": "code",
   "execution_count": 55,
   "id": "5e55a5f9",
   "metadata": {},
   "outputs": [],
   "source": [
    "df = df[(df['day'] == 5)]\n",
    "df = df.sample(frac=1).reset_index(drop=True)\n",
    "X = df[['발매가', '브랜드', '라인', '콜라보', 'month', 'color_num', 'col1', 'col2', 'col3', 'col4','col5']]\n",
    "Y = df[['type']]"
   ]
  },
  {
   "cell_type": "code",
   "execution_count": 56,
   "id": "297f6414",
   "metadata": {},
   "outputs": [],
   "source": [
    "from sklearn.preprocessing import StandardScaler\n",
    "scaler = StandardScaler()\n",
    "X = scaler.fit_transform(X)\n",
    "X = np.asarray(X).astype(np.int64)"
   ]
  },
  {
   "cell_type": "code",
   "execution_count": 57,
   "id": "8366b503",
   "metadata": {},
   "outputs": [],
   "source": [
    "train_x, test_x, train_y, test_y = train_test_split(X, Y, test_size = 0.4, random_state = 1)"
   ]
  },
  {
   "cell_type": "code",
   "execution_count": 58,
   "id": "78834aad",
   "metadata": {},
   "outputs": [
    {
     "name": "stdout",
     "output_type": "stream",
     "text": [
      "[[ 0  1  0 ...  0  0  0]\n",
      " [ 0 -1 -1 ...  0  0  0]\n",
      " [ 1  1  0 ...  0  0  0]\n",
      " ...\n",
      " [-1 -1  0 ...  1  0  0]\n",
      " [ 0 -1 -1 ...  0  0  0]\n",
      " [ 0 -1 -1 ...  1  0  0]]\n"
     ]
    }
   ],
   "source": [
    "print(train_x)"
   ]
  },
  {
   "cell_type": "code",
   "execution_count": 59,
   "id": "b2b7c9b1",
   "metadata": {},
   "outputs": [
    {
     "name": "stderr",
     "output_type": "stream",
     "text": [
      "C:\\Users\\USER\\anaconda3\\lib\\site-packages\\sklearn\\utils\\validation.py:63: DataConversionWarning: A column-vector y was passed when a 1d array was expected. Please change the shape of y to (n_samples, ), for example using ravel().\n",
      "  return f(*args, **kwargs)\n"
     ]
    },
    {
     "data": {
      "text/plain": [
       "LogisticRegression(C=10, multi_class='multinomial')"
      ]
     },
     "execution_count": 59,
     "metadata": {},
     "output_type": "execute_result"
    }
   ],
   "source": [
    "from sklearn.linear_model import LogisticRegression\n",
    "model = LogisticRegression(multi_class = \"multinomial\", solver = \"lbfgs\", C = 10)\n",
    "model.fit(train_x, train_y)"
   ]
  },
  {
   "cell_type": "code",
   "execution_count": 60,
   "id": "2beb4062",
   "metadata": {},
   "outputs": [
    {
     "name": "stdout",
     "output_type": "stream",
     "text": [
      "0.6013986013986014\n"
     ]
    }
   ],
   "source": [
    "print(model.score(train_x, train_y))"
   ]
  },
  {
   "cell_type": "code",
   "execution_count": 61,
   "id": "e04a2a65",
   "metadata": {},
   "outputs": [
    {
     "data": {
      "text/plain": [
       "array([-0.0890606 ,  0.32216589, -0.97328551,  0.11293816, -0.19945257,\n",
       "       -0.21678549,  0.12106857, -0.07846401,  0.29406328,  0.23543452,\n",
       "        0.29195507])"
      ]
     },
     "execution_count": 61,
     "metadata": {},
     "output_type": "execute_result"
    }
   ],
   "source": [
    "model.coef_[0]"
   ]
  },
  {
   "cell_type": "code",
   "execution_count": null,
   "id": "86dfadea",
   "metadata": {},
   "outputs": [],
   "source": []
  },
  {
   "cell_type": "code",
   "execution_count": null,
   "id": "28b9b554",
   "metadata": {},
   "outputs": [],
   "source": []
  }
 ],
 "metadata": {
  "kernelspec": {
   "display_name": "Python 3",
   "language": "python",
   "name": "python3"
  },
  "language_info": {
   "codemirror_mode": {
    "name": "ipython",
    "version": 3
   },
   "file_extension": ".py",
   "mimetype": "text/x-python",
   "name": "python",
   "nbconvert_exporter": "python",
   "pygments_lexer": "ipython3",
   "version": "3.8.8"
  }
 },
 "nbformat": 4,
 "nbformat_minor": 5
}
