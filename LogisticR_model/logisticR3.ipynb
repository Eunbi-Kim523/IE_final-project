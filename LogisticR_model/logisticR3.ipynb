{
 "cells": [
  {
   "cell_type": "code",
   "execution_count": 10,
   "id": "e93f6fdc",
   "metadata": {},
   "outputs": [],
   "source": [
    "import pandas as pd\n",
    "import numpy as np\n",
    "from sklearn.model_selection import train_test_split\n",
    "\n",
    "df = pd.read_csv('colchange3.csv', encoding = 'utf-8')"
   ]
  },
  {
   "cell_type": "code",
   "execution_count": 11,
   "id": "481e27a4",
   "metadata": {},
   "outputs": [
    {
     "name": "stdout",
     "output_type": "stream",
     "text": [
      "          발매가  라인  콜라보  month  color_num  col1  col2  col3  col4  col5  day  \\\n",
      "0      259000  21    0      4          1     9     0     0     0     0    0   \n",
      "1      259000  21    0      4          1     9     0     0     0     0    1   \n",
      "2      259000  21    0      4          1     9     0     0     0     0    2   \n",
      "3      259000  21    0      4          1     9     0     0     0     0    3   \n",
      "4      259000  21    0      4          1     9     0     0     0     0    4   \n",
      "...       ...  ..  ...    ...        ...   ...   ...   ...   ...   ...  ...   \n",
      "43948  209000  28    0     10          1     9     0     0     0     0   88   \n",
      "43949  209000  28    0     10          1     9     0     0     0     0   89   \n",
      "43950  209000  28    0     10          1     9     0     0     0     0   90   \n",
      "43951  209000  28    0     10          1     9     0     0     0     0   91   \n",
      "43952  209000  28    0     10          1     9     0     0     0     0   92   \n",
      "\n",
      "       nike  jordan  newbalance  adidas  converse  콜라보유무  type  \n",
      "0         0       0           1       0         0      0     1  \n",
      "1         0       0           1       0         0      0     1  \n",
      "2         0       0           1       0         0      0     1  \n",
      "3         0       0           1       0         0      0     1  \n",
      "4         0       0           1       0         0      0     1  \n",
      "...     ...     ...         ...     ...       ...    ...   ...  \n",
      "43948     0       0           0       0         1      1     0  \n",
      "43949     0       0           0       0         1      1     0  \n",
      "43950     0       0           0       0         1      1     0  \n",
      "43951     0       0           0       0         1      1     0  \n",
      "43952     0       0           0       0         1      1     0  \n",
      "\n",
      "[43953 rows x 18 columns]\n"
     ]
    }
   ],
   "source": [
    "print(df)"
   ]
  },
  {
   "cell_type": "code",
   "execution_count": 12,
   "id": "5e55a5f9",
   "metadata": {},
   "outputs": [],
   "source": [
    "df = df[(df['day'] == 1)]\n",
    "df = df.sample(frac=1).reset_index(drop=True)\n",
    "X = df[['콜라보유무', 'color_num', 'newbalance', 'converse', 'nike', 'adidas', 'jordan', '라인', '콜라보', 'col1', 'col2', 'col3', 'col4', 'col5', '발매가', 'month']]\n",
    "Y = df[['type']]"
   ]
  },
  {
   "cell_type": "code",
   "execution_count": 13,
   "id": "297f6414",
   "metadata": {},
   "outputs": [],
   "source": [
    "from sklearn.preprocessing import StandardScaler\n",
    "scaler = StandardScaler()\n",
    "scaler.fit(X)\n",
    "scale_X = scaler.fit_transform(X)\n",
    "scale_X  = np.asarray(scale_X).astype(np.float64)"
   ]
  },
  {
   "cell_type": "code",
   "execution_count": 14,
   "id": "8366b503",
   "metadata": {},
   "outputs": [],
   "source": [
    "train_x, test_x, train_y, test_y = train_test_split(scale_X , Y, test_size = 0.4, random_state = 1)"
   ]
  },
  {
   "cell_type": "code",
   "execution_count": 15,
   "id": "78834aad",
   "metadata": {},
   "outputs": [
    {
     "name": "stdout",
     "output_type": "stream",
     "text": [
      "[-0.52153619  0.49146807 -0.5150262  -0.30665404 -0.77156835 -0.37569712\n",
      "  1.95401684 -0.84194934 -0.29839755 -0.85808556  1.45157918  1.88832527\n",
      " -0.33351898 -0.07955573 -0.8670614   0.14664464]\n"
     ]
    }
   ],
   "source": [
    "print(train_x[3])"
   ]
  },
  {
   "cell_type": "code",
   "execution_count": 16,
   "id": "b2b7c9b1",
   "metadata": {},
   "outputs": [
    {
     "name": "stderr",
     "output_type": "stream",
     "text": [
      "C:\\Users\\USER\\anaconda3\\lib\\site-packages\\sklearn\\utils\\validation.py:63: DataConversionWarning: A column-vector y was passed when a 1d array was expected. Please change the shape of y to (n_samples, ), for example using ravel().\n",
      "  return f(*args, **kwargs)\n"
     ]
    },
    {
     "data": {
      "text/plain": [
       "LogisticRegression(C=10, multi_class='multinomial')"
      ]
     },
     "execution_count": 16,
     "metadata": {},
     "output_type": "execute_result"
    }
   ],
   "source": [
    "from sklearn.linear_model import LogisticRegression\n",
    "model = LogisticRegression(multi_class = \"multinomial\", solver = \"lbfgs\", C = 10)\n",
    "model.fit(train_x, train_y)"
   ]
  },
  {
   "cell_type": "code",
   "execution_count": 17,
   "id": "2beb4062",
   "metadata": {},
   "outputs": [
    {
     "name": "stdout",
     "output_type": "stream",
     "text": [
      "0.7412587412587412\n"
     ]
    }
   ],
   "source": [
    "print(model.score(train_x, train_y))"
   ]
  },
  {
   "cell_type": "code",
   "execution_count": 18,
   "id": "e04a2a65",
   "metadata": {},
   "outputs": [
    {
     "data": {
      "text/plain": [
       "array([ 0.17886373,  0.06963908, -0.04027577, -0.22340804,  0.05039864,\n",
       "       -0.06245553,  0.18543126,  0.34718591,  0.20789797, -0.01530044,\n",
       "       -0.02774572, -0.17652195, -0.03857877, -0.27740858,  0.01814583,\n",
       "        0.01200784])"
      ]
     },
     "execution_count": 18,
     "metadata": {},
     "output_type": "execute_result"
    }
   ],
   "source": [
    "model.coef_[0]"
   ]
  },
  {
   "cell_type": "code",
   "execution_count": null,
   "id": "86dfadea",
   "metadata": {},
   "outputs": [],
   "source": []
  },
  {
   "cell_type": "code",
   "execution_count": null,
   "id": "28b9b554",
   "metadata": {},
   "outputs": [],
   "source": []
  },
  {
   "cell_type": "code",
   "execution_count": null,
   "id": "ea608161",
   "metadata": {},
   "outputs": [],
   "source": []
  },
  {
   "cell_type": "code",
   "execution_count": null,
   "id": "a9467eda",
   "metadata": {},
   "outputs": [],
   "source": []
  }
 ],
 "metadata": {
  "kernelspec": {
   "display_name": "Python 3",
   "language": "python",
   "name": "python3"
  },
  "language_info": {
   "codemirror_mode": {
    "name": "ipython",
    "version": 3
   },
   "file_extension": ".py",
   "mimetype": "text/x-python",
   "name": "python",
   "nbconvert_exporter": "python",
   "pygments_lexer": "ipython3",
   "version": "3.8.8"
  }
 },
 "nbformat": 4,
 "nbformat_minor": 5
}
