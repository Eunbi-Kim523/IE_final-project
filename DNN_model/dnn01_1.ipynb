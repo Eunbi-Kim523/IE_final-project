{
 "cells": [
  {
   "cell_type": "code",
   "execution_count": 1,
   "id": "0e289aed",
   "metadata": {},
   "outputs": [],
   "source": [
    "import numpy as np\n",
    "import pandas as pd\n",
    "import tensorflow as tf\n",
    "from tensorflow.keras import layers  #모듈(변수나 함수를 포함)만 불러오기\n",
    "\n",
    "# BMI 데이터를 읽어 들이고 정규화하기\n",
    "df = pd.read_csv('testdnn33.csv')"
   ]
  },
  {
   "cell_type": "code",
   "execution_count": 2,
   "id": "1b5f4f17",
   "metadata": {},
   "outputs": [
    {
     "name": "stdout",
     "output_type": "stream",
     "text": [
      "          발매가  브랜드  라인  콜라보  month  day  color_num  type\n",
      "0      259000    3  21    0      4    0          1    ok\n",
      "1      259000    3  21    0      4    1          1    ok\n",
      "2      259000    3  21    0      4    2          1    ok\n",
      "3      259000    3  21    0      4    3          1    ok\n",
      "4      259000    3  21    0      4    4          1    ok\n",
      "...       ...  ...  ..  ...    ...  ...        ...   ...\n",
      "43948  209000    5  28   40     10   88          1  none\n",
      "43949  209000    5  28   40     10   89          1  none\n",
      "43950  209000    5  28   40     10   90          1  none\n",
      "43951  209000    5  28   40     10   91          1  none\n",
      "43952  209000    5  28   40     10   92          1  none\n",
      "\n",
      "[43953 rows x 8 columns]\n"
     ]
    }
   ],
   "source": [
    "print(df)"
   ]
  },
  {
   "cell_type": "code",
   "execution_count": 3,
   "id": "c5005c61",
   "metadata": {},
   "outputs": [],
   "source": [
    "condition = (df.브랜드 == 1)"
   ]
  },
  {
   "cell_type": "code",
   "execution_count": 4,
   "id": "de2ac43d",
   "metadata": {},
   "outputs": [],
   "source": [
    "df2 = df.loc[condition]"
   ]
  },
  {
   "cell_type": "code",
   "execution_count": 5,
   "id": "bc4fe3b2",
   "metadata": {},
   "outputs": [
    {
     "name": "stdout",
     "output_type": "stream",
     "text": [
      "          발매가  브랜드  라인  콜라보  month  day  color_num    type\n",
      "9214   129000    1  29    0      1    0          2  double\n",
      "9215   129000    1  29    0      1    1          2  double\n",
      "9216   129000    1  29    0      1    2          2  double\n",
      "9217   129000    1  29    0      1    3          2  double\n",
      "9218   129000    1  29    0      1    4          2  double\n",
      "...       ...  ...  ..  ...    ...  ...        ...     ...\n",
      "34706  119000    1   5    0      1   87          3    none\n",
      "34707  119000    1   5    0      1   88          3    none\n",
      "34708  119000    1   5    0      1   89          3    none\n",
      "34709  119000    1   5    0      1   90          3    none\n",
      "34710  119000    1   5    0      1   91          3    none\n",
      "\n",
      "[16405 rows x 8 columns]\n"
     ]
    }
   ],
   "source": [
    "print(df2)"
   ]
  },
  {
   "cell_type": "code",
   "execution_count": 6,
   "id": "556819ae",
   "metadata": {},
   "outputs": [],
   "source": [
    "condition2 = (df2.day == 0)"
   ]
  },
  {
   "cell_type": "code",
   "execution_count": 8,
   "id": "e006cf06",
   "metadata": {},
   "outputs": [
    {
     "name": "stdout",
     "output_type": "stream",
     "text": [
      "          발매가  브랜드  라인  콜라보  month  day  color_num    type\n",
      "9214   129000    1  29    0      1    0          2  double\n",
      "9305   129000    1  29    0      1    0          3  double\n",
      "9396   139000    1   1    0      1    0          3      ok\n",
      "9487   219000    1  29   14      8    0          2  double\n",
      "9580   119000    1  29    0      4    0          3  double\n",
      "...       ...  ...  ..  ...    ...  ...        ...     ...\n",
      "34252  124100    1   8    0      1    0          4    none\n",
      "34343  119000    1   5    0     12    0          4      ok\n",
      "34434  119000    1   8    0     10    0          3    none\n",
      "34527  119000    1   5    0      9    0          3    none\n",
      "34619  119000    1   5    0      1    0          3    none\n",
      "\n",
      "[178 rows x 8 columns]\n"
     ]
    }
   ],
   "source": [
    "df3 = df2.loc[condition2]\n",
    "print(df3)"
   ]
  },
  {
   "cell_type": "code",
   "execution_count": 6,
   "id": "5192056f",
   "metadata": {},
   "outputs": [],
   "source": [
    "df2 = df2.sample(frac=1).reset_index(drop=True)"
   ]
  },
  {
   "cell_type": "code",
   "execution_count": 7,
   "id": "4277bba6",
   "metadata": {},
   "outputs": [],
   "source": [
    "yx = df[\"type\"]"
   ]
  },
  {
   "cell_type": "code",
   "execution_count": 8,
   "id": "99fe5e49",
   "metadata": {},
   "outputs": [
    {
     "name": "stderr",
     "output_type": "stream",
     "text": [
      "<ipython-input-8-3f3652b218d1>:2: DeprecationWarning: `np.int` is a deprecated alias for the builtin `int`. To silence this warning, use `int` by itself. Doing this will not modify any behavior and is safe. When replacing `np.int`, you may wish to use e.g. `np.int64` or `np.int32` to specify the precision. If you wish to review your current use, check the release note link for additional information.\n",
      "Deprecated in NumPy 1.20; for more details and guidance: https://numpy.org/devdocs/release/1.20.0-notes.html#deprecations\n",
      "  X=np.asarray(X).astype(np.int)\n"
     ]
    }
   ],
   "source": [
    "X = df.iloc[:,0:7]\n",
    "X=np.asarray(X).astype(np.int)\n",
    "y = np.empty((477,3))"
   ]
  },
  {
   "cell_type": "code",
   "execution_count": 9,
   "id": "97a3ae2f",
   "metadata": {},
   "outputs": [],
   "source": [
    "for i in range(477):\n",
    "    if yx[i] == \"none\":\n",
    "        y[i] = [1, 0, 0]\n",
    "    elif yx[i] == \"ok\":\n",
    "        y[i] = [0, 1, 0]\n",
    "    else:\n",
    "        y[i] = [0, 0, 1]"
   ]
  },
  {
   "cell_type": "code",
   "execution_count": 10,
   "id": "cff9f465",
   "metadata": {},
   "outputs": [],
   "source": [
    "X_train, y_train = X[0:333], y[0:333]\n",
    "X_test,  y_test  = X[333:477], y[333:477]"
   ]
  },
  {
   "cell_type": "code",
   "execution_count": 11,
   "id": "3d82694b",
   "metadata": {},
   "outputs": [],
   "source": [
    "model = tf.keras.Sequential()  \n",
    "model.add(layers.Dense(14, input_shape=(7,)))  \n",
    "model.add(layers.Activation('relu')) \n",
    "model.add(layers.Dropout(0.01))        \n",
    "\n",
    "model.add(layers.Dense(32))         \n",
    "model.add(layers.Activation('relu'))\n",
    "model.add(layers.Dropout(0.01))\n",
    "\n",
    "model.add(layers.Dense(64))         \n",
    "model.add(layers.Activation('relu'))\n",
    "model.add(layers.Dropout(0.01))\n",
    "\n",
    "model.add(layers.Dense(32))         \n",
    "model.add(layers.Activation('relu'))\n",
    "model.add(layers.Dropout(0.01))\n",
    "\n",
    "model.add(layers.Dense(3))\n",
    "model.add(layers.Activation('softmax')) \n",
    "\n",
    "# 모델 구축하기\n",
    "model.compile(\n",
    "    loss='categorical_crossentropy', \n",
    "    optimizer=\"rmsprop\",   \n",
    "    metrics=['accuracy'])  "
   ]
  },
  {
   "cell_type": "code",
   "execution_count": 12,
   "id": "364d3d9f",
   "metadata": {},
   "outputs": [
    {
     "name": "stdout",
     "output_type": "stream",
     "text": [
      "Epoch 1/100\n",
      "17/17 [==============================] - 0s 21ms/step - loss: 10122.7715 - accuracy: 0.6909 - val_loss: 4016.7864 - val_accuracy: 0.2970\n",
      "Epoch 2/100\n",
      "17/17 [==============================] - 0s 3ms/step - loss: 257.0531 - accuracy: 0.9576 - val_loss: 6408.8892 - val_accuracy: 0.2970\n",
      "Epoch 3/100\n",
      "17/17 [==============================] - 0s 3ms/step - loss: 157.7313 - accuracy: 0.9758 - val_loss: 5490.9365 - val_accuracy: 0.2970\n",
      "Epoch 4/100\n",
      "17/17 [==============================] - 0s 3ms/step - loss: 235.6636 - accuracy: 0.9636 - val_loss: 7510.7129 - val_accuracy: 0.2970\n",
      "Epoch 5/100\n",
      "17/17 [==============================] - 0s 3ms/step - loss: 228.5899 - accuracy: 0.9333 - val_loss: 5270.3013 - val_accuracy: 0.2970\n",
      "Epoch 6/100\n",
      "17/17 [==============================] - 0s 3ms/step - loss: 121.1865 - accuracy: 0.9818 - val_loss: 7080.8232 - val_accuracy: 0.2970\n",
      "Epoch 7/100\n",
      "17/17 [==============================] - 0s 3ms/step - loss: 87.0154 - accuracy: 0.9758 - val_loss: 6098.6572 - val_accuracy: 0.2970\n",
      "Epoch 8/100\n",
      "17/17 [==============================] - 0s 3ms/step - loss: 147.1055 - accuracy: 0.9818 - val_loss: 4524.9341 - val_accuracy: 0.2970\n",
      "Epoch 9/100\n",
      "17/17 [==============================] - 0s 3ms/step - loss: 112.8702 - accuracy: 0.9273 - val_loss: 6761.5361 - val_accuracy: 0.2970\n",
      "Epoch 10/100\n",
      "17/17 [==============================] - 0s 3ms/step - loss: 126.2077 - accuracy: 0.9818 - val_loss: 4901.5381 - val_accuracy: 0.2970\n",
      "Epoch 11/100\n",
      "17/17 [==============================] - 0s 3ms/step - loss: 130.1747 - accuracy: 0.9758 - val_loss: 2286.9348 - val_accuracy: 0.2970\n",
      "Epoch 12/100\n",
      "17/17 [==============================] - 0s 3ms/step - loss: 57.4194 - accuracy: 0.9697 - val_loss: 2904.0168 - val_accuracy: 0.2970\n",
      "Epoch 13/100\n",
      "17/17 [==============================] - 0s 3ms/step - loss: 94.1202 - accuracy: 0.9333 - val_loss: 3037.6162 - val_accuracy: 0.2970\n",
      "Epoch 14/100\n",
      "17/17 [==============================] - 0s 3ms/step - loss: 60.3050 - accuracy: 0.9879 - val_loss: 2035.8490 - val_accuracy: 0.2970\n",
      "Epoch 15/100\n",
      "17/17 [==============================] - 0s 3ms/step - loss: 94.3738 - accuracy: 0.9697 - val_loss: 5367.6768 - val_accuracy: 0.2970\n",
      "Epoch 16/100\n",
      "17/17 [==============================] - ETA: 0s - loss: 0.0000e+00 - accuracy: 1.00 - 0s 3ms/step - loss: 131.4368 - accuracy: 0.9333 - val_loss: 4600.8564 - val_accuracy: 0.2970\n",
      "Epoch 17/100\n",
      "17/17 [==============================] - 0s 4ms/step - loss: 68.1720 - accuracy: 0.9818 - val_loss: 4115.1108 - val_accuracy: 0.2970\n",
      "Epoch 18/100\n",
      "17/17 [==============================] - 0s 3ms/step - loss: 59.1063 - accuracy: 0.9758 - val_loss: 3287.5071 - val_accuracy: 0.2970\n",
      "Epoch 19/100\n",
      "17/17 [==============================] - 0s 3ms/step - loss: 37.1719 - accuracy: 0.9697 - val_loss: 3925.9424 - val_accuracy: 0.2970\n",
      "Epoch 20/100\n",
      "17/17 [==============================] - 0s 3ms/step - loss: 105.9422 - accuracy: 0.9394 - val_loss: 3888.1443 - val_accuracy: 0.2970\n",
      "Epoch 21/100\n",
      "17/17 [==============================] - 0s 4ms/step - loss: 36.9797 - accuracy: 0.9879 - val_loss: 2769.9800 - val_accuracy: 0.2970\n",
      "Epoch 22/100\n",
      "17/17 [==============================] - 0s 3ms/step - loss: 61.7709 - accuracy: 0.9758 - val_loss: 2565.5925 - val_accuracy: 0.2970\n",
      "Epoch 23/100\n",
      "17/17 [==============================] - 0s 3ms/step - loss: 120.8519 - accuracy: 0.9333 - val_loss: 3675.2307 - val_accuracy: 0.2970\n",
      "Epoch 24/100\n",
      "17/17 [==============================] - 0s 4ms/step - loss: 71.5821 - accuracy: 0.9879 - val_loss: 2615.0400 - val_accuracy: 0.2970\n",
      "5/5 [==============================] - 0s 1ms/step - loss: 268.6931 - accuracy: 0.7687\n",
      "test_loss:  268.6930847167969\n",
      "test_acc:  0.7687074542045593\n"
     ]
    }
   ],
   "source": [
    "hist = model.fit(\n",
    "    X_train, y_train,\n",
    "    batch_size= 10,  #5개에 한 번씩 업데이터 실행\n",
    "    epochs=100,       #훈련 데이터셋을 총 100회 반복 실험. 단, 조기중지될 수 있음\n",
    "    validation_split = 0.5,  \n",
    "      #validation data 분할 비율. 즉, 100개 중에서 20%인 20개를 validation용으로 분할\n",
    "    shuffle = False,\n",
    "    callbacks=[tf.keras.callbacks.EarlyStopping(monitor='val_loss', patience=10)],  \n",
    "      #'val_loss'를 monitor하여 감소하면 한 번 더(1) 참고 조기중지\n",
    "    verbose=1)  #전 과정을 화면에 출력(1) 또는 미출력(0) 모드\n",
    "\n",
    "# 테스트 데이터로 평가하기\n",
    "score = model.evaluate(X_test, y_test)\n",
    "print('test_loss: ', score[0])\n",
    "print('test_acc: ', score[1])"
   ]
  },
  {
   "cell_type": "code",
   "execution_count": 13,
   "id": "0e58587f",
   "metadata": {},
   "outputs": [
    {
     "data": {
      "image/png": "[encoded data removed]",
      "text/plain": [
       "<Figure size 432x288 with 2 Axes>"
      ]
     },
     "metadata": {
      "needs_background": "light"
     },
     "output_type": "display_data"
    }
   ],
   "source": [
    "import matplotlib.pyplot as plt\n",
    "\n",
    "fig, loss_ax = plt.subplots()\n",
    "acc_ax = loss_ax.twinx()\n",
    "\n",
    "loss_ax.plot(hist.history['loss'], 'y', label='train loss')\n",
    "loss_ax.plot(hist.history['val_loss'], 'r', label='val loss')\n",
    "\n",
    "acc_ax.plot(hist.history['accuracy'], 'b', label='train acc')\n",
    "acc_ax.plot(hist.history['val_accuracy'], 'g', label='val acc')\n",
    "\n",
    "loss_ax.set_xlabel('epoch')\n",
    "loss_ax.set_ylabel('loss')\n",
    "acc_ax.set_ylabel('accuray')\n",
    "\n",
    "loss_ax.legend(loc='upper left')\n",
    "acc_ax.legend(loc='lower left')\n",
    "\n",
    "plt.show()"
   ]
  },
  {
   "cell_type": "code",
   "execution_count": null,
   "id": "2ce4afa7",
   "metadata": {},
   "outputs": [],
   "source": []
  },
  {
   "cell_type": "code",
   "execution_count": null,
   "id": "aa17844d",
   "metadata": {},
   "outputs": [],
   "source": []
  }
 ],
 "metadata": {
  "kernelspec": {
   "display_name": "Python 3",
   "language": "python",
   "name": "python3"
  },
  "language_info": {
   "codemirror_mode": {
    "name": "ipython",
    "version": 3
   },
   "file_extension": ".py",
   "mimetype": "text/x-python",
   "name": "python",
   "nbconvert_exporter": "python",
   "pygments_lexer": "ipython3",
   "version": "3.8.8"
  }
 },
 "nbformat": 4,
 "nbformat_minor": 5
}
