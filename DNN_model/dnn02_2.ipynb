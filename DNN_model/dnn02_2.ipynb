{
 "cells": [
  {
   "cell_type": "code",
   "execution_count": 168,
   "id": "0e289aed",
   "metadata": {},
   "outputs": [],
   "source": [
    "import numpy as np\n",
    "import pandas as pd\n",
    "import tensorflow as tf\n",
    "from tensorflow.keras import layers  #모듈(변수나 함수를 포함)만 불러오기\n",
    "\n",
    "# BMI 데이터를 읽어 들이고 정규화하기\n",
    "df = pd.read_csv('colresult3.csv')"
   ]
  },
  {
   "cell_type": "code",
   "execution_count": 169,
   "id": "1b5f4f17",
   "metadata": {},
   "outputs": [
    {
     "name": "stdout",
     "output_type": "stream",
     "text": [
      "          발매가  브랜드  라인  콜라보  month  color_num  col1  col2  col3  col4  col5  \\\n",
      "0      259000    3  21    0      4          1     9     0     0     0     0   \n",
      "1      259000    3  21    0      4          1     9     0     0     0     0   \n",
      "2      259000    3  21    0      4          1     9     0     0     0     0   \n",
      "3      259000    3  21    0      4          1     9     0     0     0     0   \n",
      "4      259000    3  21    0      4          1     9     0     0     0     0   \n",
      "...       ...  ...  ..  ...    ...        ...   ...   ...   ...   ...   ...   \n",
      "43948  209000    5  28   40     10          1     9     0     0     0     0   \n",
      "43949  209000    5  28   40     10          1     9     0     0     0     0   \n",
      "43950  209000    5  28   40     10          1     9     0     0     0     0   \n",
      "43951  209000    5  28   40     10          1     9     0     0     0     0   \n",
      "43952  209000    5  28   40     10          1     9     0     0     0     0   \n",
      "\n",
      "       type  day  \n",
      "0       1.0    0  \n",
      "1       1.0    1  \n",
      "2       1.0    2  \n",
      "3       1.0    3  \n",
      "4       1.0    4  \n",
      "...     ...  ...  \n",
      "43948   0.0   88  \n",
      "43949   0.0   89  \n",
      "43950   0.0   90  \n",
      "43951   0.0   91  \n",
      "43952   0.0   92  \n",
      "\n",
      "[43953 rows x 13 columns]\n"
     ]
    }
   ],
   "source": [
    "print(df)"
   ]
  },
  {
   "cell_type": "code",
   "execution_count": 170,
   "id": "c5005c61",
   "metadata": {},
   "outputs": [],
   "source": [
    "df2 = df[(df['day'] == 1)]"
   ]
  },
  {
   "cell_type": "code",
   "execution_count": 171,
   "id": "bc4fe3b2",
   "metadata": {},
   "outputs": [
    {
     "name": "stdout",
     "output_type": "stream",
     "text": [
      "          발매가  브랜드  라인  콜라보  month  color_num  col1  col2  col3  col4  col5  \\\n",
      "1      259000    3  21    0      4          1     9     0     0     0     0   \n",
      "93     149000    3  24    0      9          1     9     0     0     0     0   \n",
      "185    139000    3  17    0      5          2     9     3     0     0     0   \n",
      "278    149000    3  24    0      2          1     9     0     0     0     0   \n",
      "368     99000    3  18    0      1          1     9     0     0     0     0   \n",
      "...       ...  ...  ..  ...    ...        ...   ...   ...   ...   ...   ...   \n",
      "43493  284400    4  25    0     12          1     6     0     0     0     0   \n",
      "43584  600000    4  26   39      9          2     3     5     0     0     0   \n",
      "43676  309000    4  25    0      4          1     7     0     0     0     0   \n",
      "43768  289000    4  25    0     10          1     9     0     0     0     0   \n",
      "43861  209000    5  28   40     10          1     9     0     0     0     0   \n",
      "\n",
      "       type  day  \n",
      "1       1.0    1  \n",
      "93      1.0    1  \n",
      "185     2.0    1  \n",
      "278     1.0    1  \n",
      "368     0.0    1  \n",
      "...     ...  ...  \n",
      "43493   0.0    1  \n",
      "43584   1.0    1  \n",
      "43676   1.0    1  \n",
      "43768   0.0    1  \n",
      "43861   0.0    1  \n",
      "\n",
      "[477 rows x 13 columns]\n"
     ]
    }
   ],
   "source": [
    "print(df2)"
   ]
  },
  {
   "cell_type": "code",
   "execution_count": 172,
   "id": "5192056f",
   "metadata": {},
   "outputs": [],
   "source": [
    "df2 = df2.sample(frac=1).reset_index(drop=True)"
   ]
  },
  {
   "cell_type": "code",
   "execution_count": 173,
   "id": "4277bba6",
   "metadata": {},
   "outputs": [],
   "source": [
    "yx = df[\"type\"]\n",
    "yx_test = df[\"type\"][320:477]"
   ]
  },
  {
   "cell_type": "code",
   "execution_count": 174,
   "id": "99fe5e49",
   "metadata": {},
   "outputs": [
    {
     "name": "stderr",
     "output_type": "stream",
     "text": [
      "<ipython-input-174-3f3652b218d1>:2: DeprecationWarning: `np.int` is a deprecated alias for the builtin `int`. To silence this warning, use `int` by itself. Doing this will not modify any behavior and is safe. When replacing `np.int`, you may wish to use e.g. `np.int64` or `np.int32` to specify the precision. If you wish to review your current use, check the release note link for additional information.\n",
      "Deprecated in NumPy 1.20; for more details and guidance: https://numpy.org/devdocs/release/1.20.0-notes.html#deprecations\n",
      "  X=np.asarray(X).astype(np.int)\n"
     ]
    }
   ],
   "source": [
    "X = df.iloc[:,0:7]\n",
    "X=np.asarray(X).astype(np.int)\n",
    "y = np.empty((477,3))"
   ]
  },
  {
   "cell_type": "code",
   "execution_count": 175,
   "id": "97a3ae2f",
   "metadata": {},
   "outputs": [],
   "source": [
    "for i in range(477):\n",
    "    if yx[i] == 0.0:\n",
    "        y[i] = [1, 0, 0]\n",
    "    elif yx[i] == 1.0:\n",
    "        y[i] = [0, 1, 0]\n",
    "    else:\n",
    "        y[i] = [0, 0, 1]"
   ]
  },
  {
   "cell_type": "code",
   "execution_count": 176,
   "id": "cff9f465",
   "metadata": {},
   "outputs": [],
   "source": [
    "X_train, y_train = X[0:320], y[0:320]\n",
    "X_test,  y_test  = X[320:477], y[320:477]"
   ]
  },
  {
   "cell_type": "code",
   "execution_count": 177,
   "id": "3d82694b",
   "metadata": {},
   "outputs": [],
   "source": [
    "model = tf.keras.Sequential()  \n",
    "model.add(layers.Dense(7, input_shape=(7,)))  \n",
    "model.add(layers.Activation('relu')) \n",
    "model.add(layers.Dropout(0.01))        \n",
    "\n",
    "model.add(layers.Dense(16))         \n",
    "model.add(layers.Activation('relu'))\n",
    "model.add(layers.Dropout(0.01))\n",
    "\n",
    "model.add(layers.Dense(32))         \n",
    "model.add(layers.Activation('relu'))\n",
    "model.add(layers.Dropout(0.01))\n",
    "\n",
    "model.add(layers.Dense(16))         \n",
    "model.add(layers.Activation('relu'))\n",
    "model.add(layers.Dropout(0.01))\n",
    "\n",
    "model.add(layers.Dense(32))         \n",
    "model.add(layers.Activation('relu'))\n",
    "model.add(layers.Dropout(0.01))\n",
    "\n",
    "model.add(layers.Dense(16))         \n",
    "model.add(layers.Activation('relu'))\n",
    "model.add(layers.Dropout(0.01))\n",
    "\n",
    "model.add(layers.Dense(3))\n",
    "model.add(layers.Activation('softmax')) \n",
    "\n",
    "# 모델 구축\n",
    "model.compile(\n",
    "    loss= 'categorical_crossentropy', \n",
    "    optimizer=\"adam\",   \n",
    "    metrics=['accuracy'])  "
   ]
  },
  {
   "cell_type": "code",
   "execution_count": 191,
   "id": "364d3d9f",
   "metadata": {},
   "outputs": [
    {
     "name": "stdout",
     "output_type": "stream",
     "text": [
      "Epoch 1/100\n",
      "52/52 [==============================] - 0s 2ms/step - loss: 17.3088 - accuracy: 0.5586 - val_loss: 37.5989 - val_accuracy: 0.3281\n",
      "Epoch 2/100\n",
      "52/52 [==============================] - 0s 2ms/step - loss: 15.8317 - accuracy: 0.5586 - val_loss: 30.6409 - val_accuracy: 0.3281\n",
      "Epoch 3/100\n",
      "52/52 [==============================] - 0s 2ms/step - loss: 14.9043 - accuracy: 0.5742 - val_loss: 38.4259 - val_accuracy: 0.3125\n",
      "Epoch 4/100\n",
      "52/52 [==============================] - 0s 2ms/step - loss: 13.2568 - accuracy: 0.6133 - val_loss: 25.1611 - val_accuracy: 0.3281\n",
      "Epoch 5/100\n",
      "52/52 [==============================] - 0s 2ms/step - loss: 15.7045 - accuracy: 0.6328 - val_loss: 23.9275 - val_accuracy: 0.3281\n",
      "Epoch 6/100\n",
      "52/52 [==============================] - 0s 2ms/step - loss: 17.9640 - accuracy: 0.5508 - val_loss: 28.5915 - val_accuracy: 0.3125\n",
      "Epoch 7/100\n",
      "52/52 [==============================] - 0s 2ms/step - loss: 2.2439 - accuracy: 0.8242 - val_loss: 1.1709 - val_accuracy: 0.3281\n",
      "Epoch 8/100\n",
      "52/52 [==============================] - 0s 2ms/step - loss: 8.4631 - accuracy: 0.3633 - val_loss: 1.1771 - val_accuracy: 0.3281\n",
      "Epoch 9/100\n",
      "52/52 [==============================] - 0s 2ms/step - loss: 7.8454 - accuracy: 0.3047 - val_loss: 1.1833 - val_accuracy: 0.3281\n",
      "Epoch 10/100\n",
      "52/52 [==============================] - 0s 2ms/step - loss: 2.9089 - accuracy: 0.4180 - val_loss: 1.1894 - val_accuracy: 0.3281\n",
      "Epoch 11/100\n",
      "52/52 [==============================] - 0s 2ms/step - loss: 7.2552 - accuracy: 0.4453 - val_loss: 1.1956 - val_accuracy: 0.3281\n",
      "Epoch 12/100\n",
      "52/52 [==============================] - 0s 2ms/step - loss: 4.2741 - accuracy: 0.3359 - val_loss: 1.2020 - val_accuracy: 0.3281\n",
      "Epoch 13/100\n",
      "52/52 [==============================] - 0s 2ms/step - loss: 5.4907 - accuracy: 0.4844 - val_loss: 1.2085 - val_accuracy: 0.3281\n",
      "Epoch 14/100\n",
      "52/52 [==============================] - 0s 2ms/step - loss: 4.7456 - accuracy: 0.3398 - val_loss: 1.2156 - val_accuracy: 0.3281\n",
      "Epoch 15/100\n",
      "52/52 [==============================] - 0s 2ms/step - loss: 6.5701 - accuracy: 0.3477 - val_loss: 1.2229 - val_accuracy: 0.3281\n",
      "Epoch 16/100\n",
      "52/52 [==============================] - 0s 2ms/step - loss: 2.3505 - accuracy: 0.3320 - val_loss: 1.2298 - val_accuracy: 0.3281\n",
      "Epoch 17/100\n",
      "52/52 [==============================] - 0s 2ms/step - loss: 3.4607 - accuracy: 0.3359 - val_loss: 1.2370 - val_accuracy: 0.3281\n",
      "Epoch 18/100\n",
      "52/52 [==============================] - 0s 2ms/step - loss: 3.3334 - accuracy: 0.3086 - val_loss: 1.2446 - val_accuracy: 0.3281\n",
      "Epoch 19/100\n",
      "52/52 [==============================] - 0s 2ms/step - loss: 3.1152 - accuracy: 0.3242 - val_loss: 1.2538 - val_accuracy: 0.3281\n",
      "Epoch 20/100\n",
      "52/52 [==============================] - 0s 2ms/step - loss: 3.1636 - accuracy: 0.3477 - val_loss: 1.2617 - val_accuracy: 0.3281\n",
      "Epoch 21/100\n",
      "52/52 [==============================] - 0s 2ms/step - loss: 4.0257 - accuracy: 0.3438 - val_loss: 1.2698 - val_accuracy: 0.3281\n",
      "Epoch 22/100\n",
      "52/52 [==============================] - 0s 2ms/step - loss: 3.0950 - accuracy: 0.3359 - val_loss: 1.2785 - val_accuracy: 0.3281\n",
      "Epoch 23/100\n",
      "52/52 [==============================] - 0s 2ms/step - loss: 4.9782 - accuracy: 0.3047 - val_loss: 1.2879 - val_accuracy: 0.3281\n",
      "Epoch 24/100\n",
      "52/52 [==============================] - 0s 2ms/step - loss: 5.2374 - accuracy: 0.3438 - val_loss: 1.2976 - val_accuracy: 0.3281\n",
      "Epoch 25/100\n",
      "52/52 [==============================] - 0s 2ms/step - loss: 2.4787 - accuracy: 0.3320 - val_loss: 1.3075 - val_accuracy: 0.3281\n",
      "Epoch 26/100\n",
      "52/52 [==============================] - 0s 2ms/step - loss: 3.1913 - accuracy: 0.3320 - val_loss: 1.3178 - val_accuracy: 0.3281\n",
      "Epoch 27/100\n",
      "52/52 [==============================] - 0s 2ms/step - loss: 1.0235 - accuracy: 0.3711 - val_loss: 1.3272 - val_accuracy: 0.3281\n",
      "Epoch 28/100\n",
      "52/52 [==============================] - 0s 2ms/step - loss: 1.2781 - accuracy: 0.3281 - val_loss: 1.3369 - val_accuracy: 0.3281\n",
      "Epoch 29/100\n",
      "52/52 [==============================] - 0s 2ms/step - loss: 2.8941 - accuracy: 0.2852 - val_loss: 1.3468 - val_accuracy: 0.3281\n",
      "Epoch 30/100\n",
      "52/52 [==============================] - 0s 2ms/step - loss: 1.9561 - accuracy: 0.3047 - val_loss: 1.3568 - val_accuracy: 0.3281\n",
      "Epoch 31/100\n",
      "52/52 [==============================] - 0s 2ms/step - loss: 2.2758 - accuracy: 0.0898 - val_loss: 1.3669 - val_accuracy: 0.3281\n",
      "Epoch 32/100\n",
      "52/52 [==============================] - 0s 2ms/step - loss: 3.7267 - accuracy: 0.4883 - val_loss: 1.3777 - val_accuracy: 0.3125\n",
      "Epoch 33/100\n",
      "52/52 [==============================] - 0s 2ms/step - loss: 3.0950 - accuracy: 0.7148 - val_loss: 1.3886 - val_accuracy: 0.3125\n",
      "Epoch 34/100\n",
      "52/52 [==============================] - 0s 2ms/step - loss: 5.0553 - accuracy: 0.6914 - val_loss: 1.3990 - val_accuracy: 0.3125\n",
      "Epoch 35/100\n",
      "52/52 [==============================] - 0s 2ms/step - loss: 2.8208 - accuracy: 0.7070 - val_loss: 1.4093 - val_accuracy: 0.3125\n",
      "Epoch 36/100\n",
      "52/52 [==============================] - 0s 2ms/step - loss: 4.0273 - accuracy: 0.6992 - val_loss: 1.4209 - val_accuracy: 0.3125\n",
      "Epoch 37/100\n",
      "52/52 [==============================] - 0s 2ms/step - loss: 3.7803 - accuracy: 0.6914 - val_loss: 1.4310 - val_accuracy: 0.3125\n",
      "Epoch 38/100\n",
      "52/52 [==============================] - 0s 2ms/step - loss: 1.5252 - accuracy: 0.6836 - val_loss: 1.4428 - val_accuracy: 0.3125\n",
      "Epoch 39/100\n",
      "52/52 [==============================] - 0s 2ms/step - loss: 1.6905 - accuracy: 0.7031 - val_loss: 1.4539 - val_accuracy: 0.3125\n",
      "Epoch 40/100\n",
      "52/52 [==============================] - 0s 2ms/step - loss: 1.5914 - accuracy: 0.7070 - val_loss: 1.4650 - val_accuracy: 0.3125\n",
      "Epoch 41/100\n",
      "52/52 [==============================] - 0s 2ms/step - loss: 1.9382 - accuracy: 0.6992 - val_loss: 1.4757 - val_accuracy: 0.3125\n",
      "Epoch 42/100\n",
      "52/52 [==============================] - 0s 2ms/step - loss: 1.3055 - accuracy: 0.7070 - val_loss: 1.4864 - val_accuracy: 0.3125\n",
      "Epoch 43/100\n",
      "52/52 [==============================] - 0s 2ms/step - loss: 2.5288 - accuracy: 0.7031 - val_loss: 1.4974 - val_accuracy: 0.3125\n",
      "Epoch 44/100\n",
      "52/52 [==============================] - 0s 2ms/step - loss: 1.9239 - accuracy: 0.7070 - val_loss: 1.5078 - val_accuracy: 0.3125\n",
      "Epoch 45/100\n",
      "52/52 [==============================] - 0s 2ms/step - loss: 1.7526 - accuracy: 0.6953 - val_loss: 1.5183 - val_accuracy: 0.3125\n",
      "Epoch 46/100\n",
      "52/52 [==============================] - 0s 2ms/step - loss: 2.0078 - accuracy: 0.6992 - val_loss: 1.5282 - val_accuracy: 0.3125\n",
      "Epoch 47/100\n",
      "52/52 [==============================] - 0s 2ms/step - loss: 2.0126 - accuracy: 0.7031 - val_loss: 1.5381 - val_accuracy: 0.3125\n",
      "Epoch 48/100\n",
      "52/52 [==============================] - 0s 2ms/step - loss: 1.9048 - accuracy: 0.7070 - val_loss: 1.5482 - val_accuracy: 0.3125\n",
      "Epoch 49/100\n",
      "52/52 [==============================] - 0s 2ms/step - loss: 2.3591 - accuracy: 0.7070 - val_loss: 1.5576 - val_accuracy: 0.3125\n",
      "Epoch 50/100\n",
      "52/52 [==============================] - 0s 2ms/step - loss: 3.4138 - accuracy: 0.6875 - val_loss: 1.5697 - val_accuracy: 0.3125\n",
      "Epoch 51/100\n",
      "52/52 [==============================] - 0s 2ms/step - loss: 1.0669 - accuracy: 0.7148 - val_loss: 1.5801 - val_accuracy: 0.3125\n",
      "Epoch 52/100\n",
      "52/52 [==============================] - 0s 2ms/step - loss: 1.0847 - accuracy: 0.7031 - val_loss: 1.5897 - val_accuracy: 0.3125\n",
      "Epoch 53/100\n",
      "52/52 [==============================] - 0s 2ms/step - loss: 4.3681 - accuracy: 0.6992 - val_loss: 1.5993 - val_accuracy: 0.3125\n",
      "Epoch 54/100\n",
      "52/52 [==============================] - 0s 2ms/step - loss: 1.1440 - accuracy: 0.7188 - val_loss: 1.6084 - val_accuracy: 0.3125\n",
      "Epoch 55/100\n",
      "52/52 [==============================] - 0s 2ms/step - loss: 1.1666 - accuracy: 0.6992 - val_loss: 1.6187 - val_accuracy: 0.3125\n",
      "Epoch 56/100\n",
      "52/52 [==============================] - 0s 2ms/step - loss: 1.8038 - accuracy: 0.7031 - val_loss: 1.6280 - val_accuracy: 0.3125\n",
      "Epoch 57/100\n",
      "52/52 [==============================] - 0s 2ms/step - loss: 1.4530 - accuracy: 0.7109 - val_loss: 1.6364 - val_accuracy: 0.3125\n",
      "Epoch 58/100\n",
      "52/52 [==============================] - 0s 2ms/step - loss: 0.8311 - accuracy: 0.7109 - val_loss: 1.6456 - val_accuracy: 0.3125\n"
     ]
    },
    {
     "name": "stdout",
     "output_type": "stream",
     "text": [
      "Epoch 59/100\n",
      "52/52 [==============================] - 0s 2ms/step - loss: 1.5182 - accuracy: 0.6992 - val_loss: 1.6545 - val_accuracy: 0.3125\n",
      "Epoch 60/100\n",
      "52/52 [==============================] - 0s 2ms/step - loss: 1.0148 - accuracy: 0.7031 - val_loss: 1.6633 - val_accuracy: 0.3125\n",
      "Epoch 61/100\n",
      "52/52 [==============================] - 0s 2ms/step - loss: 0.6933 - accuracy: 0.7109 - val_loss: 1.6721 - val_accuracy: 0.3125\n",
      "Epoch 62/100\n",
      "52/52 [==============================] - 0s 2ms/step - loss: 1.0454 - accuracy: 0.7109 - val_loss: 1.6810 - val_accuracy: 0.3125\n",
      "Epoch 63/100\n",
      "52/52 [==============================] - 0s 2ms/step - loss: 1.2061 - accuracy: 0.6992 - val_loss: 1.6918 - val_accuracy: 0.3125\n",
      "Epoch 64/100\n",
      "52/52 [==============================] - 0s 2ms/step - loss: 1.9169 - accuracy: 0.6953 - val_loss: 1.7011 - val_accuracy: 0.3125\n",
      "Epoch 65/100\n",
      "52/52 [==============================] - 0s 2ms/step - loss: 0.8561 - accuracy: 0.7031 - val_loss: 1.7101 - val_accuracy: 0.3125\n",
      "Epoch 66/100\n",
      "52/52 [==============================] - 0s 2ms/step - loss: 2.2329 - accuracy: 0.7109 - val_loss: 1.7185 - val_accuracy: 0.3125\n",
      "Epoch 67/100\n",
      "52/52 [==============================] - 0s 2ms/step - loss: 1.8902 - accuracy: 0.6914 - val_loss: 1.7275 - val_accuracy: 0.3125\n",
      "Epoch 68/100\n",
      "52/52 [==============================] - 0s 2ms/step - loss: 1.3746 - accuracy: 0.6992 - val_loss: 1.7356 - val_accuracy: 0.3125\n",
      "Epoch 69/100\n",
      "52/52 [==============================] - 0s 2ms/step - loss: 2.6142 - accuracy: 0.7148 - val_loss: 1.7432 - val_accuracy: 0.3125\n",
      "Epoch 70/100\n",
      "52/52 [==============================] - 0s 2ms/step - loss: 1.0717 - accuracy: 0.6992 - val_loss: 1.7511 - val_accuracy: 0.3125\n",
      "Epoch 71/100\n",
      "52/52 [==============================] - 0s 2ms/step - loss: 0.6611 - accuracy: 0.7109 - val_loss: 1.7585 - val_accuracy: 0.3125\n",
      "Epoch 72/100\n",
      "52/52 [==============================] - 0s 2ms/step - loss: 1.4077 - accuracy: 0.7148 - val_loss: 1.7654 - val_accuracy: 0.3125\n",
      "Epoch 73/100\n",
      "52/52 [==============================] - 0s 2ms/step - loss: 0.7093 - accuracy: 0.6953 - val_loss: 1.7731 - val_accuracy: 0.3125\n",
      "Epoch 74/100\n",
      "52/52 [==============================] - 0s 2ms/step - loss: 0.7930 - accuracy: 0.7070 - val_loss: 1.7813 - val_accuracy: 0.3125\n",
      "Epoch 75/100\n",
      "52/52 [==============================] - 0s 2ms/step - loss: 1.1680 - accuracy: 0.7031 - val_loss: 1.7888 - val_accuracy: 0.3125\n",
      "Epoch 76/100\n",
      "52/52 [==============================] - 0s 2ms/step - loss: 1.5699 - accuracy: 0.6992 - val_loss: 1.7971 - val_accuracy: 0.3125\n",
      "Epoch 77/100\n",
      "52/52 [==============================] - 0s 2ms/step - loss: 1.4958 - accuracy: 0.7109 - val_loss: 1.8035 - val_accuracy: 0.3125\n",
      "Epoch 78/100\n",
      "52/52 [==============================] - 0s 2ms/step - loss: 0.7302 - accuracy: 0.7188 - val_loss: 1.8103 - val_accuracy: 0.3125\n",
      "Epoch 79/100\n",
      "52/52 [==============================] - 0s 2ms/step - loss: 1.2956 - accuracy: 0.6914 - val_loss: 1.8174 - val_accuracy: 0.3125\n",
      "Epoch 80/100\n",
      "52/52 [==============================] - 0s 2ms/step - loss: 1.2814 - accuracy: 0.7070 - val_loss: 1.8237 - val_accuracy: 0.3125\n",
      "Epoch 81/100\n",
      "52/52 [==============================] - ETA: 0s - loss: 0.5137 - accuracy: 0.97 - 0s 2ms/step - loss: 0.7410 - accuracy: 0.7070 - val_loss: 1.8303 - val_accuracy: 0.3125\n",
      "Epoch 82/100\n",
      "52/52 [==============================] - 0s 2ms/step - loss: 1.0115 - accuracy: 0.7109 - val_loss: 1.8367 - val_accuracy: 0.3125\n",
      "Epoch 83/100\n",
      "52/52 [==============================] - 0s 2ms/step - loss: 0.7736 - accuracy: 0.7031 - val_loss: 1.8431 - val_accuracy: 0.3125\n",
      "Epoch 84/100\n",
      "52/52 [==============================] - 0s 2ms/step - loss: 1.0331 - accuracy: 0.7070 - val_loss: 1.8501 - val_accuracy: 0.3125\n",
      "Epoch 85/100\n",
      "52/52 [==============================] - 0s 2ms/step - loss: 0.7838 - accuracy: 0.7148 - val_loss: 1.8558 - val_accuracy: 0.3125\n",
      "Epoch 86/100\n",
      "52/52 [==============================] - 0s 2ms/step - loss: 1.4526 - accuracy: 0.7031 - val_loss: 1.8619 - val_accuracy: 0.3125\n",
      "Epoch 87/100\n",
      "52/52 [==============================] - 0s 2ms/step - loss: 0.6756 - accuracy: 0.7109 - val_loss: 1.8678 - val_accuracy: 0.3125\n",
      "Epoch 88/100\n",
      "52/52 [==============================] - 0s 2ms/step - loss: 0.6491 - accuracy: 0.7148 - val_loss: 1.8735 - val_accuracy: 0.3125\n",
      "Epoch 89/100\n",
      "52/52 [==============================] - 0s 2ms/step - loss: 0.7181 - accuracy: 0.7070 - val_loss: 1.8792 - val_accuracy: 0.3125\n",
      "Epoch 90/100\n",
      "52/52 [==============================] - 0s 2ms/step - loss: 0.7378 - accuracy: 0.7109 - val_loss: 1.8846 - val_accuracy: 0.3125\n",
      "Epoch 91/100\n",
      "52/52 [==============================] - 0s 2ms/step - loss: 1.1819 - accuracy: 0.7109 - val_loss: 1.8899 - val_accuracy: 0.3125\n",
      "Epoch 92/100\n",
      "52/52 [==============================] - 0s 2ms/step - loss: 0.8095 - accuracy: 0.6992 - val_loss: 1.8954 - val_accuracy: 0.3125\n",
      "Epoch 93/100\n",
      "52/52 [==============================] - 0s 2ms/step - loss: 0.9499 - accuracy: 0.7109 - val_loss: 1.9002 - val_accuracy: 0.3125\n",
      "Epoch 94/100\n",
      "52/52 [==============================] - 0s 2ms/step - loss: 0.9699 - accuracy: 0.7031 - val_loss: 1.9052 - val_accuracy: 0.3125\n",
      "Epoch 95/100\n",
      "52/52 [==============================] - 0s 2ms/step - loss: 1.0725 - accuracy: 0.6992 - val_loss: 1.9105 - val_accuracy: 0.3125\n",
      "Epoch 96/100\n",
      "52/52 [==============================] - 0s 2ms/step - loss: 1.0014 - accuracy: 0.7070 - val_loss: 1.9153 - val_accuracy: 0.3125\n",
      "Epoch 97/100\n",
      "52/52 [==============================] - 0s 2ms/step - loss: 0.6531 - accuracy: 0.7070 - val_loss: 1.9212 - val_accuracy: 0.3125\n",
      "Epoch 98/100\n",
      "52/52 [==============================] - 0s 2ms/step - loss: 1.6482 - accuracy: 0.7070 - val_loss: 1.9259 - val_accuracy: 0.3125\n",
      "Epoch 99/100\n",
      "52/52 [==============================] - 0s 2ms/step - loss: 0.6395 - accuracy: 0.7109 - val_loss: 1.9305 - val_accuracy: 0.3125\n",
      "Epoch 100/100\n",
      "52/52 [==============================] - 0s 2ms/step - loss: 0.7099 - accuracy: 0.7148 - val_loss: 1.9352 - val_accuracy: 0.3125\n",
      "5/5 [==============================] - 0s 1ms/step - loss: 1.1378 - accuracy: 0.7834\n",
      "test_loss:  1.137762427330017\n",
      "test_acc:  0.7834395170211792\n"
     ]
    }
   ],
   "source": [
    "hist = model.fit(\n",
    "    X_train, y_train,\n",
    "    batch_size= 5,  \n",
    "    epochs=100,      \n",
    "    validation_split = 0.2,\n",
    "    shuffle = False,\n",
    "    \n",
    "    verbose=1)  \n",
    "\n",
    "# 테스트 데이터로 성능평가\n",
    "score = model.evaluate(X_test, y_test)\n",
    "print('test_loss: ', score[0])\n",
    "print('test_acc: ', score[1])"
   ]
  },
  {
   "cell_type": "code",
   "execution_count": 192,
   "id": "0e58587f",
   "metadata": {},
   "outputs": [
    {
     "data": {
      "image/png": "[encoded data removed]",
      "text/plain": [
       "<Figure size 432x288 with 2 Axes>"
      ]
     },
     "metadata": {
      "needs_background": "light"
     },
     "output_type": "display_data"
    }
   ],
   "source": [
    "import matplotlib.pyplot as plt\n",
    "\n",
    "fig, loss_ax = plt.subplots()\n",
    "acc_ax = loss_ax.twinx()\n",
    "\n",
    "loss_ax.plot(hist.history['loss'], 'y', label='train loss')\n",
    "loss_ax.plot(hist.history['val_loss'], 'r', label='val loss')\n",
    "\n",
    "acc_ax.plot(hist.history['accuracy'], 'b', label='train acc')\n",
    "acc_ax.plot(hist.history['val_accuracy'], 'g', label='val acc')\n",
    "\n",
    "loss_ax.set_xlabel('epoch')\n",
    "loss_ax.set_ylabel('loss')\n",
    "acc_ax.set_ylabel('accuray')\n",
    "\n",
    "loss_ax.legend(loc='upper left')\n",
    "acc_ax.legend(loc='lower left')\n",
    "\n",
    "plt.show()"
   ]
  },
  {
   "cell_type": "code",
   "execution_count": 193,
   "id": "2ce4afa7",
   "metadata": {},
   "outputs": [],
   "source": [
    "y_pred = model.predict(X_test)"
   ]
  },
  {
   "cell_type": "code",
   "execution_count": 194,
   "id": "0617c506",
   "metadata": {},
   "outputs": [
    {
     "name": "stdout",
     "output_type": "stream",
     "text": [
      "[[0.01926877 0.6818909  0.29884037]\n",
      " [0.01926877 0.6818909  0.29884037]\n",
      " [0.01926877 0.6818909  0.29884037]\n",
      " [0.01926877 0.6818909  0.29884037]\n",
      " [0.01926877 0.6818909  0.29884037]\n",
      " [0.01926877 0.6818909  0.29884037]\n",
      " [0.01926877 0.6818909  0.29884037]\n",
      " [0.01926877 0.6818909  0.29884037]\n",
      " [0.01926877 0.6818909  0.29884037]\n",
      " [0.01926877 0.6818909  0.29884037]\n",
      " [0.01926877 0.6818909  0.29884037]\n",
      " [0.01926877 0.6818909  0.29884037]\n",
      " [0.01926877 0.6818909  0.29884037]\n",
      " [0.01926877 0.6818909  0.29884037]\n",
      " [0.01926877 0.6818909  0.29884037]\n",
      " [0.01926877 0.6818909  0.29884037]\n",
      " [0.01926877 0.6818909  0.29884037]\n",
      " [0.01926877 0.6818909  0.29884037]\n",
      " [0.01926877 0.6818909  0.29884037]\n",
      " [0.01926877 0.6818909  0.29884037]\n",
      " [0.01926877 0.6818909  0.29884037]\n",
      " [0.01926877 0.6818909  0.29884037]\n",
      " [0.01926877 0.6818909  0.29884037]\n",
      " [0.01926877 0.6818909  0.29884037]\n",
      " [0.01926877 0.6818909  0.29884037]\n",
      " [0.01926877 0.6818909  0.29884037]\n",
      " [0.01926877 0.6818909  0.29884037]\n",
      " [0.01926877 0.6818909  0.29884037]\n",
      " [0.01926877 0.6818909  0.29884037]\n",
      " [0.01926877 0.6818909  0.29884037]\n",
      " [0.01926877 0.6818909  0.29884037]\n",
      " [0.01926877 0.6818909  0.29884037]\n",
      " [0.01926877 0.6818909  0.29884037]\n",
      " [0.01926877 0.6818909  0.29884037]\n",
      " [0.01926877 0.6818909  0.29884037]\n",
      " [0.01926877 0.6818909  0.29884037]\n",
      " [0.01926877 0.6818909  0.29884037]\n",
      " [0.01926877 0.6818909  0.29884037]\n",
      " [0.01926877 0.6818909  0.29884037]\n",
      " [0.01926877 0.6818909  0.29884037]\n",
      " [0.01926877 0.6818909  0.29884037]\n",
      " [0.01926877 0.6818909  0.29884037]\n",
      " [0.01926877 0.6818909  0.29884037]\n",
      " [0.01926877 0.6818909  0.29884037]\n",
      " [0.01926877 0.6818909  0.29884037]\n",
      " [0.01926877 0.6818909  0.29884037]\n",
      " [0.01926877 0.6818909  0.29884037]\n",
      " [0.01926877 0.6818909  0.29884037]\n",
      " [0.01926877 0.6818909  0.29884037]\n",
      " [0.01926877 0.6818909  0.29884037]\n",
      " [0.01926877 0.6818909  0.29884037]\n",
      " [0.01926877 0.6818909  0.29884037]\n",
      " [0.01926877 0.6818909  0.29884037]\n",
      " [0.01926877 0.6818909  0.29884037]\n",
      " [0.01926877 0.6818909  0.29884037]\n",
      " [0.01926877 0.6818909  0.29884037]\n",
      " [0.01926877 0.6818909  0.29884037]\n",
      " [0.01926877 0.6818909  0.29884037]\n",
      " [0.01926877 0.6818909  0.29884037]\n",
      " [0.01926877 0.6818909  0.29884037]\n",
      " [0.01926877 0.6818909  0.29884037]\n",
      " [0.01926877 0.6818909  0.29884037]\n",
      " [0.01926877 0.6818909  0.29884037]\n",
      " [0.01926877 0.6818909  0.29884037]\n",
      " [0.01926877 0.6818909  0.29884037]\n",
      " [0.01926877 0.6818909  0.29884037]\n",
      " [0.01926877 0.6818909  0.29884037]\n",
      " [0.01926877 0.6818909  0.29884037]\n",
      " [0.01926877 0.6818909  0.29884037]\n",
      " [0.01926877 0.6818909  0.29884037]\n",
      " [0.01926877 0.6818909  0.29884037]\n",
      " [0.01926877 0.6818909  0.29884037]\n",
      " [0.01926877 0.6818909  0.29884037]\n",
      " [0.01926877 0.6818909  0.29884037]\n",
      " [0.01926877 0.6818909  0.29884037]\n",
      " [0.01926877 0.6818909  0.29884037]\n",
      " [0.01926877 0.6818909  0.29884037]\n",
      " [0.01926877 0.6818909  0.29884037]\n",
      " [0.01926877 0.6818909  0.29884037]\n",
      " [0.01926877 0.6818909  0.29884037]\n",
      " [0.01926877 0.6818909  0.29884037]\n",
      " [0.01926877 0.6818909  0.29884037]\n",
      " [0.01926877 0.6818909  0.29884037]\n",
      " [0.01926877 0.6818909  0.29884037]\n",
      " [0.01926877 0.6818909  0.29884037]\n",
      " [0.01926877 0.6818909  0.29884037]\n",
      " [0.01926877 0.6818909  0.29884037]\n",
      " [0.01926877 0.6818909  0.29884037]\n",
      " [0.01926877 0.6818909  0.29884037]\n",
      " [0.01926877 0.6818909  0.29884037]\n",
      " [0.01926877 0.6818909  0.29884037]\n",
      " [0.01926877 0.6818909  0.29884037]\n",
      " [0.01926877 0.6818909  0.29884037]\n",
      " [0.01926877 0.6818909  0.29884037]\n",
      " [0.01926877 0.6818909  0.29884037]\n",
      " [0.01926877 0.6818909  0.29884037]\n",
      " [0.01926877 0.6818909  0.29884037]\n",
      " [0.01926877 0.6818909  0.29884037]\n",
      " [0.01926877 0.6818909  0.29884037]\n",
      " [0.01926877 0.6818909  0.29884037]\n",
      " [0.01926877 0.6818909  0.29884037]\n",
      " [0.01926877 0.6818909  0.29884037]\n",
      " [0.01926877 0.6818909  0.29884037]\n",
      " [0.01926877 0.6818909  0.29884037]\n",
      " [0.01926877 0.6818909  0.29884037]\n",
      " [0.01926877 0.6818909  0.29884037]\n",
      " [0.01926877 0.6818909  0.29884037]\n",
      " [0.01926877 0.6818909  0.29884037]\n",
      " [0.01926877 0.6818909  0.29884037]\n",
      " [0.01926877 0.6818909  0.29884037]\n",
      " [0.01926877 0.6818909  0.29884037]\n",
      " [0.01926877 0.6818909  0.29884037]\n",
      " [0.01926877 0.6818909  0.29884037]\n",
      " [0.01926877 0.6818909  0.29884037]\n",
      " [0.01926877 0.6818909  0.29884037]\n",
      " [0.01926877 0.6818909  0.29884037]\n",
      " [0.01926877 0.6818909  0.29884037]\n",
      " [0.01926877 0.6818909  0.29884037]\n",
      " [0.01926877 0.6818909  0.29884037]\n",
      " [0.01926877 0.6818909  0.29884037]\n",
      " [0.01926877 0.6818909  0.29884037]\n",
      " [0.01926877 0.6818909  0.29884037]\n",
      " [0.01926877 0.6818909  0.29884037]\n",
      " [0.01926877 0.6818909  0.29884037]\n",
      " [0.01926877 0.6818909  0.29884037]\n",
      " [0.01926877 0.6818909  0.29884037]\n",
      " [0.01926877 0.6818909  0.29884037]\n",
      " [0.01926877 0.6818909  0.29884037]\n",
      " [0.01926877 0.6818909  0.29884037]\n",
      " [0.01926877 0.6818909  0.29884037]\n",
      " [0.01926877 0.6818909  0.29884037]\n",
      " [0.01926877 0.6818909  0.29884037]\n",
      " [0.01926877 0.6818909  0.29884037]\n",
      " [0.01926877 0.6818909  0.29884037]\n",
      " [0.01926877 0.6818909  0.29884037]\n",
      " [0.01926877 0.6818909  0.29884037]\n",
      " [0.01926877 0.6818909  0.29884037]\n",
      " [0.01926877 0.6818909  0.29884037]\n",
      " [0.01926877 0.6818909  0.29884037]\n",
      " [0.01926877 0.6818909  0.29884037]\n",
      " [0.01926877 0.6818909  0.29884037]\n",
      " [0.01926877 0.6818909  0.29884037]\n",
      " [0.01926877 0.6818909  0.29884037]\n",
      " [0.01926877 0.6818909  0.29884037]\n",
      " [0.01926877 0.6818909  0.29884037]\n",
      " [0.01926877 0.6818909  0.29884037]\n",
      " [0.01926877 0.6818909  0.29884037]\n",
      " [0.01926877 0.6818909  0.29884037]\n",
      " [0.01926877 0.6818909  0.29884037]\n",
      " [0.01926877 0.6818909  0.29884037]\n",
      " [0.01926877 0.6818909  0.29884037]\n",
      " [0.01926877 0.6818909  0.29884037]\n",
      " [0.01926877 0.6818909  0.29884037]\n",
      " [0.01926877 0.6818909  0.29884037]\n",
      " [0.01926877 0.6818909  0.29884037]\n",
      " [0.01926877 0.6818909  0.29884037]\n",
      " [0.01926877 0.6818909  0.29884037]]\n"
     ]
    }
   ],
   "source": [
    "print(y_pred)"
   ]
  },
  {
   "cell_type": "code",
   "execution_count": 195,
   "id": "0d0f72ca",
   "metadata": {},
   "outputs": [
    {
     "data": {
      "text/plain": [
       "array([1, 1, 1, 1, 1, 1, 1, 1, 1, 1, 1, 1, 1, 1, 1, 1, 1, 1, 1, 1, 1, 1,\n",
       "       1, 1, 1, 1, 1, 1, 1, 1, 1, 1, 1, 1, 1, 1, 1, 1, 1, 1, 1, 1, 1, 1,\n",
       "       1, 1, 1, 1, 1, 1, 1, 1, 1, 1, 1, 1, 1, 1, 1, 1, 1, 1, 1, 1, 1, 1,\n",
       "       1, 1, 1, 1, 1, 1, 1, 1, 1, 1, 1, 1, 1, 1, 1, 1, 1, 1, 1, 1, 1, 1,\n",
       "       1, 1, 1, 1, 1, 1, 1, 1, 1, 1, 1, 1, 1, 1, 1, 1, 1, 1, 1, 1, 1, 1,\n",
       "       1, 1, 1, 1, 1, 1, 1, 1, 1, 1, 1, 1, 1, 1, 1, 1, 1, 1, 1, 1, 1, 1,\n",
       "       1, 1, 1, 1, 1, 1, 1, 1, 1, 1, 1, 1, 1, 1, 1, 1, 1, 1, 1, 1, 1, 1,\n",
       "       1, 1, 1], dtype=int64)"
      ]
     },
     "execution_count": 195,
     "metadata": {},
     "output_type": "execute_result"
    }
   ],
   "source": [
    "y_class = y_pred.argmax(axis=-1)\n",
    "y_class"
   ]
  },
  {
   "cell_type": "code",
   "execution_count": 196,
   "id": "d01c4fd3",
   "metadata": {},
   "outputs": [
    {
     "name": "stdout",
     "output_type": "stream",
     "text": [
      "[1.0, 1.0, 1.0, 1.0, 1.0, 1.0, 1.0, 1.0, 1.0, 1.0, 1.0, 1.0, 1.0, 1.0, 1.0, 1.0, 1.0, 1.0, 1.0, 1.0, 1.0, 1.0, 1.0, 1.0, 1.0, 1.0, 1.0, 1.0, 1.0, 1.0, 1.0, 1.0, 1.0, 1.0, 1.0, 1.0, 1.0, 1.0, 1.0, 1.0, 1.0, 1.0, 1.0, 1.0, 1.0, 1.0, 1.0, 0.0, 0.0, 0.0, 1.0, 0.0, 0.0, 0.0, 0.0, 0.0, 0.0, 0.0, 0.0, 0.0, 0.0, 0.0, 0.0, 0.0, 0.0, 1.0, 1.0, 1.0, 0.0, 0.0, 0.0, 0.0, 0.0, 0.0, 0.0, 0.0, 0.0, 0.0, 0.0, 0.0, 0.0, 0.0, 1.0, 0.0, 1.0, 1.0, 1.0, 1.0, 1.0, 1.0, 1.0, 1.0, 1.0, 1.0, 1.0, 1.0, 1.0, 1.0, 1.0, 1.0, 1.0, 1.0, 1.0, 1.0, 1.0, 1.0, 1.0, 0.0, 1.0, 1.0, 1.0, 1.0, 1.0, 1.0, 1.0, 1.0, 1.0, 1.0, 1.0, 1.0, 1.0, 1.0, 1.0, 1.0, 1.0, 1.0, 1.0, 1.0, 1.0, 1.0, 1.0, 2.0, 1.0, 1.0, 1.0, 1.0, 1.0, 1.0, 1.0, 1.0, 1.0, 1.0, 1.0, 1.0, 1.0, 1.0, 1.0, 1.0, 1.0, 1.0, 1.0, 1.0, 1.0, 1.0, 1.0, 1.0, 1.0]\n"
     ]
    }
   ],
   "source": [
    "print(yx_test)"
   ]
  },
  {
   "cell_type": "code",
   "execution_count": 197,
   "id": "a575c709",
   "metadata": {},
   "outputs": [
    {
     "name": "stdout",
     "output_type": "stream",
     "text": [
      "[1.0, 1.0, 1.0, 1.0, 1.0, 1.0, 1.0, 1.0, 1.0, 1.0, 1.0, 1.0, 1.0, 1.0, 1.0, 1.0, 1.0, 1.0, 1.0, 1.0, 1.0, 1.0, 1.0, 1.0, 1.0, 1.0, 1.0, 1.0, 1.0, 1.0, 1.0, 1.0, 1.0, 1.0, 1.0, 1.0, 1.0, 1.0, 1.0, 1.0, 1.0, 1.0, 1.0, 1.0, 1.0, 1.0, 1.0, 0.0, 0.0, 0.0, 1.0, 0.0, 0.0, 0.0, 0.0, 0.0, 0.0, 0.0, 0.0, 0.0, 0.0, 0.0, 0.0, 0.0, 0.0, 1.0, 1.0, 1.0, 0.0, 0.0, 0.0, 0.0, 0.0, 0.0, 0.0, 0.0, 0.0, 0.0, 0.0, 0.0, 0.0, 0.0, 1.0, 0.0, 1.0, 1.0, 1.0, 1.0, 1.0, 1.0, 1.0, 1.0, 1.0, 1.0, 1.0, 1.0, 1.0, 1.0, 1.0, 1.0, 1.0, 1.0, 1.0, 1.0, 1.0, 1.0, 1.0, 0.0, 1.0, 1.0, 1.0, 1.0, 1.0, 1.0, 1.0, 1.0, 1.0, 1.0, 1.0, 1.0, 1.0, 1.0, 1.0, 1.0, 1.0, 1.0, 1.0, 1.0, 1.0, 1.0, 1.0, 2.0, 1.0, 1.0, 1.0, 1.0, 1.0, 1.0, 1.0, 1.0, 1.0, 1.0, 1.0, 1.0, 1.0, 1.0, 1.0, 1.0, 1.0, 1.0, 1.0, 1.0, 1.0, 1.0, 1.0, 1.0, 1.0]\n"
     ]
    }
   ],
   "source": [
    "yx_test = list(yx_test)\n",
    "print(yx_test)"
   ]
  },
  {
   "cell_type": "code",
   "execution_count": 198,
   "id": "05dfb180",
   "metadata": {},
   "outputs": [],
   "source": [
    "from sklearn.metrics import precision_score , recall_score , confusion_matrix, f1_score"
   ]
  },
  {
   "cell_type": "code",
   "execution_count": 199,
   "id": "4fccbdc5",
   "metadata": {},
   "outputs": [
    {
     "name": "stderr",
     "output_type": "stream",
     "text": [
      "C:\\Users\\USER\\anaconda3\\lib\\site-packages\\sklearn\\metrics\\_classification.py:1245: UndefinedMetricWarning: Precision is ill-defined and being set to 0.0 in labels with no predicted samples. Use `zero_division` parameter to control this behavior.\n",
      "  _warn_prf(average, modifier, msg_start, len(result))\n"
     ]
    }
   ],
   "source": [
    "precision = precision_score(yx_test,y_class, average= \"macro\")"
   ]
  },
  {
   "cell_type": "code",
   "execution_count": 200,
   "id": "dcb31c7e",
   "metadata": {},
   "outputs": [
    {
     "name": "stdout",
     "output_type": "stream",
     "text": [
      "0.2611464968152866\n"
     ]
    }
   ],
   "source": [
    "print(precision)"
   ]
  },
  {
   "cell_type": "code",
   "execution_count": 201,
   "id": "4cc71552",
   "metadata": {},
   "outputs": [],
   "source": [
    "recall = recall_score(yx_test,y_class, average= \"macro\")"
   ]
  },
  {
   "cell_type": "code",
   "execution_count": 202,
   "id": "6512d5f0",
   "metadata": {},
   "outputs": [
    {
     "name": "stdout",
     "output_type": "stream",
     "text": [
      "0.3333333333333333\n"
     ]
    }
   ],
   "source": [
    "print(recall)"
   ]
  },
  {
   "cell_type": "code",
   "execution_count": 203,
   "id": "968b4598",
   "metadata": {},
   "outputs": [
    {
     "name": "stdout",
     "output_type": "stream",
     "text": [
      "0.29285714285714287\n"
     ]
    }
   ],
   "source": [
    "print(f1_score(yx_test,y_class, average= \"macro\"))"
   ]
  },
  {
   "cell_type": "code",
   "execution_count": null,
   "id": "6171e9ca",
   "metadata": {},
   "outputs": [],
   "source": []
  },
  {
   "cell_type": "code",
   "execution_count": null,
   "id": "395eb466",
   "metadata": {},
   "outputs": [],
   "source": []
  }
 ],
 "metadata": {
  "kernelspec": {
   "display_name": "Python 3",
   "language": "python",
   "name": "python3"
  },
  "language_info": {
   "codemirror_mode": {
    "name": "ipython",
    "version": 3
   },
   "file_extension": ".py",
   "mimetype": "text/x-python",
   "name": "python",
   "nbconvert_exporter": "python",
   "pygments_lexer": "ipython3",
   "version": "3.8.8"
  }
 },
 "nbformat": 4,
 "nbformat_minor": 5
}
