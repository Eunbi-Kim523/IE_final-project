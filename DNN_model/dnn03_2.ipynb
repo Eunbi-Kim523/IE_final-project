{
 "cells": [
  {
   "cell_type": "code",
   "execution_count": 1,
   "id": "0e289aed",
   "metadata": {},
   "outputs": [],
   "source": [
    "import numpy as np\n",
    "import pandas as pd\n",
    "import tensorflow as tf\n",
    "from tensorflow.keras import layers\n",
    "\n",
    "df = pd.read_csv('colresult3.csv')"
   ]
  },
  {
   "cell_type": "code",
   "execution_count": 2,
   "id": "1b5f4f17",
   "metadata": {},
   "outputs": [
    {
     "name": "stdout",
     "output_type": "stream",
     "text": [
      "          발매가  브랜드  라인  콜라보  month  color_num  col1  col2  col3  col4  col5  \\\n",
      "0      259000    3  21    0      4          1     9     0     0     0     0   \n",
      "1      259000    3  21    0      4          1     9     0     0     0     0   \n",
      "2      259000    3  21    0      4          1     9     0     0     0     0   \n",
      "3      259000    3  21    0      4          1     9     0     0     0     0   \n",
      "4      259000    3  21    0      4          1     9     0     0     0     0   \n",
      "...       ...  ...  ..  ...    ...        ...   ...   ...   ...   ...   ...   \n",
      "43948  209000    5  28   40     10          1     9     0     0     0     0   \n",
      "43949  209000    5  28   40     10          1     9     0     0     0     0   \n",
      "43950  209000    5  28   40     10          1     9     0     0     0     0   \n",
      "43951  209000    5  28   40     10          1     9     0     0     0     0   \n",
      "43952  209000    5  28   40     10          1     9     0     0     0     0   \n",
      "\n",
      "       type  day  \n",
      "0       1.0    0  \n",
      "1       1.0    1  \n",
      "2       1.0    2  \n",
      "3       1.0    3  \n",
      "4       1.0    4  \n",
      "...     ...  ...  \n",
      "43948   0.0   88  \n",
      "43949   0.0   89  \n",
      "43950   0.0   90  \n",
      "43951   0.0   91  \n",
      "43952   0.0   92  \n",
      "\n",
      "[43953 rows x 13 columns]\n"
     ]
    }
   ],
   "source": [
    "print(df)"
   ]
  },
  {
   "cell_type": "code",
   "execution_count": 3,
   "id": "c5005c61",
   "metadata": {},
   "outputs": [],
   "source": [
    "df2 = df[(df['day'] == 1)]"
   ]
  },
  {
   "cell_type": "code",
   "execution_count": 4,
   "id": "bc4fe3b2",
   "metadata": {},
   "outputs": [
    {
     "name": "stdout",
     "output_type": "stream",
     "text": [
      "          발매가  브랜드  라인  콜라보  month  color_num  col1  col2  col3  col4  col5  \\\n",
      "1      259000    3  21    0      4          1     9     0     0     0     0   \n",
      "93     149000    3  24    0      9          1     9     0     0     0     0   \n",
      "185    139000    3  17    0      5          2     9     3     0     0     0   \n",
      "278    149000    3  24    0      2          1     9     0     0     0     0   \n",
      "368     99000    3  18    0      1          1     9     0     0     0     0   \n",
      "...       ...  ...  ..  ...    ...        ...   ...   ...   ...   ...   ...   \n",
      "43493  284400    4  25    0     12          1     6     0     0     0     0   \n",
      "43584  600000    4  26   39      9          2     3     5     0     0     0   \n",
      "43676  309000    4  25    0      4          1     7     0     0     0     0   \n",
      "43768  289000    4  25    0     10          1     9     0     0     0     0   \n",
      "43861  209000    5  28   40     10          1     9     0     0     0     0   \n",
      "\n",
      "       type  day  \n",
      "1       1.0    1  \n",
      "93      1.0    1  \n",
      "185     2.0    1  \n",
      "278     1.0    1  \n",
      "368     0.0    1  \n",
      "...     ...  ...  \n",
      "43493   0.0    1  \n",
      "43584   1.0    1  \n",
      "43676   1.0    1  \n",
      "43768   0.0    1  \n",
      "43861   0.0    1  \n",
      "\n",
      "[477 rows x 13 columns]\n"
     ]
    }
   ],
   "source": [
    "print(df2)"
   ]
  },
  {
   "cell_type": "code",
   "execution_count": 5,
   "id": "5192056f",
   "metadata": {},
   "outputs": [],
   "source": [
    "df2 = df2.sample(frac=1).reset_index(drop=True)"
   ]
  },
  {
   "cell_type": "code",
   "execution_count": 6,
   "id": "4277bba6",
   "metadata": {},
   "outputs": [],
   "source": [
    "yx = df[\"type\"]\n",
    "yx_test = df[\"type\"][320:477]"
   ]
  },
  {
   "cell_type": "code",
   "execution_count": 7,
   "id": "99fe5e49",
   "metadata": {},
   "outputs": [
    {
     "name": "stderr",
     "output_type": "stream",
     "text": [
      "<ipython-input-7-06404281d320>:2: DeprecationWarning: `np.int` is a deprecated alias for the builtin `int`. To silence this warning, use `int` by itself. Doing this will not modify any behavior and is safe. When replacing `np.int`, you may wish to use e.g. `np.int64` or `np.int32` to specify the precision. If you wish to review your current use, check the release note link for additional information.\n",
      "Deprecated in NumPy 1.20; for more details and guidance: https://numpy.org/devdocs/release/1.20.0-notes.html#deprecations\n",
      "  X = np.asarray(X).astype(np.int)\n"
     ]
    }
   ],
   "source": [
    "X = df[['발매가', '라인', '브랜드', 'color_num','col2', 'col5', 'col4']]\n",
    "X = np.asarray(X).astype(np.int)\n",
    "y = np.empty((477,3))"
   ]
  },
  {
   "cell_type": "code",
   "execution_count": 8,
   "id": "97a3ae2f",
   "metadata": {},
   "outputs": [],
   "source": [
    "for i in range(477):\n",
    "    if yx[i] == 0.0:\n",
    "        y[i] = [1, 0, 0]\n",
    "    elif yx[i] == 1.0:\n",
    "        y[i] = [0, 1, 0]\n",
    "    else:\n",
    "        y[i] = [0, 0, 1]"
   ]
  },
  {
   "cell_type": "code",
   "execution_count": 9,
   "id": "cff9f465",
   "metadata": {},
   "outputs": [],
   "source": [
    "X_train, y_train = X[0:320], y[0:320]\n",
    "X_test,  y_test  = X[320:477], y[320:477]"
   ]
  },
  {
   "cell_type": "code",
   "execution_count": 10,
   "id": "3d82694b",
   "metadata": {},
   "outputs": [],
   "source": [
    "model = tf.keras.Sequential()  \n",
    "model.add(layers.Dense(7, input_shape=(7,)))  \n",
    "model.add(layers.Activation('relu')) \n",
    "model.add(layers.Dropout(0.01))        \n",
    "\n",
    "model.add(layers.Dense(16))         \n",
    "model.add(layers.Activation('relu'))\n",
    "model.add(layers.Dropout(0.01))\n",
    "\n",
    "model.add(layers.Dense(32))         \n",
    "model.add(layers.Activation('relu'))\n",
    "model.add(layers.Dropout(0.01))\n",
    "\n",
    "model.add(layers.Dense(16))         \n",
    "model.add(layers.Activation('relu'))\n",
    "model.add(layers.Dropout(0.01))\n",
    "\n",
    "model.add(layers.Dense(32))         \n",
    "model.add(layers.Activation('relu'))\n",
    "model.add(layers.Dropout(0.01))\n",
    "\n",
    "model.add(layers.Dense(16))         \n",
    "model.add(layers.Activation('relu'))\n",
    "model.add(layers.Dropout(0.01))\n",
    "\n",
    "model.add(layers.Dense(3))\n",
    "model.add(layers.Activation('softmax')) \n",
    "\n",
    "# 모델 구축\n",
    "model.compile(\n",
    "    loss= 'categorical_crossentropy', \n",
    "    optimizer=\"adam\",   \n",
    "    metrics=['accuracy'])  "
   ]
  },
  {
   "cell_type": "code",
   "execution_count": 11,
   "id": "364d3d9f",
   "metadata": {},
   "outputs": [
    {
     "name": "stdout",
     "output_type": "stream",
     "text": [
      "Epoch 1/100\n",
      "26/26 [==============================] - 1s 20ms/step - loss: 2247.5229 - accuracy: 0.1562 - val_loss: 197.0480 - val_accuracy: 0.3125\n",
      "Epoch 2/100\n",
      "26/26 [==============================] - 0s 4ms/step - loss: 199.9619 - accuracy: 0.5156 - val_loss: 138.1285 - val_accuracy: 0.3125\n",
      "Epoch 3/100\n",
      "26/26 [==============================] - 0s 4ms/step - loss: 128.6557 - accuracy: 0.5195 - val_loss: 134.1147 - val_accuracy: 0.3125\n",
      "Epoch 4/100\n",
      "26/26 [==============================] - 0s 3ms/step - loss: 58.3535 - accuracy: 0.5977 - val_loss: 121.2541 - val_accuracy: 0.3281\n",
      "Epoch 5/100\n",
      "26/26 [==============================] - 0s 3ms/step - loss: 69.1658 - accuracy: 0.5156 - val_loss: 76.5665 - val_accuracy: 0.3125\n",
      "Epoch 6/100\n",
      "26/26 [==============================] - 0s 4ms/step - loss: 29.7482 - accuracy: 0.6211 - val_loss: 74.6468 - val_accuracy: 0.3281\n",
      "Epoch 7/100\n",
      "26/26 [==============================] - 0s 4ms/step - loss: 43.1575 - accuracy: 0.5078 - val_loss: 65.1494 - val_accuracy: 0.3125\n",
      "Epoch 8/100\n",
      "26/26 [==============================] - 0s 4ms/step - loss: 23.8677 - accuracy: 0.6445 - val_loss: 38.2302 - val_accuracy: 0.3281\n",
      "Epoch 9/100\n",
      "26/26 [==============================] - 0s 4ms/step - loss: 43.2138 - accuracy: 0.5195 - val_loss: 56.2090 - val_accuracy: 0.3125\n",
      "Epoch 10/100\n",
      "26/26 [==============================] - 0s 4ms/step - loss: 25.7589 - accuracy: 0.7070 - val_loss: 30.2636 - val_accuracy: 0.3281\n",
      "Epoch 11/100\n",
      "26/26 [==============================] - 0s 4ms/step - loss: 42.9680 - accuracy: 0.6562 - val_loss: 41.6577 - val_accuracy: 0.3281\n",
      "Epoch 12/100\n",
      "26/26 [==============================] - 0s 4ms/step - loss: 36.5046 - accuracy: 0.4727 - val_loss: 22.9304 - val_accuracy: 0.3125\n",
      "Epoch 13/100\n",
      "26/26 [==============================] - 0s 3ms/step - loss: 17.5169 - accuracy: 0.6172 - val_loss: 7.2214 - val_accuracy: 0.3281\n",
      "Epoch 14/100\n",
      "26/26 [==============================] - 0s 3ms/step - loss: 20.1077 - accuracy: 0.6094 - val_loss: 24.9766 - val_accuracy: 0.3125\n",
      "Epoch 15/100\n",
      "26/26 [==============================] - 0s 3ms/step - loss: 4.6666 - accuracy: 0.4688 - val_loss: 1.1062 - val_accuracy: 0.3281\n",
      "Epoch 16/100\n",
      "26/26 [==============================] - 0s 4ms/step - loss: 6.1199 - accuracy: 0.3242 - val_loss: 1.1122 - val_accuracy: 0.3281\n",
      "Epoch 17/100\n",
      "26/26 [==============================] - 0s 4ms/step - loss: 2.1339 - accuracy: 0.3359 - val_loss: 1.1190 - val_accuracy: 0.3281\n",
      "Epoch 18/100\n",
      "26/26 [==============================] - 0s 4ms/step - loss: 2.5451 - accuracy: 0.3125 - val_loss: 1.1253 - val_accuracy: 0.3281\n",
      "Epoch 19/100\n",
      "26/26 [==============================] - 0s 4ms/step - loss: 3.9974 - accuracy: 0.3281 - val_loss: 1.1317 - val_accuracy: 0.3281\n",
      "Epoch 20/100\n",
      "26/26 [==============================] - 0s 4ms/step - loss: 3.9567 - accuracy: 0.3359 - val_loss: 1.1378 - val_accuracy: 0.3281\n",
      "Epoch 21/100\n",
      "26/26 [==============================] - 0s 4ms/step - loss: 6.1668 - accuracy: 0.3164 - val_loss: 1.1442 - val_accuracy: 0.3281\n",
      "Epoch 22/100\n",
      "26/26 [==============================] - 0s 4ms/step - loss: 2.1567 - accuracy: 0.3320 - val_loss: 1.1514 - val_accuracy: 0.3281\n",
      "Epoch 23/100\n",
      "26/26 [==============================] - 0s 4ms/step - loss: 2.6841 - accuracy: 0.3203 - val_loss: 1.1587 - val_accuracy: 0.3281\n",
      "Epoch 24/100\n",
      "26/26 [==============================] - 0s 3ms/step - loss: 1.8491 - accuracy: 0.3242 - val_loss: 1.1664 - val_accuracy: 0.3281\n",
      "Epoch 25/100\n",
      "26/26 [==============================] - 0s 3ms/step - loss: 1.2827 - accuracy: 0.3125 - val_loss: 1.1741 - val_accuracy: 0.3281\n",
      "Epoch 26/100\n",
      "26/26 [==============================] - 0s 4ms/step - loss: 4.2093 - accuracy: 0.1211 - val_loss: 1.1820 - val_accuracy: 0.3125\n",
      "Epoch 27/100\n",
      "26/26 [==============================] - 0s 3ms/step - loss: 3.8671 - accuracy: 0.4648 - val_loss: 1.1893 - val_accuracy: 0.3125\n",
      "Epoch 28/100\n",
      "26/26 [==============================] - 0s 4ms/step - loss: 1.7821 - accuracy: 0.7070 - val_loss: 1.1971 - val_accuracy: 0.3125\n",
      "Epoch 29/100\n",
      "26/26 [==============================] - 0s 4ms/step - loss: 4.2451 - accuracy: 0.6914 - val_loss: 1.2052 - val_accuracy: 0.3125\n",
      "Epoch 30/100\n",
      "26/26 [==============================] - 0s 4ms/step - loss: 5.7159 - accuracy: 0.6914 - val_loss: 1.2111 - val_accuracy: 0.3125\n",
      "Epoch 31/100\n",
      "26/26 [==============================] - 0s 4ms/step - loss: 2.7494 - accuracy: 0.7109 - val_loss: 1.2181 - val_accuracy: 0.3125\n",
      "Epoch 32/100\n",
      "26/26 [==============================] - 0s 4ms/step - loss: 3.2239 - accuracy: 0.7266 - val_loss: 1.2262 - val_accuracy: 0.3125\n",
      "Epoch 33/100\n",
      "26/26 [==============================] - 0s 4ms/step - loss: 3.1154 - accuracy: 0.6797 - val_loss: 1.2338 - val_accuracy: 0.3125\n",
      "Epoch 34/100\n",
      "26/26 [==============================] - 0s 4ms/step - loss: 1.8762 - accuracy: 0.7070 - val_loss: 1.2421 - val_accuracy: 0.3125\n",
      "Epoch 35/100\n",
      "26/26 [==============================] - 0s 4ms/step - loss: 1.7258 - accuracy: 0.7031 - val_loss: 1.2506 - val_accuracy: 0.3125\n",
      "Epoch 36/100\n",
      "26/26 [==============================] - 0s 4ms/step - loss: 6.2124 - accuracy: 0.6953 - val_loss: 1.2585 - val_accuracy: 0.3125\n",
      "Epoch 37/100\n",
      "26/26 [==============================] - 0s 4ms/step - loss: 5.2930 - accuracy: 0.6953 - val_loss: 1.2660 - val_accuracy: 0.3125\n",
      "Epoch 38/100\n",
      "26/26 [==============================] - 0s 4ms/step - loss: 1.4758 - accuracy: 0.7109 - val_loss: 1.2738 - val_accuracy: 0.3125\n",
      "Epoch 39/100\n",
      "26/26 [==============================] - 0s 4ms/step - loss: 2.5088 - accuracy: 0.6992 - val_loss: 1.2821 - val_accuracy: 0.3125\n",
      "Epoch 40/100\n",
      "26/26 [==============================] - 0s 3ms/step - loss: 1.0171 - accuracy: 0.7070 - val_loss: 1.2904 - val_accuracy: 0.3125\n",
      "Epoch 41/100\n",
      "26/26 [==============================] - 0s 3ms/step - loss: 12.1001 - accuracy: 0.6992 - val_loss: 1.2985 - val_accuracy: 0.3125\n",
      "Epoch 42/100\n",
      "26/26 [==============================] - 0s 3ms/step - loss: 1.4895 - accuracy: 0.7109 - val_loss: 1.3068 - val_accuracy: 0.3125\n",
      "Epoch 43/100\n",
      "26/26 [==============================] - 0s 3ms/step - loss: 3.8408 - accuracy: 0.6953 - val_loss: 1.3148 - val_accuracy: 0.3125\n",
      "Epoch 44/100\n",
      "26/26 [==============================] - 0s 4ms/step - loss: 3.2447 - accuracy: 0.6992 - val_loss: 1.3232 - val_accuracy: 0.3125\n",
      "Epoch 45/100\n",
      "26/26 [==============================] - 0s 4ms/step - loss: 1.5952 - accuracy: 0.7109 - val_loss: 1.3315 - val_accuracy: 0.3125\n",
      "Epoch 46/100\n",
      "26/26 [==============================] - 0s 4ms/step - loss: 5.5893 - accuracy: 0.6992 - val_loss: 1.3395 - val_accuracy: 0.3125\n",
      "Epoch 47/100\n",
      "26/26 [==============================] - 0s 3ms/step - loss: 1.2581 - accuracy: 0.7148 - val_loss: 1.3480 - val_accuracy: 0.3125\n",
      "Epoch 48/100\n",
      "26/26 [==============================] - 0s 4ms/step - loss: 2.1714 - accuracy: 0.7070 - val_loss: 1.3561 - val_accuracy: 0.3125\n",
      "Epoch 49/100\n",
      "26/26 [==============================] - 0s 5ms/step - loss: 1.4409 - accuracy: 0.7070 - val_loss: 1.3643 - val_accuracy: 0.3125\n",
      "Epoch 50/100\n",
      "26/26 [==============================] - 0s 4ms/step - loss: 3.5930 - accuracy: 0.6953 - val_loss: 1.3714 - val_accuracy: 0.3125\n",
      "Epoch 51/100\n",
      "26/26 [==============================] - 0s 4ms/step - loss: 1.6464 - accuracy: 0.7070 - val_loss: 1.3792 - val_accuracy: 0.3125\n",
      "Epoch 52/100\n",
      "26/26 [==============================] - 0s 4ms/step - loss: 1.0618 - accuracy: 0.7109 - val_loss: 1.3871 - val_accuracy: 0.3125\n",
      "Epoch 53/100\n",
      "26/26 [==============================] - 0s 3ms/step - loss: 1.5456 - accuracy: 0.7109 - val_loss: 1.3953 - val_accuracy: 0.3125\n",
      "Epoch 54/100\n",
      "26/26 [==============================] - 0s 3ms/step - loss: 0.9297 - accuracy: 0.7070 - val_loss: 1.4033 - val_accuracy: 0.3125\n",
      "Epoch 55/100\n",
      "26/26 [==============================] - 0s 3ms/step - loss: 1.2156 - accuracy: 0.7109 - val_loss: 1.4112 - val_accuracy: 0.3125\n",
      "Epoch 56/100\n",
      "26/26 [==============================] - 0s 3ms/step - loss: 0.7907 - accuracy: 0.7070 - val_loss: 1.4192 - val_accuracy: 0.3125\n",
      "Epoch 57/100\n",
      "26/26 [==============================] - 0s 3ms/step - loss: 0.8759 - accuracy: 0.7070 - val_loss: 1.4270 - val_accuracy: 0.3125\n",
      "Epoch 58/100\n"
     ]
    },
    {
     "name": "stdout",
     "output_type": "stream",
     "text": [
      "26/26 [==============================] - 0s 3ms/step - loss: 4.9963 - accuracy: 0.7070 - val_loss: 1.4348 - val_accuracy: 0.3125\n",
      "Epoch 59/100\n",
      "26/26 [==============================] - 0s 3ms/step - loss: 0.8888 - accuracy: 0.7070 - val_loss: 1.4426 - val_accuracy: 0.3125\n",
      "Epoch 60/100\n",
      "26/26 [==============================] - 0s 3ms/step - loss: 1.8243 - accuracy: 0.7031 - val_loss: 1.4502 - val_accuracy: 0.3125\n",
      "Epoch 61/100\n",
      "26/26 [==============================] - 0s 3ms/step - loss: 1.1268 - accuracy: 0.6914 - val_loss: 1.4576 - val_accuracy: 0.3125\n",
      "Epoch 62/100\n",
      "26/26 [==============================] - 0s 3ms/step - loss: 2.8268 - accuracy: 0.7070 - val_loss: 1.4655 - val_accuracy: 0.3125\n",
      "Epoch 63/100\n",
      "26/26 [==============================] - 0s 3ms/step - loss: 1.2198 - accuracy: 0.7109 - val_loss: 1.4731 - val_accuracy: 0.3125\n",
      "Epoch 64/100\n",
      "26/26 [==============================] - 0s 3ms/step - loss: 1.3812 - accuracy: 0.7031 - val_loss: 1.4765 - val_accuracy: 0.3125\n",
      "Epoch 65/100\n",
      "26/26 [==============================] - 0s 3ms/step - loss: 3.0490 - accuracy: 0.7070 - val_loss: 1.4841 - val_accuracy: 0.3125\n",
      "Epoch 66/100\n",
      "26/26 [==============================] - 0s 3ms/step - loss: 1.3417 - accuracy: 0.6953 - val_loss: 1.4931 - val_accuracy: 0.3125\n",
      "Epoch 67/100\n",
      "26/26 [==============================] - 0s 5ms/step - loss: 0.9267 - accuracy: 0.7070 - val_loss: 1.5008 - val_accuracy: 0.3125\n",
      "Epoch 68/100\n",
      "26/26 [==============================] - 0s 4ms/step - loss: 1.0707 - accuracy: 0.6992 - val_loss: 1.5081 - val_accuracy: 0.3125\n",
      "Epoch 69/100\n",
      "26/26 [==============================] - 0s 4ms/step - loss: 1.0555 - accuracy: 0.6953 - val_loss: 1.5152 - val_accuracy: 0.3125\n",
      "Epoch 70/100\n",
      "26/26 [==============================] - 0s 4ms/step - loss: 0.7993 - accuracy: 0.7109 - val_loss: 1.5225 - val_accuracy: 0.3125\n",
      "Epoch 71/100\n",
      "26/26 [==============================] - 0s 4ms/step - loss: 0.8533 - accuracy: 0.7148 - val_loss: 1.5297 - val_accuracy: 0.3125\n",
      "Epoch 72/100\n",
      "26/26 [==============================] - 0s 4ms/step - loss: 1.9054 - accuracy: 0.7031 - val_loss: 1.5359 - val_accuracy: 0.3125\n",
      "Epoch 73/100\n",
      "26/26 [==============================] - 0s 4ms/step - loss: 1.1109 - accuracy: 0.7109 - val_loss: 1.5428 - val_accuracy: 0.3125\n",
      "Epoch 74/100\n",
      "26/26 [==============================] - 0s 4ms/step - loss: 1.0830 - accuracy: 0.7109 - val_loss: 1.5503 - val_accuracy: 0.3125\n",
      "Epoch 75/100\n",
      "26/26 [==============================] - 0s 4ms/step - loss: 1.1180 - accuracy: 0.6992 - val_loss: 1.5580 - val_accuracy: 0.3125\n",
      "Epoch 76/100\n",
      "26/26 [==============================] - 0s 4ms/step - loss: 1.6669 - accuracy: 0.7109 - val_loss: 1.5657 - val_accuracy: 0.3125\n",
      "Epoch 77/100\n",
      "26/26 [==============================] - 0s 4ms/step - loss: 2.3437 - accuracy: 0.7070 - val_loss: 1.5734 - val_accuracy: 0.3125\n",
      "Epoch 78/100\n",
      "26/26 [==============================] - 0s 4ms/step - loss: 1.0469 - accuracy: 0.7031 - val_loss: 1.5802 - val_accuracy: 0.3125\n",
      "Epoch 79/100\n",
      "26/26 [==============================] - 0s 4ms/step - loss: 2.1769 - accuracy: 0.7031 - val_loss: 1.5873 - val_accuracy: 0.3125\n",
      "Epoch 80/100\n",
      "26/26 [==============================] - 0s 4ms/step - loss: 0.7814 - accuracy: 0.7109 - val_loss: 1.5947 - val_accuracy: 0.3125\n",
      "Epoch 81/100\n",
      "26/26 [==============================] - 0s 4ms/step - loss: 1.0924 - accuracy: 0.7031 - val_loss: 1.6020 - val_accuracy: 0.3125\n",
      "Epoch 82/100\n",
      "26/26 [==============================] - 0s 4ms/step - loss: 0.9633 - accuracy: 0.7148 - val_loss: 1.6093 - val_accuracy: 0.3125\n",
      "Epoch 83/100\n",
      "26/26 [==============================] - 0s 4ms/step - loss: 0.7163 - accuracy: 0.7070 - val_loss: 1.6205 - val_accuracy: 0.3125\n",
      "Epoch 84/100\n",
      "26/26 [==============================] - 0s 4ms/step - loss: 1.0851 - accuracy: 0.7109 - val_loss: 1.6295 - val_accuracy: 0.3125\n",
      "Epoch 85/100\n",
      "26/26 [==============================] - 0s 4ms/step - loss: 0.7935 - accuracy: 0.7148 - val_loss: 1.6374 - val_accuracy: 0.3125\n",
      "Epoch 86/100\n",
      "26/26 [==============================] - 0s 4ms/step - loss: 0.6668 - accuracy: 0.7109 - val_loss: 1.6446 - val_accuracy: 0.3125\n",
      "Epoch 87/100\n",
      "26/26 [==============================] - 0s 4ms/step - loss: 0.7474 - accuracy: 0.7109 - val_loss: 1.6525 - val_accuracy: 0.3125\n",
      "Epoch 88/100\n",
      "26/26 [==============================] - 0s 4ms/step - loss: 0.7995 - accuracy: 0.7188 - val_loss: 1.6581 - val_accuracy: 0.3125\n",
      "Epoch 89/100\n",
      "26/26 [==============================] - 0s 4ms/step - loss: 0.8010 - accuracy: 0.7070 - val_loss: 1.6649 - val_accuracy: 0.3125\n",
      "Epoch 90/100\n",
      "26/26 [==============================] - 0s 4ms/step - loss: 0.8664 - accuracy: 0.7109 - val_loss: 1.6723 - val_accuracy: 0.3125\n",
      "Epoch 91/100\n",
      "26/26 [==============================] - 0s 4ms/step - loss: 0.6626 - accuracy: 0.7109 - val_loss: 1.6802 - val_accuracy: 0.3125\n",
      "Epoch 92/100\n",
      "26/26 [==============================] - 0s 4ms/step - loss: 0.8627 - accuracy: 0.7070 - val_loss: 1.6890 - val_accuracy: 0.3125\n",
      "Epoch 93/100\n",
      "26/26 [==============================] - 0s 4ms/step - loss: 0.6618 - accuracy: 0.7109 - val_loss: 1.6952 - val_accuracy: 0.3125\n",
      "Epoch 94/100\n",
      "26/26 [==============================] - 0s 4ms/step - loss: 0.8082 - accuracy: 0.7109 - val_loss: 1.7026 - val_accuracy: 0.3125\n",
      "Epoch 95/100\n",
      "26/26 [==============================] - 0s 4ms/step - loss: 0.6651 - accuracy: 0.7109 - val_loss: 1.7099 - val_accuracy: 0.3125\n",
      "Epoch 96/100\n",
      "26/26 [==============================] - 0s 4ms/step - loss: 0.7683 - accuracy: 0.7070 - val_loss: 1.7173 - val_accuracy: 0.3125\n",
      "Epoch 97/100\n",
      "26/26 [==============================] - 0s 4ms/step - loss: 0.6564 - accuracy: 0.7109 - val_loss: 1.7237 - val_accuracy: 0.3125\n",
      "Epoch 98/100\n",
      "26/26 [==============================] - 0s 4ms/step - loss: 0.6535 - accuracy: 0.7109 - val_loss: 1.7306 - val_accuracy: 0.3125\n",
      "Epoch 99/100\n",
      "26/26 [==============================] - 0s 4ms/step - loss: 1.2299 - accuracy: 0.7109 - val_loss: 1.7374 - val_accuracy: 0.3125\n",
      "Epoch 100/100\n",
      "26/26 [==============================] - 0s 4ms/step - loss: 0.6547 - accuracy: 0.7109 - val_loss: 1.7456 - val_accuracy: 0.3125\n",
      "5/5 [==============================] - 0s 2ms/step - loss: 1.0678 - accuracy: 0.7834\n",
      "test_loss:  1.0677614212036133\n",
      "test_acc:  0.7834395170211792\n"
     ]
    }
   ],
   "source": [
    "hist = model.fit(\n",
    "    X_train, y_train,\n",
    "    batch_size= 10,  \n",
    "    epochs=100,      \n",
    "    validation_split = 0.2,\n",
    "    shuffle = False,\n",
    "\n",
    "    verbose=1)  \n",
    "\n",
    "# 테스트 데이터로 성능평가\n",
    "score = model.evaluate(X_test, y_test)\n",
    "print('test_loss: ', score[0])\n",
    "print('test_acc: ', score[1])"
   ]
  },
  {
   "cell_type": "code",
   "execution_count": 12,
   "id": "0e58587f",
   "metadata": {},
   "outputs": [
    {
     "data": {
      "image/png": "[encoded data removed]",
      "text/plain": [
       "<Figure size 432x288 with 2 Axes>"
      ]
     },
     "metadata": {
      "needs_background": "light"
     },
     "output_type": "display_data"
    }
   ],
   "source": [
    "import matplotlib.pyplot as plt\n",
    "\n",
    "fig, loss_ax = plt.subplots()\n",
    "acc_ax = loss_ax.twinx()\n",
    "\n",
    "loss_ax.plot(hist.history['loss'], 'y', label='train loss')\n",
    "loss_ax.plot(hist.history['val_loss'], 'r', label='val loss')\n",
    "\n",
    "acc_ax.plot(hist.history['accuracy'], 'b', label='train acc')\n",
    "acc_ax.plot(hist.history['val_accuracy'], 'g', label='val acc')\n",
    "\n",
    "loss_ax.set_xlabel('epoch')\n",
    "loss_ax.set_ylabel('loss')\n",
    "acc_ax.set_ylabel('accuray')\n",
    "\n",
    "loss_ax.legend(loc='upper left')\n",
    "acc_ax.legend(loc='lower left')\n",
    "\n",
    "plt.show()"
   ]
  },
  {
   "cell_type": "code",
   "execution_count": 13,
   "id": "2ce4afa7",
   "metadata": {},
   "outputs": [],
   "source": [
    "y_pred = model.predict(X_test)"
   ]
  },
  {
   "cell_type": "code",
   "execution_count": 14,
   "id": "05dfb180",
   "metadata": {},
   "outputs": [
    {
     "name": "stdout",
     "output_type": "stream",
     "text": [
      "[[0.0321633 0.6495307 0.318306 ]\n",
      " [0.0321633 0.6495307 0.318306 ]\n",
      " [0.0321633 0.6495307 0.318306 ]\n",
      " [0.0321633 0.6495307 0.318306 ]\n",
      " [0.0321633 0.6495307 0.318306 ]\n",
      " [0.0321633 0.6495307 0.318306 ]\n",
      " [0.0321633 0.6495307 0.318306 ]\n",
      " [0.0321633 0.6495307 0.318306 ]\n",
      " [0.0321633 0.6495307 0.318306 ]\n",
      " [0.0321633 0.6495307 0.318306 ]\n",
      " [0.0321633 0.6495307 0.318306 ]\n",
      " [0.0321633 0.6495307 0.318306 ]\n",
      " [0.0321633 0.6495307 0.318306 ]\n",
      " [0.0321633 0.6495307 0.318306 ]\n",
      " [0.0321633 0.6495307 0.318306 ]\n",
      " [0.0321633 0.6495307 0.318306 ]\n",
      " [0.0321633 0.6495307 0.318306 ]\n",
      " [0.0321633 0.6495307 0.318306 ]\n",
      " [0.0321633 0.6495307 0.318306 ]\n",
      " [0.0321633 0.6495307 0.318306 ]\n",
      " [0.0321633 0.6495307 0.318306 ]\n",
      " [0.0321633 0.6495307 0.318306 ]\n",
      " [0.0321633 0.6495307 0.318306 ]\n",
      " [0.0321633 0.6495307 0.318306 ]\n",
      " [0.0321633 0.6495307 0.318306 ]\n",
      " [0.0321633 0.6495307 0.318306 ]\n",
      " [0.0321633 0.6495307 0.318306 ]\n",
      " [0.0321633 0.6495307 0.318306 ]\n",
      " [0.0321633 0.6495307 0.318306 ]\n",
      " [0.0321633 0.6495307 0.318306 ]\n",
      " [0.0321633 0.6495307 0.318306 ]\n",
      " [0.0321633 0.6495307 0.318306 ]\n",
      " [0.0321633 0.6495307 0.318306 ]\n",
      " [0.0321633 0.6495307 0.318306 ]\n",
      " [0.0321633 0.6495307 0.318306 ]\n",
      " [0.0321633 0.6495307 0.318306 ]\n",
      " [0.0321633 0.6495307 0.318306 ]\n",
      " [0.0321633 0.6495307 0.318306 ]\n",
      " [0.0321633 0.6495307 0.318306 ]\n",
      " [0.0321633 0.6495307 0.318306 ]\n",
      " [0.0321633 0.6495307 0.318306 ]\n",
      " [0.0321633 0.6495307 0.318306 ]\n",
      " [0.0321633 0.6495307 0.318306 ]\n",
      " [0.0321633 0.6495307 0.318306 ]\n",
      " [0.0321633 0.6495307 0.318306 ]\n",
      " [0.0321633 0.6495307 0.318306 ]\n",
      " [0.0321633 0.6495307 0.318306 ]\n",
      " [0.0321633 0.6495307 0.318306 ]\n",
      " [0.0321633 0.6495307 0.318306 ]\n",
      " [0.0321633 0.6495307 0.318306 ]\n",
      " [0.0321633 0.6495307 0.318306 ]\n",
      " [0.0321633 0.6495307 0.318306 ]\n",
      " [0.0321633 0.6495307 0.318306 ]\n",
      " [0.0321633 0.6495307 0.318306 ]\n",
      " [0.0321633 0.6495307 0.318306 ]\n",
      " [0.0321633 0.6495307 0.318306 ]\n",
      " [0.0321633 0.6495307 0.318306 ]\n",
      " [0.0321633 0.6495307 0.318306 ]\n",
      " [0.0321633 0.6495307 0.318306 ]\n",
      " [0.0321633 0.6495307 0.318306 ]\n",
      " [0.0321633 0.6495307 0.318306 ]\n",
      " [0.0321633 0.6495307 0.318306 ]\n",
      " [0.0321633 0.6495307 0.318306 ]\n",
      " [0.0321633 0.6495307 0.318306 ]\n",
      " [0.0321633 0.6495307 0.318306 ]\n",
      " [0.0321633 0.6495307 0.318306 ]\n",
      " [0.0321633 0.6495307 0.318306 ]\n",
      " [0.0321633 0.6495307 0.318306 ]\n",
      " [0.0321633 0.6495307 0.318306 ]\n",
      " [0.0321633 0.6495307 0.318306 ]\n",
      " [0.0321633 0.6495307 0.318306 ]\n",
      " [0.0321633 0.6495307 0.318306 ]\n",
      " [0.0321633 0.6495307 0.318306 ]\n",
      " [0.0321633 0.6495307 0.318306 ]\n",
      " [0.0321633 0.6495307 0.318306 ]\n",
      " [0.0321633 0.6495307 0.318306 ]\n",
      " [0.0321633 0.6495307 0.318306 ]\n",
      " [0.0321633 0.6495307 0.318306 ]\n",
      " [0.0321633 0.6495307 0.318306 ]\n",
      " [0.0321633 0.6495307 0.318306 ]\n",
      " [0.0321633 0.6495307 0.318306 ]\n",
      " [0.0321633 0.6495307 0.318306 ]\n",
      " [0.0321633 0.6495307 0.318306 ]\n",
      " [0.0321633 0.6495307 0.318306 ]\n",
      " [0.0321633 0.6495307 0.318306 ]\n",
      " [0.0321633 0.6495307 0.318306 ]\n",
      " [0.0321633 0.6495307 0.318306 ]\n",
      " [0.0321633 0.6495307 0.318306 ]\n",
      " [0.0321633 0.6495307 0.318306 ]\n",
      " [0.0321633 0.6495307 0.318306 ]\n",
      " [0.0321633 0.6495307 0.318306 ]\n",
      " [0.0321633 0.6495307 0.318306 ]\n",
      " [0.0321633 0.6495307 0.318306 ]\n",
      " [0.0321633 0.6495307 0.318306 ]\n",
      " [0.0321633 0.6495307 0.318306 ]\n",
      " [0.0321633 0.6495307 0.318306 ]\n",
      " [0.0321633 0.6495307 0.318306 ]\n",
      " [0.0321633 0.6495307 0.318306 ]\n",
      " [0.0321633 0.6495307 0.318306 ]\n",
      " [0.0321633 0.6495307 0.318306 ]\n",
      " [0.0321633 0.6495307 0.318306 ]\n",
      " [0.0321633 0.6495307 0.318306 ]\n",
      " [0.0321633 0.6495307 0.318306 ]\n",
      " [0.0321633 0.6495307 0.318306 ]\n",
      " [0.0321633 0.6495307 0.318306 ]\n",
      " [0.0321633 0.6495307 0.318306 ]\n",
      " [0.0321633 0.6495307 0.318306 ]\n",
      " [0.0321633 0.6495307 0.318306 ]\n",
      " [0.0321633 0.6495307 0.318306 ]\n",
      " [0.0321633 0.6495307 0.318306 ]\n",
      " [0.0321633 0.6495307 0.318306 ]\n",
      " [0.0321633 0.6495307 0.318306 ]\n",
      " [0.0321633 0.6495307 0.318306 ]\n",
      " [0.0321633 0.6495307 0.318306 ]\n",
      " [0.0321633 0.6495307 0.318306 ]\n",
      " [0.0321633 0.6495307 0.318306 ]\n",
      " [0.0321633 0.6495307 0.318306 ]\n",
      " [0.0321633 0.6495307 0.318306 ]\n",
      " [0.0321633 0.6495307 0.318306 ]\n",
      " [0.0321633 0.6495307 0.318306 ]\n",
      " [0.0321633 0.6495307 0.318306 ]\n",
      " [0.0321633 0.6495307 0.318306 ]\n",
      " [0.0321633 0.6495307 0.318306 ]\n",
      " [0.0321633 0.6495307 0.318306 ]\n",
      " [0.0321633 0.6495307 0.318306 ]\n",
      " [0.0321633 0.6495307 0.318306 ]\n",
      " [0.0321633 0.6495307 0.318306 ]\n",
      " [0.0321633 0.6495307 0.318306 ]\n",
      " [0.0321633 0.6495307 0.318306 ]\n",
      " [0.0321633 0.6495307 0.318306 ]\n",
      " [0.0321633 0.6495307 0.318306 ]\n",
      " [0.0321633 0.6495307 0.318306 ]\n",
      " [0.0321633 0.6495307 0.318306 ]\n",
      " [0.0321633 0.6495307 0.318306 ]\n",
      " [0.0321633 0.6495307 0.318306 ]\n",
      " [0.0321633 0.6495307 0.318306 ]\n",
      " [0.0321633 0.6495307 0.318306 ]\n",
      " [0.0321633 0.6495307 0.318306 ]\n",
      " [0.0321633 0.6495307 0.318306 ]\n",
      " [0.0321633 0.6495307 0.318306 ]\n",
      " [0.0321633 0.6495307 0.318306 ]\n",
      " [0.0321633 0.6495307 0.318306 ]\n",
      " [0.0321633 0.6495307 0.318306 ]\n",
      " [0.0321633 0.6495307 0.318306 ]\n",
      " [0.0321633 0.6495307 0.318306 ]\n",
      " [0.0321633 0.6495307 0.318306 ]\n",
      " [0.0321633 0.6495307 0.318306 ]\n",
      " [0.0321633 0.6495307 0.318306 ]\n",
      " [0.0321633 0.6495307 0.318306 ]\n",
      " [0.0321633 0.6495307 0.318306 ]\n",
      " [0.0321633 0.6495307 0.318306 ]\n",
      " [0.0321633 0.6495307 0.318306 ]\n",
      " [0.0321633 0.6495307 0.318306 ]\n",
      " [0.0321633 0.6495307 0.318306 ]\n",
      " [0.0321633 0.6495307 0.318306 ]\n",
      " [0.0321633 0.6495307 0.318306 ]\n",
      " [0.0321633 0.6495307 0.318306 ]]\n"
     ]
    }
   ],
   "source": [
    "print(y_pred)"
   ]
  },
  {
   "cell_type": "code",
   "execution_count": 15,
   "id": "4fccbdc5",
   "metadata": {},
   "outputs": [
    {
     "data": {
      "text/plain": [
       "array([1, 1, 1, 1, 1, 1, 1, 1, 1, 1, 1, 1, 1, 1, 1, 1, 1, 1, 1, 1, 1, 1,\n",
       "       1, 1, 1, 1, 1, 1, 1, 1, 1, 1, 1, 1, 1, 1, 1, 1, 1, 1, 1, 1, 1, 1,\n",
       "       1, 1, 1, 1, 1, 1, 1, 1, 1, 1, 1, 1, 1, 1, 1, 1, 1, 1, 1, 1, 1, 1,\n",
       "       1, 1, 1, 1, 1, 1, 1, 1, 1, 1, 1, 1, 1, 1, 1, 1, 1, 1, 1, 1, 1, 1,\n",
       "       1, 1, 1, 1, 1, 1, 1, 1, 1, 1, 1, 1, 1, 1, 1, 1, 1, 1, 1, 1, 1, 1,\n",
       "       1, 1, 1, 1, 1, 1, 1, 1, 1, 1, 1, 1, 1, 1, 1, 1, 1, 1, 1, 1, 1, 1,\n",
       "       1, 1, 1, 1, 1, 1, 1, 1, 1, 1, 1, 1, 1, 1, 1, 1, 1, 1, 1, 1, 1, 1,\n",
       "       1, 1, 1], dtype=int64)"
      ]
     },
     "execution_count": 15,
     "metadata": {},
     "output_type": "execute_result"
    }
   ],
   "source": [
    "y_class = y_pred.argmax(axis=-1)\n",
    "y_class"
   ]
  },
  {
   "cell_type": "code",
   "execution_count": 16,
   "id": "238d51f4",
   "metadata": {},
   "outputs": [
    {
     "name": "stdout",
     "output_type": "stream",
     "text": [
      "320    1.0\n",
      "321    1.0\n",
      "322    1.0\n",
      "323    1.0\n",
      "324    1.0\n",
      "      ... \n",
      "472    1.0\n",
      "473    1.0\n",
      "474    1.0\n",
      "475    1.0\n",
      "476    1.0\n",
      "Name: type, Length: 157, dtype: float64\n"
     ]
    }
   ],
   "source": [
    "print(yx_test)"
   ]
  },
  {
   "cell_type": "code",
   "execution_count": 17,
   "id": "137cbfde",
   "metadata": {},
   "outputs": [
    {
     "name": "stdout",
     "output_type": "stream",
     "text": [
      "[1.0, 1.0, 1.0, 1.0, 1.0, 1.0, 1.0, 1.0, 1.0, 1.0, 1.0, 1.0, 1.0, 1.0, 1.0, 1.0, 1.0, 1.0, 1.0, 1.0, 1.0, 1.0, 1.0, 1.0, 1.0, 1.0, 1.0, 1.0, 1.0, 1.0, 1.0, 1.0, 1.0, 1.0, 1.0, 1.0, 1.0, 1.0, 1.0, 1.0, 1.0, 1.0, 1.0, 1.0, 1.0, 1.0, 1.0, 0.0, 0.0, 0.0, 1.0, 0.0, 0.0, 0.0, 0.0, 0.0, 0.0, 0.0, 0.0, 0.0, 0.0, 0.0, 0.0, 0.0, 0.0, 1.0, 1.0, 1.0, 0.0, 0.0, 0.0, 0.0, 0.0, 0.0, 0.0, 0.0, 0.0, 0.0, 0.0, 0.0, 0.0, 0.0, 1.0, 0.0, 1.0, 1.0, 1.0, 1.0, 1.0, 1.0, 1.0, 1.0, 1.0, 1.0, 1.0, 1.0, 1.0, 1.0, 1.0, 1.0, 1.0, 1.0, 1.0, 1.0, 1.0, 1.0, 1.0, 0.0, 1.0, 1.0, 1.0, 1.0, 1.0, 1.0, 1.0, 1.0, 1.0, 1.0, 1.0, 1.0, 1.0, 1.0, 1.0, 1.0, 1.0, 1.0, 1.0, 1.0, 1.0, 1.0, 1.0, 2.0, 1.0, 1.0, 1.0, 1.0, 1.0, 1.0, 1.0, 1.0, 1.0, 1.0, 1.0, 1.0, 1.0, 1.0, 1.0, 1.0, 1.0, 1.0, 1.0, 1.0, 1.0, 1.0, 1.0, 1.0, 1.0]\n"
     ]
    }
   ],
   "source": [
    "yx_test = list(yx_test)\n",
    "print(yx_test)"
   ]
  },
  {
   "cell_type": "code",
   "execution_count": 22,
   "id": "b340ad20",
   "metadata": {},
   "outputs": [
    {
     "name": "stdout",
     "output_type": "stream",
     "text": [
      "0.2611464968152866\n"
     ]
    },
    {
     "name": "stderr",
     "output_type": "stream",
     "text": [
      "C:\\Users\\USER\\anaconda3\\lib\\site-packages\\sklearn\\metrics\\_classification.py:1245: UndefinedMetricWarning: Precision is ill-defined and being set to 0.0 in labels with no predicted samples. Use `zero_division` parameter to control this behavior.\n",
      "  _warn_prf(average, modifier, msg_start, len(result))\n"
     ]
    }
   ],
   "source": [
    "from sklearn.metrics import precision_score , recall_score , confusion_matrix, f1_score\n",
    "precision = precision_score(yx_test,y_class, average= \"macro\")\n",
    "print(precision)"
   ]
  },
  {
   "cell_type": "code",
   "execution_count": 23,
   "id": "931330d7",
   "metadata": {},
   "outputs": [
    {
     "name": "stdout",
     "output_type": "stream",
     "text": [
      "0.3333333333333333\n"
     ]
    }
   ],
   "source": [
    "recall = recall_score(yx_test,y_class, average= \"macro\")\n",
    "print(recall)"
   ]
  },
  {
   "cell_type": "code",
   "execution_count": 24,
   "id": "579140ef",
   "metadata": {},
   "outputs": [
    {
     "name": "stdout",
     "output_type": "stream",
     "text": [
      "0.29285714285714287\n"
     ]
    }
   ],
   "source": [
    "print(f1_score(yx_test,y_class, average= \"macro\"))"
   ]
  },
  {
   "cell_type": "code",
   "execution_count": null,
   "id": "0d26aefa",
   "metadata": {},
   "outputs": [],
   "source": []
  },
  {
   "cell_type": "code",
   "execution_count": null,
   "id": "9bb65047",
   "metadata": {},
   "outputs": [],
   "source": []
  },
  {
   "cell_type": "code",
   "execution_count": null,
   "id": "a67afb98",
   "metadata": {},
   "outputs": [],
   "source": []
  },
  {
   "cell_type": "code",
   "execution_count": null,
   "id": "f3624296",
   "metadata": {},
   "outputs": [],
   "source": []
  }
 ],
 "metadata": {
  "kernelspec": {
   "display_name": "Python 3",
   "language": "python",
   "name": "python3"
  },
  "language_info": {
   "codemirror_mode": {
    "name": "ipython",
    "version": 3
   },
   "file_extension": ".py",
   "mimetype": "text/x-python",
   "name": "python",
   "nbconvert_exporter": "python",
   "pygments_lexer": "ipython3",
   "version": "3.8.8"
  }
 },
 "nbformat": 4,
 "nbformat_minor": 5
}
