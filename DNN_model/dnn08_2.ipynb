{
 "cells": [
  {
   "cell_type": "code",
   "execution_count": 1,
   "id": "0e289aed",
   "metadata": {},
   "outputs": [],
   "source": [
    "import numpy as np\n",
    "import pandas as pd\n",
    "import tensorflow as tf\n",
    "from tensorflow.keras import layers\n",
    "from sklearn.model_selection import train_test_split\n",
    "\n",
    "df = pd.read_csv('colchange3.csv')"
   ]
  },
  {
   "cell_type": "code",
   "execution_count": 2,
   "id": "f761eef3",
   "metadata": {},
   "outputs": [
    {
     "name": "stdout",
     "output_type": "stream",
     "text": [
      "False\n"
     ]
    }
   ],
   "source": [
    "print(df.isnull().values.any())"
   ]
  },
  {
   "cell_type": "code",
   "execution_count": 3,
   "id": "1b5f4f17",
   "metadata": {},
   "outputs": [
    {
     "name": "stdout",
     "output_type": "stream",
     "text": [
      "          발매가  라인  콜라보  month  color_num  col1  col2  col3  col4  col5  day  \\\n",
      "0      259000  21    0      4          1     9     0     0     0     0    0   \n",
      "1      259000  21    0      4          1     9     0     0     0     0    1   \n",
      "2      259000  21    0      4          1     9     0     0     0     0    2   \n",
      "3      259000  21    0      4          1     9     0     0     0     0    3   \n",
      "4      259000  21    0      4          1     9     0     0     0     0    4   \n",
      "...       ...  ..  ...    ...        ...   ...   ...   ...   ...   ...  ...   \n",
      "43948  209000  28    0     10          1     9     0     0     0     0   88   \n",
      "43949  209000  28    0     10          1     9     0     0     0     0   89   \n",
      "43950  209000  28    0     10          1     9     0     0     0     0   90   \n",
      "43951  209000  28    0     10          1     9     0     0     0     0   91   \n",
      "43952  209000  28    0     10          1     9     0     0     0     0   92   \n",
      "\n",
      "       nike  jordan  newbalance  adidas  converse  콜라보유무  type  \n",
      "0         0       0           1       0         0      0     1  \n",
      "1         0       0           1       0         0      0     1  \n",
      "2         0       0           1       0         0      0     1  \n",
      "3         0       0           1       0         0      0     1  \n",
      "4         0       0           1       0         0      0     1  \n",
      "...     ...     ...         ...     ...       ...    ...   ...  \n",
      "43948     0       0           0       0         1      1     0  \n",
      "43949     0       0           0       0         1      1     0  \n",
      "43950     0       0           0       0         1      1     0  \n",
      "43951     0       0           0       0         1      1     0  \n",
      "43952     0       0           0       0         1      1     0  \n",
      "\n",
      "[43953 rows x 18 columns]\n"
     ]
    }
   ],
   "source": [
    "print(df)"
   ]
  },
  {
   "cell_type": "code",
   "execution_count": 4,
   "id": "c5005c61",
   "metadata": {},
   "outputs": [],
   "source": [
    "data= df[(df['day'] == 0)]"
   ]
  },
  {
   "cell_type": "code",
   "execution_count": 5,
   "id": "bc4fe3b2",
   "metadata": {},
   "outputs": [
    {
     "name": "stdout",
     "output_type": "stream",
     "text": [
      "          발매가  라인  콜라보  month  color_num  col1  col2  col3  col4  col5  day  \\\n",
      "0      259000  21    0      4          1     9     0     0     0     0    0   \n",
      "92     149000  24    0      9          1     9     0     0     0     0    0   \n",
      "184    139000  17    0      5          2     9     1     0     0     0    0   \n",
      "277    149000  24    0      2          1     9     0     0     0     0    0   \n",
      "367     99000  18    0      1          1     9     0     0     0     0    0   \n",
      "...       ...  ..  ...    ...        ...   ...   ...   ...   ...   ...  ...   \n",
      "43492  284400  25    0     12          1     6     0     0     0     0    0   \n",
      "43583  600000  26    0      9          2     1     1     0     0     0    0   \n",
      "43675  309000  25    0      4          1     4     0     0     0     0    0   \n",
      "43767  289000  25    0     10          1     9     0     0     0     0    0   \n",
      "43860  209000  28    0     10          1     9     0     0     0     0    0   \n",
      "\n",
      "       nike  jordan  newbalance  adidas  converse  콜라보유무  type  \n",
      "0         0       0           1       0         0      0     1  \n",
      "92        0       0           1       0         0      0     1  \n",
      "184       0       0           1       0         0      0     1  \n",
      "277       0       0           1       0         0      0     1  \n",
      "367       0       0           1       0         0      0     0  \n",
      "...     ...     ...         ...     ...       ...    ...   ...  \n",
      "43492     0       0           0       1         0      0     0  \n",
      "43583     0       0           0       1         0      1     1  \n",
      "43675     0       0           0       1         0      0     1  \n",
      "43767     0       0           0       1         0      0     0  \n",
      "43860     0       0           0       0         1      1     0  \n",
      "\n",
      "[477 rows x 18 columns]\n"
     ]
    }
   ],
   "source": [
    "print(data)"
   ]
  },
  {
   "cell_type": "code",
   "execution_count": 6,
   "id": "5192056f",
   "metadata": {},
   "outputs": [],
   "source": [
    "data = data.sample(frac=1).reset_index(drop=True)"
   ]
  },
  {
   "cell_type": "code",
   "execution_count": 7,
   "id": "3a006394",
   "metadata": {},
   "outputs": [
    {
     "name": "stdout",
     "output_type": "stream",
     "text": [
      "        발매가  라인  콜라보  month  color_num  col1  col2  col3  col4  col5  day  \\\n",
      "0    189000  28    0     11          3     2     1     8     0     0    0   \n",
      "1    279000  19    0      7          3     9     1     1     0     0    0   \n",
      "2    119000   5    0      1          4    10     4    10     2     0    0   \n",
      "3    119000  29    0     10          2     1    10     0     0     0    0   \n",
      "4    119000   5    0      6          4     4     3     9     2     0    0   \n",
      "..      ...  ..  ...    ...        ...   ...   ...   ...   ...   ...  ...   \n",
      "472   99000  25    0      5          1     4     0     0     0     0    0   \n",
      "473  136000  29    1      3          3     1    10     8     0     0    0   \n",
      "474  309000  25    0      1          1     6     0     0     0     0    0   \n",
      "475  129000  29    0      1          3     1     1     9     0     0    0   \n",
      "476  129000   1    0     12          3     1     4     6     0     0    0   \n",
      "\n",
      "     nike  jordan  newbalance  adidas  converse  콜라보유무  type  \n",
      "0       0       0           0       0         1      1     1  \n",
      "1       0       0           1       0         0      0     1  \n",
      "2       1       0           0       0         0      0     0  \n",
      "3       1       0           0       0         0      0     1  \n",
      "4       1       0           0       0         0      0     0  \n",
      "..    ...     ...         ...     ...       ...    ...   ...  \n",
      "472     0       0           0       1         0      0     1  \n",
      "473     1       0           0       0         0      1     1  \n",
      "474     0       0           0       1         0      0     1  \n",
      "475     1       0           0       0         0      0     1  \n",
      "476     1       0           0       0         0      0     1  \n",
      "\n",
      "[477 rows x 18 columns]\n"
     ]
    }
   ],
   "source": [
    "print(data)"
   ]
  },
  {
   "cell_type": "code",
   "execution_count": 8,
   "id": "6683640a",
   "metadata": {},
   "outputs": [
    {
     "name": "stdout",
     "output_type": "stream",
     "text": [
      "False\n"
     ]
    }
   ],
   "source": [
    "print(data.isnull().values.any())"
   ]
  },
  {
   "cell_type": "code",
   "execution_count": 9,
   "id": "00571cd6",
   "metadata": {},
   "outputs": [
    {
     "name": "stdout",
     "output_type": "stream",
     "text": [
      "   type  count\n",
      "0     0    100\n",
      "1     1    377\n"
     ]
    }
   ],
   "source": [
    "print(data.groupby('type').size().reset_index(name = 'count'))"
   ]
  },
  {
   "cell_type": "code",
   "execution_count": 10,
   "id": "4277bba6",
   "metadata": {},
   "outputs": [],
   "source": [
    "y = data[\"type\"]"
   ]
  },
  {
   "cell_type": "code",
   "execution_count": 11,
   "id": "32b2a14d",
   "metadata": {},
   "outputs": [
    {
     "name": "stdout",
     "output_type": "stream",
     "text": [
      "0      1\n",
      "1      1\n",
      "2      0\n",
      "3      1\n",
      "4      0\n",
      "      ..\n",
      "472    1\n",
      "473    1\n",
      "474    1\n",
      "475    1\n",
      "476    1\n",
      "Name: type, Length: 477, dtype: int64\n"
     ]
    }
   ],
   "source": [
    "print(y)"
   ]
  },
  {
   "cell_type": "code",
   "execution_count": 12,
   "id": "99fe5e49",
   "metadata": {},
   "outputs": [
    {
     "name": "stdout",
     "output_type": "stream",
     "text": [
      "[[     1      1      0 ...      0 189000     11]\n",
      " [     0      0      0 ...      0 279000      7]\n",
      " [     0      0      0 ...      2 119000      1]\n",
      " ...\n",
      " [     0      0      0 ...      0 309000      1]\n",
      " [     0      0      0 ...      0 129000      1]\n",
      " [     0      0      0 ...      0 129000     12]]\n"
     ]
    }
   ],
   "source": [
    "from sklearn.preprocessing import StandardScaler\n",
    "X = data[['콜라보유무', 'converse', 'jordan', 'nike', '라인', '콜라보', 'col3', 'col5', 'color_num', 'adidas', 'newbalance', 'col1', 'col2', 'col4', '발매가', 'month' ]]\n",
    "scaler = StandardScaler()\n",
    "scaler.fit(X)\n",
    "scale_X = scaler.fit_transform(X)\n",
    "scale_X  = np.asarray(X).astype(np.int64)\n",
    "print(scale_X)"
   ]
  },
  {
   "cell_type": "code",
   "execution_count": 13,
   "id": "561072d0",
   "metadata": {},
   "outputs": [
    {
     "name": "stdout",
     "output_type": "stream",
     "text": [
      "[[     1      1      0 ...      0 189000     11]\n",
      " [     0      0      0 ...      0 279000      7]\n",
      " [     0      0      0 ...      2 119000      1]\n",
      " ...\n",
      " [     0      0      0 ...      0 309000      1]\n",
      " [     0      0      0 ...      0 129000      1]\n",
      " [     0      0      0 ...      0 129000     12]]\n"
     ]
    }
   ],
   "source": [
    "print(scale_X)"
   ]
  },
  {
   "cell_type": "code",
   "execution_count": 14,
   "id": "cff9f465",
   "metadata": {},
   "outputs": [],
   "source": [
    "train_x, test_x, y_train, y_test = train_test_split(scale_X, y, test_size = 0.3, random_state = 1)"
   ]
  },
  {
   "cell_type": "code",
   "execution_count": 15,
   "id": "41dc02d4",
   "metadata": {},
   "outputs": [
    {
     "name": "stdout",
     "output_type": "stream",
     "text": [
      "39     1\n",
      "341    1\n",
      "314    1\n",
      "192    1\n",
      "164    1\n",
      "      ..\n",
      "255    1\n",
      "72     1\n",
      "396    1\n",
      "235    1\n",
      "37     1\n",
      "Name: type, Length: 333, dtype: int64\n"
     ]
    }
   ],
   "source": [
    "print(y_train)"
   ]
  },
  {
   "cell_type": "code",
   "execution_count": 16,
   "id": "939b56bd",
   "metadata": {},
   "outputs": [],
   "source": [
    "train__y = list(y_train)"
   ]
  },
  {
   "cell_type": "code",
   "execution_count": 17,
   "id": "97a3ae2f",
   "metadata": {},
   "outputs": [],
   "source": [
    "train_y = np.empty((len(y_train),2))"
   ]
  },
  {
   "cell_type": "code",
   "execution_count": 18,
   "id": "f167aa76",
   "metadata": {},
   "outputs": [
    {
     "name": "stdout",
     "output_type": "stream",
     "text": [
      "[1, 1, 1, 1, 1, 1, 1, 1, 1, 1, 1, 1, 0, 1, 1, 1, 1, 1, 1, 1, 1, 1, 1, 0, 1, 1, 1, 0, 0, 0, 1, 1, 1, 1, 1, 1, 0, 1, 1, 1, 1, 1, 1, 1, 0, 1, 1, 1, 0, 1, 0, 1, 0, 1, 1, 1, 1, 1, 1, 1, 1, 1, 1, 0, 0, 1, 1, 1, 1, 1, 1, 1, 1, 1, 1, 0, 0, 1, 1, 1, 1, 0, 1, 1, 0, 1, 0, 1, 1, 1, 1, 0, 1, 0, 1, 1, 0, 0, 1, 1, 0, 1, 1, 0, 1, 1, 1, 1, 1, 1, 1, 1, 0, 1, 1, 0, 1, 1, 1, 1, 0, 0, 1, 1, 1, 1, 1, 1, 1, 1, 1, 0, 1, 1, 1, 0, 1, 1, 1, 0, 0, 1, 1, 0, 1, 0, 1, 1, 1, 1, 1, 1, 1, 1, 1, 1, 0, 0, 1, 1, 0, 1, 1, 1, 1, 0, 1, 1, 0, 1, 0, 0, 1, 1, 1, 1, 1, 1, 1, 1, 1, 1, 1, 1, 1, 0, 0, 1, 1, 1, 1, 1, 1, 1, 1, 1, 0, 1, 1, 0, 1, 1, 1, 1, 1, 0, 1, 1, 1, 1, 1, 0, 1, 0, 0, 1, 1, 1, 1, 1, 1, 1, 1, 0, 1, 1, 1, 1, 1, 1, 1, 1, 1, 1, 1, 1, 0, 1, 0, 1, 1, 1, 1, 1, 1, 1, 1, 1, 1, 0, 1, 1, 1, 1, 1, 0, 1, 1, 1, 1, 1, 1, 0, 0, 1, 1, 1, 1, 1, 1, 0, 1, 0, 1, 1, 0, 1, 1, 1, 1, 1, 1, 1, 1, 1, 1, 1, 1, 1, 1, 0, 1, 1, 0, 1, 1, 1, 1, 1, 1, 0, 0, 1, 1, 1, 1, 1, 1, 1, 1, 0, 0, 1, 1, 1, 1, 0, 0, 1, 1, 1, 0, 0, 0, 1, 1, 1, 1, 1, 1, 1, 1, 1]\n",
      "<class 'int'>\n"
     ]
    }
   ],
   "source": [
    "print(train__y)\n",
    "print(type(train__y[0]))"
   ]
  },
  {
   "cell_type": "code",
   "execution_count": 19,
   "id": "f3d285e8",
   "metadata": {},
   "outputs": [],
   "source": [
    "for i in range(len(train__y)):\n",
    "    if train__y[i] == 0:\n",
    "        train_y[i] = [1, 0]\n",
    "    elif train__y[i] == 1:\n",
    "        train_y[i] = [0, 1]\n",
    "    else:\n",
    "        train_y[i] = [0, 1]"
   ]
  },
  {
   "cell_type": "code",
   "execution_count": 20,
   "id": "0f21fcd4",
   "metadata": {},
   "outputs": [
    {
     "name": "stdout",
     "output_type": "stream",
     "text": [
      "[[0. 1.]\n",
      " [0. 1.]\n",
      " [0. 1.]\n",
      " [0. 1.]\n",
      " [0. 1.]\n",
      " [0. 1.]\n",
      " [0. 1.]\n",
      " [0. 1.]\n",
      " [0. 1.]\n",
      " [0. 1.]\n",
      " [0. 1.]\n",
      " [0. 1.]\n",
      " [1. 0.]\n",
      " [0. 1.]\n",
      " [0. 1.]\n",
      " [0. 1.]\n",
      " [0. 1.]\n",
      " [0. 1.]\n",
      " [0. 1.]\n",
      " [0. 1.]\n",
      " [0. 1.]\n",
      " [0. 1.]\n",
      " [0. 1.]\n",
      " [1. 0.]\n",
      " [0. 1.]\n",
      " [0. 1.]\n",
      " [0. 1.]\n",
      " [1. 0.]\n",
      " [1. 0.]\n",
      " [1. 0.]\n",
      " [0. 1.]\n",
      " [0. 1.]\n",
      " [0. 1.]\n",
      " [0. 1.]\n",
      " [0. 1.]\n",
      " [0. 1.]\n",
      " [1. 0.]\n",
      " [0. 1.]\n",
      " [0. 1.]\n",
      " [0. 1.]\n",
      " [0. 1.]\n",
      " [0. 1.]\n",
      " [0. 1.]\n",
      " [0. 1.]\n",
      " [1. 0.]\n",
      " [0. 1.]\n",
      " [0. 1.]\n",
      " [0. 1.]\n",
      " [1. 0.]\n",
      " [0. 1.]\n",
      " [1. 0.]\n",
      " [0. 1.]\n",
      " [1. 0.]\n",
      " [0. 1.]\n",
      " [0. 1.]\n",
      " [0. 1.]\n",
      " [0. 1.]\n",
      " [0. 1.]\n",
      " [0. 1.]\n",
      " [0. 1.]\n",
      " [0. 1.]\n",
      " [0. 1.]\n",
      " [0. 1.]\n",
      " [1. 0.]\n",
      " [1. 0.]\n",
      " [0. 1.]\n",
      " [0. 1.]\n",
      " [0. 1.]\n",
      " [0. 1.]\n",
      " [0. 1.]\n",
      " [0. 1.]\n",
      " [0. 1.]\n",
      " [0. 1.]\n",
      " [0. 1.]\n",
      " [0. 1.]\n",
      " [1. 0.]\n",
      " [1. 0.]\n",
      " [0. 1.]\n",
      " [0. 1.]\n",
      " [0. 1.]\n",
      " [0. 1.]\n",
      " [1. 0.]\n",
      " [0. 1.]\n",
      " [0. 1.]\n",
      " [1. 0.]\n",
      " [0. 1.]\n",
      " [1. 0.]\n",
      " [0. 1.]\n",
      " [0. 1.]\n",
      " [0. 1.]\n",
      " [0. 1.]\n",
      " [1. 0.]\n",
      " [0. 1.]\n",
      " [1. 0.]\n",
      " [0. 1.]\n",
      " [0. 1.]\n",
      " [1. 0.]\n",
      " [1. 0.]\n",
      " [0. 1.]\n",
      " [0. 1.]\n",
      " [1. 0.]\n",
      " [0. 1.]\n",
      " [0. 1.]\n",
      " [1. 0.]\n",
      " [0. 1.]\n",
      " [0. 1.]\n",
      " [0. 1.]\n",
      " [0. 1.]\n",
      " [0. 1.]\n",
      " [0. 1.]\n",
      " [0. 1.]\n",
      " [0. 1.]\n",
      " [1. 0.]\n",
      " [0. 1.]\n",
      " [0. 1.]\n",
      " [1. 0.]\n",
      " [0. 1.]\n",
      " [0. 1.]\n",
      " [0. 1.]\n",
      " [0. 1.]\n",
      " [1. 0.]\n",
      " [1. 0.]\n",
      " [0. 1.]\n",
      " [0. 1.]\n",
      " [0. 1.]\n",
      " [0. 1.]\n",
      " [0. 1.]\n",
      " [0. 1.]\n",
      " [0. 1.]\n",
      " [0. 1.]\n",
      " [0. 1.]\n",
      " [1. 0.]\n",
      " [0. 1.]\n",
      " [0. 1.]\n",
      " [0. 1.]\n",
      " [1. 0.]\n",
      " [0. 1.]\n",
      " [0. 1.]\n",
      " [0. 1.]\n",
      " [1. 0.]\n",
      " [1. 0.]\n",
      " [0. 1.]\n",
      " [0. 1.]\n",
      " [1. 0.]\n",
      " [0. 1.]\n",
      " [1. 0.]\n",
      " [0. 1.]\n",
      " [0. 1.]\n",
      " [0. 1.]\n",
      " [0. 1.]\n",
      " [0. 1.]\n",
      " [0. 1.]\n",
      " [0. 1.]\n",
      " [0. 1.]\n",
      " [0. 1.]\n",
      " [0. 1.]\n",
      " [1. 0.]\n",
      " [1. 0.]\n",
      " [0. 1.]\n",
      " [0. 1.]\n",
      " [1. 0.]\n",
      " [0. 1.]\n",
      " [0. 1.]\n",
      " [0. 1.]\n",
      " [0. 1.]\n",
      " [1. 0.]\n",
      " [0. 1.]\n",
      " [0. 1.]\n",
      " [1. 0.]\n",
      " [0. 1.]\n",
      " [1. 0.]\n",
      " [1. 0.]\n",
      " [0. 1.]\n",
      " [0. 1.]\n",
      " [0. 1.]\n",
      " [0. 1.]\n",
      " [0. 1.]\n",
      " [0. 1.]\n",
      " [0. 1.]\n",
      " [0. 1.]\n",
      " [0. 1.]\n",
      " [0. 1.]\n",
      " [0. 1.]\n",
      " [0. 1.]\n",
      " [0. 1.]\n",
      " [1. 0.]\n",
      " [1. 0.]\n",
      " [0. 1.]\n",
      " [0. 1.]\n",
      " [0. 1.]\n",
      " [0. 1.]\n",
      " [0. 1.]\n",
      " [0. 1.]\n",
      " [0. 1.]\n",
      " [0. 1.]\n",
      " [0. 1.]\n",
      " [1. 0.]\n",
      " [0. 1.]\n",
      " [0. 1.]\n",
      " [1. 0.]\n",
      " [0. 1.]\n",
      " [0. 1.]\n",
      " [0. 1.]\n",
      " [0. 1.]\n",
      " [0. 1.]\n",
      " [1. 0.]\n",
      " [0. 1.]\n",
      " [0. 1.]\n",
      " [0. 1.]\n",
      " [0. 1.]\n",
      " [0. 1.]\n",
      " [1. 0.]\n",
      " [0. 1.]\n",
      " [1. 0.]\n",
      " [1. 0.]\n",
      " [0. 1.]\n",
      " [0. 1.]\n",
      " [0. 1.]\n",
      " [0. 1.]\n",
      " [0. 1.]\n",
      " [0. 1.]\n",
      " [0. 1.]\n",
      " [0. 1.]\n",
      " [1. 0.]\n",
      " [0. 1.]\n",
      " [0. 1.]\n",
      " [0. 1.]\n",
      " [0. 1.]\n",
      " [0. 1.]\n",
      " [0. 1.]\n",
      " [0. 1.]\n",
      " [0. 1.]\n",
      " [0. 1.]\n",
      " [0. 1.]\n",
      " [0. 1.]\n",
      " [0. 1.]\n",
      " [1. 0.]\n",
      " [0. 1.]\n",
      " [1. 0.]\n",
      " [0. 1.]\n",
      " [0. 1.]\n",
      " [0. 1.]\n",
      " [0. 1.]\n",
      " [0. 1.]\n",
      " [0. 1.]\n",
      " [0. 1.]\n",
      " [0. 1.]\n",
      " [0. 1.]\n",
      " [0. 1.]\n",
      " [1. 0.]\n",
      " [0. 1.]\n",
      " [0. 1.]\n",
      " [0. 1.]\n",
      " [0. 1.]\n",
      " [0. 1.]\n",
      " [1. 0.]\n",
      " [0. 1.]\n",
      " [0. 1.]\n",
      " [0. 1.]\n",
      " [0. 1.]\n",
      " [0. 1.]\n",
      " [0. 1.]\n",
      " [1. 0.]\n",
      " [1. 0.]\n",
      " [0. 1.]\n",
      " [0. 1.]\n",
      " [0. 1.]\n",
      " [0. 1.]\n",
      " [0. 1.]\n",
      " [0. 1.]\n",
      " [1. 0.]\n",
      " [0. 1.]\n",
      " [1. 0.]\n",
      " [0. 1.]\n",
      " [0. 1.]\n",
      " [1. 0.]\n",
      " [0. 1.]\n",
      " [0. 1.]\n",
      " [0. 1.]\n",
      " [0. 1.]\n",
      " [0. 1.]\n",
      " [0. 1.]\n",
      " [0. 1.]\n",
      " [0. 1.]\n",
      " [0. 1.]\n",
      " [0. 1.]\n",
      " [0. 1.]\n",
      " [0. 1.]\n",
      " [0. 1.]\n",
      " [0. 1.]\n",
      " [1. 0.]\n",
      " [0. 1.]\n",
      " [0. 1.]\n",
      " [1. 0.]\n",
      " [0. 1.]\n",
      " [0. 1.]\n",
      " [0. 1.]\n",
      " [0. 1.]\n",
      " [0. 1.]\n",
      " [0. 1.]\n",
      " [1. 0.]\n",
      " [1. 0.]\n",
      " [0. 1.]\n",
      " [0. 1.]\n",
      " [0. 1.]\n",
      " [0. 1.]\n",
      " [0. 1.]\n",
      " [0. 1.]\n",
      " [0. 1.]\n",
      " [0. 1.]\n",
      " [1. 0.]\n",
      " [1. 0.]\n",
      " [0. 1.]\n",
      " [0. 1.]\n",
      " [0. 1.]\n",
      " [0. 1.]\n",
      " [1. 0.]\n",
      " [1. 0.]\n",
      " [0. 1.]\n",
      " [0. 1.]\n",
      " [0. 1.]\n",
      " [1. 0.]\n",
      " [1. 0.]\n",
      " [1. 0.]\n",
      " [0. 1.]\n",
      " [0. 1.]\n",
      " [0. 1.]\n",
      " [0. 1.]\n",
      " [0. 1.]\n",
      " [0. 1.]\n",
      " [0. 1.]\n",
      " [0. 1.]\n",
      " [0. 1.]]\n"
     ]
    }
   ],
   "source": [
    "print(train_y)"
   ]
  },
  {
   "cell_type": "code",
   "execution_count": 21,
   "id": "344e3f8d",
   "metadata": {},
   "outputs": [],
   "source": [
    "test__y = list(y_test)"
   ]
  },
  {
   "cell_type": "code",
   "execution_count": 22,
   "id": "cb99e3ae",
   "metadata": {},
   "outputs": [],
   "source": [
    "test_y = np.empty((len(y_test),2))"
   ]
  },
  {
   "cell_type": "code",
   "execution_count": 23,
   "id": "c022563d",
   "metadata": {},
   "outputs": [],
   "source": [
    "for i in range(len(test__y)):\n",
    "    if test__y[i] == 0:\n",
    "        test_y[i] = [1, 0]\n",
    "    elif test__y[i] == 1:\n",
    "        test_y[i] = [0, 1]\n",
    "    else:\n",
    "        test_y[i] = [0, 1]"
   ]
  },
  {
   "cell_type": "code",
   "execution_count": 24,
   "id": "3d82694b",
   "metadata": {},
   "outputs": [],
   "source": [
    "model = tf.keras.Sequential()  \n",
    "model.add(layers.Dense(16, input_shape=(16,)))  \n",
    "model.add(layers.Activation('relu')) \n",
    "model.add(layers.Dropout(0.01))        \n",
    "\n",
    "model.add(layers.Dense(18))         \n",
    "model.add(layers.Activation('relu'))\n",
    "model.add(layers.Dropout(0.01))\n",
    "\n",
    "model.add(layers.Dense(32))         \n",
    "model.add(layers.Activation('relu'))\n",
    "model.add(layers.Dropout(0.01))\n",
    "\n",
    "model.add(layers.Dense(16))         \n",
    "model.add(layers.Activation('relu'))\n",
    "model.add(layers.Dropout(0.01))\n",
    "\n",
    "model.add(layers.Dense(32))         \n",
    "model.add(layers.Activation('relu'))\n",
    "model.add(layers.Dropout(0.01))\n",
    "\n",
    "model.add(layers.Dense(16))         \n",
    "model.add(layers.Activation('relu'))\n",
    "model.add(layers.Dropout(0.01))\n",
    "\n",
    "model.add(layers.Dense(2))\n",
    "model.add(layers.Activation('softmax')) \n",
    "\n",
    "# 모델 구축\n",
    "model.compile(\n",
    "    loss= 'binary_crossentropy', \n",
    "    optimizer=\"adam\",   \n",
    "    metrics=['accuracy'])  "
   ]
  },
  {
   "cell_type": "code",
   "execution_count": 25,
   "id": "364d3d9f",
   "metadata": {},
   "outputs": [
    {
     "name": "stdout",
     "output_type": "stream",
     "text": [
      "Epoch 1/200\n",
      "27/27 [==============================] - 0s 11ms/step - loss: 11.9929 - accuracy: 0.2180 - val_loss: 12.1323 - val_accuracy: 0.2090\n",
      "Epoch 2/200\n",
      "27/27 [==============================] - 0s 2ms/step - loss: 11.9353 - accuracy: 0.2218 - val_loss: 12.1323 - val_accuracy: 0.2090\n",
      "Epoch 3/200\n",
      "27/27 [==============================] - 0s 2ms/step - loss: 11.9929 - accuracy: 0.2180 - val_loss: 12.1323 - val_accuracy: 0.2090\n",
      "Epoch 4/200\n",
      "27/27 [==============================] - 0s 2ms/step - loss: 11.9929 - accuracy: 0.2180 - val_loss: 12.1323 - val_accuracy: 0.2090\n",
      "Epoch 5/200\n",
      "27/27 [==============================] - 0s 2ms/step - loss: 11.9353 - accuracy: 0.2218 - val_loss: 12.1323 - val_accuracy: 0.2090\n",
      "Epoch 6/200\n",
      "27/27 [==============================] - 0s 2ms/step - loss: 12.1082 - accuracy: 0.2105 - val_loss: 12.1323 - val_accuracy: 0.2090\n",
      "Epoch 7/200\n",
      "27/27 [==============================] - 0s 2ms/step - loss: 12.1659 - accuracy: 0.2068 - val_loss: 12.1323 - val_accuracy: 0.2090\n",
      "Epoch 8/200\n",
      "27/27 [==============================] - 0s 2ms/step - loss: 11.9929 - accuracy: 0.2180 - val_loss: 12.1323 - val_accuracy: 0.2090\n",
      "Epoch 9/200\n",
      "27/27 [==============================] - 0s 3ms/step - loss: 12.0506 - accuracy: 0.2143 - val_loss: 12.1323 - val_accuracy: 0.2090\n",
      "Epoch 10/200\n",
      "27/27 [==============================] - 0s 2ms/step - loss: 12.1659 - accuracy: 0.2068 - val_loss: 12.1323 - val_accuracy: 0.2090\n",
      "Epoch 11/200\n",
      "27/27 [==============================] - 0s 2ms/step - loss: 12.1082 - accuracy: 0.2105 - val_loss: 12.1323 - val_accuracy: 0.2090\n",
      "Epoch 12/200\n",
      "27/27 [==============================] - 0s 2ms/step - loss: 12.2812 - accuracy: 0.1992 - val_loss: 12.1323 - val_accuracy: 0.2090\n",
      "Epoch 13/200\n",
      "27/27 [==============================] - 0s 3ms/step - loss: 12.2812 - accuracy: 0.1992 - val_loss: 12.1323 - val_accuracy: 0.2090\n",
      "Epoch 14/200\n",
      "27/27 [==============================] - 0s 2ms/step - loss: 12.1659 - accuracy: 0.2068 - val_loss: 12.1323 - val_accuracy: 0.2090\n",
      "Epoch 15/200\n",
      "27/27 [==============================] - 0s 2ms/step - loss: 12.0506 - accuracy: 0.2143 - val_loss: 12.1323 - val_accuracy: 0.2090\n",
      "Epoch 16/200\n",
      "27/27 [==============================] - 0s 2ms/step - loss: 11.9929 - accuracy: 0.2180 - val_loss: 12.1323 - val_accuracy: 0.2090\n",
      "Epoch 17/200\n",
      "27/27 [==============================] - 0s 2ms/step - loss: 12.1659 - accuracy: 0.2068 - val_loss: 12.1323 - val_accuracy: 0.2090\n",
      "Epoch 18/200\n",
      "27/27 [==============================] - 0s 3ms/step - loss: 12.1082 - accuracy: 0.2105 - val_loss: 12.1323 - val_accuracy: 0.2090\n",
      "Epoch 19/200\n",
      "27/27 [==============================] - 0s 2ms/step - loss: 12.1082 - accuracy: 0.2105 - val_loss: 12.1323 - val_accuracy: 0.2090\n",
      "Epoch 20/200\n",
      "27/27 [==============================] - 0s 3ms/step - loss: 12.0506 - accuracy: 0.2143 - val_loss: 12.1323 - val_accuracy: 0.2090\n",
      "Epoch 21/200\n",
      "27/27 [==============================] - 0s 2ms/step - loss: 12.1082 - accuracy: 0.2105 - val_loss: 12.1323 - val_accuracy: 0.2090\n",
      "Epoch 22/200\n",
      "27/27 [==============================] - 0s 2ms/step - loss: 11.9929 - accuracy: 0.2180 - val_loss: 12.1323 - val_accuracy: 0.2090\n",
      "Epoch 23/200\n",
      "27/27 [==============================] - 0s 2ms/step - loss: 12.0506 - accuracy: 0.2143 - val_loss: 12.1323 - val_accuracy: 0.2090\n",
      "Epoch 24/200\n",
      "27/27 [==============================] - 0s 3ms/step - loss: 11.9929 - accuracy: 0.2180 - val_loss: 12.1323 - val_accuracy: 0.2090\n",
      "Epoch 25/200\n",
      "27/27 [==============================] - 0s 2ms/step - loss: 12.1082 - accuracy: 0.2105 - val_loss: 12.1323 - val_accuracy: 0.2090\n",
      "Epoch 26/200\n",
      "27/27 [==============================] - 0s 2ms/step - loss: 11.9353 - accuracy: 0.2218 - val_loss: 12.1323 - val_accuracy: 0.2090\n",
      "Epoch 27/200\n",
      "27/27 [==============================] - 0s 2ms/step - loss: 12.1659 - accuracy: 0.2068 - val_loss: 12.1323 - val_accuracy: 0.2090\n",
      "Epoch 28/200\n",
      "27/27 [==============================] - 0s 2ms/step - loss: 12.2235 - accuracy: 0.2030 - val_loss: 12.1323 - val_accuracy: 0.2090\n",
      "Epoch 29/200\n",
      "27/27 [==============================] - 0s 2ms/step - loss: 12.0506 - accuracy: 0.2143 - val_loss: 12.1323 - val_accuracy: 0.2090\n",
      "Epoch 30/200\n",
      "27/27 [==============================] - 0s 2ms/step - loss: 11.8199 - accuracy: 0.2293 - val_loss: 12.1323 - val_accuracy: 0.2090\n",
      "Epoch 31/200\n",
      "27/27 [==============================] - 0s 2ms/step - loss: 12.0506 - accuracy: 0.2143 - val_loss: 12.1323 - val_accuracy: 0.2090\n",
      "5/5 [==============================] - 0s 1ms/step - loss: 12.0354 - accuracy: 0.2153\n",
      "test_loss:  12.035358428955078\n",
      "test_acc:  0.2152777761220932\n"
     ]
    }
   ],
   "source": [
    "hist = model.fit(\n",
    "    train_x, train_y,\n",
    "    batch_size = 10,  \n",
    "    epochs = 200,      \n",
    "    validation_split = 0.2,\n",
    "    shuffle = False,\n",
    "    callbacks=[tf.keras.callbacks.EarlyStopping(monitor='val_loss', patience = 30)],\n",
    "    verbose=1)  \n",
    "\n",
    "# 테스트 데이터로 성능평가\n",
    "score = model.evaluate(test_x, test_y)\n",
    "print('test_loss: ', score[0])\n",
    "print('test_acc: ', score[1])"
   ]
  },
  {
   "cell_type": "code",
   "execution_count": 26,
   "id": "0e58587f",
   "metadata": {},
   "outputs": [
    {
     "data": {
      "image/png": "[encoded data removed]",
      "text/plain": [
       "<Figure size 432x288 with 2 Axes>"
      ]
     },
     "metadata": {
      "needs_background": "light"
     },
     "output_type": "display_data"
    }
   ],
   "source": [
    "import matplotlib.pyplot as plt\n",
    "\n",
    "fig, loss_ax = plt.subplots()\n",
    "acc_ax = loss_ax.twinx()\n",
    "\n",
    "loss_ax.plot(hist.history['loss'], 'y', label='train loss')\n",
    "loss_ax.plot(hist.history['val_loss'], 'r', label='val loss')\n",
    "\n",
    "acc_ax.plot(hist.history['accuracy'], 'b', label='train acc')\n",
    "acc_ax.plot(hist.history['val_accuracy'], 'g', label='val acc')\n",
    "\n",
    "loss_ax.set_xlabel('epoch')\n",
    "loss_ax.set_ylabel('loss')\n",
    "acc_ax.set_ylabel('accuray')\n",
    "\n",
    "loss_ax.legend(loc='upper left')\n",
    "acc_ax.legend(loc='lower left')\n",
    "\n",
    "plt.show()"
   ]
  },
  {
   "cell_type": "code",
   "execution_count": 28,
   "id": "b4f100a5",
   "metadata": {},
   "outputs": [
    {
     "name": "stdout",
     "output_type": "stream",
     "text": [
      "Model: \"sequential\"\n",
      "_________________________________________________________________\n",
      "Layer (type)                 Output Shape              Param #   \n",
      "=================================================================\n",
      "dense (Dense)                (None, 16)                272       \n",
      "_________________________________________________________________\n",
      "activation (Activation)      (None, 16)                0         \n",
      "_________________________________________________________________\n",
      "dropout (Dropout)            (None, 16)                0         \n",
      "_________________________________________________________________\n",
      "dense_1 (Dense)              (None, 18)                306       \n",
      "_________________________________________________________________\n",
      "activation_1 (Activation)    (None, 18)                0         \n",
      "_________________________________________________________________\n",
      "dropout_1 (Dropout)          (None, 18)                0         \n",
      "_________________________________________________________________\n",
      "dense_2 (Dense)              (None, 32)                608       \n",
      "_________________________________________________________________\n",
      "activation_2 (Activation)    (None, 32)                0         \n",
      "_________________________________________________________________\n",
      "dropout_2 (Dropout)          (None, 32)                0         \n",
      "_________________________________________________________________\n",
      "dense_3 (Dense)              (None, 16)                528       \n",
      "_________________________________________________________________\n",
      "activation_3 (Activation)    (None, 16)                0         \n",
      "_________________________________________________________________\n",
      "dropout_3 (Dropout)          (None, 16)                0         \n",
      "_________________________________________________________________\n",
      "dense_4 (Dense)              (None, 32)                544       \n",
      "_________________________________________________________________\n",
      "activation_4 (Activation)    (None, 32)                0         \n",
      "_________________________________________________________________\n",
      "dropout_4 (Dropout)          (None, 32)                0         \n",
      "_________________________________________________________________\n",
      "dense_5 (Dense)              (None, 16)                528       \n",
      "_________________________________________________________________\n",
      "activation_5 (Activation)    (None, 16)                0         \n",
      "_________________________________________________________________\n",
      "dropout_5 (Dropout)          (None, 16)                0         \n",
      "_________________________________________________________________\n",
      "dense_6 (Dense)              (None, 2)                 34        \n",
      "_________________________________________________________________\n",
      "activation_6 (Activation)    (None, 2)                 0         \n",
      "=================================================================\n",
      "Total params: 2,820\n",
      "Trainable params: 2,820\n",
      "Non-trainable params: 0\n",
      "_________________________________________________________________\n"
     ]
    }
   ],
   "source": [
    "model.summary()"
   ]
  },
  {
   "cell_type": "code",
   "execution_count": 27,
   "id": "2ce4afa7",
   "metadata": {},
   "outputs": [],
   "source": [
    "y_pred = model.predict(test_x)"
   ]
  },
  {
   "cell_type": "code",
   "execution_count": 1358,
   "id": "05dfb180",
   "metadata": {},
   "outputs": [
    {
     "name": "stdout",
     "output_type": "stream",
     "text": [
      "[[0.24828131 0.7517187 ]\n",
      " [0.55255365 0.44744638]\n",
      " [0.24379997 0.75619996]\n",
      " [0.34647906 0.65352094]\n",
      " [0.4165109  0.5834891 ]\n",
      " [0.34647906 0.65352094]\n",
      " [0.297529   0.702471  ]\n",
      " [0.24828131 0.7517187 ]\n",
      " [0.56143594 0.43856406]\n",
      " [0.27665478 0.7233452 ]\n",
      " [0.27267632 0.72732365]\n",
      " [0.27267632 0.72732365]\n",
      " [0.35132927 0.6486707 ]\n",
      " [0.24828131 0.7517187 ]\n",
      " [0.297529   0.702471  ]\n",
      " [0.4114963  0.58850366]\n",
      " [0.29499957 0.7050004 ]\n",
      " [0.3494419  0.6505582 ]\n",
      " [0.34647906 0.65352094]\n",
      " [0.35288072 0.6471192 ]\n",
      " [0.23737773 0.7626223 ]\n",
      " [0.28363264 0.7163674 ]\n",
      " [0.21214607 0.78785396]\n",
      " [0.4888214  0.51117855]\n",
      " [0.21144003 0.78856   ]\n",
      " [0.4824923  0.5175077 ]\n",
      " [0.42370042 0.5762996 ]\n",
      " [0.24828131 0.7517187 ]\n",
      " [0.4262726  0.57372737]\n",
      " [0.20552774 0.7944723 ]\n",
      " [0.40726298 0.592737  ]\n",
      " [0.297529   0.702471  ]\n",
      " [0.3564177  0.64358234]\n",
      " [0.35889453 0.6411055 ]\n",
      " [0.24828131 0.7517187 ]\n",
      " [0.31643438 0.6835656 ]\n",
      " [0.24828131 0.7517187 ]\n",
      " [0.28622457 0.7137754 ]\n",
      " [0.4543518  0.5456482 ]\n",
      " [0.49670374 0.50329626]\n",
      " [0.47618455 0.5238155 ]\n",
      " [0.25025648 0.7497435 ]\n",
      " [0.3189536  0.6810464 ]\n",
      " [0.32461974 0.6753803 ]\n",
      " [0.29421708 0.7057829 ]\n",
      " [0.266031   0.733969  ]\n",
      " [0.29421708 0.7057829 ]\n",
      " [0.24828131 0.7517187 ]\n",
      " [0.27368873 0.7263113 ]\n",
      " [0.28231612 0.7176839 ]\n",
      " [0.4387129  0.5612871 ]\n",
      " [0.22042818 0.7795718 ]\n",
      " [0.3436869  0.65631306]\n",
      " [0.24828131 0.7517187 ]\n",
      " [0.21420653 0.7857935 ]\n",
      " [0.21420653 0.7857935 ]\n",
      " [0.45237556 0.5476244 ]\n",
      " [0.297529   0.702471  ]\n",
      " [0.297529   0.702471  ]\n",
      " [0.30057725 0.6994228 ]\n",
      " [0.21420653 0.7857935 ]\n",
      " [0.297529   0.702471  ]\n",
      " [0.35680637 0.6431936 ]\n",
      " [0.34647906 0.65352094]\n",
      " [0.25085422 0.7491458 ]\n",
      " [0.42289147 0.57710856]\n",
      " [0.24828131 0.7517187 ]\n",
      " [0.4243683  0.5756317 ]\n",
      " [0.29140258 0.7085974 ]\n",
      " [0.43338758 0.5666125 ]\n",
      " [0.24828131 0.7517187 ]\n",
      " [0.56143594 0.43856406]\n",
      " [0.5514307  0.44856933]\n",
      " [0.48109803 0.51890194]\n",
      " [0.24828131 0.7517187 ]\n",
      " [0.22487275 0.7751273 ]\n",
      " [0.21968591 0.78031415]\n",
      " [0.24828131 0.7517187 ]\n",
      " [0.29817635 0.7018237 ]\n",
      " [0.23737773 0.7626223 ]\n",
      " [0.3564177  0.64358234]\n",
      " [0.3436869  0.65631306]\n",
      " [0.24828131 0.7517187 ]\n",
      " [0.30077374 0.69922626]\n",
      " [0.4284064  0.57159364]\n",
      " [0.31566754 0.68433243]\n",
      " [0.25908974 0.74091023]\n",
      " [0.4862544  0.5137456 ]\n",
      " [0.47618455 0.5238155 ]\n",
      " [0.3037548  0.6962452 ]\n",
      " [0.45237556 0.5476244 ]\n",
      " [0.2711636  0.7288364 ]\n",
      " [0.24828131 0.7517187 ]\n",
      " [0.27267632 0.72732365]\n",
      " [0.34647906 0.65352094]\n",
      " [0.2771938  0.72280616]\n",
      " [0.5628552  0.4371448 ]\n",
      " [0.3077002  0.69229984]\n",
      " [0.38884374 0.6111562 ]\n",
      " [0.2992054  0.7007946 ]\n",
      " [0.29135576 0.7086442 ]\n",
      " [0.24828131 0.7517187 ]\n",
      " [0.297529   0.702471  ]\n",
      " [0.35744277 0.64255726]\n",
      " [0.24828131 0.7517187 ]\n",
      " [0.41272238 0.58727765]\n",
      " [0.21300422 0.7869958 ]\n",
      " [0.4888214  0.51117855]\n",
      " [0.41258988 0.58741015]\n",
      " [0.27267632 0.72732365]\n",
      " [0.56247663 0.43752334]\n",
      " [0.34647906 0.65352094]\n",
      " [0.297529   0.702471  ]\n",
      " [0.1963697  0.8036303 ]\n",
      " [0.25559366 0.74440634]\n",
      " [0.25025648 0.7497435 ]\n",
      " [0.35744277 0.64255726]\n",
      " [0.45237556 0.5476244 ]\n",
      " [0.43166885 0.5683312 ]\n",
      " [0.21991134 0.78008866]\n",
      " [0.41726714 0.58273286]\n",
      " [0.45237556 0.5476244 ]\n",
      " [0.4990509  0.5009491 ]\n",
      " [0.25003368 0.7499663 ]\n",
      " [0.34647906 0.65352094]\n",
      " [0.36904255 0.6309574 ]\n",
      " [0.29547793 0.7045221 ]\n",
      " [0.31990385 0.68009615]\n",
      " [0.30233824 0.69766176]\n",
      " [0.42568454 0.5743155 ]\n",
      " [0.26304603 0.736954  ]\n",
      " [0.28139722 0.7186028 ]\n",
      " [0.24828131 0.7517187 ]\n",
      " [0.42887542 0.5711247 ]\n",
      " [0.26905066 0.7309493 ]\n",
      " [0.51064444 0.4893556 ]\n",
      " [0.29499957 0.7050004 ]\n",
      " [0.1996607  0.8003393 ]\n",
      " [0.21420653 0.7857935 ]\n",
      " [0.47618455 0.5238155 ]\n",
      " [0.31643438 0.6835656 ]\n",
      " [0.24828131 0.7517187 ]\n",
      " [0.24828131 0.7517187 ]\n",
      " [0.30289745 0.69710255]]\n"
     ]
    }
   ],
   "source": [
    "print(y_pred)"
   ]
  },
  {
   "cell_type": "code",
   "execution_count": 1359,
   "id": "4fccbdc5",
   "metadata": {},
   "outputs": [
    {
     "data": {
      "text/plain": [
       "array([1, 0, 1, 1, 1, 1, 1, 1, 0, 1, 1, 1, 1, 1, 1, 1, 1, 1, 1, 1, 1, 1,\n",
       "       1, 1, 1, 1, 1, 1, 1, 1, 1, 1, 1, 1, 1, 1, 1, 1, 1, 1, 1, 1, 1, 1,\n",
       "       1, 1, 1, 1, 1, 1, 1, 1, 1, 1, 1, 1, 1, 1, 1, 1, 1, 1, 1, 1, 1, 1,\n",
       "       1, 1, 1, 1, 1, 0, 0, 1, 1, 1, 1, 1, 1, 1, 1, 1, 1, 1, 1, 1, 1, 1,\n",
       "       1, 1, 1, 1, 1, 1, 1, 1, 0, 1, 1, 1, 1, 1, 1, 1, 1, 1, 1, 1, 1, 1,\n",
       "       0, 1, 1, 1, 1, 1, 1, 1, 1, 1, 1, 1, 1, 1, 1, 1, 1, 1, 1, 1, 1, 1,\n",
       "       1, 1, 1, 0, 1, 1, 1, 1, 1, 1, 1, 1], dtype=int64)"
      ]
     },
     "execution_count": 1359,
     "metadata": {},
     "output_type": "execute_result"
    }
   ],
   "source": [
    "y_class = y_pred.argmax(axis=-1)\n",
    "y_class"
   ]
  },
  {
   "cell_type": "code",
   "execution_count": 1360,
   "id": "238d51f4",
   "metadata": {},
   "outputs": [
    {
     "name": "stdout",
     "output_type": "stream",
     "text": [
      "[0, 0, 1, 1, 1, 1, 1, 0, 0, 1, 1, 0, 1, 0, 1, 1, 1, 1, 1, 1, 1, 1, 1, 1, 1, 1, 1, 1, 0, 1, 1, 1, 1, 1, 1, 1, 0, 1, 0, 0, 0, 1, 1, 1, 1, 1, 0, 1, 1, 1, 0, 0, 1, 1, 1, 1, 1, 1, 1, 1, 1, 1, 1, 1, 1, 0, 1, 1, 0, 0, 1, 0, 0, 0, 0, 1, 1, 1, 0, 1, 1, 1, 1, 0, 1, 1, 0, 1, 0, 1, 0, 1, 0, 1, 1, 1, 0, 1, 0, 0, 1, 0, 0, 1, 1, 1, 1, 1, 0, 1, 0, 1, 0, 1, 1, 0, 0, 0, 0, 1, 1, 0, 1, 1, 1, 1, 1, 1, 0, 1, 0, 1, 1, 1, 1, 0, 1, 1, 1, 1, 1, 1, 1, 0]\n"
     ]
    }
   ],
   "source": [
    "print(test__y)"
   ]
  },
  {
   "cell_type": "code",
   "execution_count": 1361,
   "id": "b340ad20",
   "metadata": {},
   "outputs": [
    {
     "name": "stdout",
     "output_type": "stream",
     "text": [
      "0.8124493106244931\n"
     ]
    }
   ],
   "source": [
    "from sklearn.metrics import precision_score , recall_score , confusion_matrix, f1_score\n",
    "precision = precision_score(test__y, y_class, average = 'weighted')\n",
    "print(precision)"
   ]
  },
  {
   "cell_type": "code",
   "execution_count": 1362,
   "id": "931330d7",
   "metadata": {},
   "outputs": [
    {
     "name": "stdout",
     "output_type": "stream",
     "text": [
      "0.7430555555555556\n"
     ]
    }
   ],
   "source": [
    "recall = recall_score(test__y, y_class, average ='weighted')\n",
    "print(recall)"
   ]
  },
  {
   "cell_type": "code",
   "execution_count": 1363,
   "id": "bac593b5",
   "metadata": {},
   "outputs": [
    {
     "name": "stdout",
     "output_type": "stream",
     "text": [
      "[1 0 1 1 1 1 1 1 0 1 1 1 1 1 1 1 1 1 1 1 1 1 1 1 1 1 1 1 1 1 1 1 1 1 1 1 1\n",
      " 1 1 1 1 1 1 1 1 1 1 1 1 1 1 1 1 1 1 1 1 1 1 1 1 1 1 1 1 1 1 1 1 1 1 0 0 1\n",
      " 1 1 1 1 1 1 1 1 1 1 1 1 1 1 1 1 1 1 1 1 1 1 0 1 1 1 1 1 1 1 1 1 1 1 1 1 0\n",
      " 1 1 1 1 1 1 1 1 1 1 1 1 1 1 1 1 1 1 1 1 1 1 1 1 0 1 1 1 1 1 1 1 1]\n"
     ]
    }
   ],
   "source": [
    "print(y_class)"
   ]
  },
  {
   "cell_type": "code",
   "execution_count": 1364,
   "id": "579140ef",
   "metadata": {},
   "outputs": [
    {
     "name": "stdout",
     "output_type": "stream",
     "text": [
      "0.6699070626844268\n"
     ]
    }
   ],
   "source": [
    "print(f1_score(test__y, y_class, average= 'weighted'))"
   ]
  },
  {
   "cell_type": "code",
   "execution_count": 1365,
   "id": "86379a21",
   "metadata": {},
   "outputs": [
    {
     "data": {
      "text/plain": [
       "array([[  7,  37],\n",
       "       [  0, 100]], dtype=int64)"
      ]
     },
     "execution_count": 1365,
     "metadata": {},
     "output_type": "execute_result"
    }
   ],
   "source": [
    "confusion_matrix(test__y, y_class)"
   ]
  },
  {
   "cell_type": "code",
   "execution_count": null,
   "id": "ac7684bd",
   "metadata": {},
   "outputs": [],
   "source": []
  },
  {
   "cell_type": "code",
   "execution_count": null,
   "id": "70a36948",
   "metadata": {},
   "outputs": [],
   "source": []
  }
 ],
 "metadata": {
  "kernelspec": {
   "display_name": "Python 3",
   "language": "python",
   "name": "python3"
  },
  "language_info": {
   "codemirror_mode": {
    "name": "ipython",
    "version": 3
   },
   "file_extension": ".py",
   "mimetype": "text/x-python",
   "name": "python",
   "nbconvert_exporter": "python",
   "pygments_lexer": "ipython3",
   "version": "3.8.8"
  }
 },
 "nbformat": 4,
 "nbformat_minor": 5
}
