{
 "cells": [
  {
   "cell_type": "code",
   "execution_count": 150,
   "id": "5db7e9d8",
   "metadata": {},
   "outputs": [],
   "source": [
    "import pandas as pd\n",
    "import numpy as np"
   ]
  },
  {
   "cell_type": "code",
   "execution_count": 151,
   "id": "cf37e62f",
   "metadata": {},
   "outputs": [],
   "source": [
    "df = pd.read_csv('colsum.csv')"
   ]
  },
  {
   "cell_type": "code",
   "execution_count": 152,
   "id": "9642eb88",
   "metadata": {},
   "outputs": [
    {
     "name": "stdout",
     "output_type": "stream",
     "text": [
      "       Unnamed: 0     모델번호     발매가  브랜드  라인  콜라보       검색량  month  day  \\\n",
      "0               0   M992GR  259000    3  21    0  2.072390      4    0   \n",
      "1               1   M992GR  259000    3  21    0  1.961860      4    1   \n",
      "2               2   M992GR  259000    3  21    0  1.975680      4    2   \n",
      "3               3   M992GR  259000    3  21    0  1.878970      4    3   \n",
      "4               4   M992GR  259000    3  21    0  1.782260      4    4   \n",
      "...           ...      ...     ...  ...  ..  ...       ...    ...  ...   \n",
      "43948       43948  171838C  209000    5  28   40  0.165783     10   88   \n",
      "43949       43949  171838C  209000    5  28   40  0.165783     10   89   \n",
      "43950       43950  171838C  209000    5  28   40  0.165783     10   90   \n",
      "43951       43951  171838C  209000    5  28   40  0.165783     10   91   \n",
      "43952       43952  171838C  209000    5  28   40  0.165783     10   92   \n",
      "\n",
      "       리셀가능여부  color_num  col1 col2 col3 col4 col5  \n",
      "0         1.0          1  GREY  NaN  NaN  NaN  NaN  \n",
      "1         1.0          1  GREY  NaN  NaN  NaN  NaN  \n",
      "2         1.0          1  GREY  NaN  NaN  NaN  NaN  \n",
      "3         1.0          1  GREY  NaN  NaN  NaN  NaN  \n",
      "4         1.0          1  GREY  NaN  NaN  NaN  NaN  \n",
      "...       ...        ...   ...  ...  ...  ...  ...  \n",
      "43948     0.0          1  GREY  NaN  NaN  NaN  NaN  \n",
      "43949     0.0          1  GREY  NaN  NaN  NaN  NaN  \n",
      "43950     0.0          1  GREY  NaN  NaN  NaN  NaN  \n",
      "43951     0.0          1  GREY  NaN  NaN  NaN  NaN  \n",
      "43952     0.0          1  GREY  NaN  NaN  NaN  NaN  \n",
      "\n",
      "[43953 rows x 16 columns]\n"
     ]
    }
   ],
   "source": [
    "print(df)"
   ]
  },
  {
   "cell_type": "code",
   "execution_count": 153,
   "id": "ec47b171",
   "metadata": {},
   "outputs": [],
   "source": [
    "df['col1'] = df['col1'].fillna(0)\n",
    "df['col2'] = df['col2'].fillna(0)\n",
    "df['col3'] = df['col3'].fillna(0)\n",
    "df['col4'] = df['col4'].fillna(0)\n",
    "df['col5'] = df['col5'].fillna(0)"
   ]
  },
  {
   "cell_type": "code",
   "execution_count": 154,
   "id": "f41c0f87",
   "metadata": {},
   "outputs": [],
   "source": [
    "df['col1']  = np.where(df['col1'] == 'PINK', 1, df['col1'])\n",
    "df['col2']  = np.where(df['col2'] == 'PINK', 1, df['col2'])\n",
    "df['col3']  = np.where(df['col3'] == 'PINK', 1, df['col3'])\n",
    "df['col4']  = np.where(df['col4'] == 'PINK', 1, df['col4'])\n",
    "df['col5']  = np.where(df['col5'] == 'PINK', 1, df['col5'])"
   ]
  },
  {
   "cell_type": "code",
   "execution_count": 155,
   "id": "9325204e",
   "metadata": {},
   "outputs": [],
   "source": [
    "df['col1']  = np.where(df['col1'] == 'DUSTY PINK', 1, df['col1'])\n",
    "df['col2']  = np.where(df['col2'] == 'DUSTY PINK', 1, df['col2'])\n",
    "df['col3']  = np.where(df['col3'] == 'DUSTY PINK', 1, df['col3'])\n",
    "df['col4']  = np.where(df['col4'] == 'DUSTY PINK', 1, df['col4'])\n",
    "df['col5']  = np.where(df['col5'] == 'DUSTY PINK', 1, df['col5'])"
   ]
  },
  {
   "cell_type": "code",
   "execution_count": 156,
   "id": "332f803b",
   "metadata": {},
   "outputs": [],
   "source": [
    "df['col1']  = np.where(df['col1'] == 'DESERT BERRY', 1, df['col1'])\n",
    "df['col2']  = np.where(df['col2'] == 'DESERT BERRY', 1, df['col2'])\n",
    "df['col3']  = np.where(df['col3'] == 'DESERT BERRY', 1, df['col3'])\n",
    "df['col4']  = np.where(df['col4'] == 'DESERT BERRY', 1, df['col4'])\n",
    "df['col5']  = np.where(df['col5'] == 'DESERT BERRY', 1, df['col5'])"
   ]
  },
  {
   "cell_type": "code",
   "execution_count": 157,
   "id": "c9a2f38b",
   "metadata": {},
   "outputs": [],
   "source": [
    "df['col1']  = np.where(df['col1'] == 'RED', 2, df['col1'])\n",
    "df['col2']  = np.where(df['col2'] == 'RED', 2, df['col2'])\n",
    "df['col3']  = np.where(df['col3'] == 'RED', 2, df['col3'])\n",
    "df['col4']  = np.where(df['col4'] == 'RED', 2, df['col4'])\n",
    "df['col5']  = np.where(df['col5'] == 'RED', 2, df['col5'])"
   ]
  },
  {
   "cell_type": "code",
   "execution_count": 158,
   "id": "3bae0a83",
   "metadata": {},
   "outputs": [],
   "source": [
    "df['col1']  = np.where(df['col1'] == 'BARELY ROSE', 1, df['col1'])\n",
    "df['col2']  = np.where(df['col2'] == 'BARELY ROSE', 1, df['col2'])\n",
    "df['col3']  = np.where(df['col3'] == 'BARELY ROSE', 1, df['col3'])\n",
    "df['col4']  = np.where(df['col4'] == 'BARELY ROSE', 1, df['col4'])\n",
    "df['col5']  = np.where(df['col5'] == 'BARELY ROSE', 1, df['col5'])"
   ]
  },
  {
   "cell_type": "code",
   "execution_count": 159,
   "id": "18a56244",
   "metadata": {},
   "outputs": [],
   "source": [
    "df['col1']  = np.where(df['col1'] == 'CHILE RED', 2, df['col1'])\n",
    "df['col2']  = np.where(df['col2'] == 'CHILE RED', 2, df['col2'])\n",
    "df['col3']  = np.where(df['col3'] == 'CHILE RED', 2, df['col3'])\n",
    "df['col4']  = np.where(df['col4'] == 'CHILE RED', 2, df['col4'])\n",
    "df['col5']  = np.where(df['col5'] == 'CHILE RED', 2, df['col5'])"
   ]
  },
  {
   "cell_type": "code",
   "execution_count": 160,
   "id": "b7cb2937",
   "metadata": {},
   "outputs": [],
   "source": [
    "df['col1']  = np.where(df['col1'] == 'VARSITY RED', 2, df['col1'])\n",
    "df['col2']  = np.where(df['col2'] == 'VARSITY RED', 2, df['col2'])\n",
    "df['col3']  = np.where(df['col3'] == 'VARSITY RED', 2, df['col3'])\n",
    "df['col4']  = np.where(df['col4'] == 'VARSITY RED', 2, df['col4'])\n",
    "df['col5']  = np.where(df['col5'] == 'VARSITY RED', 2, df['col5'])"
   ]
  },
  {
   "cell_type": "code",
   "execution_count": 161,
   "id": "a8166082",
   "metadata": {},
   "outputs": [],
   "source": [
    "df['col1']  = np.where(df['col1'] == 'LIGHT FUSION RED', 2, df['col1'])\n",
    "df['col2']  = np.where(df['col2'] == 'LIGHT FUSION RED', 2, df['col2'])\n",
    "df['col3']  = np.where(df['col3'] == 'LIGHT FUSION RED', 2, df['col3'])\n",
    "df['col4']  = np.where(df['col4'] == 'LIGHT FUSION RED', 2, df['col4'])\n",
    "df['col5']  = np.where(df['col5'] == 'LIGHT FUSION RED', 2, df['col5'])"
   ]
  },
  {
   "cell_type": "code",
   "execution_count": 162,
   "id": "c3efe819",
   "metadata": {},
   "outputs": [],
   "source": [
    "df['col1']  = np.where(df['col1'] == 'GYM RED', 2, df['col1'])\n",
    "df['col2']  = np.where(df['col2'] == 'GYM RED', 2, df['col2'])\n",
    "df['col3']  = np.where(df['col3'] == 'GYM RED', 2, df['col3'])\n",
    "df['col4']  = np.where(df['col4'] == 'GYM RED', 2, df['col4'])\n",
    "df['col5']  = np.where(df['col5'] == 'GYM RED', 2, df['col5'])"
   ]
  },
  {
   "cell_type": "code",
   "execution_count": 163,
   "id": "8710249a",
   "metadata": {},
   "outputs": [],
   "source": [
    "df['col1']  = np.where(df['col1'] == 'INFRARED 23', 2, df['col1'])\n",
    "df['col2']  = np.where(df['col2'] == 'INFRARED 23', 2, df['col2'])\n",
    "df['col3']  = np.where(df['col3'] == 'INFRARED 23', 2, df['col3'])\n",
    "df['col4']  = np.where(df['col4'] == 'INFRARED 23', 2, df['col4'])\n",
    "df['col5']  = np.where(df['col5'] == 'INFRARED 23', 2, df['col5'])"
   ]
  },
  {
   "cell_type": "code",
   "execution_count": 164,
   "id": "3a714ca6",
   "metadata": {},
   "outputs": [],
   "source": [
    "df['col1']  = np.where(df['col1'] == 'TRUE RED', 2, df['col1'])\n",
    "df['col2']  = np.where(df['col2'] == 'TRUE RED', 2, df['col2'])\n",
    "df['col3']  = np.where(df['col3'] == 'TRUE RED', 2, df['col3'])\n",
    "df['col4']  = np.where(df['col4'] == 'TRUE RED', 2, df['col4'])\n",
    "df['col5']  = np.where(df['col5'] == 'TRUE RED', 2, df['col5'])"
   ]
  },
  {
   "cell_type": "code",
   "execution_count": 165,
   "id": "91683589",
   "metadata": {},
   "outputs": [],
   "source": [
    "df['col1']  = np.where(df['col1'] == 'GHOST PEPPER', 2, df['col1'])\n",
    "df['col2']  = np.where(df['col2'] == 'GHOST PEPPER', 2, df['col2'])\n",
    "df['col3']  = np.where(df['col3'] == 'GHOST PEPPER', 2, df['col3'])\n",
    "df['col4']  = np.where(df['col4'] == 'GHOST PEPPER', 2, df['col4'])\n",
    "df['col5']  = np.where(df['col5'] == 'GHOST PEPPER', 2, df['col5'])"
   ]
  },
  {
   "cell_type": "code",
   "execution_count": 166,
   "id": "af5f6c8a",
   "metadata": {},
   "outputs": [],
   "source": [
    "df['col1']  = np.where(df['col1'] == 'TEAM RED', 2, df['col1'])\n",
    "df['col2']  = np.where(df['col2'] == 'TEAM RED', 2, df['col2'])\n",
    "df['col3']  = np.where(df['col3'] == 'TEAM RED', 2, df['col3'])\n",
    "df['col4']  = np.where(df['col4'] == 'TEAM RED', 2, df['col4'])\n",
    "df['col5']  = np.where(df['col5'] == 'TEAM RED', 2, df['col5'])"
   ]
  },
  {
   "cell_type": "code",
   "execution_count": 167,
   "id": "7650d308",
   "metadata": {},
   "outputs": [],
   "source": [
    "df['col1']  = np.where(df['col1'] == 'CARDINAL RED', 2, df['col1'])\n",
    "df['col2']  = np.where(df['col2'] == 'CARDINAL RED', 2, df['col2'])\n",
    "df['col3']  = np.where(df['col3'] == 'CARDINAL RED', 2, df['col3'])\n",
    "df['col4']  = np.where(df['col4'] == 'CARDINAL RED', 2, df['col4'])\n",
    "df['col5']  = np.where(df['col5'] == 'CARDINAL RED', 2, df['col5'])"
   ]
  },
  {
   "cell_type": "code",
   "execution_count": 168,
   "id": "078d2d5b",
   "metadata": {},
   "outputs": [],
   "source": [
    "df['col1']  = np.where(df['col1'] == 'SAMBA', 2, df['col1'])\n",
    "df['col2']  = np.where(df['col2'] == 'SAMBA', 2, df['col2'])\n",
    "df['col3']  = np.where(df['col3'] == 'SAMBA', 2, df['col3'])\n",
    "df['col4']  = np.where(df['col4'] == 'SAMBA', 2, df['col4'])\n",
    "df['col5']  = np.where(df['col5'] == 'SAMBA', 2, df['col5'])"
   ]
  },
  {
   "cell_type": "code",
   "execution_count": 169,
   "id": "38a45382",
   "metadata": {},
   "outputs": [],
   "source": [
    "df['col1']  = np.where(df['col1'] == 'UNIVERSITY RED', 2, df['col1'])\n",
    "df['col2']  = np.where(df['col2'] == 'UNIVERSITY RED', 2, df['col2'])\n",
    "df['col3']  = np.where(df['col3'] == 'UNIVERSITY RED', 2, df['col3'])\n",
    "df['col4']  = np.where(df['col4'] == 'UNIVERSITY RED', 2, df['col4'])\n",
    "df['col5']  = np.where(df['col5'] == 'UNIVERSITY RED', 2, df['col5'])"
   ]
  },
  {
   "cell_type": "code",
   "execution_count": 170,
   "id": "ceea6cb2",
   "metadata": {},
   "outputs": [],
   "source": [
    "df['col1']  = np.where(df['col1'] == 'DEEP RED', 2, df['col1'])\n",
    "df['col2']  = np.where(df['col2'] == 'DEEP RED', 2, df['col2'])\n",
    "df['col3']  = np.where(df['col3'] == 'DEEP RED', 2, df['col3'])\n",
    "df['col4']  = np.where(df['col4'] == 'DEEP RED', 2, df['col4'])\n",
    "df['col5']  = np.where(df['col5'] == 'DEEP RED', 2, df['col5'])"
   ]
  },
  {
   "cell_type": "code",
   "execution_count": 171,
   "id": "ae83213d",
   "metadata": {},
   "outputs": [],
   "source": [
    "df['col1']  = np.where(df['col1'] == 'TOUGH RED', 2, df['col1'])\n",
    "df['col2']  = np.where(df['col2'] == 'TOUGH RED', 2, df['col2'])\n",
    "df['col3']  = np.where(df['col3'] == 'TOUGH RED', 2, df['col3'])\n",
    "df['col4']  = np.where(df['col4'] == 'TOUGH RED', 2, df['col4'])\n",
    "df['col5']  = np.where(df['col5'] == 'TOUGH RED', 2, df['col5'])"
   ]
  },
  {
   "cell_type": "code",
   "execution_count": 172,
   "id": "5d16d13f",
   "metadata": {},
   "outputs": [],
   "source": [
    "df['col1']  = np.where(df['col1'] == 'CRIMSON', 2, df['col1'])\n",
    "df['col2']  = np.where(df['col2'] == 'CRIMSON', 2, df['col2'])\n",
    "df['col3']  = np.where(df['col3'] == 'CRIMSON', 2, df['col3'])\n",
    "df['col4']  = np.where(df['col4'] == 'CRIMSON', 2, df['col4'])\n",
    "df['col5']  = np.where(df['col5'] == 'CRIMSON', 2, df['col5'])"
   ]
  },
  {
   "cell_type": "code",
   "execution_count": 173,
   "id": "41bee7d8",
   "metadata": {},
   "outputs": [],
   "source": [
    "df['col1']  = np.where(df['col1'] == 'COMET', 2, df['col1'])\n",
    "df['col2']  = np.where(df['col2'] == 'COMET', 2, df['col2'])\n",
    "df['col3']  = np.where(df['col3'] == 'COMET', 2, df['col3'])\n",
    "df['col4']  = np.where(df['col4'] == 'COMET', 2, df['col4'])\n",
    "df['col5']  = np.where(df['col5'] == 'COMET', 2, df['col5'])"
   ]
  },
  {
   "cell_type": "code",
   "execution_count": 174,
   "id": "c79f1c11",
   "metadata": {},
   "outputs": [],
   "source": [
    "df['col1']  = np.where(df['col1'] == 'CHALLENGE RED', 2, df['col1'])\n",
    "df['col2']  = np.where(df['col2'] == 'CHALLENGE RED', 2, df['col2'])\n",
    "df['col3']  = np.where(df['col3'] == 'CHALLENGE RED', 2, df['col3'])\n",
    "df['col4']  = np.where(df['col4'] == 'CHALLENGE RED', 2, df['col4'])\n",
    "df['col5']  = np.where(df['col5'] == 'CHALLENGE RED', 2, df['col5'])"
   ]
  },
  {
   "cell_type": "code",
   "execution_count": 175,
   "id": "64330d30",
   "metadata": {},
   "outputs": [],
   "source": [
    "df['col1']  = np.where(df['col1'] == 'CEDAR', 2, df['col1'])\n",
    "df['col2']  = np.where(df['col2'] == 'CEDAR', 2, df['col2'])\n",
    "df['col3']  = np.where(df['col3'] == 'CEDAR', 2, df['col3'])\n",
    "df['col4']  = np.where(df['col4'] == 'CEDAR', 2, df['col4'])\n",
    "df['col5']  = np.where(df['col5'] == 'CEDAR', 2, df['col5'])"
   ]
  },
  {
   "cell_type": "code",
   "execution_count": 176,
   "id": "5747c7cd",
   "metadata": {},
   "outputs": [],
   "source": [
    "df['col1']  = np.where(df['col1'] == 'TRACK RED', 2, df['col1'])\n",
    "df['col2']  = np.where(df['col2'] == 'TRACK RED', 2, df['col2'])\n",
    "df['col3']  = np.where(df['col3'] == 'TRACK RED', 2, df['col3'])\n",
    "df['col4']  = np.where(df['col4'] == 'TRACK RED', 2, df['col4'])\n",
    "df['col5']  = np.where(df['col5'] == 'TRACK RED', 2, df['col5'])"
   ]
  },
  {
   "cell_type": "code",
   "execution_count": 177,
   "id": "126fb293",
   "metadata": {},
   "outputs": [],
   "source": [
    "df['col1']  = np.where(df['col1'] == 'SOLAR RED', 2, df['col1'])\n",
    "df['col2']  = np.where(df['col2'] == 'SOLAR RED', 2, df['col2'])\n",
    "df['col3']  = np.where(df['col3'] == 'SOLAR RED', 2, df['col3'])\n",
    "df['col4']  = np.where(df['col4'] == 'SOLAR RED', 2, df['col4'])\n",
    "df['col5']  = np.where(df['col5'] == 'SOLAR RED', 2, df['col5'])"
   ]
  },
  {
   "cell_type": "code",
   "execution_count": 178,
   "id": "379936ec",
   "metadata": {},
   "outputs": [],
   "source": [
    "white = [\"WHITE\", \"OFF WHITE\", \"PEARL WHITE\", \"MUNSELL WHITE\", \"SUMMIT WHITE\", \"CLOUD WHITE\", \"CALGLO\", \"LILLY WHITE\", \"FTWR WHITE\"]"
   ]
  },
  {
   "cell_type": "code",
   "execution_count": 179,
   "id": "12dcdb7b",
   "metadata": {},
   "outputs": [],
   "source": [
    "for i in white:\n",
    "    df['col1']  = np.where(df['col1'] == i, 3, df['col1'])\n",
    "    df['col2']  = np.where(df['col2'] == i, 3, df['col2'])\n",
    "    df['col3']  = np.where(df['col3'] == i, 3, df['col3'])\n",
    "    df['col4']  = np.where(df['col4'] == i, 3, df['col4'])\n",
    "    df['col5']  = np.where(df['col5'] == i, 3, df['col5'])"
   ]
  },
  {
   "cell_type": "code",
   "execution_count": 83,
   "id": "3e776c07",
   "metadata": {},
   "outputs": [],
   "source": [
    "df.to_csv('ok01.csv', encoding = \"utf-8-sig\")"
   ]
  },
  {
   "cell_type": "code",
   "execution_count": 180,
   "id": "2e476de4",
   "metadata": {},
   "outputs": [],
   "source": [
    "green = [\"LUCKY GREEN\", \"NOBLE GREEN\", \"GREEN\", \"OLIVE GREEN\", \"OAK LEAF GREEN\", \"TEAL\", \"OLIVE\", \"MOSSY GREEN\", \"DARK GREEN\", \"CELADON\", \"GREEN NOISE\", \"GREEN GLOW\", \"CARBON GREEN\", \"DUTCH GREEN\", \"BARELY GREEN\", \"NEPTUNE GREEN\", \"SILVER PINE\", \"JADE AURA\", \"GREEN CAMO\", \"PIQUANT GREEN\", \"CARGO KHAKI\", \"COVERT GREEN\", \"HEALING JADE\" ]"
   ]
  },
  {
   "cell_type": "code",
   "execution_count": 181,
   "id": "b65b3c30",
   "metadata": {},
   "outputs": [],
   "source": [
    "for i in green:\n",
    "    df['col1']  = np.where(df['col1'] == i, 4, df['col1'])\n",
    "    df['col2']  = np.where(df['col2'] == i, 4, df['col2'])\n",
    "    df['col3']  = np.where(df['col3'] == i, 4, df['col3'])\n",
    "    df['col4']  = np.where(df['col4'] == i, 4, df['col4'])\n",
    "    df['col5']  = np.where(df['col5'] == i, 4, df['col5'])"
   ]
  },
  {
   "cell_type": "code",
   "execution_count": 182,
   "id": "f437031e",
   "metadata": {},
   "outputs": [],
   "source": [
    "black = [\"BLACK\", \"ANTHRACITE\", \"CORE BLACK\", \"DARK SLATE\", \"MX ROCK\", \"ASRIEL\", \"ALVAH\"]"
   ]
  },
  {
   "cell_type": "code",
   "execution_count": 183,
   "id": "44a62859",
   "metadata": {},
   "outputs": [],
   "source": [
    "for i in black:\n",
    "    df['col1']  = np.where(df['col1'] == i, 5, df['col1'])\n",
    "    df['col2']  = np.where(df['col2'] == i, 5, df['col2'])\n",
    "    df['col3']  = np.where(df['col3'] == i, 5, df['col3'])\n",
    "    df['col4']  = np.where(df['col4'] == i, 5, df['col4'])\n",
    "    df['col5']  = np.where(df['col5'] == i, 5, df['col5'])"
   ]
  },
  {
   "cell_type": "code",
   "execution_count": 184,
   "id": "f06b0bb2",
   "metadata": {},
   "outputs": [],
   "source": [
    "yellow = [\"OPTI YELLOW\", \"POLLEN\", \"TOUR YELLOW\", \"YELLOW\", \"SAVANNAH\", \"VARSITY MAIZE\", \"LEMON WASH\", \"LEMON DROP\", \"OPTIC\", \"SPEED YELLOW\", \"POLLEN RISE\", \"LEMON ICING\", \"TENDER YELLOW\"]"
   ]
  },
  {
   "cell_type": "code",
   "execution_count": 185,
   "id": "b83282aa",
   "metadata": {},
   "outputs": [],
   "source": [
    "for i in yellow:\n",
    "    df['col1']  = np.where(df['col1'] == i, 6, df['col1'])\n",
    "    df['col2']  = np.where(df['col2'] == i, 6, df['col2'])\n",
    "    df['col3']  = np.where(df['col3'] == i, 6, df['col3'])\n",
    "    df['col4']  = np.where(df['col4'] == i, 6, df['col4'])\n",
    "    df['col5']  = np.where(df['col5'] == i, 6, df['col5'])"
   ]
  },
  {
   "cell_type": "code",
   "execution_count": 186,
   "id": "8964f53e",
   "metadata": {},
   "outputs": [
    {
     "name": "stdout",
     "output_type": "stream",
     "text": [
      "       Unnamed: 0     모델번호     발매가  브랜드  라인  콜라보       검색량  month  day  \\\n",
      "0               0   M992GR  259000    3  21    0  2.072390      4    0   \n",
      "1               1   M992GR  259000    3  21    0  1.961860      4    1   \n",
      "2               2   M992GR  259000    3  21    0  1.975680      4    2   \n",
      "3               3   M992GR  259000    3  21    0  1.878970      4    3   \n",
      "4               4   M992GR  259000    3  21    0  1.782260      4    4   \n",
      "...           ...      ...     ...  ...  ..  ...       ...    ...  ...   \n",
      "43948       43948  171838C  209000    5  28   40  0.165783     10   88   \n",
      "43949       43949  171838C  209000    5  28   40  0.165783     10   89   \n",
      "43950       43950  171838C  209000    5  28   40  0.165783     10   90   \n",
      "43951       43951  171838C  209000    5  28   40  0.165783     10   91   \n",
      "43952       43952  171838C  209000    5  28   40  0.165783     10   92   \n",
      "\n",
      "       리셀가능여부  color_num  col1 col2 col3 col4 col5  \n",
      "0         1.0          1  GREY    0    0    0    0  \n",
      "1         1.0          1  GREY    0    0    0    0  \n",
      "2         1.0          1  GREY    0    0    0    0  \n",
      "3         1.0          1  GREY    0    0    0    0  \n",
      "4         1.0          1  GREY    0    0    0    0  \n",
      "...       ...        ...   ...  ...  ...  ...  ...  \n",
      "43948     0.0          1  GREY    0    0    0    0  \n",
      "43949     0.0          1  GREY    0    0    0    0  \n",
      "43950     0.0          1  GREY    0    0    0    0  \n",
      "43951     0.0          1  GREY    0    0    0    0  \n",
      "43952     0.0          1  GREY    0    0    0    0  \n",
      "\n",
      "[43953 rows x 16 columns]\n"
     ]
    }
   ],
   "source": [
    "print(df)"
   ]
  },
  {
   "cell_type": "code",
   "execution_count": 187,
   "id": "3dbde0d7",
   "metadata": {},
   "outputs": [],
   "source": [
    "blue = [\"BLUE FURY\", \"ICE BLUE\", \"BRIGADE BLUE\", \"DARK POWDER BLUE\", \"DARK MARINA BLUE\", \"STORM BLUE\", \"HYDROGEN BLUE\", \"LIGHT ARMORY BLUE\", \"ALIEN BLUE RF\", \"TEAL TINT\", \"MONO ICE\", \"BRIGHT CYAN\", \"UNIVERSITY BLUE\"]"
   ]
  },
  {
   "cell_type": "code",
   "execution_count": 188,
   "id": "59b0b350",
   "metadata": {},
   "outputs": [],
   "source": [
    "for i in blue:\n",
    "    df['col1']  = np.where(df['col1'] == i, 7, df['col1'])\n",
    "    df['col2']  = np.where(df['col2'] == i, 7, df['col2'])\n",
    "    df['col3']  = np.where(df['col3'] == i, 7, df['col3'])\n",
    "    df['col4']  = np.where(df['col4'] == i, 7, df['col4'])\n",
    "    df['col5']  = np.where(df['col5'] == i, 7, df['col5'])"
   ]
  },
  {
   "cell_type": "code",
   "execution_count": 189,
   "id": "7c8467cc",
   "metadata": {},
   "outputs": [],
   "source": [
    "blue2 = [\"TURQUOISE BLUE\", \"BLUE\", \"MARINE BLUE\", \"NATURAL INDIGO\", \"REFLECTION\", \"VIRTUAL SKY\", \"MALLARD BLUE\", \"COAST\", \"HYPER BLUE\", \"BICOASTAL\", \"RIFT BLUE\", \"NEPTUNE BLUE\", \"BRIGHT SPRUCE\", \"AQUA\", \"BLUE FURY\", \"BLEACHED AQUA\", \"BATTLE BLUE\", \"KYANITE\", \"BLUE QUARTZ\", \"BLUE OAT\", \"ARZARETH\", \"BRIGHT BLUE\" ]"
   ]
  },
  {
   "cell_type": "code",
   "execution_count": 190,
   "id": "40885e40",
   "metadata": {},
   "outputs": [],
   "source": [
    "for i in blue2:\n",
    "    df['col1']  = np.where(df['col1'] == i, 7, df['col1'])\n",
    "    df['col2']  = np.where(df['col2'] == i, 7, df['col2'])\n",
    "    df['col3']  = np.where(df['col3'] == i, 7, df['col3'])\n",
    "    df['col4']  = np.where(df['col4'] == i, 7, df['col4'])\n",
    "    df['col5']  = np.where(df['col5'] == i, 7, df['col5'])"
   ]
  },
  {
   "cell_type": "code",
   "execution_count": 191,
   "id": "85b9c939",
   "metadata": {},
   "outputs": [],
   "source": [
    "gold = [\"METALLIC GOLD\", \"BRONZE ECLIPSE\", \"ASPEN GOLD\", \"SATURN GOLD\", \"MIDAS GOLD\", \"UNIVERSITY GOLD\", \"MIDWEST GOLD\", \"TOPAZ GOLD\"]"
   ]
  },
  {
   "cell_type": "code",
   "execution_count": 192,
   "id": "2c633615",
   "metadata": {},
   "outputs": [],
   "source": [
    "for i in gold:\n",
    "    df['col1']  = np.where(df['col1'] == i, 8, df['col1'])\n",
    "    df['col2']  = np.where(df['col2'] == i, 8, df['col2'])\n",
    "    df['col3']  = np.where(df['col3'] == i, 8, df['col3'])\n",
    "    df['col4']  = np.where(df['col4'] == i, 8, df['col4'])\n",
    "    df['col5']  = np.where(df['col5'] == i, 8, df['col5'])"
   ]
  },
  {
   "cell_type": "code",
   "execution_count": 193,
   "id": "4ec5dc6e",
   "metadata": {},
   "outputs": [],
   "source": [
    "grey = [\"GREY\", \"LIGHT SMOKE GREY\", \"CEMENT GREY\", \"DARK SMOKE GREY\", \"TECH GREY\", \"OIL GREY\", \"DARK BLUE GREY\", \"WOLF GREY\", \"CLEAR\", \"NEUTRAL GREY\", \"GRAY\", \"STEEL GREY\", \"PHATOM\", \"RAIN CLOUD\", \"WARM ALPACA\" ]"
   ]
  },
  {
   "cell_type": "code",
   "execution_count": 194,
   "id": "788db306",
   "metadata": {},
   "outputs": [],
   "source": [
    "grey2 = [\"LIGHT GREY\", \"MARBLEHEAD\", \"CASTLEROCK\", \"MEDIUM GREY\", \"CAVE STONE\", \"COOL GREY\", \"PHOTON DUST\", \"ELEPHANT SKIN\", \"IRON GREY\", \"VAST GREY\", \"GREY FOG\", \"PARTICLE GREY\", \"STEEPLE GREY\", \"BELUGA RF\", \"ASH GREY\", \"ISRAFIL\", \"DESERT SAGE\", \"OPHANI\", \"QNTM\", \"ASH STONE\", \"MOON GRAY\", \"ZYON\", \"BARIUM\", \"MIST STONE\",  ]"
   ]
  },
  {
   "cell_type": "code",
   "execution_count": 195,
   "id": "920486c4",
   "metadata": {},
   "outputs": [],
   "source": [
    "for i in grey:\n",
    "    df['col1']  = np.where(df['col1'] == i, 9, df['col1'])\n",
    "    df['col2']  = np.where(df['col2'] == i, 9, df['col2'])\n",
    "    df['col3']  = np.where(df['col3'] == i, 9, df['col3'])\n",
    "    df['col4']  = np.where(df['col4'] == i, 9, df['col4'])\n",
    "    df['col5']  = np.where(df['col5'] == i, 9, df['col5'])"
   ]
  },
  {
   "cell_type": "code",
   "execution_count": 196,
   "id": "6b0a81e3",
   "metadata": {},
   "outputs": [],
   "source": [
    "for i in grey2:\n",
    "    df['col1']  = np.where(df['col1'] == i, 9, df['col1'])\n",
    "    df['col2']  = np.where(df['col2'] == i, 9, df['col2'])\n",
    "    df['col3']  = np.where(df['col3'] == i, 9, df['col3'])\n",
    "    df['col4']  = np.where(df['col4'] == i, 9, df['col4'])\n",
    "    df['col5']  = np.where(df['col5'] == i, 9, df['col5'])"
   ]
  },
  {
   "cell_type": "code",
   "execution_count": 197,
   "id": "35f71742",
   "metadata": {},
   "outputs": [],
   "source": [
    "orange = [\"LASER ORANGE\", \"STARFISH\", \"BARELY ORANGE\", \"VARSITY ORANGE\", \"ORANGE\", \"JUPITER\", \"NEON ORANGE\", \"DARK BLAZE\", \"BURNT ORANGE\", \"ORANGE BLAZE\", \"RUSH ORANGE\", \"SPORT SPICE\", \"DARK CURRY\", \"ELECTRO ORANGE\", \"BRIGHT MANGO\", \"WASH ORANGE\", \"MONO CLAY\", \"PERSIMMON ORANGE\"]"
   ]
  },
  {
   "cell_type": "code",
   "execution_count": 198,
   "id": "09abf9ae",
   "metadata": {},
   "outputs": [],
   "source": [
    "for i in orange:\n",
    "    df['col1']  = np.where(df['col1'] == i, 10, df['col1'])\n",
    "    df['col2']  = np.where(df['col2'] == i, 10, df['col2'])\n",
    "    df['col3']  = np.where(df['col3'] == i, 10, df['col3'])\n",
    "    df['col4']  = np.where(df['col4'] == i, 10, df['col4'])\n",
    "    df['col5']  = np.where(df['col5'] == i, 10, df['col5'])"
   ]
  },
  {
   "cell_type": "code",
   "execution_count": 199,
   "id": "14c6d3bd",
   "metadata": {},
   "outputs": [],
   "source": [
    "ivory = [\"SAIL\", \"SHIMMER\", \"ORANGE QUARTZ\", \"BRIGHT CRIMSON\", \"CRIMSON BLISS\", \"SEA SALT\",\"BEIGE\", \"BONE\", \"MOONBEAM\", \"TIMBERWOLF\", \"GREIGE\", \"INCENSE\", \"TAN\", \"PALE IVORY\", \"LIGHT BONE\", \"FOSSIL STONE\", \"NET\", \"CASHMERE\", \"COCONUT MILK\", \"CREAM II\", \"REED\", \"LIGHT CREAM\", \"NATURAL IVORY\", \"LIGHT\", \"CREAM\", \"MX OAT\", \"TAUPE LIGHT\", \"NATURAL\", \"ASH PEARL\", \"YECORAITE RF\", \"RESIN\", \"PEPPER\", \"LINEN\", \"EGRET\", \"SAND\"]"
   ]
  },
  {
   "cell_type": "code",
   "execution_count": 200,
   "id": "a10ef890",
   "metadata": {},
   "outputs": [],
   "source": [
    "for i in ivory:\n",
    "    df['col1']  = np.where(df['col1'] == i, 11, df['col1'])\n",
    "    df['col2']  = np.where(df['col2'] == i, 11, df['col2'])\n",
    "    df['col3']  = np.where(df['col3'] == i, 11, df['col3'])\n",
    "    df['col4']  = np.where(df['col4'] == i, 11, df['col4'])\n",
    "    df['col5']  = np.where(df['col5'] == i, 11, df['col5'])"
   ]
  },
  {
   "cell_type": "code",
   "execution_count": 201,
   "id": "bbf36d04",
   "metadata": {},
   "outputs": [],
   "source": [
    "multi = [\"MULTI COLOR\", \"MULTI-COLOR\"]"
   ]
  },
  {
   "cell_type": "code",
   "execution_count": 202,
   "id": "8cf6e5b7",
   "metadata": {},
   "outputs": [],
   "source": [
    "for i in multi:\n",
    "    df['col1']  = np.where(df['col1'] == i, 12, df['col1'])\n",
    "    df['col2']  = np.where(df['col2'] == i, 12, df['col2'])\n",
    "    df['col3']  = np.where(df['col3'] == i, 12, df['col3'])\n",
    "    df['col4']  = np.where(df['col4'] == i, 12, df['col4'])\n",
    "    df['col5']  = np.where(df['col5'] == i, 12, df['col5'])"
   ]
  },
  {
   "cell_type": "code",
   "execution_count": 203,
   "id": "90b53f16",
   "metadata": {},
   "outputs": [],
   "source": [
    "brown = [\"DARK HAZEL\", \"TAUPE HAZE\", \"DESERT MOSS\", \"BRITISH KHAKI\", \"LIGHT CHOCOLATE\", \"BROWN\", \"BRONZE ECLIPSE\", \"ACORN\", \"WHEAT\", \"RATTAN\", \"ARCHEO BROWN\", \"BAROQUE BROWN\", \"VELVET BROWN\", \"LIGHT BRITISH TAN\", \"GUM LIGHT BROWN\", \"PRALINE\", \"ENFLAME AMBER\", \"CLAY BROWN\", \"MAUVE\", \"CINDER\", \"CANDIED GINGER\", \"LIGHT GUM\", \"CAPPUCCINO BASE\", \"TAUPE\", \"OIL\", \"DARK EARTH\" , \"GUM\" ]"
   ]
  },
  {
   "cell_type": "code",
   "execution_count": 204,
   "id": "9e6b8388",
   "metadata": {},
   "outputs": [],
   "source": [
    "for i in brown:\n",
    "    df['col1']  = np.where(df['col1'] == i, 13, df['col1'])\n",
    "    df['col2']  = np.where(df['col2'] == i, 13, df['col2'])\n",
    "    df['col3']  = np.where(df['col3'] == i, 13, df['col3'])\n",
    "    df['col4']  = np.where(df['col4'] == i, 13, df['col4'])\n",
    "    df['col5']  = np.where(df['col5'] == i, 13, df['col5'])"
   ]
  },
  {
   "cell_type": "code",
   "execution_count": 205,
   "id": "de0406fb",
   "metadata": {},
   "outputs": [],
   "source": [
    "navy = [\"MIDNIGHT NAVY\", \"OBSIDIAN\", \"DARK TEAL\", \"OUTERSPACE\", \"ECLIPSE\", \"MAUVE SOLE\", \"DARK OBSIDIAN\", \"CIDER\", \"CONCORD\", \"MYSTIC NAVY\", \"INSIGNIA BLUE\", \"SLATE BLUE\", \"MINERAL BLUE\"]"
   ]
  },
  {
   "cell_type": "code",
   "execution_count": 206,
   "id": "36cd3046",
   "metadata": {},
   "outputs": [],
   "source": [
    "for i in navy:\n",
    "    df['col1']  = np.where(df['col1'] == i, 14, df['col1'])\n",
    "    df['col2']  = np.where(df['col2'] == i, 14, df['col2'])\n",
    "    df['col3']  = np.where(df['col3'] == i, 14, df['col3'])\n",
    "    df['col4']  = np.where(df['col4'] == i, 14, df['col4'])\n",
    "    df['col5']  = np.where(df['col5'] == i, 14, df['col5'])"
   ]
  },
  {
   "cell_type": "code",
   "execution_count": 207,
   "id": "8ee3e3b0",
   "metadata": {},
   "outputs": [],
   "source": [
    "purple = [\"DARK IRIS\", \"BORDEAUX\", \"WILD BERRY\", \"WINE\", \"RED PLUM\", \"DARK PURPLE\", \"COURT PURPLE\", \"HELIOTROPE\", \"PURPLE\", \"PURPLE DUSK\", \"EGGPLANT\", \"PLUM DUST\"]"
   ]
  },
  {
   "cell_type": "code",
   "execution_count": 208,
   "id": "1870da76",
   "metadata": {},
   "outputs": [],
   "source": [
    "for i in purple:\n",
    "    df['col1']  = np.where(df['col1'] == i, 15, df['col1'])\n",
    "    df['col2']  = np.where(df['col2'] == i, 15, df['col2'])\n",
    "    df['col3']  = np.where(df['col3'] == i, 15, df['col3'])\n",
    "    df['col4']  = np.where(df['col4'] == i, 15, df['col4'])\n",
    "    df['col5']  = np.where(df['col5'] == i, 15, df['col5'])"
   ]
  },
  {
   "cell_type": "code",
   "execution_count": 209,
   "id": "bd478929",
   "metadata": {},
   "outputs": [],
   "source": [
    "off = [\"OFF-NOIR\"]"
   ]
  },
  {
   "cell_type": "code",
   "execution_count": 210,
   "id": "5a8873e6",
   "metadata": {},
   "outputs": [],
   "source": [
    "for i in off:\n",
    "    df['col1']  = np.where(df['col1'] == i, 16, df['col1'])\n",
    "    df['col2']  = np.where(df['col2'] == i, 16, df['col2'])\n",
    "    df['col3']  = np.where(df['col3'] == i, 16, df['col3'])\n",
    "    df['col4']  = np.where(df['col4'] == i, 16, df['col4'])\n",
    "    df['col5']  = np.where(df['col5'] == i, 16, df['col5'])"
   ]
  },
  {
   "cell_type": "code",
   "execution_count": 211,
   "id": "c668fc0e",
   "metadata": {},
   "outputs": [],
   "source": [
    "silver = [\"METALLIC SILVER\", \"SILVER\", \"LIGHT ALUMINIUM\", \"PURE PLATINUM\", \"SILVER LILAC\"]"
   ]
  },
  {
   "cell_type": "code",
   "execution_count": 212,
   "id": "48db8653",
   "metadata": {},
   "outputs": [],
   "source": [
    "for i in silver:\n",
    "    df['col1']  = np.where(df['col1'] == i, 17, df['col1'])\n",
    "    df['col2']  = np.where(df['col2'] == i, 17, df['col2'])\n",
    "    df['col3']  = np.where(df['col3'] == i, 17, df['col3'])\n",
    "    df['col4']  = np.where(df['col4'] == i, 17, df['col4'])\n",
    "    df['col5']  = np.where(df['col5'] == i, 17, df['col5'])"
   ]
  },
  {
   "cell_type": "code",
   "execution_count": 213,
   "id": "e7c840df",
   "metadata": {},
   "outputs": [],
   "source": [
    "gr = [\"NIMBUS CLOUD\", \"MAGNET\", \"LIGHT CHALKBOARD\"]"
   ]
  },
  {
   "cell_type": "code",
   "execution_count": 214,
   "id": "ae963d1e",
   "metadata": {},
   "outputs": [],
   "source": [
    "for i in gr:\n",
    "    df['col1']  = np.where(df['col1'] == i, 18, df['col1'])\n",
    "    df['col2']  = np.where(df['col2'] == i, 18, df['col2'])\n",
    "    df['col3']  = np.where(df['col3'] == i, 18, df['col3'])\n",
    "    df['col4']  = np.where(df['col4'] == i, 18, df['col4'])\n",
    "    df['col5']  = np.where(df['col5'] == i, 18, df['col5'])"
   ]
  },
  {
   "cell_type": "code",
   "execution_count": 215,
   "id": "83d372e3",
   "metadata": {},
   "outputs": [],
   "source": [
    "godong = [\"DARK RUSSET\", \"DARK CHOCOLATE\"]"
   ]
  },
  {
   "cell_type": "code",
   "execution_count": 216,
   "id": "bd6f1386",
   "metadata": {},
   "outputs": [],
   "source": [
    "for i in godong:\n",
    "    df['col1']  = np.where(df['col1'] == i, 19, df['col1'])\n",
    "    df['col2']  = np.where(df['col2'] == i, 19, df['col2'])\n",
    "    df['col3']  = np.where(df['col3'] == i, 19, df['col3'])\n",
    "    df['col4']  = np.where(df['col4'] == i, 19, df['col4'])\n",
    "    df['col5']  = np.where(df['col5'] == i, 19, df['col5'])"
   ]
  },
  {
   "cell_type": "code",
   "execution_count": 217,
   "id": "473f649b",
   "metadata": {},
   "outputs": [],
   "source": [
    "    df['col1']  = np.where(df['col1'] == \"ZEBRA\", 20, df['col1'])\n",
    "    df['col2']  = np.where(df['col2'] == \"ZEBRA\", 20, df['col2'])\n",
    "    df['col3']  = np.where(df['col3'] == \"ZEBRA\", 20, df['col3'])\n",
    "    df['col4']  = np.where(df['col4'] == \"ZEBRA\", 20, df['col4'])\n",
    "    df['col5']  = np.where(df['col5'] == \"ZEBRA\", 20, df['col5'])"
   ]
  },
  {
   "cell_type": "code",
   "execution_count": 218,
   "id": "434abe2c",
   "metadata": {},
   "outputs": [],
   "source": [
    "neon = [\"ENERGY LIME\", \"GREEN APPLE\", \"LIMELIGHT\", \"BARELY VOLT\", \"VOLT\", \"PHOSPHOR\"]"
   ]
  },
  {
   "cell_type": "code",
   "execution_count": 219,
   "id": "2bfb4ce2",
   "metadata": {},
   "outputs": [],
   "source": [
    "for i in neon:\n",
    "    df['col1']  = np.where(df['col1'] == i, 21, df['col1'])\n",
    "    df['col2']  = np.where(df['col2'] == i, 21, df['col2'])\n",
    "    df['col3']  = np.where(df['col3'] == i, 21, df['col3'])\n",
    "    df['col4']  = np.where(df['col4'] == i, 21, df['col4'])\n",
    "    df['col5']  = np.where(df['col5'] == i, 21, df['col5'])"
   ]
  },
  {
   "cell_type": "code",
   "execution_count": 220,
   "id": "024164e8",
   "metadata": {},
   "outputs": [],
   "source": [
    "blgr = [\"LIGHT PETROL\", \"CITRON\"]"
   ]
  },
  {
   "cell_type": "code",
   "execution_count": 221,
   "id": "16c53aab",
   "metadata": {},
   "outputs": [],
   "source": [
    "for i in blgr:\n",
    "    df['col1']  = np.where(df['col1'] == i, 22, df['col1'])\n",
    "    df['col2']  = np.where(df['col2'] == i, 22, df['col2'])\n",
    "    df['col3']  = np.where(df['col3'] == i, 22, df['col3'])\n",
    "    df['col4']  = np.where(df['col4'] == i, 22, df['col4'])\n",
    "    df['col5']  = np.where(df['col5'] == i, 22, df['col5'])"
   ]
  },
  {
   "cell_type": "code",
   "execution_count": 222,
   "id": "eb18433d",
   "metadata": {},
   "outputs": [],
   "source": [
    "nebl = [\"WASHED TEAL\", \"NOISE AQUA\"]"
   ]
  },
  {
   "cell_type": "code",
   "execution_count": 223,
   "id": "3f90bf33",
   "metadata": {},
   "outputs": [],
   "source": [
    "for i in nebl:\n",
    "    df['col1']  = np.where(df['col1'] == i, 23, df['col1'])\n",
    "    df['col2']  = np.where(df['col2'] == i, 23, df['col2'])\n",
    "    df['col3']  = np.where(df['col3'] == i, 23, df['col3'])\n",
    "    df['col4']  = np.where(df['col4'] == i, 23, df['col4'])\n",
    "    df['col5']  = np.where(df['col5'] == i, 23, df['col5'])"
   ]
  },
  {
   "cell_type": "code",
   "execution_count": 224,
   "id": "5489226e",
   "metadata": {},
   "outputs": [],
   "source": [
    "df.to_csv('colresult.csv', encoding = \"utf-8-sig\")"
   ]
  },
  {
   "cell_type": "code",
   "execution_count": null,
   "id": "79ffafe9",
   "metadata": {},
   "outputs": [],
   "source": []
  }
 ],
 "metadata": {
  "kernelspec": {
   "display_name": "Python 3",
   "language": "python",
   "name": "python3"
  },
  "language_info": {
   "codemirror_mode": {
    "name": "ipython",
    "version": 3
   },
   "file_extension": ".py",
   "mimetype": "text/x-python",
   "name": "python",
   "nbconvert_exporter": "python",
   "pygments_lexer": "ipython3",
   "version": "3.8.8"
  }
 },
 "nbformat": 4,
 "nbformat_minor": 5
}
