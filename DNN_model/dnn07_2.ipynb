{
 "cells": [
  {
   "cell_type": "code",
   "execution_count": 1037,
   "id": "0e289aed",
   "metadata": {},
   "outputs": [],
   "source": [
    "import numpy as np\n",
    "import pandas as pd\n",
    "import tensorflow as tf\n",
    "from tensorflow.keras import layers\n",
    "from sklearn.model_selection import train_test_split\n",
    "\n",
    "df = pd.read_csv('colchange3.csv')"
   ]
  },
  {
   "cell_type": "code",
   "execution_count": 1038,
   "id": "f761eef3",
   "metadata": {},
   "outputs": [
    {
     "name": "stdout",
     "output_type": "stream",
     "text": [
      "False\n"
     ]
    }
   ],
   "source": [
    "print(df.isnull().values.any())"
   ]
  },
  {
   "cell_type": "code",
   "execution_count": 1039,
   "id": "1b5f4f17",
   "metadata": {},
   "outputs": [
    {
     "name": "stdout",
     "output_type": "stream",
     "text": [
      "          발매가  라인  콜라보  month  color_num  col1  col2  col3  col4  col5  day  \\\n",
      "0      259000  21    0      4          1     9     0     0     0     0    0   \n",
      "1      259000  21    0      4          1     9     0     0     0     0    1   \n",
      "2      259000  21    0      4          1     9     0     0     0     0    2   \n",
      "3      259000  21    0      4          1     9     0     0     0     0    3   \n",
      "4      259000  21    0      4          1     9     0     0     0     0    4   \n",
      "...       ...  ..  ...    ...        ...   ...   ...   ...   ...   ...  ...   \n",
      "43948  209000  28    0     10          1     9     0     0     0     0   88   \n",
      "43949  209000  28    0     10          1     9     0     0     0     0   89   \n",
      "43950  209000  28    0     10          1     9     0     0     0     0   90   \n",
      "43951  209000  28    0     10          1     9     0     0     0     0   91   \n",
      "43952  209000  28    0     10          1     9     0     0     0     0   92   \n",
      "\n",
      "       nike  jordan  newbalance  adidas  converse  콜라보유무  type  \n",
      "0         0       0           1       0         0      0     1  \n",
      "1         0       0           1       0         0      0     1  \n",
      "2         0       0           1       0         0      0     1  \n",
      "3         0       0           1       0         0      0     1  \n",
      "4         0       0           1       0         0      0     1  \n",
      "...     ...     ...         ...     ...       ...    ...   ...  \n",
      "43948     0       0           0       0         1      1     0  \n",
      "43949     0       0           0       0         1      1     0  \n",
      "43950     0       0           0       0         1      1     0  \n",
      "43951     0       0           0       0         1      1     0  \n",
      "43952     0       0           0       0         1      1     0  \n",
      "\n",
      "[43953 rows x 18 columns]\n"
     ]
    }
   ],
   "source": [
    "print(df)"
   ]
  },
  {
   "cell_type": "code",
   "execution_count": 1040,
   "id": "c5005c61",
   "metadata": {},
   "outputs": [],
   "source": [
    "data= df[(df['day'] == 1)]"
   ]
  },
  {
   "cell_type": "code",
   "execution_count": 1041,
   "id": "bc4fe3b2",
   "metadata": {},
   "outputs": [
    {
     "name": "stdout",
     "output_type": "stream",
     "text": [
      "          발매가  라인  콜라보  month  color_num  col1  col2  col3  col4  col5  day  \\\n",
      "1      259000  21    0      4          1     9     0     0     0     0    1   \n",
      "93     149000  24    0      9          1     9     0     0     0     0    1   \n",
      "185    139000  17    0      5          2     9     1     0     0     0    1   \n",
      "278    149000  24    0      2          1     9     0     0     0     0    1   \n",
      "368     99000  18    0      1          1     9     0     0     0     0    1   \n",
      "...       ...  ..  ...    ...        ...   ...   ...   ...   ...   ...  ...   \n",
      "43493  284400  25    0     12          1     6     0     0     0     0    1   \n",
      "43584  600000  26    0      9          2     1     1     0     0     0    1   \n",
      "43676  309000  25    0      4          1     4     0     0     0     0    1   \n",
      "43768  289000  25    0     10          1     9     0     0     0     0    1   \n",
      "43861  209000  28    0     10          1     9     0     0     0     0    1   \n",
      "\n",
      "       nike  jordan  newbalance  adidas  converse  콜라보유무  type  \n",
      "1         0       0           1       0         0      0     1  \n",
      "93        0       0           1       0         0      0     1  \n",
      "185       0       0           1       0         0      0     1  \n",
      "278       0       0           1       0         0      0     1  \n",
      "368       0       0           1       0         0      0     0  \n",
      "...     ...     ...         ...     ...       ...    ...   ...  \n",
      "43493     0       0           0       1         0      0     0  \n",
      "43584     0       0           0       1         0      1     1  \n",
      "43676     0       0           0       1         0      0     1  \n",
      "43768     0       0           0       1         0      0     0  \n",
      "43861     0       0           0       0         1      1     0  \n",
      "\n",
      "[477 rows x 18 columns]\n"
     ]
    }
   ],
   "source": [
    "print(data)"
   ]
  },
  {
   "cell_type": "code",
   "execution_count": 1042,
   "id": "5192056f",
   "metadata": {},
   "outputs": [],
   "source": [
    "data = data.sample(frac=1).reset_index(drop=True)"
   ]
  },
  {
   "cell_type": "code",
   "execution_count": 1043,
   "id": "3a006394",
   "metadata": {},
   "outputs": [
    {
     "name": "stdout",
     "output_type": "stream",
     "text": [
      "        발매가  라인  콜라보  month  color_num  col1  col2  col3  col4  col5  day  \\\n",
      "0    129000  28    0     11          1     6     0     0     0     0    1   \n",
      "1    129000  29    0      8          3     8     4    10     0     0    1   \n",
      "2    119000  29    0      1          3    10     1     1     0     0    1   \n",
      "3    209000  28    0     10          1     9     0     0     0     0    1   \n",
      "4     99000  25    0      5          1     4     0     0     0     0    1   \n",
      "..      ...  ..  ...    ...        ...   ...   ...   ...   ...   ...  ...   \n",
      "472  169000   1    0      9          3     1     2     0     0     0    1   \n",
      "473  259000   4    0      7          2     9     1     0     0     0    1   \n",
      "474  129000  17    0      5          2     1     1     0     0     0    1   \n",
      "475  179000   1    0      9          3     9     1     9     0     0    1   \n",
      "476  119000  29    0     11          4     9     1     1     5     0    1   \n",
      "\n",
      "     nike  jordan  newbalance  adidas  converse  콜라보유무  type  \n",
      "0       0       0           0       0         1      1     1  \n",
      "1       1       0           0       0         0      0     1  \n",
      "2       1       0           0       0         0      0     1  \n",
      "3       0       0           0       0         1      1     0  \n",
      "4       0       0           0       1         0      0     1  \n",
      "..    ...     ...         ...     ...       ...    ...   ...  \n",
      "472     1       0           0       0         0      0     1  \n",
      "473     1       0           0       0         0      0     0  \n",
      "474     0       0           1       0         0      0     1  \n",
      "475     1       0           0       0         0      0     1  \n",
      "476     1       0           0       0         0      0     1  \n",
      "\n",
      "[477 rows x 18 columns]\n"
     ]
    }
   ],
   "source": [
    "print(data)"
   ]
  },
  {
   "cell_type": "code",
   "execution_count": 1044,
   "id": "6683640a",
   "metadata": {},
   "outputs": [
    {
     "name": "stdout",
     "output_type": "stream",
     "text": [
      "False\n"
     ]
    }
   ],
   "source": [
    "print(data.isnull().values.any())"
   ]
  },
  {
   "cell_type": "code",
   "execution_count": 1045,
   "id": "00571cd6",
   "metadata": {},
   "outputs": [
    {
     "name": "stdout",
     "output_type": "stream",
     "text": [
      "   type  count\n",
      "0     0    125\n",
      "1     1    352\n"
     ]
    }
   ],
   "source": [
    "print(data.groupby('type').size().reset_index(name = 'count'))"
   ]
  },
  {
   "cell_type": "code",
   "execution_count": 1046,
   "id": "4277bba6",
   "metadata": {},
   "outputs": [],
   "source": [
    "y = data[\"type\"]"
   ]
  },
  {
   "cell_type": "code",
   "execution_count": 1047,
   "id": "32b2a14d",
   "metadata": {},
   "outputs": [
    {
     "name": "stdout",
     "output_type": "stream",
     "text": [
      "0      1\n",
      "1      1\n",
      "2      1\n",
      "3      0\n",
      "4      1\n",
      "      ..\n",
      "472    1\n",
      "473    0\n",
      "474    1\n",
      "475    1\n",
      "476    1\n",
      "Name: type, Length: 477, dtype: int64\n"
     ]
    }
   ],
   "source": [
    "print(y)"
   ]
  },
  {
   "cell_type": "code",
   "execution_count": 1048,
   "id": "99fe5e49",
   "metadata": {},
   "outputs": [
    {
     "name": "stdout",
     "output_type": "stream",
     "text": [
      "[[ 1.  1.  0. ...  0.  0.  1.]\n",
      " [ 0.  0.  0. ... 10.  0.  3.]\n",
      " [ 0.  0.  0. ...  1.  0.  3.]\n",
      " ...\n",
      " [ 0.  0.  0. ...  0.  0.  2.]\n",
      " [ 0.  0.  0. ...  9.  0.  3.]\n",
      " [ 0.  0.  0. ...  1.  0.  4.]]\n"
     ]
    }
   ],
   "source": [
    "from sklearn.preprocessing import StandardScaler\n",
    "X = data[['콜라보유무', 'converse', 'jordan', 'nike', '라인', '콜라보', 'col3', 'col5', 'color_num']]\n",
    "scaler = StandardScaler()\n",
    "scaler.fit(X)\n",
    "scale_X = scaler.fit_transform(X)\n",
    "scale_X  = np.asarray(X).astype(np.float64)\n",
    "print(scale_X)"
   ]
  },
  {
   "cell_type": "code",
   "execution_count": 1049,
   "id": "561072d0",
   "metadata": {},
   "outputs": [
    {
     "name": "stdout",
     "output_type": "stream",
     "text": [
      "[[ 1.  1.  0. ...  0.  0.  1.]\n",
      " [ 0.  0.  0. ... 10.  0.  3.]\n",
      " [ 0.  0.  0. ...  1.  0.  3.]\n",
      " ...\n",
      " [ 0.  0.  0. ...  0.  0.  2.]\n",
      " [ 0.  0.  0. ...  9.  0.  3.]\n",
      " [ 0.  0.  0. ...  1.  0.  4.]]\n"
     ]
    }
   ],
   "source": [
    "print(scale_X)"
   ]
  },
  {
   "cell_type": "code",
   "execution_count": 1050,
   "id": "cff9f465",
   "metadata": {},
   "outputs": [],
   "source": [
    "train_x, test_x, y_train, y_test = train_test_split(scale_X, y, test_size = 0.3, random_state = 1)"
   ]
  },
  {
   "cell_type": "code",
   "execution_count": 1051,
   "id": "41dc02d4",
   "metadata": {},
   "outputs": [
    {
     "name": "stdout",
     "output_type": "stream",
     "text": [
      "39     1\n",
      "341    1\n",
      "314    1\n",
      "192    0\n",
      "164    1\n",
      "      ..\n",
      "255    1\n",
      "72     1\n",
      "396    1\n",
      "235    1\n",
      "37     1\n",
      "Name: type, Length: 333, dtype: int64\n"
     ]
    }
   ],
   "source": [
    "print(y_train)"
   ]
  },
  {
   "cell_type": "code",
   "execution_count": 1052,
   "id": "939b56bd",
   "metadata": {},
   "outputs": [],
   "source": [
    "train__y = list(y_train)"
   ]
  },
  {
   "cell_type": "code",
   "execution_count": 1053,
   "id": "97a3ae2f",
   "metadata": {},
   "outputs": [],
   "source": [
    "train_y = np.empty((len(y_train),2))"
   ]
  },
  {
   "cell_type": "code",
   "execution_count": 1054,
   "id": "f167aa76",
   "metadata": {},
   "outputs": [
    {
     "name": "stdout",
     "output_type": "stream",
     "text": [
      "[1, 1, 1, 0, 1, 0, 1, 1, 1, 0, 1, 1, 1, 1, 1, 1, 1, 1, 1, 0, 1, 0, 1, 0, 0, 1, 1, 0, 0, 0, 0, 1, 1, 1, 1, 1, 1, 1, 1, 1, 1, 1, 0, 1, 1, 1, 1, 1, 0, 1, 0, 1, 1, 1, 1, 1, 1, 1, 0, 1, 1, 1, 1, 0, 1, 1, 1, 1, 0, 1, 1, 1, 1, 1, 0, 1, 0, 1, 1, 0, 1, 1, 1, 0, 0, 0, 1, 0, 1, 1, 0, 0, 1, 1, 1, 1, 1, 0, 1, 1, 1, 0, 1, 1, 0, 1, 1, 1, 0, 1, 1, 1, 1, 0, 1, 1, 0, 1, 0, 1, 1, 1, 1, 1, 0, 1, 0, 1, 0, 1, 0, 0, 1, 1, 1, 1, 1, 0, 0, 1, 0, 1, 1, 0, 1, 1, 1, 1, 1, 1, 0, 1, 1, 0, 1, 0, 1, 1, 0, 0, 1, 1, 0, 0, 0, 0, 1, 1, 1, 0, 1, 1, 1, 0, 1, 1, 1, 1, 0, 0, 1, 0, 0, 0, 1, 1, 1, 1, 1, 1, 0, 1, 1, 1, 0, 0, 1, 1, 0, 1, 1, 1, 0, 1, 1, 1, 1, 1, 1, 1, 0, 0, 1, 0, 1, 1, 1, 1, 1, 1, 1, 1, 1, 1, 1, 1, 1, 0, 1, 1, 1, 0, 1, 1, 1, 1, 1, 0, 1, 0, 1, 1, 1, 1, 1, 1, 1, 1, 1, 1, 0, 1, 1, 1, 1, 1, 1, 0, 1, 0, 1, 1, 1, 1, 1, 0, 1, 1, 1, 1, 1, 0, 1, 0, 0, 1, 1, 0, 1, 1, 1, 0, 1, 1, 0, 1, 1, 1, 1, 1, 1, 1, 1, 0, 1, 0, 1, 0, 1, 1, 1, 0, 1, 1, 1, 0, 0, 1, 0, 1, 1, 1, 0, 1, 0, 1, 1, 1, 1, 0, 1, 1, 0, 0, 1, 0, 1, 1, 1, 1, 1, 1, 1]\n",
      "<class 'int'>\n"
     ]
    }
   ],
   "source": [
    "print(train__y)\n",
    "print(type(train__y[0]))"
   ]
  },
  {
   "cell_type": "code",
   "execution_count": 1055,
   "id": "f3d285e8",
   "metadata": {},
   "outputs": [],
   "source": [
    "for i in range(len(train__y)):\n",
    "    if train__y[i] == 0:\n",
    "        train_y[i] = [1, 0]\n",
    "    elif train__y[i] == 1:\n",
    "        train_y[i] = [0, 1]\n",
    "    else:\n",
    "        train_y[i] = [0, 1]"
   ]
  },
  {
   "cell_type": "code",
   "execution_count": 1056,
   "id": "0f21fcd4",
   "metadata": {},
   "outputs": [
    {
     "name": "stdout",
     "output_type": "stream",
     "text": [
      "[[0. 1.]\n",
      " [0. 1.]\n",
      " [0. 1.]\n",
      " [1. 0.]\n",
      " [0. 1.]\n",
      " [1. 0.]\n",
      " [0. 1.]\n",
      " [0. 1.]\n",
      " [0. 1.]\n",
      " [1. 0.]\n",
      " [0. 1.]\n",
      " [0. 1.]\n",
      " [0. 1.]\n",
      " [0. 1.]\n",
      " [0. 1.]\n",
      " [0. 1.]\n",
      " [0. 1.]\n",
      " [0. 1.]\n",
      " [0. 1.]\n",
      " [1. 0.]\n",
      " [0. 1.]\n",
      " [1. 0.]\n",
      " [0. 1.]\n",
      " [1. 0.]\n",
      " [1. 0.]\n",
      " [0. 1.]\n",
      " [0. 1.]\n",
      " [1. 0.]\n",
      " [1. 0.]\n",
      " [1. 0.]\n",
      " [1. 0.]\n",
      " [0. 1.]\n",
      " [0. 1.]\n",
      " [0. 1.]\n",
      " [0. 1.]\n",
      " [0. 1.]\n",
      " [0. 1.]\n",
      " [0. 1.]\n",
      " [0. 1.]\n",
      " [0. 1.]\n",
      " [0. 1.]\n",
      " [0. 1.]\n",
      " [1. 0.]\n",
      " [0. 1.]\n",
      " [0. 1.]\n",
      " [0. 1.]\n",
      " [0. 1.]\n",
      " [0. 1.]\n",
      " [1. 0.]\n",
      " [0. 1.]\n",
      " [1. 0.]\n",
      " [0. 1.]\n",
      " [0. 1.]\n",
      " [0. 1.]\n",
      " [0. 1.]\n",
      " [0. 1.]\n",
      " [0. 1.]\n",
      " [0. 1.]\n",
      " [1. 0.]\n",
      " [0. 1.]\n",
      " [0. 1.]\n",
      " [0. 1.]\n",
      " [0. 1.]\n",
      " [1. 0.]\n",
      " [0. 1.]\n",
      " [0. 1.]\n",
      " [0. 1.]\n",
      " [0. 1.]\n",
      " [1. 0.]\n",
      " [0. 1.]\n",
      " [0. 1.]\n",
      " [0. 1.]\n",
      " [0. 1.]\n",
      " [0. 1.]\n",
      " [1. 0.]\n",
      " [0. 1.]\n",
      " [1. 0.]\n",
      " [0. 1.]\n",
      " [0. 1.]\n",
      " [1. 0.]\n",
      " [0. 1.]\n",
      " [0. 1.]\n",
      " [0. 1.]\n",
      " [1. 0.]\n",
      " [1. 0.]\n",
      " [1. 0.]\n",
      " [0. 1.]\n",
      " [1. 0.]\n",
      " [0. 1.]\n",
      " [0. 1.]\n",
      " [1. 0.]\n",
      " [1. 0.]\n",
      " [0. 1.]\n",
      " [0. 1.]\n",
      " [0. 1.]\n",
      " [0. 1.]\n",
      " [0. 1.]\n",
      " [1. 0.]\n",
      " [0. 1.]\n",
      " [0. 1.]\n",
      " [0. 1.]\n",
      " [1. 0.]\n",
      " [0. 1.]\n",
      " [0. 1.]\n",
      " [1. 0.]\n",
      " [0. 1.]\n",
      " [0. 1.]\n",
      " [0. 1.]\n",
      " [1. 0.]\n",
      " [0. 1.]\n",
      " [0. 1.]\n",
      " [0. 1.]\n",
      " [0. 1.]\n",
      " [1. 0.]\n",
      " [0. 1.]\n",
      " [0. 1.]\n",
      " [1. 0.]\n",
      " [0. 1.]\n",
      " [1. 0.]\n",
      " [0. 1.]\n",
      " [0. 1.]\n",
      " [0. 1.]\n",
      " [0. 1.]\n",
      " [0. 1.]\n",
      " [1. 0.]\n",
      " [0. 1.]\n",
      " [1. 0.]\n",
      " [0. 1.]\n",
      " [1. 0.]\n",
      " [0. 1.]\n",
      " [1. 0.]\n",
      " [1. 0.]\n",
      " [0. 1.]\n",
      " [0. 1.]\n",
      " [0. 1.]\n",
      " [0. 1.]\n",
      " [0. 1.]\n",
      " [1. 0.]\n",
      " [1. 0.]\n",
      " [0. 1.]\n",
      " [1. 0.]\n",
      " [0. 1.]\n",
      " [0. 1.]\n",
      " [1. 0.]\n",
      " [0. 1.]\n",
      " [0. 1.]\n",
      " [0. 1.]\n",
      " [0. 1.]\n",
      " [0. 1.]\n",
      " [0. 1.]\n",
      " [1. 0.]\n",
      " [0. 1.]\n",
      " [0. 1.]\n",
      " [1. 0.]\n",
      " [0. 1.]\n",
      " [1. 0.]\n",
      " [0. 1.]\n",
      " [0. 1.]\n",
      " [1. 0.]\n",
      " [1. 0.]\n",
      " [0. 1.]\n",
      " [0. 1.]\n",
      " [1. 0.]\n",
      " [1. 0.]\n",
      " [1. 0.]\n",
      " [1. 0.]\n",
      " [0. 1.]\n",
      " [0. 1.]\n",
      " [0. 1.]\n",
      " [1. 0.]\n",
      " [0. 1.]\n",
      " [0. 1.]\n",
      " [0. 1.]\n",
      " [1. 0.]\n",
      " [0. 1.]\n",
      " [0. 1.]\n",
      " [0. 1.]\n",
      " [0. 1.]\n",
      " [1. 0.]\n",
      " [1. 0.]\n",
      " [0. 1.]\n",
      " [1. 0.]\n",
      " [1. 0.]\n",
      " [1. 0.]\n",
      " [0. 1.]\n",
      " [0. 1.]\n",
      " [0. 1.]\n",
      " [0. 1.]\n",
      " [0. 1.]\n",
      " [0. 1.]\n",
      " [1. 0.]\n",
      " [0. 1.]\n",
      " [0. 1.]\n",
      " [0. 1.]\n",
      " [1. 0.]\n",
      " [1. 0.]\n",
      " [0. 1.]\n",
      " [0. 1.]\n",
      " [1. 0.]\n",
      " [0. 1.]\n",
      " [0. 1.]\n",
      " [0. 1.]\n",
      " [1. 0.]\n",
      " [0. 1.]\n",
      " [0. 1.]\n",
      " [0. 1.]\n",
      " [0. 1.]\n",
      " [0. 1.]\n",
      " [0. 1.]\n",
      " [0. 1.]\n",
      " [1. 0.]\n",
      " [1. 0.]\n",
      " [0. 1.]\n",
      " [1. 0.]\n",
      " [0. 1.]\n",
      " [0. 1.]\n",
      " [0. 1.]\n",
      " [0. 1.]\n",
      " [0. 1.]\n",
      " [0. 1.]\n",
      " [0. 1.]\n",
      " [0. 1.]\n",
      " [0. 1.]\n",
      " [0. 1.]\n",
      " [0. 1.]\n",
      " [0. 1.]\n",
      " [0. 1.]\n",
      " [1. 0.]\n",
      " [0. 1.]\n",
      " [0. 1.]\n",
      " [0. 1.]\n",
      " [1. 0.]\n",
      " [0. 1.]\n",
      " [0. 1.]\n",
      " [0. 1.]\n",
      " [0. 1.]\n",
      " [0. 1.]\n",
      " [1. 0.]\n",
      " [0. 1.]\n",
      " [1. 0.]\n",
      " [0. 1.]\n",
      " [0. 1.]\n",
      " [0. 1.]\n",
      " [0. 1.]\n",
      " [0. 1.]\n",
      " [0. 1.]\n",
      " [0. 1.]\n",
      " [0. 1.]\n",
      " [0. 1.]\n",
      " [0. 1.]\n",
      " [1. 0.]\n",
      " [0. 1.]\n",
      " [0. 1.]\n",
      " [0. 1.]\n",
      " [0. 1.]\n",
      " [0. 1.]\n",
      " [0. 1.]\n",
      " [1. 0.]\n",
      " [0. 1.]\n",
      " [1. 0.]\n",
      " [0. 1.]\n",
      " [0. 1.]\n",
      " [0. 1.]\n",
      " [0. 1.]\n",
      " [0. 1.]\n",
      " [1. 0.]\n",
      " [0. 1.]\n",
      " [0. 1.]\n",
      " [0. 1.]\n",
      " [0. 1.]\n",
      " [0. 1.]\n",
      " [1. 0.]\n",
      " [0. 1.]\n",
      " [1. 0.]\n",
      " [1. 0.]\n",
      " [0. 1.]\n",
      " [0. 1.]\n",
      " [1. 0.]\n",
      " [0. 1.]\n",
      " [0. 1.]\n",
      " [0. 1.]\n",
      " [1. 0.]\n",
      " [0. 1.]\n",
      " [0. 1.]\n",
      " [1. 0.]\n",
      " [0. 1.]\n",
      " [0. 1.]\n",
      " [0. 1.]\n",
      " [0. 1.]\n",
      " [0. 1.]\n",
      " [0. 1.]\n",
      " [0. 1.]\n",
      " [0. 1.]\n",
      " [1. 0.]\n",
      " [0. 1.]\n",
      " [1. 0.]\n",
      " [0. 1.]\n",
      " [1. 0.]\n",
      " [0. 1.]\n",
      " [0. 1.]\n",
      " [0. 1.]\n",
      " [1. 0.]\n",
      " [0. 1.]\n",
      " [0. 1.]\n",
      " [0. 1.]\n",
      " [1. 0.]\n",
      " [1. 0.]\n",
      " [0. 1.]\n",
      " [1. 0.]\n",
      " [0. 1.]\n",
      " [0. 1.]\n",
      " [0. 1.]\n",
      " [1. 0.]\n",
      " [0. 1.]\n",
      " [1. 0.]\n",
      " [0. 1.]\n",
      " [0. 1.]\n",
      " [0. 1.]\n",
      " [0. 1.]\n",
      " [1. 0.]\n",
      " [0. 1.]\n",
      " [0. 1.]\n",
      " [1. 0.]\n",
      " [1. 0.]\n",
      " [0. 1.]\n",
      " [1. 0.]\n",
      " [0. 1.]\n",
      " [0. 1.]\n",
      " [0. 1.]\n",
      " [0. 1.]\n",
      " [0. 1.]\n",
      " [0. 1.]\n",
      " [0. 1.]]\n"
     ]
    }
   ],
   "source": [
    "print(train_y)"
   ]
  },
  {
   "cell_type": "code",
   "execution_count": 1057,
   "id": "344e3f8d",
   "metadata": {},
   "outputs": [],
   "source": [
    "test__y = list(y_test)"
   ]
  },
  {
   "cell_type": "code",
   "execution_count": 1058,
   "id": "cb99e3ae",
   "metadata": {},
   "outputs": [],
   "source": [
    "test_y = np.empty((len(y_test),2))"
   ]
  },
  {
   "cell_type": "code",
   "execution_count": 1059,
   "id": "c022563d",
   "metadata": {},
   "outputs": [],
   "source": [
    "for i in range(len(test__y)):\n",
    "    if test__y[i] == 0:\n",
    "        test_y[i] = [1, 0]\n",
    "    elif test__y[i] == 1:\n",
    "        test_y[i] = [0, 1]\n",
    "    else:\n",
    "        test_y[i] = [0, 1]"
   ]
  },
  {
   "cell_type": "code",
   "execution_count": 1060,
   "id": "3d82694b",
   "metadata": {},
   "outputs": [],
   "source": [
    "model = tf.keras.Sequential()  \n",
    "model.add(layers.Dense(18, input_shape=(9,)))  \n",
    "model.add(layers.Activation('relu')) \n",
    "model.add(layers.Dropout(0.01))        \n",
    "\n",
    "model.add(layers.Dense(18))         \n",
    "model.add(layers.Activation('relu'))\n",
    "model.add(layers.Dropout(0.01))\n",
    "\n",
    "model.add(layers.Dense(32))         \n",
    "model.add(layers.Activation('relu'))\n",
    "model.add(layers.Dropout(0.01))\n",
    "\n",
    "model.add(layers.Dense(16))         \n",
    "model.add(layers.Activation('relu'))\n",
    "model.add(layers.Dropout(0.01))\n",
    "\n",
    "model.add(layers.Dense(32))         \n",
    "model.add(layers.Activation('relu'))\n",
    "model.add(layers.Dropout(0.01))\n",
    "\n",
    "model.add(layers.Dense(16))         \n",
    "model.add(layers.Activation('relu'))\n",
    "model.add(layers.Dropout(0.01))\n",
    "\n",
    "model.add(layers.Dense(2))\n",
    "model.add(layers.Activation('softmax')) \n",
    "\n",
    "# 모델 구축\n",
    "model.compile(\n",
    "    loss= 'binary_crossentropy', \n",
    "    optimizer=\"adam\",   \n",
    "    metrics=['accuracy'])  "
   ]
  },
  {
   "cell_type": "code",
   "execution_count": 1061,
   "id": "364d3d9f",
   "metadata": {},
   "outputs": [
    {
     "name": "stdout",
     "output_type": "stream",
     "text": [
      "Epoch 1/200\n",
      "27/27 [==============================] - 0s 12ms/step - loss: 0.6040 - accuracy: 0.7180 - val_loss: 0.5847 - val_accuracy: 0.7164\n",
      "Epoch 2/200\n",
      "27/27 [==============================] - 0s 3ms/step - loss: 0.5728 - accuracy: 0.7218 - val_loss: 0.5814 - val_accuracy: 0.7164\n",
      "Epoch 3/200\n",
      "27/27 [==============================] - 0s 2ms/step - loss: 0.5697 - accuracy: 0.7293 - val_loss: 0.5755 - val_accuracy: 0.7164\n",
      "Epoch 4/200\n",
      "27/27 [==============================] - 0s 3ms/step - loss: 0.5681 - accuracy: 0.7218 - val_loss: 0.5742 - val_accuracy: 0.7164\n",
      "Epoch 5/200\n",
      "27/27 [==============================] - 0s 3ms/step - loss: 0.5755 - accuracy: 0.7218 - val_loss: 0.5773 - val_accuracy: 0.7164\n",
      "Epoch 6/200\n",
      "27/27 [==============================] - 0s 3ms/step - loss: 0.5736 - accuracy: 0.7218 - val_loss: 0.5763 - val_accuracy: 0.7164\n",
      "Epoch 7/200\n",
      "27/27 [==============================] - 0s 3ms/step - loss: 0.5668 - accuracy: 0.7256 - val_loss: 0.5753 - val_accuracy: 0.7164\n",
      "Epoch 8/200\n",
      "27/27 [==============================] - 0s 3ms/step - loss: 0.5667 - accuracy: 0.7218 - val_loss: 0.5715 - val_accuracy: 0.7164\n",
      "Epoch 9/200\n",
      "27/27 [==============================] - 0s 2ms/step - loss: 0.5667 - accuracy: 0.7218 - val_loss: 0.5714 - val_accuracy: 0.7164\n",
      "Epoch 10/200\n",
      "27/27 [==============================] - 0s 3ms/step - loss: 0.5719 - accuracy: 0.7218 - val_loss: 0.5742 - val_accuracy: 0.7164\n",
      "Epoch 11/200\n",
      "27/27 [==============================] - 0s 3ms/step - loss: 0.5664 - accuracy: 0.7218 - val_loss: 0.5700 - val_accuracy: 0.7164\n",
      "Epoch 12/200\n",
      "27/27 [==============================] - 0s 3ms/step - loss: 0.5589 - accuracy: 0.7218 - val_loss: 0.5694 - val_accuracy: 0.7164\n",
      "Epoch 13/200\n",
      "27/27 [==============================] - 0s 3ms/step - loss: 0.5722 - accuracy: 0.7180 - val_loss: 0.5689 - val_accuracy: 0.7164\n",
      "Epoch 14/200\n",
      "27/27 [==============================] - 0s 3ms/step - loss: 0.5632 - accuracy: 0.7218 - val_loss: 0.5678 - val_accuracy: 0.7164\n",
      "Epoch 15/200\n",
      "27/27 [==============================] - 0s 3ms/step - loss: 0.5540 - accuracy: 0.7218 - val_loss: 0.5667 - val_accuracy: 0.7164\n",
      "Epoch 16/200\n",
      "27/27 [==============================] - 0s 2ms/step - loss: 0.5536 - accuracy: 0.7218 - val_loss: 0.5648 - val_accuracy: 0.7313\n",
      "Epoch 17/200\n",
      "27/27 [==============================] - 0s 2ms/step - loss: 0.5578 - accuracy: 0.7218 - val_loss: 0.5646 - val_accuracy: 0.7313\n",
      "Epoch 18/200\n",
      "27/27 [==============================] - 0s 3ms/step - loss: 0.5476 - accuracy: 0.7293 - val_loss: 0.5634 - val_accuracy: 0.7313\n",
      "Epoch 19/200\n",
      "27/27 [==============================] - 0s 3ms/step - loss: 0.5514 - accuracy: 0.7256 - val_loss: 0.5616 - val_accuracy: 0.7463\n",
      "Epoch 20/200\n",
      "27/27 [==============================] - 0s 3ms/step - loss: 0.5514 - accuracy: 0.7256 - val_loss: 0.5573 - val_accuracy: 0.7313\n",
      "Epoch 21/200\n",
      "27/27 [==============================] - 0s 3ms/step - loss: 0.5473 - accuracy: 0.7256 - val_loss: 0.5557 - val_accuracy: 0.7313\n",
      "Epoch 22/200\n",
      "27/27 [==============================] - 0s 3ms/step - loss: 0.5388 - accuracy: 0.7293 - val_loss: 0.5553 - val_accuracy: 0.7612\n",
      "Epoch 23/200\n",
      "27/27 [==============================] - 0s 3ms/step - loss: 0.5351 - accuracy: 0.7331 - val_loss: 0.5553 - val_accuracy: 0.7463\n",
      "Epoch 24/200\n",
      "27/27 [==============================] - 0s 3ms/step - loss: 0.5464 - accuracy: 0.7331 - val_loss: 0.5528 - val_accuracy: 0.7463\n",
      "Epoch 25/200\n",
      "27/27 [==============================] - 0s 3ms/step - loss: 0.5423 - accuracy: 0.7256 - val_loss: 0.5512 - val_accuracy: 0.7313\n",
      "Epoch 26/200\n",
      "27/27 [==============================] - 0s 3ms/step - loss: 0.5335 - accuracy: 0.7368 - val_loss: 0.5524 - val_accuracy: 0.7463\n",
      "Epoch 27/200\n",
      "27/27 [==============================] - 0s 3ms/step - loss: 0.5286 - accuracy: 0.7481 - val_loss: 0.5529 - val_accuracy: 0.7313\n",
      "Epoch 28/200\n",
      "27/27 [==============================] - 0s 3ms/step - loss: 0.5317 - accuracy: 0.7594 - val_loss: 0.5457 - val_accuracy: 0.7463\n",
      "Epoch 29/200\n",
      "27/27 [==============================] - 0s 3ms/step - loss: 0.5252 - accuracy: 0.7481 - val_loss: 0.5500 - val_accuracy: 0.7463\n",
      "Epoch 30/200\n",
      "27/27 [==============================] - 0s 3ms/step - loss: 0.5217 - accuracy: 0.7556 - val_loss: 0.5485 - val_accuracy: 0.7463\n",
      "Epoch 31/200\n",
      "27/27 [==============================] - 0s 3ms/step - loss: 0.5314 - accuracy: 0.7406 - val_loss: 0.5509 - val_accuracy: 0.7612\n",
      "Epoch 32/200\n",
      "27/27 [==============================] - 0s 3ms/step - loss: 0.5178 - accuracy: 0.7594 - val_loss: 0.5448 - val_accuracy: 0.7463\n",
      "Epoch 33/200\n",
      "27/27 [==============================] - 0s 2ms/step - loss: 0.5236 - accuracy: 0.7481 - val_loss: 0.5533 - val_accuracy: 0.7463\n",
      "Epoch 34/200\n",
      "27/27 [==============================] - 0s 2ms/step - loss: 0.5227 - accuracy: 0.7632 - val_loss: 0.5472 - val_accuracy: 0.7463\n",
      "Epoch 35/200\n",
      "27/27 [==============================] - 0s 3ms/step - loss: 0.5155 - accuracy: 0.7519 - val_loss: 0.5464 - val_accuracy: 0.7463\n",
      "Epoch 36/200\n",
      "27/27 [==============================] - 0s 3ms/step - loss: 0.5105 - accuracy: 0.7707 - val_loss: 0.5468 - val_accuracy: 0.7463\n",
      "Epoch 37/200\n",
      "27/27 [==============================] - 0s 3ms/step - loss: 0.5255 - accuracy: 0.7632 - val_loss: 0.5554 - val_accuracy: 0.7463\n",
      "Epoch 38/200\n",
      "27/27 [==============================] - 0s 3ms/step - loss: 0.5211 - accuracy: 0.7556 - val_loss: 0.5566 - val_accuracy: 0.7463\n",
      "Epoch 39/200\n",
      "27/27 [==============================] - 0s 3ms/step - loss: 0.5095 - accuracy: 0.7744 - val_loss: 0.5546 - val_accuracy: 0.7164\n",
      "Epoch 40/200\n",
      "27/27 [==============================] - 0s 3ms/step - loss: 0.5082 - accuracy: 0.7707 - val_loss: 0.5515 - val_accuracy: 0.7463\n",
      "Epoch 41/200\n",
      "27/27 [==============================] - 0s 3ms/step - loss: 0.5139 - accuracy: 0.7707 - val_loss: 0.5507 - val_accuracy: 0.7463\n",
      "Epoch 42/200\n",
      "27/27 [==============================] - 0s 3ms/step - loss: 0.5122 - accuracy: 0.7669 - val_loss: 0.5527 - val_accuracy: 0.7164\n",
      "Epoch 43/200\n",
      "27/27 [==============================] - 0s 3ms/step - loss: 0.5221 - accuracy: 0.7519 - val_loss: 0.5517 - val_accuracy: 0.7164\n",
      "Epoch 44/200\n",
      "27/27 [==============================] - 0s 3ms/step - loss: 0.5091 - accuracy: 0.7594 - val_loss: 0.5506 - val_accuracy: 0.7612\n",
      "Epoch 45/200\n",
      "27/27 [==============================] - 0s 3ms/step - loss: 0.4968 - accuracy: 0.7707 - val_loss: 0.5461 - val_accuracy: 0.7463\n",
      "Epoch 46/200\n",
      "27/27 [==============================] - 0s 3ms/step - loss: 0.5114 - accuracy: 0.7556 - val_loss: 0.5511 - val_accuracy: 0.7463\n",
      "Epoch 47/200\n",
      "27/27 [==============================] - 0s 3ms/step - loss: 0.5068 - accuracy: 0.7556 - val_loss: 0.5678 - val_accuracy: 0.7612\n",
      "Epoch 48/200\n",
      "27/27 [==============================] - 0s 3ms/step - loss: 0.4989 - accuracy: 0.7594 - val_loss: 0.5617 - val_accuracy: 0.7463\n",
      "Epoch 49/200\n",
      "27/27 [==============================] - 0s 2ms/step - loss: 0.5177 - accuracy: 0.7556 - val_loss: 0.5660 - val_accuracy: 0.7463\n",
      "Epoch 50/200\n",
      "27/27 [==============================] - 0s 3ms/step - loss: 0.5037 - accuracy: 0.7632 - val_loss: 0.5604 - val_accuracy: 0.7463\n",
      "Epoch 51/200\n",
      "27/27 [==============================] - 0s 3ms/step - loss: 0.5070 - accuracy: 0.7632 - val_loss: 0.5573 - val_accuracy: 0.7612\n",
      "Epoch 52/200\n",
      "27/27 [==============================] - 0s 3ms/step - loss: 0.5083 - accuracy: 0.7556 - val_loss: 0.5566 - val_accuracy: 0.7164\n",
      "Epoch 53/200\n",
      "27/27 [==============================] - 0s 2ms/step - loss: 0.5010 - accuracy: 0.7594 - val_loss: 0.5557 - val_accuracy: 0.7463\n",
      "Epoch 54/200\n",
      "27/27 [==============================] - 0s 3ms/step - loss: 0.4950 - accuracy: 0.7632 - val_loss: 0.5653 - val_accuracy: 0.7463\n",
      "Epoch 55/200\n",
      "27/27 [==============================] - 0s 2ms/step - loss: 0.4906 - accuracy: 0.7669 - val_loss: 0.5636 - val_accuracy: 0.7463\n",
      "Epoch 56/200\n",
      "27/27 [==============================] - 0s 3ms/step - loss: 0.5020 - accuracy: 0.7669 - val_loss: 0.5636 - val_accuracy: 0.7463\n",
      "Epoch 57/200\n",
      "27/27 [==============================] - 0s 2ms/step - loss: 0.4923 - accuracy: 0.7556 - val_loss: 0.5679 - val_accuracy: 0.7612\n",
      "Epoch 58/200\n",
      "27/27 [==============================] - 0s 3ms/step - loss: 0.4991 - accuracy: 0.7669 - val_loss: 0.5709 - val_accuracy: 0.7164\n"
     ]
    },
    {
     "name": "stdout",
     "output_type": "stream",
     "text": [
      "Epoch 59/200\n",
      "27/27 [==============================] - 0s 3ms/step - loss: 0.5034 - accuracy: 0.7632 - val_loss: 0.5749 - val_accuracy: 0.7164\n",
      "Epoch 60/200\n",
      "27/27 [==============================] - 0s 3ms/step - loss: 0.4927 - accuracy: 0.7594 - val_loss: 0.5716 - val_accuracy: 0.7164\n",
      "Epoch 61/200\n",
      "27/27 [==============================] - 0s 2ms/step - loss: 0.5003 - accuracy: 0.7669 - val_loss: 0.5711 - val_accuracy: 0.7164\n",
      "Epoch 62/200\n",
      "27/27 [==============================] - 0s 3ms/step - loss: 0.4859 - accuracy: 0.7669 - val_loss: 0.5762 - val_accuracy: 0.7164\n",
      "5/5 [==============================] - 0s 2ms/step - loss: 0.4749 - accuracy: 0.7917\n",
      "test_loss:  0.4748517572879791\n",
      "test_acc:  0.7916666865348816\n"
     ]
    }
   ],
   "source": [
    "hist = model.fit(\n",
    "    train_x, train_y,\n",
    "    batch_size = 10,  \n",
    "    epochs = 200,      \n",
    "    validation_split = 0.2,\n",
    "    shuffle = False,\n",
    "    callbacks=[tf.keras.callbacks.EarlyStopping(monitor='val_loss', patience = 30)],\n",
    "    verbose=1)  \n",
    "\n",
    "# 테스트 데이터로 성능평가\n",
    "score = model.evaluate(test_x, test_y)\n",
    "print('test_loss: ', score[0])\n",
    "print('test_acc: ', score[1])"
   ]
  },
  {
   "cell_type": "code",
   "execution_count": 1062,
   "id": "0e58587f",
   "metadata": {},
   "outputs": [
    {
     "data": {
      "image/png": "[encoded data removed]",
      "text/plain": [
       "<Figure size 432x288 with 2 Axes>"
      ]
     },
     "metadata": {
      "needs_background": "light"
     },
     "output_type": "display_data"
    }
   ],
   "source": [
    "import matplotlib.pyplot as plt\n",
    "\n",
    "fig, loss_ax = plt.subplots()\n",
    "acc_ax = loss_ax.twinx()\n",
    "\n",
    "loss_ax.plot(hist.history['loss'], 'y', label='train loss')\n",
    "loss_ax.plot(hist.history['val_loss'], 'r', label='val loss')\n",
    "\n",
    "acc_ax.plot(hist.history['accuracy'], 'b', label='train acc')\n",
    "acc_ax.plot(hist.history['val_accuracy'], 'g', label='val acc')\n",
    "\n",
    "loss_ax.set_xlabel('epoch')\n",
    "loss_ax.set_ylabel('loss')\n",
    "acc_ax.set_ylabel('accuray')\n",
    "\n",
    "loss_ax.legend(loc='upper left')\n",
    "acc_ax.legend(loc='lower left')\n",
    "\n",
    "plt.show()"
   ]
  },
  {
   "cell_type": "code",
   "execution_count": 1063,
   "id": "2ce4afa7",
   "metadata": {},
   "outputs": [],
   "source": [
    "y_pred = model.predict(test_x)"
   ]
  },
  {
   "cell_type": "code",
   "execution_count": 1064,
   "id": "05dfb180",
   "metadata": {},
   "outputs": [
    {
     "name": "stdout",
     "output_type": "stream",
     "text": [
      "[[0.0945966  0.90540344]\n",
      " [0.19727658 0.80272347]\n",
      " [0.10342956 0.89657044]\n",
      " [0.35718846 0.64281154]\n",
      " [0.23141108 0.7685889 ]\n",
      " [0.19727658 0.80272347]\n",
      " [0.09198134 0.9080187 ]\n",
      " [0.66522527 0.33477473]\n",
      " [0.17598651 0.8240135 ]\n",
      " [0.11146092 0.88853914]\n",
      " [0.18386158 0.81613845]\n",
      " [0.545839   0.45416093]\n",
      " [0.34860116 0.6513988 ]\n",
      " [0.26558316 0.7344169 ]\n",
      " [0.18567012 0.8143299 ]\n",
      " [0.33554026 0.6644597 ]\n",
      " [0.1377426  0.8622575 ]\n",
      " [0.26558316 0.7344169 ]\n",
      " [0.30766442 0.6923356 ]\n",
      " [0.26558316 0.7344169 ]\n",
      " [0.32374668 0.6762533 ]\n",
      " [0.3188201  0.68117994]\n",
      " [0.35718846 0.64281154]\n",
      " [0.07860617 0.9213938 ]\n",
      " [0.3848475  0.6151526 ]\n",
      " [0.85894316 0.14105685]\n",
      " [0.26558316 0.7344169 ]\n",
      " [0.35718846 0.64281154]\n",
      " [0.26558316 0.7344169 ]\n",
      " [0.01693133 0.9830687 ]\n",
      " [0.10342953 0.89657044]\n",
      " [0.19774374 0.8022562 ]\n",
      " [0.28083003 0.71917   ]\n",
      " [0.39580235 0.60419756]\n",
      " [0.26558316 0.7344169 ]\n",
      " [0.26558316 0.7344169 ]\n",
      " [0.42566663 0.5743334 ]\n",
      " [0.35718846 0.64281154]\n",
      " [0.23052587 0.7694741 ]\n",
      " [0.17018601 0.829814  ]\n",
      " [0.24636377 0.75363624]\n",
      " [0.01553002 0.98447   ]\n",
      " [0.04989344 0.9501066 ]\n",
      " [0.37304604 0.62695396]\n",
      " [0.00380762 0.99619234]\n",
      " [0.75988525 0.24011476]\n",
      " [0.8744572  0.12554291]\n",
      " [0.0873028  0.9126972 ]\n",
      " [0.30016348 0.69983655]\n",
      " [0.11498472 0.88501525]\n",
      " [0.10342956 0.89657044]\n",
      " [0.26558316 0.7344169 ]\n",
      " [0.2603462  0.73965377]\n",
      " [0.32374668 0.6762533 ]\n",
      " [0.20265372 0.79734623]\n",
      " [0.38117778 0.6188222 ]\n",
      " [0.26558316 0.7344169 ]\n",
      " [0.11544388 0.88455606]\n",
      " [0.6750439  0.32495615]\n",
      " [0.10342956 0.89657044]\n",
      " [0.5329917  0.46700826]\n",
      " [0.19727658 0.80272347]\n",
      " [0.20639113 0.7936089 ]\n",
      " [0.26558307 0.73441696]\n",
      " [0.42566663 0.5743334 ]\n",
      " [0.33554026 0.6644597 ]\n",
      " [0.021648   0.97835195]\n",
      " [0.2603462  0.73965377]\n",
      " [0.20387208 0.7961279 ]\n",
      " [0.24191038 0.7580896 ]\n",
      " [0.03742878 0.9625712 ]\n",
      " [0.26558316 0.7344169 ]\n",
      " [0.20731983 0.7926802 ]\n",
      " [0.26558316 0.7344169 ]\n",
      " [0.37304604 0.62695396]\n",
      " [0.35718846 0.64281154]\n",
      " [0.26558316 0.7344169 ]\n",
      " [0.35718846 0.64281154]\n",
      " [0.8744572  0.12554291]\n",
      " [0.8831503  0.11684974]\n",
      " [0.07288093 0.92711914]\n",
      " [0.16147807 0.83852196]\n",
      " [0.6750439  0.32495615]\n",
      " [0.462813   0.5371871 ]\n",
      " [0.47557965 0.52442026]\n",
      " [0.19727658 0.80272347]\n",
      " [0.3740911  0.6259089 ]\n",
      " [0.35718846 0.64281154]\n",
      " [0.11241754 0.88758254]\n",
      " [0.289029   0.710971  ]\n",
      " [0.653715   0.34628496]\n",
      " [0.35718846 0.64281154]\n",
      " [0.33329734 0.6667026 ]\n",
      " [0.00257373 0.9974262 ]\n",
      " [0.3811778  0.6188222 ]\n",
      " [0.27752626 0.72247374]\n",
      " [0.35718846 0.64281154]\n",
      " [0.00372938 0.99627066]\n",
      " [0.53798395 0.4620161 ]\n",
      " [0.10342956 0.89657044]\n",
      " [0.38680878 0.61319125]\n",
      " [0.329822   0.67017794]\n",
      " [0.7875904  0.2124096 ]\n",
      " [0.7201497  0.27985033]\n",
      " [0.23507953 0.7649205 ]\n",
      " [0.3589466  0.6410534 ]\n",
      " [0.42566663 0.5743334 ]\n",
      " [0.26558316 0.7344169 ]\n",
      " [0.35718846 0.64281154]\n",
      " [0.35858437 0.6414156 ]\n",
      " [0.28083003 0.71917   ]\n",
      " [0.08350261 0.9164974 ]\n",
      " [0.28083003 0.71917   ]\n",
      " [0.35858437 0.6414156 ]\n",
      " [0.71158767 0.28841236]\n",
      " [0.19727658 0.80272347]\n",
      " [0.42566663 0.5743334 ]\n",
      " [0.26581565 0.7341843 ]\n",
      " [0.33770308 0.66229695]\n",
      " [0.37676978 0.6232302 ]\n",
      " [0.26558316 0.7344169 ]\n",
      " [0.21201657 0.7879834 ]\n",
      " [0.6908769  0.30912307]\n",
      " [0.19727658 0.80272347]\n",
      " [0.1282196  0.87178034]\n",
      " [0.33554026 0.6644597 ]\n",
      " [0.24537972 0.75462025]\n",
      " [0.35718843 0.64281154]\n",
      " [0.20731983 0.7926802 ]\n",
      " [0.26558316 0.7344169 ]\n",
      " [0.35718846 0.64281154]\n",
      " [0.38680878 0.61319125]\n",
      " [0.32618466 0.6738153 ]\n",
      " [0.20731983 0.7926802 ]\n",
      " [0.00790545 0.9920946 ]\n",
      " [0.23397475 0.7660252 ]\n",
      " [0.00909134 0.9909087 ]\n",
      " [0.35718846 0.64281154]\n",
      " [0.33770308 0.66229695]\n",
      " [0.0067056  0.9932944 ]\n",
      " [0.10342956 0.89657044]\n",
      " [0.00210794 0.9978921 ]\n",
      " [0.0625681  0.93743193]\n",
      " [0.47438985 0.52561015]]\n"
     ]
    }
   ],
   "source": [
    "print(y_pred)"
   ]
  },
  {
   "cell_type": "code",
   "execution_count": 1065,
   "id": "4fccbdc5",
   "metadata": {},
   "outputs": [
    {
     "data": {
      "text/plain": [
       "array([1, 1, 1, 1, 1, 1, 1, 0, 1, 1, 1, 0, 1, 1, 1, 1, 1, 1, 1, 1, 1, 1,\n",
       "       1, 1, 1, 0, 1, 1, 1, 1, 1, 1, 1, 1, 1, 1, 1, 1, 1, 1, 1, 1, 1, 1,\n",
       "       1, 0, 0, 1, 1, 1, 1, 1, 1, 1, 1, 1, 1, 1, 0, 1, 0, 1, 1, 1, 1, 1,\n",
       "       1, 1, 1, 1, 1, 1, 1, 1, 1, 1, 1, 1, 0, 0, 1, 1, 0, 1, 1, 1, 1, 1,\n",
       "       1, 1, 0, 1, 1, 1, 1, 1, 1, 1, 0, 1, 1, 1, 0, 0, 1, 1, 1, 1, 1, 1,\n",
       "       1, 1, 1, 1, 0, 1, 1, 1, 1, 1, 1, 1, 0, 1, 1, 1, 1, 1, 1, 1, 1, 1,\n",
       "       1, 1, 1, 1, 1, 1, 1, 1, 1, 1, 1, 1], dtype=int64)"
      ]
     },
     "execution_count": 1065,
     "metadata": {},
     "output_type": "execute_result"
    }
   ],
   "source": [
    "y_class = y_pred.argmax(axis=-1)\n",
    "y_class"
   ]
  },
  {
   "cell_type": "code",
   "execution_count": 1066,
   "id": "238d51f4",
   "metadata": {},
   "outputs": [
    {
     "name": "stdout",
     "output_type": "stream",
     "text": [
      "[1, 1, 1, 0, 1, 1, 1, 0, 1, 1, 1, 1, 1, 1, 1, 1, 1, 1, 1, 1, 1, 1, 0, 1, 1, 1, 1, 1, 1, 1, 1, 0, 1, 1, 1, 1, 0, 1, 0, 1, 1, 1, 1, 0, 1, 1, 0, 1, 1, 1, 1, 1, 1, 1, 1, 1, 0, 1, 1, 1, 0, 1, 1, 0, 1, 1, 1, 1, 0, 1, 1, 1, 1, 1, 1, 1, 0, 1, 0, 0, 1, 0, 1, 0, 0, 0, 1, 1, 1, 1, 0, 1, 0, 1, 1, 1, 1, 1, 0, 1, 1, 0, 1, 0, 1, 0, 1, 1, 1, 1, 1, 1, 1, 0, 0, 1, 1, 1, 0, 0, 1, 1, 1, 1, 1, 1, 0, 1, 1, 0, 1, 1, 1, 1, 1, 1, 1, 0, 1, 1, 1, 1, 1, 1]\n"
     ]
    }
   ],
   "source": [
    "print(test__y)"
   ]
  },
  {
   "cell_type": "code",
   "execution_count": 1067,
   "id": "b340ad20",
   "metadata": {},
   "outputs": [
    {
     "name": "stdout",
     "output_type": "stream",
     "text": [
      "0.7630208333333334\n"
     ]
    }
   ],
   "source": [
    "from sklearn.metrics import precision_score , recall_score , confusion_matrix, f1_score\n",
    "precision = precision_score(test__y, y_class, average = 'weighted')\n",
    "print(precision)"
   ]
  },
  {
   "cell_type": "code",
   "execution_count": 1068,
   "id": "931330d7",
   "metadata": {},
   "outputs": [
    {
     "name": "stdout",
     "output_type": "stream",
     "text": [
      "0.7916666666666666\n"
     ]
    }
   ],
   "source": [
    "recall = recall_score(test__y, y_class, average ='weighted')\n",
    "print(recall)"
   ]
  },
  {
   "cell_type": "code",
   "execution_count": 1070,
   "id": "579140ef",
   "metadata": {},
   "outputs": [
    {
     "name": "stdout",
     "output_type": "stream",
     "text": [
      "0.7638888888888888\n"
     ]
    }
   ],
   "source": [
    "print(f1_score(test__y, y_class, average= 'weighted'))"
   ]
  },
  {
   "cell_type": "code",
   "execution_count": 1071,
   "id": "86379a21",
   "metadata": {},
   "outputs": [
    {
     "data": {
      "text/plain": [
       "array([[  9,  23],\n",
       "       [  7, 105]], dtype=int64)"
      ]
     },
     "execution_count": 1071,
     "metadata": {},
     "output_type": "execute_result"
    }
   ],
   "source": [
    "confusion_matrix(test__y, y_class)"
   ]
  },
  {
   "cell_type": "code",
   "execution_count": null,
   "id": "7c3825c7",
   "metadata": {},
   "outputs": [],
   "source": []
  },
  {
   "cell_type": "code",
   "execution_count": null,
   "id": "05b999ff",
   "metadata": {},
   "outputs": [],
   "source": []
  }
 ],
 "metadata": {
  "kernelspec": {
   "display_name": "Python 3",
   "language": "python",
   "name": "python3"
  },
  "language_info": {
   "codemirror_mode": {
    "name": "ipython",
    "version": 3
   },
   "file_extension": ".py",
   "mimetype": "text/x-python",
   "name": "python",
   "nbconvert_exporter": "python",
   "pygments_lexer": "ipython3",
   "version": "3.8.8"
  }
 },
 "nbformat": 4,
 "nbformat_minor": 5
}
