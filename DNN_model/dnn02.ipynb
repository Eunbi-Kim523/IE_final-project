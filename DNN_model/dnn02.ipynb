{
 "cells": [
  {
   "cell_type": "code",
   "execution_count": 1,
   "id": "960f955d",
   "metadata": {},
   "outputs": [],
   "source": [
    "import numpy as np\n",
    "import pandas as pd\n",
    "import tensorflow as tf\n",
    "from tensorflow.keras import layers  #모듈(변수나 함수를 포함)만 불러오기\n",
    "\n",
    "# BMI 데이터를 읽어 들이고 정규화하기\n",
    "df = pd.read_csv('colresult.csv')"
   ]
  },
  {
   "cell_type": "code",
   "execution_count": 2,
   "id": "56414048",
   "metadata": {},
   "outputs": [
    {
     "name": "stdout",
     "output_type": "stream",
     "text": [
      "          발매가  브랜드  라인  콜라보       검색량  month  day  color_num  col1  col2  \\\n",
      "0      259000    3  21    0  2.072390      4    0          1     9     0   \n",
      "1      259000    3  21    0  1.961860      4    1          1     9     0   \n",
      "2      259000    3  21    0  1.975680      4    2          1     9     0   \n",
      "3      259000    3  21    0  1.878970      4    3          1     9     0   \n",
      "4      259000    3  21    0  1.782260      4    4          1     9     0   \n",
      "...       ...  ...  ..  ...       ...    ...  ...        ...   ...   ...   \n",
      "43948  209000    5  28   40  0.165783     10   88          1     9     0   \n",
      "43949  209000    5  28   40  0.165783     10   89          1     9     0   \n",
      "43950  209000    5  28   40  0.165783     10   90          1     9     0   \n",
      "43951  209000    5  28   40  0.165783     10   91          1     9     0   \n",
      "43952  209000    5  28   40  0.165783     10   92          1     9     0   \n",
      "\n",
      "       col3  col4  col5  type  \n",
      "0         0     0     0    ok  \n",
      "1         0     0     0    ok  \n",
      "2         0     0     0    ok  \n",
      "3         0     0     0    ok  \n",
      "4         0     0     0    ok  \n",
      "...     ...   ...   ...   ...  \n",
      "43948     0     0     0  none  \n",
      "43949     0     0     0  none  \n",
      "43950     0     0     0  none  \n",
      "43951     0     0     0  none  \n",
      "43952     0     0     0  none  \n",
      "\n",
      "[43953 rows x 14 columns]\n"
     ]
    }
   ],
   "source": [
    "print(df)"
   ]
  },
  {
   "cell_type": "code",
   "execution_count": 4,
   "id": "3f5b833b",
   "metadata": {},
   "outputs": [],
   "source": [
    "df = df.sample(frac=1).reset_index(drop=True)"
   ]
  },
  {
   "cell_type": "code",
   "execution_count": 5,
   "id": "ce32952a",
   "metadata": {},
   "outputs": [
    {
     "data": {
      "text/plain": [
       "발매가            int64\n",
       "브랜드            int64\n",
       "라인             int64\n",
       "콜라보            int64\n",
       "검색량          float64\n",
       "month          int64\n",
       "day            int64\n",
       "color_num      int64\n",
       "col1           int64\n",
       "col2           int64\n",
       "col3           int64\n",
       "col4           int64\n",
       "col5           int64\n",
       "type          object\n",
       "dtype: object"
      ]
     },
     "execution_count": 5,
     "metadata": {},
     "output_type": "execute_result"
    }
   ],
   "source": [
    "df.dtypes"
   ]
  },
  {
   "cell_type": "code",
   "execution_count": 6,
   "id": "edf73f14",
   "metadata": {},
   "outputs": [],
   "source": [
    "df = df[0:40000]"
   ]
  },
  {
   "cell_type": "code",
   "execution_count": 7,
   "id": "5f084c74",
   "metadata": {},
   "outputs": [
    {
     "name": "stdout",
     "output_type": "stream",
     "text": [
      "          발매가  브랜드  라인  콜라보       검색량  month  day  color_num  col1  col2  \\\n",
      "0      279000    3  19    0  0.082890     11   73          1     9     0   \n",
      "1      149000    3  24    0  0.138150      2   56          1     9     0   \n",
      "2      119000    2   9    0  0.151968      4    7          2     3     5   \n",
      "3      169000    1   1   18  0.069076     12   85          3    11    11   \n",
      "4      129000    1  29    0  0.069075      1   63          2     3    13   \n",
      "...       ...  ...  ..  ...       ...    ...  ...        ...   ...   ...   \n",
      "39995  129000    3  17    0  0.082892      7   81          2     9     7   \n",
      "39996  109000    1   8    0  0.069076      4   46          3    13    11   \n",
      "39997  129000    1  29    0  0.069075      1   31          2     3    13   \n",
      "39998  119000    1  29    0  0.524990      1   75          3    11     7   \n",
      "39999  229000    2  12    0  0.069076      4   10          3     2     5   \n",
      "\n",
      "       col3  col4  col5    type  \n",
      "0         0     0     0      ok  \n",
      "1         0     0     0      ok  \n",
      "2         0     0     0      ok  \n",
      "3         3     0     0  double  \n",
      "4         0     0     0      ok  \n",
      "...     ...   ...   ...     ...  \n",
      "39995     0     0     0      ok  \n",
      "39996     5     0     0    none  \n",
      "39997     0     0     0      ok  \n",
      "39998     8     0     0  double  \n",
      "39999     3     0     0    none  \n",
      "\n",
      "[40000 rows x 14 columns]\n"
     ]
    }
   ],
   "source": [
    "print(df)"
   ]
  },
  {
   "cell_type": "code",
   "execution_count": 8,
   "id": "008930d4",
   "metadata": {},
   "outputs": [],
   "source": [
    "yx = df[\"type\"]"
   ]
  },
  {
   "cell_type": "code",
   "execution_count": 9,
   "id": "3ddadfc6",
   "metadata": {},
   "outputs": [
    {
     "name": "stdout",
     "output_type": "stream",
     "text": [
      "0            ok\n",
      "1            ok\n",
      "2            ok\n",
      "3        double\n",
      "4            ok\n",
      "          ...  \n",
      "39995        ok\n",
      "39996      none\n",
      "39997        ok\n",
      "39998    double\n",
      "39999      none\n",
      "Name: type, Length: 40000, dtype: object\n"
     ]
    }
   ],
   "source": [
    "print(yx)"
   ]
  },
  {
   "cell_type": "code",
   "execution_count": 10,
   "id": "1198b522",
   "metadata": {},
   "outputs": [
    {
     "name": "stderr",
     "output_type": "stream",
     "text": [
      "<ipython-input-10-cfa56e912779>:2: DeprecationWarning: `np.int` is a deprecated alias for the builtin `int`. To silence this warning, use `int` by itself. Doing this will not modify any behavior and is safe. When replacing `np.int`, you may wish to use e.g. `np.int64` or `np.int32` to specify the precision. If you wish to review your current use, check the release note link for additional information.\n",
      "Deprecated in NumPy 1.20; for more details and guidance: https://numpy.org/devdocs/release/1.20.0-notes.html#deprecations\n",
      "  X=np.asarray(X).astype(np.int)\n"
     ]
    }
   ],
   "source": [
    "X = df.iloc[:,0:7]\n",
    "X=np.asarray(X).astype(np.int)\n",
    "y = np.empty((40000,3))"
   ]
  },
  {
   "cell_type": "code",
   "execution_count": 11,
   "id": "6963bc12",
   "metadata": {},
   "outputs": [],
   "source": [
    "for i in range(40000):\n",
    "    if yx[i] == \"none\":\n",
    "        y[i] = [1, 0, 0]\n",
    "    elif yx[i] == \"ok\":\n",
    "        y[i] = [0, 1, 0]\n",
    "    else:\n",
    "        y[i] = [0, 0, 1]"
   ]
  },
  {
   "cell_type": "code",
   "execution_count": 12,
   "id": "436cb71c",
   "metadata": {},
   "outputs": [],
   "source": [
    "# 훈련 전용 데이터와 테스트 전용 데이터로 나누기\n",
    "X_train, y_train = X[0:30000], y[0:30000]\n",
    "X_test,  y_test  = X[30000:40000], y[30000:40000]"
   ]
  },
  {
   "cell_type": "code",
   "execution_count": 13,
   "id": "fa26f770",
   "metadata": {},
   "outputs": [],
   "source": [
    "model = tf.keras.Sequential()  \n",
    "model.add(layers.Dense(28, input_shape=(7,)))  \n",
    "model.add(layers.Activation('relu')) \n",
    "model.add(layers.Dropout(0.02))        \n",
    "\n",
    "model.add(layers.Dense(32))         \n",
    "model.add(layers.Activation('relu'))\n",
    "model.add(layers.Dropout(0.02))\n",
    "\n",
    "model.add(layers.Dense(64))         \n",
    "model.add(layers.Activation('relu'))\n",
    "model.add(layers.Dropout(0.02))\n",
    "\n",
    "model.add(layers.Dense(32))         \n",
    "model.add(layers.Activation('relu'))\n",
    "model.add(layers.Dropout(0.02))\n",
    "\n",
    "model.add(layers.Dense(3))\n",
    "model.add(layers.Activation('softmax')) \n",
    "\n",
    "# 모델 구축\n",
    "model.compile(\n",
    "    loss='categorical_crossentropy', \n",
    "    optimizer=\"rmsprop\",   \n",
    "    metrics=['accuracy'])  "
   ]
  },
  {
   "cell_type": "code",
   "execution_count": 14,
   "id": "81dc07b1",
   "metadata": {
    "scrolled": true
   },
   "outputs": [
    {
     "name": "stdout",
     "output_type": "stream",
     "text": [
      "Epoch 1/100\n",
      "480/480 [==============================] - 1s 2ms/step - loss: 803.1110 - accuracy: 0.3751 - val_loss: 1.0944 - val_accuracy: 0.3693- ETA: 0s - loss: 1410.4391 - accuracy\n",
      "Epoch 2/100\n",
      "480/480 [==============================] - 1s 2ms/step - loss: 1.9984 - accuracy: 0.4439 - val_loss: 1.0358 - val_accuracy: 0.4540\n",
      "Epoch 3/100\n",
      "480/480 [==============================] - 1s 2ms/step - loss: 1.1294 - accuracy: 0.4580 - val_loss: 1.0327 - val_accuracy: 0.4540\n",
      "Epoch 4/100\n",
      "480/480 [==============================] - 1s 2ms/step - loss: 1.0788 - accuracy: 0.4581 - val_loss: 1.0328 - val_accuracy: 0.4540\n",
      "Epoch 5/100\n",
      "480/480 [==============================] - 1s 2ms/step - loss: 1.1678 - accuracy: 0.4582 - val_loss: 1.0329 - val_accuracy: 0.4540\n",
      "Epoch 6/100\n",
      "480/480 [==============================] - 1s 2ms/step - loss: 1.0549 - accuracy: 0.4580 - val_loss: 1.0329 - val_accuracy: 0.4540\n",
      "Epoch 7/100\n",
      "480/480 [==============================] - 1s 2ms/step - loss: 1.1441 - accuracy: 0.4580 - val_loss: 1.0329 - val_accuracy: 0.4540\n",
      "Epoch 8/100\n",
      "480/480 [==============================] - 1s 2ms/step - loss: 1.0522 - accuracy: 0.4581 - val_loss: 1.0329 - val_accuracy: 0.4540\n",
      "Epoch 9/100\n",
      "480/480 [==============================] - 1s 2ms/step - loss: 1.0332 - accuracy: 0.4581 - val_loss: 1.0329 - val_accuracy: 0.4540\n",
      "Epoch 10/100\n",
      "480/480 [==============================] - 1s 2ms/step - loss: 1.0506 - accuracy: 0.4580 - val_loss: 1.0329 - val_accuracy: 0.4540\n",
      "Epoch 11/100\n",
      "480/480 [==============================] - 1s 2ms/step - loss: 1.0619 - accuracy: 0.4580 - val_loss: 1.0329 - val_accuracy: 0.4540\n",
      "Epoch 12/100\n",
      "480/480 [==============================] - 1s 2ms/step - loss: 1.0399 - accuracy: 0.4580 - val_loss: 1.0329 - val_accuracy: 0.4540\n",
      "Epoch 13/100\n",
      "480/480 [==============================] - 1s 2ms/step - loss: 1.0328 - accuracy: 0.4580 - val_loss: 1.0329 - val_accuracy: 0.4540\n",
      "313/313 [==============================] - 0s 1ms/step - loss: 1.0226 - accuracy: 0.4628\n",
      "test_loss:  1.022627592086792\n",
      "test_acc:  0.462799996137619\n"
     ]
    }
   ],
   "source": [
    "hist = model.fit(\n",
    "    X_train, y_train,\n",
    "    batch_size= 50,  \n",
    "    epochs=100,       \n",
    "    validation_split = 0.2,  \n",
    "    shuffle = False,\n",
    "    callbacks=[tf.keras.callbacks.EarlyStopping(monitor='val_loss', patience=10)],  \n",
    "    verbose=1) \n",
    "\n",
    "# 테스트 데이터로 평가\n",
    "score = model.evaluate(X_test, y_test)\n",
    "print('test_loss: ', score[0])\n",
    "print('test_acc: ', score[1])"
   ]
  },
  {
   "cell_type": "code",
   "execution_count": 14,
   "id": "21679743",
   "metadata": {},
   "outputs": [
    {
     "data": {
      "image/png": "[encoded data removed]",
      "text/plain": [
       "<Figure size 432x288 with 2 Axes>"
      ]
     },
     "metadata": {
      "needs_background": "light"
     },
     "output_type": "display_data"
    }
   ],
   "source": [
    "import matplotlib.pyplot as plt\n",
    "\n",
    "fig, loss_ax = plt.subplots()\n",
    "acc_ax = loss_ax.twinx()\n",
    "\n",
    "loss_ax.plot(hist.history['loss'], 'y', label='train loss')\n",
    "loss_ax.plot(hist.history['val_loss'], 'r', label='val loss')\n",
    "\n",
    "acc_ax.plot(hist.history['accuracy'], 'b', label='train acc')\n",
    "acc_ax.plot(hist.history['val_accuracy'], 'g', label='val acc')\n",
    "\n",
    "loss_ax.set_xlabel('epoch')\n",
    "loss_ax.set_ylabel('loss')\n",
    "acc_ax.set_ylabel('accuray')\n",
    "\n",
    "loss_ax.legend(loc='upper left')\n",
    "acc_ax.legend(loc='lower left')\n",
    "\n",
    "plt.show()"
   ]
  },
  {
   "cell_type": "code",
   "execution_count": null,
   "id": "aeadda01",
   "metadata": {},
   "outputs": [],
   "source": []
  }
 ],
 "metadata": {
  "kernelspec": {
   "display_name": "Python 3",
   "language": "python",
   "name": "python3"
  },
  "language_info": {
   "codemirror_mode": {
    "name": "ipython",
    "version": 3
   },
   "file_extension": ".py",
   "mimetype": "text/x-python",
   "name": "python",
   "nbconvert_exporter": "python",
   "pygments_lexer": "ipython3",
   "version": "3.8.8"
  }
 },
 "nbformat": 4,
 "nbformat_minor": 5
}
