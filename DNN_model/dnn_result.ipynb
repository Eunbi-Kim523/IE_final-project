{
 "cells": [
  {
   "cell_type": "code",
   "execution_count": 1,
   "id": "0e289aed",
   "metadata": {},
   "outputs": [],
   "source": [
    "import numpy as np\n",
    "import pandas as pd\n",
    "import tensorflow as tf\n",
    "from tensorflow.keras import layers\n",
    "from sklearn.model_selection import train_test_split"
   ]
  },
  {
   "cell_type": "code",
   "execution_count": 32,
   "id": "9e92b5de",
   "metadata": {},
   "outputs": [],
   "source": [
    "test_accuracy = []\n",
    "test_loss = []\n",
    "test_precision = []\n",
    "test_recall = []\n",
    "test_f1score = []"
   ]
  },
  {
   "cell_type": "code",
   "execution_count": 33,
   "id": "3d899243",
   "metadata": {},
   "outputs": [],
   "source": [
    "y_new1 = []\n",
    "y_new2 = []\n",
    "y_new3 = []\n",
    "y_new4 = []\n",
    "y_new5 = []"
   ]
  },
  {
   "cell_type": "code",
   "execution_count": 1628,
   "id": "004d42fe",
   "metadata": {},
   "outputs": [],
   "source": [
    "df = pd.read_csv('colchange3.csv')"
   ]
  },
  {
   "cell_type": "code",
   "execution_count": 1629,
   "id": "f761eef3",
   "metadata": {},
   "outputs": [
    {
     "name": "stdout",
     "output_type": "stream",
     "text": [
      "False\n"
     ]
    }
   ],
   "source": [
    "print(df.isnull().values.any())"
   ]
  },
  {
   "cell_type": "code",
   "execution_count": 1630,
   "id": "1b5f4f17",
   "metadata": {},
   "outputs": [
    {
     "name": "stdout",
     "output_type": "stream",
     "text": [
      "          발매가  라인  콜라보  month  color_num  col1  col2  col3  col4  col5  day  \\\n",
      "0      259000  21    0      4          1     9     0     0     0     0    0   \n",
      "1      259000  21    0      4          1     9     0     0     0     0    1   \n",
      "2      259000  21    0      4          1     9     0     0     0     0    2   \n",
      "3      259000  21    0      4          1     9     0     0     0     0    3   \n",
      "4      259000  21    0      4          1     9     0     0     0     0    4   \n",
      "...       ...  ..  ...    ...        ...   ...   ...   ...   ...   ...  ...   \n",
      "43948  209000  28    0     10          1     9     0     0     0     0   88   \n",
      "43949  209000  28    0     10          1     9     0     0     0     0   89   \n",
      "43950  209000  28    0     10          1     9     0     0     0     0   90   \n",
      "43951  209000  28    0     10          1     9     0     0     0     0   91   \n",
      "43952  209000  28    0     10          1     9     0     0     0     0   92   \n",
      "\n",
      "       nike  jordan  newbalance  adidas  converse  콜라보유무  type  \n",
      "0         0       0           1       0         0      0     1  \n",
      "1         0       0           1       0         0      0     1  \n",
      "2         0       0           1       0         0      0     1  \n",
      "3         0       0           1       0         0      0     1  \n",
      "4         0       0           1       0         0      0     1  \n",
      "...     ...     ...         ...     ...       ...    ...   ...  \n",
      "43948     0       0           0       0         1      1     0  \n",
      "43949     0       0           0       0         1      1     0  \n",
      "43950     0       0           0       0         1      1     0  \n",
      "43951     0       0           0       0         1      1     0  \n",
      "43952     0       0           0       0         1      1     0  \n",
      "\n",
      "[43953 rows x 18 columns]\n"
     ]
    }
   ],
   "source": [
    "print(df)"
   ]
  },
  {
   "cell_type": "code",
   "execution_count": 1631,
   "id": "c5005c61",
   "metadata": {},
   "outputs": [],
   "source": [
    "data= df[(df['day'] == 15)]"
   ]
  },
  {
   "cell_type": "code",
   "execution_count": 1632,
   "id": "bc4fe3b2",
   "metadata": {},
   "outputs": [
    {
     "name": "stdout",
     "output_type": "stream",
     "text": [
      "          발매가  라인  콜라보  month  color_num  col1  col2  col3  col4  col5  day  \\\n",
      "15     259000  21    0      4          1     9     0     0     0     0   15   \n",
      "107    149000  24    0      9          1     9     0     0     0     0   15   \n",
      "199    139000  17    0      5          2     9     1     0     0     0   15   \n",
      "292    149000  24    0      2          1     9     0     0     0     0   15   \n",
      "382     99000  18    0      1          1     9     0     0     0     0   15   \n",
      "...       ...  ..  ...    ...        ...   ...   ...   ...   ...   ...  ...   \n",
      "43507  284400  25    0     12          1     6     0     0     0     0   15   \n",
      "43598  600000  26    0      9          2     1     1     0     0     0   15   \n",
      "43690  309000  25    0      4          1     4     0     0     0     0   15   \n",
      "43782  289000  25    0     10          1     9     0     0     0     0   15   \n",
      "43875  209000  28    0     10          1     9     0     0     0     0   15   \n",
      "\n",
      "       nike  jordan  newbalance  adidas  converse  콜라보유무  type  \n",
      "15        0       0           1       0         0      0     1  \n",
      "107       0       0           1       0         0      0     1  \n",
      "199       0       0           1       0         0      0     1  \n",
      "292       0       0           1       0         0      0     0  \n",
      "382       0       0           1       0         0      0     0  \n",
      "...     ...     ...         ...     ...       ...    ...   ...  \n",
      "43507     0       0           0       1         0      0     0  \n",
      "43598     0       0           0       1         0      1     0  \n",
      "43690     0       0           0       1         0      0     0  \n",
      "43782     0       0           0       1         0      0     0  \n",
      "43875     0       0           0       0         1      1     0  \n",
      "\n",
      "[477 rows x 18 columns]\n"
     ]
    }
   ],
   "source": [
    "print(data)"
   ]
  },
  {
   "cell_type": "code",
   "execution_count": 1633,
   "id": "5192056f",
   "metadata": {},
   "outputs": [],
   "source": [
    "data = data.sample(frac=1).reset_index(drop=True)"
   ]
  },
  {
   "cell_type": "code",
   "execution_count": 1634,
   "id": "3a006394",
   "metadata": {},
   "outputs": [
    {
     "name": "stdout",
     "output_type": "stream",
     "text": [
      "        발매가  라인  콜라보  month  color_num  col1  col2  col3  col4  col5  day  \\\n",
      "0    229000  11    0      8          3     6     1     9     0     0   15   \n",
      "1    159000   9    0     12          3     1     7     9     0     0   15   \n",
      "2    189000   6    0      7          3     9     1     4     0     0   15   \n",
      "3    119000   5    0      2          4     1     3     1     4     0   15   \n",
      "4    189000   6    0     11          2     1     1     0     0     0   15   \n",
      "..      ...  ..  ...    ...        ...   ...   ...   ...   ...   ...  ...   \n",
      "472  219000  14    0      4          3     1     1     4     0     0   15   \n",
      "473  139000   1    0     12          4     1     3     9     2     0   15   \n",
      "474  129000   5    0      6          4    10     3     6     1     0   15   \n",
      "475  269000  11    0     10          4     1     9     1    10     0   15   \n",
      "476  309000  25    0      3          1     2     0     0     0     0   15   \n",
      "\n",
      "     nike  jordan  newbalance  adidas  converse  콜라보유무  type  \n",
      "0       0       1           0       0         0      0     1  \n",
      "1       0       1           0       0         0      0     1  \n",
      "2       1       0           0       0         0      0     0  \n",
      "3       1       0           0       0         0      0     1  \n",
      "4       1       0           0       0         0      0     1  \n",
      "..    ...     ...         ...     ...       ...    ...   ...  \n",
      "472     0       1           0       0         0      0     0  \n",
      "473     1       0           0       0         0      1     1  \n",
      "474     1       0           0       0         0      0     1  \n",
      "475     0       1           0       0         0      0     1  \n",
      "476     0       0           0       1         0      0     1  \n",
      "\n",
      "[477 rows x 18 columns]\n"
     ]
    }
   ],
   "source": [
    "print(data)"
   ]
  },
  {
   "cell_type": "code",
   "execution_count": 1635,
   "id": "6683640a",
   "metadata": {},
   "outputs": [
    {
     "name": "stdout",
     "output_type": "stream",
     "text": [
      "False\n"
     ]
    }
   ],
   "source": [
    "print(data.isnull().values.any())"
   ]
  },
  {
   "cell_type": "code",
   "execution_count": 1636,
   "id": "00571cd6",
   "metadata": {},
   "outputs": [
    {
     "name": "stdout",
     "output_type": "stream",
     "text": [
      "   type  count\n",
      "0     0    177\n",
      "1     1    300\n"
     ]
    }
   ],
   "source": [
    "print(data.groupby('type').size().reset_index(name = 'count'))"
   ]
  },
  {
   "cell_type": "code",
   "execution_count": 1637,
   "id": "4277bba6",
   "metadata": {},
   "outputs": [],
   "source": [
    "y = data[\"type\"]"
   ]
  },
  {
   "cell_type": "code",
   "execution_count": 1638,
   "id": "32b2a14d",
   "metadata": {},
   "outputs": [
    {
     "name": "stdout",
     "output_type": "stream",
     "text": [
      "0      1\n",
      "1      1\n",
      "2      0\n",
      "3      1\n",
      "4      1\n",
      "      ..\n",
      "472    0\n",
      "473    1\n",
      "474    1\n",
      "475    1\n",
      "476    1\n",
      "Name: type, Length: 477, dtype: int64\n"
     ]
    }
   ],
   "source": [
    "print(y)"
   ]
  },
  {
   "cell_type": "code",
   "execution_count": 1639,
   "id": "99fe5e49",
   "metadata": {},
   "outputs": [
    {
     "name": "stdout",
     "output_type": "stream",
     "text": [
      "     콜라보유무  converse  jordan  nike  라인  콜라보  col3  col5  color_num\n",
      "0        0         0       1     0  11    0     9     0          3\n",
      "1        0         0       1     0   9    0     9     0          3\n",
      "2        0         0       0     1   6    0     4     0          3\n",
      "3        0         0       0     1   5    0     1     0          4\n",
      "4        0         0       0     1   6    0     0     0          2\n",
      "..     ...       ...     ...   ...  ..  ...   ...   ...        ...\n",
      "472      0         0       1     0  14    0     4     0          3\n",
      "473      1         0       0     1   1    0     9     0          4\n",
      "474      0         0       0     1   5    0     6     0          4\n",
      "475      0         0       1     0  11    0     1     0          4\n",
      "476      0         0       0     0  25    0     0     0          1\n",
      "\n",
      "[477 rows x 9 columns]\n"
     ]
    }
   ],
   "source": [
    "from sklearn.preprocessing import StandardScaler\n",
    "X = data[['콜라보유무', 'converse', 'jordan', 'nike', '라인', '콜라보', 'col3', 'col5', 'color_num']]\n",
    "#scaler = StandardScaler()\n",
    "#scaler.fit(X)\n",
    "#scale_X = np.asarray(scaler.fit_transform(X)).astype(np.float64)\n",
    "scale_X = X\n",
    "print(scale_X)"
   ]
  },
  {
   "cell_type": "code",
   "execution_count": 1640,
   "id": "561072d0",
   "metadata": {},
   "outputs": [
    {
     "name": "stdout",
     "output_type": "stream",
     "text": [
      "     콜라보유무  converse  jordan  nike  라인  콜라보  col3  col5  color_num\n",
      "0        0         0       1     0  11    0     9     0          3\n",
      "1        0         0       1     0   9    0     9     0          3\n",
      "2        0         0       0     1   6    0     4     0          3\n",
      "3        0         0       0     1   5    0     1     0          4\n",
      "4        0         0       0     1   6    0     0     0          2\n",
      "..     ...       ...     ...   ...  ..  ...   ...   ...        ...\n",
      "472      0         0       1     0  14    0     4     0          3\n",
      "473      1         0       0     1   1    0     9     0          4\n",
      "474      0         0       0     1   5    0     6     0          4\n",
      "475      0         0       1     0  11    0     1     0          4\n",
      "476      0         0       0     0  25    0     0     0          1\n",
      "\n",
      "[477 rows x 9 columns]\n"
     ]
    }
   ],
   "source": [
    "print(scale_X)"
   ]
  },
  {
   "cell_type": "code",
   "execution_count": 1641,
   "id": "cff9f465",
   "metadata": {},
   "outputs": [],
   "source": [
    "train_x, test_x, y_train, y_test = train_test_split(scale_X, y, test_size = 0.3, random_state = 1)"
   ]
  },
  {
   "cell_type": "code",
   "execution_count": 1642,
   "id": "41dc02d4",
   "metadata": {},
   "outputs": [
    {
     "name": "stdout",
     "output_type": "stream",
     "text": [
      "39     1\n",
      "341    1\n",
      "314    0\n",
      "192    0\n",
      "164    0\n",
      "      ..\n",
      "255    0\n",
      "72     0\n",
      "396    1\n",
      "235    1\n",
      "37     0\n",
      "Name: type, Length: 333, dtype: int64\n"
     ]
    }
   ],
   "source": [
    "print(y_train)"
   ]
  },
  {
   "cell_type": "code",
   "execution_count": 1643,
   "id": "939b56bd",
   "metadata": {},
   "outputs": [],
   "source": [
    "train__y = list(y_train)"
   ]
  },
  {
   "cell_type": "code",
   "execution_count": 1644,
   "id": "97a3ae2f",
   "metadata": {},
   "outputs": [],
   "source": [
    "train_y = np.empty((len(y_train),2))"
   ]
  },
  {
   "cell_type": "code",
   "execution_count": 1645,
   "id": "f167aa76",
   "metadata": {},
   "outputs": [
    {
     "name": "stdout",
     "output_type": "stream",
     "text": [
      "[1, 1, 0, 0, 0, 0, 0, 1, 1, 0, 0, 0, 1, 0, 0, 0, 1, 1, 0, 0, 1, 0, 1, 0, 1, 0, 0, 1, 0, 0, 0, 1, 0, 0, 0, 1, 1, 1, 1, 1, 0, 1, 1, 1, 1, 1, 0, 1, 1, 1, 1, 1, 1, 1, 1, 1, 0, 1, 0, 1, 0, 1, 0, 1, 1, 1, 0, 1, 1, 1, 1, 1, 1, 1, 1, 0, 1, 1, 1, 0, 1, 1, 0, 0, 0, 1, 0, 0, 0, 0, 1, 0, 0, 1, 1, 1, 0, 1, 1, 0, 0, 1, 0, 0, 0, 0, 1, 1, 0, 1, 1, 0, 0, 1, 1, 1, 1, 1, 1, 1, 1, 1, 1, 1, 1, 1, 1, 1, 0, 1, 0, 0, 1, 1, 1, 1, 1, 0, 0, 0, 0, 1, 0, 0, 0, 1, 1, 0, 1, 1, 0, 0, 1, 1, 1, 0, 1, 1, 1, 1, 0, 1, 0, 1, 1, 1, 1, 1, 1, 0, 1, 1, 1, 1, 0, 0, 1, 1, 0, 0, 0, 1, 1, 1, 0, 1, 1, 1, 0, 0, 0, 1, 1, 0, 1, 0, 1, 0, 1, 0, 1, 0, 1, 1, 1, 1, 1, 1, 1, 1, 0, 0, 1, 1, 0, 1, 1, 1, 1, 1, 0, 1, 0, 0, 1, 0, 1, 0, 0, 1, 1, 1, 0, 1, 1, 1, 1, 1, 0, 1, 1, 0, 1, 1, 1, 1, 1, 1, 1, 0, 0, 1, 0, 1, 0, 1, 1, 0, 1, 1, 1, 0, 1, 1, 1, 0, 1, 1, 1, 1, 1, 1, 1, 0, 1, 1, 1, 1, 0, 0, 0, 0, 0, 1, 0, 1, 0, 1, 1, 0, 1, 1, 1, 0, 1, 0, 1, 0, 0, 1, 1, 0, 1, 1, 1, 1, 0, 0, 1, 0, 0, 0, 0, 1, 0, 1, 1, 0, 0, 1, 1, 1, 1, 0, 1, 1, 0, 0, 0, 0, 1, 1, 0]\n",
      "<class 'int'>\n"
     ]
    }
   ],
   "source": [
    "print(train__y)\n",
    "print(type(train__y[0]))"
   ]
  },
  {
   "cell_type": "code",
   "execution_count": 1646,
   "id": "f3d285e8",
   "metadata": {},
   "outputs": [],
   "source": [
    "for i in range(len(train__y)):\n",
    "    if train__y[i] == 0:\n",
    "        train_y[i] = [1, 0]\n",
    "    elif train__y[i] == 1:\n",
    "        train_y[i] = [0, 1]\n",
    "    else:\n",
    "        train_y[i] = [0, 1]"
   ]
  },
  {
   "cell_type": "code",
   "execution_count": 1647,
   "id": "0f21fcd4",
   "metadata": {},
   "outputs": [
    {
     "name": "stdout",
     "output_type": "stream",
     "text": [
      "[[0. 1.]\n",
      " [0. 1.]\n",
      " [1. 0.]\n",
      " [1. 0.]\n",
      " [1. 0.]\n",
      " [1. 0.]\n",
      " [1. 0.]\n",
      " [0. 1.]\n",
      " [0. 1.]\n",
      " [1. 0.]\n",
      " [1. 0.]\n",
      " [1. 0.]\n",
      " [0. 1.]\n",
      " [1. 0.]\n",
      " [1. 0.]\n",
      " [1. 0.]\n",
      " [0. 1.]\n",
      " [0. 1.]\n",
      " [1. 0.]\n",
      " [1. 0.]\n",
      " [0. 1.]\n",
      " [1. 0.]\n",
      " [0. 1.]\n",
      " [1. 0.]\n",
      " [0. 1.]\n",
      " [1. 0.]\n",
      " [1. 0.]\n",
      " [0. 1.]\n",
      " [1. 0.]\n",
      " [1. 0.]\n",
      " [1. 0.]\n",
      " [0. 1.]\n",
      " [1. 0.]\n",
      " [1. 0.]\n",
      " [1. 0.]\n",
      " [0. 1.]\n",
      " [0. 1.]\n",
      " [0. 1.]\n",
      " [0. 1.]\n",
      " [0. 1.]\n",
      " [1. 0.]\n",
      " [0. 1.]\n",
      " [0. 1.]\n",
      " [0. 1.]\n",
      " [0. 1.]\n",
      " [0. 1.]\n",
      " [1. 0.]\n",
      " [0. 1.]\n",
      " [0. 1.]\n",
      " [0. 1.]\n",
      " [0. 1.]\n",
      " [0. 1.]\n",
      " [0. 1.]\n",
      " [0. 1.]\n",
      " [0. 1.]\n",
      " [0. 1.]\n",
      " [1. 0.]\n",
      " [0. 1.]\n",
      " [1. 0.]\n",
      " [0. 1.]\n",
      " [1. 0.]\n",
      " [0. 1.]\n",
      " [1. 0.]\n",
      " [0. 1.]\n",
      " [0. 1.]\n",
      " [0. 1.]\n",
      " [1. 0.]\n",
      " [0. 1.]\n",
      " [0. 1.]\n",
      " [0. 1.]\n",
      " [0. 1.]\n",
      " [0. 1.]\n",
      " [0. 1.]\n",
      " [0. 1.]\n",
      " [0. 1.]\n",
      " [1. 0.]\n",
      " [0. 1.]\n",
      " [0. 1.]\n",
      " [0. 1.]\n",
      " [1. 0.]\n",
      " [0. 1.]\n",
      " [0. 1.]\n",
      " [1. 0.]\n",
      " [1. 0.]\n",
      " [1. 0.]\n",
      " [0. 1.]\n",
      " [1. 0.]\n",
      " [1. 0.]\n",
      " [1. 0.]\n",
      " [1. 0.]\n",
      " [0. 1.]\n",
      " [1. 0.]\n",
      " [1. 0.]\n",
      " [0. 1.]\n",
      " [0. 1.]\n",
      " [0. 1.]\n",
      " [1. 0.]\n",
      " [0. 1.]\n",
      " [0. 1.]\n",
      " [1. 0.]\n",
      " [1. 0.]\n",
      " [0. 1.]\n",
      " [1. 0.]\n",
      " [1. 0.]\n",
      " [1. 0.]\n",
      " [1. 0.]\n",
      " [0. 1.]\n",
      " [0. 1.]\n",
      " [1. 0.]\n",
      " [0. 1.]\n",
      " [0. 1.]\n",
      " [1. 0.]\n",
      " [1. 0.]\n",
      " [0. 1.]\n",
      " [0. 1.]\n",
      " [0. 1.]\n",
      " [0. 1.]\n",
      " [0. 1.]\n",
      " [0. 1.]\n",
      " [0. 1.]\n",
      " [0. 1.]\n",
      " [0. 1.]\n",
      " [0. 1.]\n",
      " [0. 1.]\n",
      " [0. 1.]\n",
      " [0. 1.]\n",
      " [0. 1.]\n",
      " [0. 1.]\n",
      " [1. 0.]\n",
      " [0. 1.]\n",
      " [1. 0.]\n",
      " [1. 0.]\n",
      " [0. 1.]\n",
      " [0. 1.]\n",
      " [0. 1.]\n",
      " [0. 1.]\n",
      " [0. 1.]\n",
      " [1. 0.]\n",
      " [1. 0.]\n",
      " [1. 0.]\n",
      " [1. 0.]\n",
      " [0. 1.]\n",
      " [1. 0.]\n",
      " [1. 0.]\n",
      " [1. 0.]\n",
      " [0. 1.]\n",
      " [0. 1.]\n",
      " [1. 0.]\n",
      " [0. 1.]\n",
      " [0. 1.]\n",
      " [1. 0.]\n",
      " [1. 0.]\n",
      " [0. 1.]\n",
      " [0. 1.]\n",
      " [0. 1.]\n",
      " [1. 0.]\n",
      " [0. 1.]\n",
      " [0. 1.]\n",
      " [0. 1.]\n",
      " [0. 1.]\n",
      " [1. 0.]\n",
      " [0. 1.]\n",
      " [1. 0.]\n",
      " [0. 1.]\n",
      " [0. 1.]\n",
      " [0. 1.]\n",
      " [0. 1.]\n",
      " [0. 1.]\n",
      " [0. 1.]\n",
      " [1. 0.]\n",
      " [0. 1.]\n",
      " [0. 1.]\n",
      " [0. 1.]\n",
      " [0. 1.]\n",
      " [1. 0.]\n",
      " [1. 0.]\n",
      " [0. 1.]\n",
      " [0. 1.]\n",
      " [1. 0.]\n",
      " [1. 0.]\n",
      " [1. 0.]\n",
      " [0. 1.]\n",
      " [0. 1.]\n",
      " [0. 1.]\n",
      " [1. 0.]\n",
      " [0. 1.]\n",
      " [0. 1.]\n",
      " [0. 1.]\n",
      " [1. 0.]\n",
      " [1. 0.]\n",
      " [1. 0.]\n",
      " [0. 1.]\n",
      " [0. 1.]\n",
      " [1. 0.]\n",
      " [0. 1.]\n",
      " [1. 0.]\n",
      " [0. 1.]\n",
      " [1. 0.]\n",
      " [0. 1.]\n",
      " [1. 0.]\n",
      " [0. 1.]\n",
      " [1. 0.]\n",
      " [0. 1.]\n",
      " [0. 1.]\n",
      " [0. 1.]\n",
      " [0. 1.]\n",
      " [0. 1.]\n",
      " [0. 1.]\n",
      " [0. 1.]\n",
      " [0. 1.]\n",
      " [1. 0.]\n",
      " [1. 0.]\n",
      " [0. 1.]\n",
      " [0. 1.]\n",
      " [1. 0.]\n",
      " [0. 1.]\n",
      " [0. 1.]\n",
      " [0. 1.]\n",
      " [0. 1.]\n",
      " [0. 1.]\n",
      " [1. 0.]\n",
      " [0. 1.]\n",
      " [1. 0.]\n",
      " [1. 0.]\n",
      " [0. 1.]\n",
      " [1. 0.]\n",
      " [0. 1.]\n",
      " [1. 0.]\n",
      " [1. 0.]\n",
      " [0. 1.]\n",
      " [0. 1.]\n",
      " [0. 1.]\n",
      " [1. 0.]\n",
      " [0. 1.]\n",
      " [0. 1.]\n",
      " [0. 1.]\n",
      " [0. 1.]\n",
      " [0. 1.]\n",
      " [1. 0.]\n",
      " [0. 1.]\n",
      " [0. 1.]\n",
      " [1. 0.]\n",
      " [0. 1.]\n",
      " [0. 1.]\n",
      " [0. 1.]\n",
      " [0. 1.]\n",
      " [0. 1.]\n",
      " [0. 1.]\n",
      " [0. 1.]\n",
      " [1. 0.]\n",
      " [1. 0.]\n",
      " [0. 1.]\n",
      " [1. 0.]\n",
      " [0. 1.]\n",
      " [1. 0.]\n",
      " [0. 1.]\n",
      " [0. 1.]\n",
      " [1. 0.]\n",
      " [0. 1.]\n",
      " [0. 1.]\n",
      " [0. 1.]\n",
      " [1. 0.]\n",
      " [0. 1.]\n",
      " [0. 1.]\n",
      " [0. 1.]\n",
      " [1. 0.]\n",
      " [0. 1.]\n",
      " [0. 1.]\n",
      " [0. 1.]\n",
      " [0. 1.]\n",
      " [0. 1.]\n",
      " [0. 1.]\n",
      " [0. 1.]\n",
      " [1. 0.]\n",
      " [0. 1.]\n",
      " [0. 1.]\n",
      " [0. 1.]\n",
      " [0. 1.]\n",
      " [1. 0.]\n",
      " [1. 0.]\n",
      " [1. 0.]\n",
      " [1. 0.]\n",
      " [1. 0.]\n",
      " [0. 1.]\n",
      " [1. 0.]\n",
      " [0. 1.]\n",
      " [1. 0.]\n",
      " [0. 1.]\n",
      " [0. 1.]\n",
      " [1. 0.]\n",
      " [0. 1.]\n",
      " [0. 1.]\n",
      " [0. 1.]\n",
      " [1. 0.]\n",
      " [0. 1.]\n",
      " [1. 0.]\n",
      " [0. 1.]\n",
      " [1. 0.]\n",
      " [1. 0.]\n",
      " [0. 1.]\n",
      " [0. 1.]\n",
      " [1. 0.]\n",
      " [0. 1.]\n",
      " [0. 1.]\n",
      " [0. 1.]\n",
      " [0. 1.]\n",
      " [1. 0.]\n",
      " [1. 0.]\n",
      " [0. 1.]\n",
      " [1. 0.]\n",
      " [1. 0.]\n",
      " [1. 0.]\n",
      " [1. 0.]\n",
      " [0. 1.]\n",
      " [1. 0.]\n",
      " [0. 1.]\n",
      " [0. 1.]\n",
      " [1. 0.]\n",
      " [1. 0.]\n",
      " [0. 1.]\n",
      " [0. 1.]\n",
      " [0. 1.]\n",
      " [0. 1.]\n",
      " [1. 0.]\n",
      " [0. 1.]\n",
      " [0. 1.]\n",
      " [1. 0.]\n",
      " [1. 0.]\n",
      " [1. 0.]\n",
      " [1. 0.]\n",
      " [0. 1.]\n",
      " [0. 1.]\n",
      " [1. 0.]]\n"
     ]
    }
   ],
   "source": [
    "print(train_y)"
   ]
  },
  {
   "cell_type": "code",
   "execution_count": 1648,
   "id": "344e3f8d",
   "metadata": {},
   "outputs": [],
   "source": [
    "test__y = list(y_test)"
   ]
  },
  {
   "cell_type": "code",
   "execution_count": 1649,
   "id": "cb99e3ae",
   "metadata": {},
   "outputs": [],
   "source": [
    "test_y = np.empty((len(y_test),2))"
   ]
  },
  {
   "cell_type": "code",
   "execution_count": 1650,
   "id": "c022563d",
   "metadata": {},
   "outputs": [],
   "source": [
    "for i in range(len(test__y)):\n",
    "    if test__y[i] == 0:\n",
    "        test_y[i] = [1, 0]\n",
    "    elif test__y[i] == 1:\n",
    "        test_y[i] = [0, 1]\n",
    "    else:\n",
    "        test_y[i] = [0, 1]"
   ]
  },
  {
   "cell_type": "code",
   "execution_count": 1651,
   "id": "3d82694b",
   "metadata": {},
   "outputs": [],
   "source": [
    "#모델 설계\n",
    "model = tf.keras.Sequential()\n",
    "#input layer\n",
    "model.add(layers.Dense(18, input_shape=(9,)))  \n",
    "model.add(layers.Activation('relu')) \n",
    "model.add(layers.Dropout(0.01))    \n",
    "\n",
    "#hidden layer\n",
    "model.add(layers.Dense(18))         \n",
    "model.add(layers.Activation('relu'))\n",
    "model.add(layers.Dropout(0.01))\n",
    "\n",
    "model.add(layers.Dense(32))         \n",
    "model.add(layers.Activation('relu'))\n",
    "model.add(layers.Dropout(0.01))\n",
    "\n",
    "model.add(layers.Dense(16))         \n",
    "model.add(layers.Activation('relu'))\n",
    "model.add(layers.Dropout(0.01))\n",
    "\n",
    "model.add(layers.Dense(32))         \n",
    "model.add(layers.Activation('relu'))\n",
    "model.add(layers.Dropout(0.01))\n",
    "\n",
    "model.add(layers.Dense(16))         \n",
    "model.add(layers.Activation('relu'))\n",
    "model.add(layers.Dropout(0.01))\n",
    "\n",
    "#output layer\n",
    "model.add(layers.Dense(2))\n",
    "model.add(layers.Activation('softmax')) \n",
    "\n",
    "# 모델 컴파일\n",
    "model.compile(\n",
    "    loss= 'binary_crossentropy', \n",
    "    optimizer=\"adam\",   \n",
    "    metrics=['accuracy'])  "
   ]
  },
  {
   "cell_type": "code",
   "execution_count": 1652,
   "id": "364d3d9f",
   "metadata": {},
   "outputs": [
    {
     "name": "stdout",
     "output_type": "stream",
     "text": [
      "Epoch 1/200\n",
      "27/27 [==============================] - 1s 19ms/step - loss: 0.6777 - accuracy: 0.6165 - val_loss: 0.6898 - val_accuracy: 0.5672\n",
      "Epoch 2/200\n",
      "27/27 [==============================] - 0s 4ms/step - loss: 0.6687 - accuracy: 0.6165 - val_loss: 0.6867 - val_accuracy: 0.5672\n",
      "Epoch 3/200\n",
      "27/27 [==============================] - 0s 4ms/step - loss: 0.6602 - accuracy: 0.6203 - val_loss: 0.6852 - val_accuracy: 0.5672\n",
      "Epoch 4/200\n",
      "27/27 [==============================] - 0s 4ms/step - loss: 0.6583 - accuracy: 0.6203 - val_loss: 0.6807 - val_accuracy: 0.5672\n",
      "Epoch 5/200\n",
      "27/27 [==============================] - 0s 4ms/step - loss: 0.6448 - accuracy: 0.6128 - val_loss: 0.7077 - val_accuracy: 0.5672\n",
      "Epoch 6/200\n",
      "27/27 [==============================] - 0s 4ms/step - loss: 0.6603 - accuracy: 0.6165 - val_loss: 0.6867 - val_accuracy: 0.5672\n",
      "Epoch 7/200\n",
      "27/27 [==============================] - 0s 5ms/step - loss: 0.6550 - accuracy: 0.6165 - val_loss: 0.6876 - val_accuracy: 0.5672\n",
      "Epoch 8/200\n",
      "27/27 [==============================] - 0s 4ms/step - loss: 0.6574 - accuracy: 0.6128 - val_loss: 0.6879 - val_accuracy: 0.5672\n",
      "Epoch 9/200\n",
      "27/27 [==============================] - 0s 3ms/step - loss: 0.6486 - accuracy: 0.6128 - val_loss: 0.6861 - val_accuracy: 0.5672\n",
      "Epoch 10/200\n",
      "27/27 [==============================] - 0s 3ms/step - loss: 0.6574 - accuracy: 0.6203 - val_loss: 0.6791 - val_accuracy: 0.5672\n",
      "Epoch 11/200\n",
      "27/27 [==============================] - 0s 4ms/step - loss: 0.6573 - accuracy: 0.6203 - val_loss: 0.6755 - val_accuracy: 0.5672\n",
      "Epoch 12/200\n",
      "27/27 [==============================] - 0s 4ms/step - loss: 0.6456 - accuracy: 0.6203 - val_loss: 0.6829 - val_accuracy: 0.5672\n",
      "Epoch 13/200\n",
      "27/27 [==============================] - 0s 5ms/step - loss: 0.6538 - accuracy: 0.6203 - val_loss: 0.6734 - val_accuracy: 0.5672\n",
      "Epoch 14/200\n",
      "27/27 [==============================] - 0s 5ms/step - loss: 0.6521 - accuracy: 0.6203 - val_loss: 0.6894 - val_accuracy: 0.5672\n",
      "Epoch 15/200\n",
      "27/27 [==============================] - 0s 5ms/step - loss: 0.6438 - accuracy: 0.6241 - val_loss: 0.6839 - val_accuracy: 0.5672\n",
      "Epoch 16/200\n",
      "27/27 [==============================] - 0s 5ms/step - loss: 0.6516 - accuracy: 0.6278 - val_loss: 0.6807 - val_accuracy: 0.5672\n",
      "Epoch 17/200\n",
      "27/27 [==============================] - 0s 5ms/step - loss: 0.6439 - accuracy: 0.6203 - val_loss: 0.6720 - val_accuracy: 0.5672\n",
      "Epoch 18/200\n",
      "27/27 [==============================] - 0s 5ms/step - loss: 0.6333 - accuracy: 0.6203 - val_loss: 0.6981 - val_accuracy: 0.5672\n",
      "Epoch 19/200\n",
      "27/27 [==============================] - 0s 4ms/step - loss: 0.6514 - accuracy: 0.6241 - val_loss: 0.6788 - val_accuracy: 0.5373\n",
      "Epoch 20/200\n",
      "27/27 [==============================] - 0s 5ms/step - loss: 0.6441 - accuracy: 0.6278 - val_loss: 0.6864 - val_accuracy: 0.5522\n",
      "Epoch 21/200\n",
      "27/27 [==============================] - 0s 5ms/step - loss: 0.6344 - accuracy: 0.6203 - val_loss: 0.6830 - val_accuracy: 0.6119\n",
      "Epoch 22/200\n",
      "27/27 [==============================] - 0s 5ms/step - loss: 0.6552 - accuracy: 0.6391 - val_loss: 0.6700 - val_accuracy: 0.5672\n",
      "Epoch 23/200\n",
      "27/27 [==============================] - 0s 4ms/step - loss: 0.6334 - accuracy: 0.6353 - val_loss: 0.6971 - val_accuracy: 0.5522\n",
      "Epoch 24/200\n",
      "27/27 [==============================] - 0s 4ms/step - loss: 0.6477 - accuracy: 0.6391 - val_loss: 0.7073 - val_accuracy: 0.5672\n",
      "Epoch 25/200\n",
      "27/27 [==============================] - 0s 5ms/step - loss: 0.6372 - accuracy: 0.6241 - val_loss: 0.6713 - val_accuracy: 0.5821\n",
      "Epoch 26/200\n",
      "27/27 [==============================] - 0s 5ms/step - loss: 0.6309 - accuracy: 0.6504 - val_loss: 0.6912 - val_accuracy: 0.5821\n",
      "Epoch 27/200\n",
      "27/27 [==============================] - 0s 4ms/step - loss: 0.6343 - accuracy: 0.6654 - val_loss: 0.6840 - val_accuracy: 0.5821\n",
      "Epoch 28/200\n",
      "27/27 [==============================] - 0s 4ms/step - loss: 0.6349 - accuracy: 0.6203 - val_loss: 0.6909 - val_accuracy: 0.5821\n",
      "Epoch 29/200\n",
      "27/27 [==============================] - 0s 4ms/step - loss: 0.6418 - accuracy: 0.6391 - val_loss: 0.6978 - val_accuracy: 0.5821\n",
      "Epoch 30/200\n",
      "27/27 [==============================] - 0s 5ms/step - loss: 0.6282 - accuracy: 0.6466 - val_loss: 0.6999 - val_accuracy: 0.5970\n",
      "Epoch 31/200\n",
      "27/27 [==============================] - 0s 5ms/step - loss: 0.6353 - accuracy: 0.6541 - val_loss: 0.6925 - val_accuracy: 0.5970\n",
      "Epoch 32/200\n",
      "27/27 [==============================] - 0s 4ms/step - loss: 0.6337 - accuracy: 0.6617 - val_loss: 0.7045 - val_accuracy: 0.5821\n",
      "Epoch 33/200\n",
      "27/27 [==============================] - 0s 4ms/step - loss: 0.6370 - accuracy: 0.6316 - val_loss: 0.7023 - val_accuracy: 0.6119\n",
      "Epoch 34/200\n",
      "27/27 [==============================] - 0s 5ms/step - loss: 0.6563 - accuracy: 0.6203 - val_loss: 0.6916 - val_accuracy: 0.6119\n",
      "Epoch 35/200\n",
      "27/27 [==============================] - 0s 4ms/step - loss: 0.6415 - accuracy: 0.6504 - val_loss: 0.6704 - val_accuracy: 0.5821\n",
      "Epoch 36/200\n",
      "27/27 [==============================] - 0s 5ms/step - loss: 0.6163 - accuracy: 0.6541 - val_loss: 0.6711 - val_accuracy: 0.6119\n",
      "Epoch 37/200\n",
      "27/27 [==============================] - 0s 5ms/step - loss: 0.6076 - accuracy: 0.6654 - val_loss: 0.6847 - val_accuracy: 0.5821\n",
      "Epoch 38/200\n",
      "27/27 [==============================] - 0s 5ms/step - loss: 0.6191 - accuracy: 0.6654 - val_loss: 0.6908 - val_accuracy: 0.6119\n",
      "Epoch 39/200\n",
      "27/27 [==============================] - 0s 5ms/step - loss: 0.6344 - accuracy: 0.6617 - val_loss: 0.7657 - val_accuracy: 0.5970\n",
      "Epoch 40/200\n",
      "27/27 [==============================] - 0s 4ms/step - loss: 0.6588 - accuracy: 0.6090 - val_loss: 0.6872 - val_accuracy: 0.5672\n",
      "Epoch 41/200\n",
      "27/27 [==============================] - 0s 4ms/step - loss: 0.6236 - accuracy: 0.6617 - val_loss: 0.6891 - val_accuracy: 0.5821\n",
      "Epoch 42/200\n",
      "27/27 [==============================] - 0s 5ms/step - loss: 0.6274 - accuracy: 0.6504 - val_loss: 0.6983 - val_accuracy: 0.5821\n",
      "Epoch 43/200\n",
      "27/27 [==============================] - 0s 5ms/step - loss: 0.6423 - accuracy: 0.6316 - val_loss: 0.6912 - val_accuracy: 0.5970\n",
      "Epoch 44/200\n",
      "27/27 [==============================] - 0s 5ms/step - loss: 0.6193 - accuracy: 0.6880 - val_loss: 0.6852 - val_accuracy: 0.5970\n",
      "Epoch 45/200\n",
      "27/27 [==============================] - 0s 5ms/step - loss: 0.6286 - accuracy: 0.6466 - val_loss: 0.6790 - val_accuracy: 0.5821\n",
      "Epoch 46/200\n",
      "27/27 [==============================] - 0s 5ms/step - loss: 0.6155 - accuracy: 0.6541 - val_loss: 0.7061 - val_accuracy: 0.5821\n",
      "Epoch 47/200\n",
      "27/27 [==============================] - 0s 4ms/step - loss: 0.6272 - accuracy: 0.6504 - val_loss: 0.6921 - val_accuracy: 0.5672\n",
      "Epoch 48/200\n",
      "27/27 [==============================] - 0s 4ms/step - loss: 0.6189 - accuracy: 0.6541 - val_loss: 0.6960 - val_accuracy: 0.5672\n",
      "Epoch 49/200\n",
      "27/27 [==============================] - 0s 4ms/step - loss: 0.6219 - accuracy: 0.6466 - val_loss: 0.6813 - val_accuracy: 0.5672\n",
      "Epoch 50/200\n",
      "27/27 [==============================] - 0s 4ms/step - loss: 0.6206 - accuracy: 0.6466 - val_loss: 0.6912 - val_accuracy: 0.5522\n",
      "Epoch 51/200\n",
      "27/27 [==============================] - 0s 4ms/step - loss: 0.6094 - accuracy: 0.6692 - val_loss: 0.6881 - val_accuracy: 0.5821\n",
      "Epoch 52/200\n",
      "27/27 [==============================] - 0s 4ms/step - loss: 0.6198 - accuracy: 0.6654 - val_loss: 0.7004 - val_accuracy: 0.5821\n",
      "5/5 [==============================] - 0s 2ms/step - loss: 0.6082 - accuracy: 0.6944\n",
      "test_loss:  0.6081603765487671\n",
      "test_acc:  0.6944444179534912\n"
     ]
    }
   ],
   "source": [
    "hist = model.fit(\n",
    "    train_x, train_y,\n",
    "    batch_size = 10,  \n",
    "    epochs = 200,      \n",
    "    validation_split = 0.2,\n",
    "    shuffle = False,\n",
    "    callbacks=[tf.keras.callbacks.EarlyStopping(monitor='val_loss', patience = 30)],\n",
    "    verbose=1)  \n",
    "\n",
    "# 테스트 데이터로 성능평가\n",
    "score = model.evaluate(test_x, test_y)\n",
    "print('test_loss: ', score[0])\n",
    "print('test_acc: ', score[1])"
   ]
  },
  {
   "cell_type": "code",
   "execution_count": null,
   "id": "f82328c0",
   "metadata": {},
   "outputs": [],
   "source": []
  },
  {
   "cell_type": "code",
   "execution_count": 1452,
   "id": "e3e5356f",
   "metadata": {},
   "outputs": [
    {
     "ename": "NameError",
     "evalue": "name 'test_accuracy' is not defined",
     "output_type": "error",
     "traceback": [
      "\u001b[1;31m---------------------------------------------------------------------------\u001b[0m",
      "\u001b[1;31mNameError\u001b[0m                                 Traceback (most recent call last)",
      "\u001b[1;32m<ipython-input-1452-b7ea5c13ed0c>\u001b[0m in \u001b[0;36m<module>\u001b[1;34m\u001b[0m\n\u001b[1;32m----> 1\u001b[1;33m \u001b[0mtest_accuracy\u001b[0m\u001b[1;33m.\u001b[0m\u001b[0mappend\u001b[0m\u001b[1;33m(\u001b[0m\u001b[0mscore\u001b[0m\u001b[1;33m[\u001b[0m\u001b[1;36m0\u001b[0m\u001b[1;33m]\u001b[0m\u001b[1;33m)\u001b[0m\u001b[1;33m\u001b[0m\u001b[1;33m\u001b[0m\u001b[0m\n\u001b[0m\u001b[0;32m      2\u001b[0m \u001b[0mtest_loss\u001b[0m\u001b[1;33m.\u001b[0m\u001b[0mappend\u001b[0m\u001b[1;33m(\u001b[0m\u001b[0mscore\u001b[0m\u001b[1;33m[\u001b[0m\u001b[1;36m1\u001b[0m\u001b[1;33m]\u001b[0m\u001b[1;33m)\u001b[0m\u001b[1;33m\u001b[0m\u001b[1;33m\u001b[0m\u001b[0m\n",
      "\u001b[1;31mNameError\u001b[0m: name 'test_accuracy' is not defined"
     ]
    }
   ],
   "source": [
    "test_accuracy.append(score[0])\n",
    "test_loss.append(score[1])"
   ]
  },
  {
   "cell_type": "code",
   "execution_count": null,
   "id": "0e58587f",
   "metadata": {},
   "outputs": [],
   "source": [
    "import matplotlib.pyplot as plt\n",
    "\n",
    "fig, loss_ax = plt.subplots()\n",
    "acc_ax = loss_ax.twinx()\n",
    "\n",
    "loss_ax.plot(hist.history['loss'], 'y', label='train loss')\n",
    "loss_ax.plot(hist.history['val_loss'], 'r', label='val loss')\n",
    "\n",
    "acc_ax.plot(hist.history['accuracy'], 'b', label='train acc')\n",
    "acc_ax.plot(hist.history['val_accuracy'], 'g', label='val acc')\n",
    "\n",
    "loss_ax.set_xlabel('epoch')\n",
    "loss_ax.set_ylabel('loss')\n",
    "acc_ax.set_ylabel('accuray')\n",
    "\n",
    "loss_ax.legend(loc='upper left')\n",
    "acc_ax.legend(loc='lower left')\n",
    "\n",
    "plt.show()"
   ]
  },
  {
   "cell_type": "code",
   "execution_count": null,
   "id": "bb368a70",
   "metadata": {},
   "outputs": [],
   "source": [
    "print(test_accuracy)\n",
    "print(test_loss)"
   ]
  },
  {
   "cell_type": "code",
   "execution_count": null,
   "id": "2ce4afa7",
   "metadata": {},
   "outputs": [],
   "source": [
    "y_pred = model.predict(test_x)"
   ]
  },
  {
   "cell_type": "code",
   "execution_count": null,
   "id": "05dfb180",
   "metadata": {},
   "outputs": [],
   "source": [
    "print(y_pred)"
   ]
  },
  {
   "cell_type": "code",
   "execution_count": null,
   "id": "4fccbdc5",
   "metadata": {},
   "outputs": [],
   "source": [
    "y_class = y_pred.argmax(axis=-1)\n",
    "y_class"
   ]
  },
  {
   "cell_type": "code",
   "execution_count": null,
   "id": "238d51f4",
   "metadata": {},
   "outputs": [],
   "source": [
    "print(test__y)"
   ]
  },
  {
   "cell_type": "code",
   "execution_count": null,
   "id": "b340ad20",
   "metadata": {},
   "outputs": [],
   "source": [
    "from sklearn.metrics import precision_score , recall_score , confusion_matrix, f1_score\n",
    "precision = precision_score(test__y, y_class, average = 'weighted')\n",
    "print(precision)\n",
    "#test_precision.append(precision)"
   ]
  },
  {
   "cell_type": "code",
   "execution_count": 1376,
   "id": "931330d7",
   "metadata": {},
   "outputs": [
    {
     "name": "stdout",
     "output_type": "stream",
     "text": [
      "0.7152777777777778\n"
     ]
    }
   ],
   "source": [
    "recall = recall_score(test__y, y_class, average ='weighted')\n",
    "print(recall)\n",
    "#test_recall.append(recall)"
   ]
  },
  {
   "cell_type": "code",
   "execution_count": null,
   "id": "bac593b5",
   "metadata": {},
   "outputs": [],
   "source": [
    "print(y_class)"
   ]
  },
  {
   "cell_type": "code",
   "execution_count": 885,
   "id": "579140ef",
   "metadata": {},
   "outputs": [
    {
     "name": "stdout",
     "output_type": "stream",
     "text": [
      "0.6617690058479533\n"
     ]
    }
   ],
   "source": [
    "f1score = f1_score(test__y, y_class, average= 'weighted')\n",
    "print(f1score)\n",
    "#test_f1score.append(f1score)"
   ]
  },
  {
   "cell_type": "code",
   "execution_count": 886,
   "id": "86379a21",
   "metadata": {},
   "outputs": [
    {
     "data": {
      "text/plain": [
       "array([[ 9, 34],\n",
       "       [ 8, 93]], dtype=int64)"
      ]
     },
     "execution_count": 886,
     "metadata": {},
     "output_type": "execute_result"
    }
   ],
   "source": [
    "confusion_matrix(test__y, y_class)"
   ]
  },
  {
   "cell_type": "code",
   "execution_count": 12005,
   "id": "ac7684bd",
   "metadata": {},
   "outputs": [
    {
     "name": "stdout",
     "output_type": "stream",
     "text": [
      "[0.8250265816055289, 0.8208234830575256, 0.6823498139287613, 0.7197265625, 0.7165837479270315, 0.635187728937729, 0.695693367786391, 0.7145316804407713, 0.7895622895622895, 0.7389162561576355, 0.6804722638680659, 0.6813186813186812, 0.6695023148148148, 0.7234567901234568, 0.6623157894736842, 0.6826923076923077, 0.6385261194029851, 0.6791772688719253, 0.7291666666666666, 0.7000139737293887, 0.728763440860215, 0.6065524047515573, 0.6938572453839629, 0.6938572453839629, 0.6915101235793887, 0.6769307081807082, 0.706094527363184, 0.6825490196078432, 0.635931899641577, 0.6793981481481483, 0.6238255718954249, 0.7119504470938897, 0.7468596491228069, 0.7234227521112767, 0.7098765432098766, 0.6702245414294751, 0.6951754385964912, 0.7374585778735976, 0.6929955290611028, 0.7569234360410831, 0.7030551415797317, 0.694236111111111, 0.6638176638176638, 0.6715656565656566, 0.6568428184281844, 0.6925998263888888, 0.7292563168928612, 0.6692820256538398, 0.6636284722222222, 0.6920702754036088, 0.7651909722222222, 0.6798339518507945, 0.658759746588694, 0.7010843079922027, 0.6772809394760615, 0.7604227833235466, 0.724105461393597, 0.7371615312791783, 0.6913396257658553, 0.7259001161440186, 0.6896439285248468, 0.6610925306577481, 0.6893619654681602, 0.6229792874896438, 0.7286210632495236, 0.6655615179013634, 0.6482645875251509, 0.6898692430062469, 0.6746882936966059, 0.7330870468713923, 0.6718456112186278, 0.6655615179013634, 0.6740442655935615, 0.6536422838103891, 0.6268544600938968, 0.6668094434226108, 0.6878432398102141, 0.6329715694698697, 0.6680921660570687, 0.6827996279564178, 0.7419646081617913, 0.6896519302732281, 0.647887323943662, 0.6363016810540664, 0.6499944549184873, 0.6101177023630875, 0.6755623253588025, 0.6208065486938726, 0.6843212050078248, 0.7280606717226435, 0.6656476267095737]\n",
      "[0.8472222222222222, 0.7638888888888888, 0.7222222222222222, 0.7291666666666666, 0.7222222222222222, 0.7013888888888888, 0.7222222222222222, 0.7291666666666666, 0.7777777777777778, 0.75, 0.6875, 0.6666666666666666, 0.7013888888888888, 0.7013888888888888, 0.6875, 0.6875, 0.6875, 0.6736111111111112, 0.6805555555555556, 0.7013888888888888, 0.6666666666666666, 0.6180555555555556, 0.6944444444444444, 0.6944444444444444, 0.7013888888888888, 0.6597222222222222, 0.7083333333333334, 0.6944444444444444, 0.6805555555555556, 0.6944444444444444, 0.6736111111111112, 0.6875, 0.7083333333333334, 0.6805555555555556, 0.7222222222222222, 0.6736111111111112, 0.7083333333333334, 0.7013888888888888, 0.7083333333333334, 0.7013888888888888, 0.6944444444444444, 0.7013888888888888, 0.6875, 0.6805555555555556, 0.6527777777777778, 0.6944444444444444, 0.7361111111111112, 0.6736111111111112, 0.6736111111111112, 0.7152777777777778, 0.7222222222222222, 0.6805555555555556, 0.6736111111111112, 0.7013888888888888, 0.6944444444444444, 0.7291666666666666, 0.7222222222222222, 0.7569444444444444, 0.6944444444444444, 0.7291666666666666, 0.6993006993006993, 0.6643356643356644, 0.7062937062937062, 0.6690140845070423, 0.6971830985915493, 0.6830985915492958, 0.676056338028169, 0.6971830985915493, 0.6830985915492958, 0.676056338028169, 0.676056338028169, 0.6830985915492958, 0.6901408450704225, 0.647887323943662, 0.647887323943662, 0.6549295774647887, 0.6971830985915493, 0.6690140845070423, 0.6901408450704225, 0.6971830985915493, 0.704225352112676, 0.6971830985915493, 0.6901408450704225, 0.676056338028169, 0.6690140845070423, 0.6408450704225352, 0.6830985915492958, 0.6408450704225352, 0.6830985915492958, 0.6690140845070423, 0.6592592592592592]\n",
      "[0.8217592592592593, 0.6797267025089605, 0.6597493843256554, 0.6820881779446812, 0.6549540993985439, 0.6468453097818814, 0.6720806263534899, 0.6982496194824961, 0.7311313921483413, 0.7301086132861835, 0.6594916250367323, 0.5989304812834224, 0.6718847316959697, 0.6244398875977822, 0.640372796650233, 0.6557971014492753, 0.6115392118611004, 0.6042351768809168, 0.6091318591318591, 0.6639853938445488, 0.6152813955324019, 0.6300710502109302, 0.6300710502109302, 0.6881465263444958, 0.5904776873359363, 0.6372126436781609, 0.6609152598477326, 0.6377728174603174, 0.6593275518509163, 0.585207222438982, 0.6444415843982799, 0.6619200976677612, 0.6360012629252505, 0.6788194444444444, 0.6716237314597969, 0.6858974358974359, 0.6621190433589789, 0.6715596330275229, 0.665375231124073, 0.6531777557100297, 0.6934891240446796, 0.6591549295774648, 0.6739004629629629, 0.6024114774114773, 0.6391391391391392, 0.724915824915825, 0.6434785408416239, 0.649141743390328, 0.6923440283276722, 0.6714200831847891, 0.6541287878787878, 0.6466981748130733, 0.6758628738851863, 0.6529561671763506, 0.6723478009677186, 0.6931216931216931, 0.7370740868498716, 0.6539249529903735, 0.6928727417113362, 0.6900865583800566, 0.621301775147929, 0.6851129639591178, 0.6145510569702782, 0.6635089282368761, 0.6607615038892359, 0.612039572512085, 0.655954506381009, 0.6369767903193809, 0.6268296050814692, 0.6738195841716967, 0.6607615038892359, 0.6665976249654791, 0.5893378287744485, 0.6086176005497761, 0.5819471474974062, 0.6663105554716087, 0.6413259469184504, 0.6668543650567371, 0.6870726273348906, 0.6388987806525288, 0.6931135602813793, 0.6372065727699531, 0.6258082586427657, 0.6063511380895135, 0.5852013489387028, 0.6438169687984365, 0.6003278702781679, 0.6258824008083164, 0.5989793835476628, 0.615626695604992]\n"
     ]
    }
   ],
   "source": [
    "print(test_precision)\n",
    "print(test_recall)\n",
    "print(test_f1score)"
   ]
  },
  {
   "cell_type": "code",
   "execution_count": 676,
   "id": "70a36948",
   "metadata": {},
   "outputs": [],
   "source": [
    "x_new1 = [0, 0, 0, 0, 9, 0, 1, 0, 4]\n",
    "x_new2 = [0, 0, 0, 1, 29, 0, 0, 0, 2]\n",
    "x_new3 = [1, 0, 0, 1, 29, 0, 0, 0, 3]\n",
    "x_new4 = [0, 0, 0, 0, 17, 0, 0, 0, 1]\n",
    "x_new5 = [0, 0, 0, 0, 25, 0, 0, 0, 2]\n",
    "y_prob1 = model.predict([x_new1])\n",
    "y_pred1 = y_prob1.argmax()\n",
    "y_prob2 = model.predict([x_new2])\n",
    "y_pred2 = y_prob2.argmax()\n",
    "y_prob3 = model.predict([x_new3])\n",
    "y_pred3 = y_prob3.argmax()\n",
    "y_prob4 = model.predict([x_new4])\n",
    "y_pred4 = y_prob4.argmax()\n",
    "y_prob5 = model.predict([x_new5])\n",
    "y_pred5 = y_prob5.argmax()"
   ]
  },
  {
   "cell_type": "code",
   "execution_count": 677,
   "id": "d68c9234",
   "metadata": {},
   "outputs": [
    {
     "name": "stdout",
     "output_type": "stream",
     "text": [
      "1\n",
      "1\n",
      "1\n",
      "1\n",
      "1\n"
     ]
    }
   ],
   "source": [
    "print(y_pred1)\n",
    "print(y_pred2)\n",
    "print(y_pred3)\n",
    "print(y_pred4)\n",
    "print(y_pred5)"
   ]
  },
  {
   "cell_type": "code",
   "execution_count": 12007,
   "id": "03009ff6",
   "metadata": {},
   "outputs": [],
   "source": [
    "y_new1.append(y_pred1)\n",
    "y_new2.append(y_pred2)\n",
    "y_new3.append(y_pred3)\n",
    "y_new4.append(y_pred4)\n",
    "y_new5.append(y_pred5)"
   ]
  },
  {
   "cell_type": "code",
   "execution_count": 12008,
   "id": "9f7f6ce7",
   "metadata": {},
   "outputs": [
    {
     "name": "stdout",
     "output_type": "stream",
     "text": [
      "[0, 1, 1, 1, 1, 1, 1, 1, 1, 1, 1, 1, 1, 1, 1, 1, 1, 1, 1, 0, 1, 0, 0, 0, 1, 1, 0, 1, 1, 1, 1, 1, 1, 1, 1, 1, 1, 1, 1, 1, 1, 1, 1, 1, 0, 1, 1, 0, 0, 1, 1, 0, 1, 1, 1, 1, 1, 1, 1, 1, 1, 0, 1, 1, 1, 0, 1, 1, 1, 0, 1, 0, 1, 1, 1, 1, 1, 1, 0, 1, 1, 1, 1, 1, 1, 1, 1, 1, 1, 0]\n",
      "[1, 1, 1, 1, 1, 1, 1, 1, 1, 1, 1, 1, 1, 1, 1, 1, 1, 1, 1, 1, 1, 1, 1, 1, 1, 1, 1, 1, 1, 1, 1, 1, 1, 1, 1, 1, 1, 1, 1, 1, 1, 1, 1, 1, 1, 1, 1, 1, 1, 1, 1, 1, 1, 1, 1, 1, 1, 1, 1, 1, 1, 1, 1, 1, 1, 1, 1, 1, 1, 1, 1, 1, 1, 1, 1, 1, 1, 1, 1, 1, 1, 1, 1, 1, 1, 1, 1, 1, 1, 1]\n",
      "[1, 1, 1, 1, 1, 1, 1, 1, 1, 1, 1, 1, 1, 1, 1, 1, 1, 1, 1, 1, 1, 1, 1, 1, 1, 1, 1, 1, 1, 1, 1, 1, 1, 1, 1, 1, 1, 1, 1, 1, 1, 1, 1, 1, 1, 1, 1, 1, 1, 1, 1, 1, 1, 1, 1, 1, 1, 1, 1, 1, 1, 1, 1, 1, 1, 1, 1, 1, 1, 1, 1, 1, 1, 1, 1, 1, 1, 1, 1, 1, 1, 1, 1, 1, 1, 1, 1, 1, 1, 1]\n",
      "[1, 1, 1, 1, 1, 1, 1, 1, 1, 1, 1, 1, 1, 1, 1, 1, 1, 1, 1, 1, 1, 1, 1, 0, 1, 1, 0, 1, 1, 1, 1, 1, 1, 1, 0, 1, 1, 1, 1, 1, 0, 1, 0, 1, 1, 1, 0, 1, 1, 1, 1, 1, 1, 1, 1, 1, 1, 1, 1, 1, 1, 1, 1, 1, 1, 1, 1, 1, 1, 1, 1, 1, 1, 1, 1, 1, 1, 1, 1, 1, 1, 1, 1, 1, 1, 1, 1, 1, 1, 1]\n",
      "[1, 1, 1, 1, 1, 1, 1, 1, 1, 1, 1, 1, 1, 1, 1, 1, 1, 1, 1, 1, 1, 1, 1, 1, 1, 1, 1, 1, 1, 1, 1, 1, 1, 1, 1, 1, 1, 1, 1, 1, 1, 1, 1, 1, 1, 1, 1, 1, 1, 1, 1, 1, 1, 1, 1, 1, 1, 1, 1, 1, 1, 1, 1, 1, 1, 1, 1, 1, 1, 1, 1, 1, 1, 1, 1, 1, 1, 1, 1, 1, 1, 1, 1, 1, 1, 1, 1, 1, 1, 1]\n"
     ]
    }
   ],
   "source": [
    "print(y_new1)\n",
    "print(y_new2)\n",
    "print(y_new3)\n",
    "print(y_new4)\n",
    "print(y_new5)"
   ]
  },
  {
   "cell_type": "code",
   "execution_count": 12009,
   "id": "bc312279",
   "metadata": {},
   "outputs": [],
   "source": [
    "col = ['accuracy']"
   ]
  },
  {
   "cell_type": "code",
   "execution_count": 12021,
   "id": "4beaf2f7",
   "metadata": {},
   "outputs": [],
   "source": [
    "df_result = pd.DataFrame()"
   ]
  },
  {
   "cell_type": "code",
   "execution_count": 12022,
   "id": "50d0a060",
   "metadata": {},
   "outputs": [
    {
     "name": "stdout",
     "output_type": "stream",
     "text": [
      "Empty DataFrame\n",
      "Columns: []\n",
      "Index: []\n"
     ]
    }
   ],
   "source": [
    "print(df_result)"
   ]
  },
  {
   "cell_type": "code",
   "execution_count": 12023,
   "id": "125522af",
   "metadata": {},
   "outputs": [],
   "source": [
    "df_result['accuracy'] = test_loss"
   ]
  },
  {
   "cell_type": "code",
   "execution_count": 12024,
   "id": "2bde8902",
   "metadata": {},
   "outputs": [
    {
     "name": "stdout",
     "output_type": "stream",
     "text": [
      "    accuracy\n",
      "0   0.847222\n",
      "1   0.763889\n",
      "2   0.722222\n",
      "3   0.729167\n",
      "4   0.722222\n",
      "..       ...\n",
      "85  0.683099\n",
      "86  0.640845\n",
      "87  0.683099\n",
      "88  0.669014\n",
      "89  0.659259\n",
      "\n",
      "[90 rows x 1 columns]\n"
     ]
    }
   ],
   "source": [
    "print(df_result)"
   ]
  },
  {
   "cell_type": "code",
   "execution_count": 12025,
   "id": "b6474552",
   "metadata": {},
   "outputs": [],
   "source": [
    "df_result['loss'] = test_accuracy"
   ]
  },
  {
   "cell_type": "code",
   "execution_count": 12032,
   "id": "d92e0785",
   "metadata": {},
   "outputs": [],
   "source": [
    "df_result['precision'] = test_precision"
   ]
  },
  {
   "cell_type": "code",
   "execution_count": 12033,
   "id": "524f91eb",
   "metadata": {},
   "outputs": [],
   "source": [
    "df_result['recall'] = test_recall"
   ]
  },
  {
   "cell_type": "code",
   "execution_count": 12034,
   "id": "f1b0778a",
   "metadata": {},
   "outputs": [],
   "source": [
    "df_result['f1-score'] = test_f1score"
   ]
  },
  {
   "cell_type": "code",
   "execution_count": 12035,
   "id": "0848f3cd",
   "metadata": {},
   "outputs": [
    {
     "name": "stdout",
     "output_type": "stream",
     "text": [
      "    accuracy      loss  precision    recall  f1-score\n",
      "0   0.847222  0.514941   0.825027  0.847222  0.821759\n",
      "1   0.763889  0.512364   0.820823  0.763889  0.679727\n",
      "2   0.722222  0.585526   0.682350  0.722222  0.659749\n",
      "3   0.729167  0.560587   0.719727  0.729167  0.682088\n",
      "4   0.722222  0.616335   0.716584  0.722222  0.654954\n",
      "..       ...       ...        ...       ...       ...\n",
      "85  0.683099  0.610921   0.675562  0.683099  0.643817\n",
      "86  0.640845  0.676974   0.620807  0.640845  0.600328\n",
      "87  0.683099  0.617493   0.684321  0.683099  0.625882\n",
      "88  0.669014  0.597787   0.728061  0.669014  0.598979\n",
      "89  0.659259  0.634620   0.665648  0.659259  0.615627\n",
      "\n",
      "[90 rows x 5 columns]\n"
     ]
    }
   ],
   "source": [
    "print(df_result)"
   ]
  },
  {
   "cell_type": "code",
   "execution_count": 12036,
   "id": "0f135246",
   "metadata": {},
   "outputs": [],
   "source": [
    "df_result.to_csv('model_result.csv', encoding = 'utf-8-sig')"
   ]
  },
  {
   "cell_type": "code",
   "execution_count": 12037,
   "id": "5be76f77",
   "metadata": {},
   "outputs": [],
   "source": [
    "df_pred = pd.DataFrame()"
   ]
  },
  {
   "cell_type": "code",
   "execution_count": 12038,
   "id": "861dd9fe",
   "metadata": {},
   "outputs": [],
   "source": [
    "df_pred['product1'] = y_new1"
   ]
  },
  {
   "cell_type": "code",
   "execution_count": 12039,
   "id": "bc2f2de3",
   "metadata": {},
   "outputs": [],
   "source": [
    "df_pred['product2'] = y_new2"
   ]
  },
  {
   "cell_type": "code",
   "execution_count": 12040,
   "id": "3be48938",
   "metadata": {},
   "outputs": [],
   "source": [
    "df_pred['product3'] = y_new3"
   ]
  },
  {
   "cell_type": "code",
   "execution_count": 12041,
   "id": "4c62894c",
   "metadata": {},
   "outputs": [],
   "source": [
    "df_pred['product4'] = y_new4"
   ]
  },
  {
   "cell_type": "code",
   "execution_count": 12042,
   "id": "4da7aa36",
   "metadata": {},
   "outputs": [],
   "source": [
    "df_pred['product5'] = y_new5"
   ]
  },
  {
   "cell_type": "code",
   "execution_count": 12043,
   "id": "f08adaea",
   "metadata": {},
   "outputs": [
    {
     "name": "stdout",
     "output_type": "stream",
     "text": [
      "    product1  product2  product3  product4  product5\n",
      "0          0         1         1         1         1\n",
      "1          1         1         1         1         1\n",
      "2          1         1         1         1         1\n",
      "3          1         1         1         1         1\n",
      "4          1         1         1         1         1\n",
      "..       ...       ...       ...       ...       ...\n",
      "85         1         1         1         1         1\n",
      "86         1         1         1         1         1\n",
      "87         1         1         1         1         1\n",
      "88         1         1         1         1         1\n",
      "89         0         1         1         1         1\n",
      "\n",
      "[90 rows x 5 columns]\n"
     ]
    }
   ],
   "source": [
    "print(df_pred)"
   ]
  },
  {
   "cell_type": "code",
   "execution_count": 12044,
   "id": "0d86f837",
   "metadata": {},
   "outputs": [],
   "source": [
    "df_pred.to_csv('pred_result.csv', encoding = 'utf-8-sig')"
   ]
  },
  {
   "cell_type": "code",
   "execution_count": null,
   "id": "deeb54ff",
   "metadata": {},
   "outputs": [],
   "source": []
  }
 ],
 "metadata": {
  "kernelspec": {
   "display_name": "Python 3",
   "language": "python",
   "name": "python3"
  },
  "language_info": {
   "codemirror_mode": {
    "name": "ipython",
    "version": 3
   },
   "file_extension": ".py",
   "mimetype": "text/x-python",
   "name": "python",
   "nbconvert_exporter": "python",
   "pygments_lexer": "ipython3",
   "version": "3.8.8"
  }
 },
 "nbformat": 4,
 "nbformat_minor": 5
}
