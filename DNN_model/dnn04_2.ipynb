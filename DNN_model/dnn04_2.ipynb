{
 "cells": [
  {
   "cell_type": "code",
   "execution_count": 136,
   "id": "0e289aed",
   "metadata": {},
   "outputs": [],
   "source": [
    "import numpy as np\n",
    "import pandas as pd\n",
    "import tensorflow as tf\n",
    "from tensorflow.keras import layers\n",
    "from sklearn.model_selection import train_test_split\n",
    "\n",
    "df = pd.read_csv('colchange2.csv')"
   ]
  },
  {
   "cell_type": "code",
   "execution_count": 137,
   "id": "1b5f4f17",
   "metadata": {},
   "outputs": [
    {
     "name": "stdout",
     "output_type": "stream",
     "text": [
      "          발매가  라인  콜라보  month  color_num  col1  col2  col3  col4  col5  day  \\\n",
      "0      259000  21    0      4          1     9     0     0     0     0    0   \n",
      "1      259000  21    0      4          1     9     0     0     0     0    1   \n",
      "2      259000  21    0      4          1     9     0     0     0     0    2   \n",
      "3      259000  21    0      4          1     9     0     0     0     0    3   \n",
      "4      259000  21    0      4          1     9     0     0     0     0    4   \n",
      "...       ...  ..  ...    ...        ...   ...   ...   ...   ...   ...  ...   \n",
      "43948  209000  28    0     10          1     9     0     0     0     0   88   \n",
      "43949  209000  28    0     10          1     9     0     0     0     0   89   \n",
      "43950  209000  28    0     10          1     9     0     0     0     0   90   \n",
      "43951  209000  28    0     10          1     9     0     0     0     0   91   \n",
      "43952  209000  28    0     10          1     9     0     0     0     0   92   \n",
      "\n",
      "       nike  jordan  newbalance  adidas  converse  콜라보유무  type  \n",
      "0         0       0           1       0         0      0   1.0  \n",
      "1         0       0           1       0         0      0   1.0  \n",
      "2         0       0           1       0         0      0   1.0  \n",
      "3         0       0           1       0         0      0   1.0  \n",
      "4         0       0           1       0         0      0   1.0  \n",
      "...     ...     ...         ...     ...       ...    ...   ...  \n",
      "43948     0       0           0       0         1      1   0.0  \n",
      "43949     0       0           0       0         1      1   0.0  \n",
      "43950     0       0           0       0         1      1   0.0  \n",
      "43951     0       0           0       0         1      1   0.0  \n",
      "43952     0       0           0       0         1      1   0.0  \n",
      "\n",
      "[43953 rows x 18 columns]\n"
     ]
    }
   ],
   "source": [
    "print(df)"
   ]
  },
  {
   "cell_type": "code",
   "execution_count": 138,
   "id": "c5005c61",
   "metadata": {},
   "outputs": [],
   "source": [
    "data= df[(df['day'] == 1)]"
   ]
  },
  {
   "cell_type": "code",
   "execution_count": 139,
   "id": "bc4fe3b2",
   "metadata": {},
   "outputs": [
    {
     "name": "stdout",
     "output_type": "stream",
     "text": [
      "          발매가  라인  콜라보  month  color_num  col1  col2  col3  col4  col5  day  \\\n",
      "1      259000  21    0      4          1     9     0     0     0     0    1   \n",
      "93     149000  24    0      9          1     9     0     0     0     0    1   \n",
      "185    139000  17    0      5          2     9     1     0     0     0    1   \n",
      "278    149000  24    0      2          1     9     0     0     0     0    1   \n",
      "368     99000  18    0      1          1     9     0     0     0     0    1   \n",
      "...       ...  ..  ...    ...        ...   ...   ...   ...   ...   ...  ...   \n",
      "43493  284400  25    0     12          1     6     0     0     0     0    1   \n",
      "43584  600000  26    0      9          2     1     1     0     0     0    1   \n",
      "43676  309000  25    0      4          1     4     0     0     0     0    1   \n",
      "43768  289000  25    0     10          1     9     0     0     0     0    1   \n",
      "43861  209000  28    0     10          1     9     0     0     0     0    1   \n",
      "\n",
      "       nike  jordan  newbalance  adidas  converse  콜라보유무  type  \n",
      "1         0       0           1       0         0      0   1.0  \n",
      "93        0       0           1       0         0      0   1.0  \n",
      "185       0       0           1       0         0      0   2.0  \n",
      "278       0       0           1       0         0      0   1.0  \n",
      "368       0       0           1       0         0      0   0.0  \n",
      "...     ...     ...         ...     ...       ...    ...   ...  \n",
      "43493     0       0           0       1         0      0   0.0  \n",
      "43584     0       0           0       1         0      1   1.0  \n",
      "43676     0       0           0       1         0      0   1.0  \n",
      "43768     0       0           0       1         0      0   0.0  \n",
      "43861     0       0           0       0         1      1   0.0  \n",
      "\n",
      "[477 rows x 18 columns]\n"
     ]
    }
   ],
   "source": [
    "print(data)"
   ]
  },
  {
   "cell_type": "code",
   "execution_count": 140,
   "id": "5192056f",
   "metadata": {},
   "outputs": [],
   "source": [
    "data = data.sample(frac=1).reset_index(drop=True)"
   ]
  },
  {
   "cell_type": "code",
   "execution_count": 141,
   "id": "3a006394",
   "metadata": {},
   "outputs": [
    {
     "name": "stdout",
     "output_type": "stream",
     "text": [
      "        발매가  라인  콜라보  month  color_num  col1  col2  col3  col4  col5  day  \\\n",
      "0    119000  29    0      4          2     6     4     0     0     0    1   \n",
      "1    329000  25    0     10          1     9     0     0     0     0    1   \n",
      "2    239000   4    0      1          3     1     1     9     0     0    1   \n",
      "3    219000   6    0      5          3     1     3     4     0     0    1   \n",
      "4    239000  12    0      5          4     1     1     9     3     0    1   \n",
      "..      ...  ..  ...    ...        ...   ...   ...   ...   ...   ...  ...   \n",
      "472  129000  29    0      4          4     7     4     4     1     0    1   \n",
      "473  272200  23    0      6          2     9     7     0     0     0    1   \n",
      "474  179000   1    0     12          3     1    10     1     0     0    1   \n",
      "475  159000  17    0     11          3     4     4     1     0     0    1   \n",
      "476  109000   8    0      4          3     8     2     1     0     0    1   \n",
      "\n",
      "     nike  jordan  newbalance  adidas  converse  콜라보유무  type  \n",
      "0       1       0           0       0         0      0   1.0  \n",
      "1       0       0           0       1         0      0   1.0  \n",
      "2       1       0           0       0         0      0   0.0  \n",
      "3       1       0           0       0         0      0   0.0  \n",
      "4       0       1           0       0         0      0   1.0  \n",
      "..    ...     ...         ...     ...       ...    ...   ...  \n",
      "472     1       0           0       0         0      0   2.0  \n",
      "473     0       0           1       0         0      1   0.0  \n",
      "474     1       0           0       0         0      0   0.0  \n",
      "475     0       0           1       0         0      1   1.0  \n",
      "476     1       0           0       0         0      0   1.0  \n",
      "\n",
      "[477 rows x 18 columns]\n"
     ]
    }
   ],
   "source": [
    "print(data)"
   ]
  },
  {
   "cell_type": "code",
   "execution_count": 142,
   "id": "4277bba6",
   "metadata": {},
   "outputs": [],
   "source": [
    "yx = data[\"type\"]"
   ]
  },
  {
   "cell_type": "code",
   "execution_count": 143,
   "id": "32b2a14d",
   "metadata": {},
   "outputs": [
    {
     "name": "stdout",
     "output_type": "stream",
     "text": [
      "0      1.0\n",
      "1      1.0\n",
      "2      0.0\n",
      "3      0.0\n",
      "4      1.0\n",
      "      ... \n",
      "472    2.0\n",
      "473    0.0\n",
      "474    0.0\n",
      "475    1.0\n",
      "476    1.0\n",
      "Name: type, Length: 477, dtype: float64\n"
     ]
    }
   ],
   "source": [
    "print(yx)"
   ]
  },
  {
   "cell_type": "code",
   "execution_count": 144,
   "id": "99fe5e49",
   "metadata": {},
   "outputs": [],
   "source": [
    "X = data[['콜라보유무', 'color_num', 'converse', 'jordan', '라인', '콜라보', 'col3', 'col5']]\n",
    "#X = np.asarray(X).astype(np.int64)\n",
    "y = np.empty((477,3))"
   ]
  },
  {
   "cell_type": "code",
   "execution_count": 145,
   "id": "561072d0",
   "metadata": {},
   "outputs": [
    {
     "name": "stdout",
     "output_type": "stream",
     "text": [
      "     콜라보유무  color_num  converse  jordan  라인  콜라보  col3  col5\n",
      "0        0          2         0       0  29    0     0     0\n",
      "1        0          1         0       0  25    0     0     0\n",
      "2        0          3         0       0   4    0     9     0\n",
      "3        0          3         0       0   6    0     4     0\n",
      "4        0          4         0       1  12    0     9     0\n",
      "..     ...        ...       ...     ...  ..  ...   ...   ...\n",
      "472      0          4         0       0  29    0     4     0\n",
      "473      1          2         0       0  23    0     0     0\n",
      "474      0          3         0       0   1    0     1     0\n",
      "475      1          3         0       0  17    0     1     0\n",
      "476      0          3         0       0   8    0     1     0\n",
      "\n",
      "[477 rows x 8 columns]\n"
     ]
    }
   ],
   "source": [
    "print(X)"
   ]
  },
  {
   "cell_type": "code",
   "execution_count": 146,
   "id": "97a3ae2f",
   "metadata": {},
   "outputs": [],
   "source": [
    "for i in range(477):\n",
    "    if yx[i] == 0.0:\n",
    "        y[i] = [1, 0, 0]\n",
    "    elif yx[i] == 1.0:\n",
    "        y[i] = [0, 1, 0]\n",
    "    else:\n",
    "        y[i] = [0, 0, 1]"
   ]
  },
  {
   "cell_type": "code",
   "execution_count": 147,
   "id": "cff9f465",
   "metadata": {},
   "outputs": [],
   "source": [
    "train_x, test_x, train_y, test_y = train_test_split(X, y, test_size = 0.4, random_state = 1)"
   ]
  },
  {
   "cell_type": "code",
   "execution_count": 148,
   "id": "3d82694b",
   "metadata": {},
   "outputs": [],
   "source": [
    "model = tf.keras.Sequential()  \n",
    "model.add(layers.Dense(16, input_shape=(8,)))  \n",
    "model.add(layers.Activation('relu')) \n",
    "model.add(layers.Dropout(0.01))        \n",
    "\n",
    "model.add(layers.Dense(16))         \n",
    "model.add(layers.Activation('relu'))\n",
    "model.add(layers.Dropout(0.01))\n",
    "\n",
    "model.add(layers.Dense(32))         \n",
    "model.add(layers.Activation('relu'))\n",
    "model.add(layers.Dropout(0.01))\n",
    "\n",
    "model.add(layers.Dense(18))         \n",
    "model.add(layers.Activation('relu'))\n",
    "model.add(layers.Dropout(0.01))\n",
    "\n",
    "model.add(layers.Dense(34))         \n",
    "model.add(layers.Activation('relu'))\n",
    "model.add(layers.Dropout(0.01))\n",
    "\n",
    "model.add(layers.Dense(12))         \n",
    "model.add(layers.Activation('relu'))\n",
    "model.add(layers.Dropout(0.01))\n",
    "\n",
    "model.add(layers.Dense(3))\n",
    "model.add(layers.Activation('softmax')) \n",
    "\n",
    "# 모델 구축\n",
    "model.compile(\n",
    "    loss= 'categorical_crossentropy', \n",
    "    optimizer=\"adam\",   \n",
    "    metrics=['accuracy'])  "
   ]
  },
  {
   "cell_type": "code",
   "execution_count": 149,
   "id": "364d3d9f",
   "metadata": {},
   "outputs": [
    {
     "name": "stdout",
     "output_type": "stream",
     "text": [
      "Epoch 1/200\n",
      "20/20 [==============================] - 0s 23ms/step - loss: 1.0696 - accuracy: 0.5200 - val_loss: 1.0078 - val_accuracy: 0.5581\n",
      "Epoch 2/200\n",
      "20/20 [==============================] - 0s 4ms/step - loss: 1.0173 - accuracy: 0.5300 - val_loss: 0.9967 - val_accuracy: 0.5465\n",
      "Epoch 3/200\n",
      "20/20 [==============================] - 0s 4ms/step - loss: 1.0109 - accuracy: 0.5600 - val_loss: 0.9942 - val_accuracy: 0.5349\n",
      "Epoch 4/200\n",
      "20/20 [==============================] - 0s 4ms/step - loss: 0.9922 - accuracy: 0.5500 - val_loss: 0.9948 - val_accuracy: 0.5349\n",
      "Epoch 5/200\n",
      "20/20 [==============================] - 0s 4ms/step - loss: 0.9868 - accuracy: 0.5450 - val_loss: 0.9987 - val_accuracy: 0.5349\n",
      "Epoch 6/200\n",
      "20/20 [==============================] - 0s 3ms/step - loss: 0.9716 - accuracy: 0.5300 - val_loss: 1.0016 - val_accuracy: 0.5233\n",
      "Epoch 7/200\n",
      "20/20 [==============================] - 0s 4ms/step - loss: 0.9597 - accuracy: 0.5200 - val_loss: 1.0094 - val_accuracy: 0.5000\n",
      "Epoch 8/200\n",
      "20/20 [==============================] - 0s 3ms/step - loss: 0.9748 - accuracy: 0.5200 - val_loss: 1.0031 - val_accuracy: 0.5233\n",
      "Epoch 9/200\n",
      "20/20 [==============================] - 0s 4ms/step - loss: 0.9450 - accuracy: 0.5450 - val_loss: 1.0031 - val_accuracy: 0.5233\n",
      "Epoch 10/200\n",
      "20/20 [==============================] - 0s 4ms/step - loss: 0.9387 - accuracy: 0.5500 - val_loss: 1.0078 - val_accuracy: 0.5233\n",
      "Epoch 11/200\n",
      "20/20 [==============================] - 0s 4ms/step - loss: 0.9380 - accuracy: 0.5500 - val_loss: 1.0106 - val_accuracy: 0.5116\n",
      "Epoch 12/200\n",
      "20/20 [==============================] - 0s 4ms/step - loss: 0.9371 - accuracy: 0.5400 - val_loss: 1.0044 - val_accuracy: 0.5349\n",
      "Epoch 13/200\n",
      "20/20 [==============================] - 0s 3ms/step - loss: 0.9532 - accuracy: 0.5300 - val_loss: 1.0175 - val_accuracy: 0.4884\n",
      "Epoch 14/200\n",
      "20/20 [==============================] - 0s 4ms/step - loss: 0.9366 - accuracy: 0.5500 - val_loss: 1.0172 - val_accuracy: 0.5116\n",
      "Epoch 15/200\n",
      "20/20 [==============================] - 0s 4ms/step - loss: 0.9619 - accuracy: 0.5350 - val_loss: 1.0121 - val_accuracy: 0.5233\n",
      "Epoch 16/200\n",
      "20/20 [==============================] - 0s 4ms/step - loss: 0.9468 - accuracy: 0.5600 - val_loss: 1.0110 - val_accuracy: 0.5349\n",
      "Epoch 17/200\n",
      "20/20 [==============================] - 0s 4ms/step - loss: 0.9266 - accuracy: 0.5400 - val_loss: 1.0211 - val_accuracy: 0.5233\n",
      "Epoch 18/200\n",
      "20/20 [==============================] - 0s 3ms/step - loss: 0.9304 - accuracy: 0.5450 - val_loss: 1.0170 - val_accuracy: 0.5349\n",
      "Epoch 19/200\n",
      "20/20 [==============================] - 0s 4ms/step - loss: 0.9345 - accuracy: 0.5450 - val_loss: 1.0073 - val_accuracy: 0.5349\n",
      "Epoch 20/200\n",
      "20/20 [==============================] - 0s 4ms/step - loss: 0.9164 - accuracy: 0.5400 - val_loss: 1.0200 - val_accuracy: 0.5349\n",
      "Epoch 21/200\n",
      "20/20 [==============================] - 0s 4ms/step - loss: 0.9176 - accuracy: 0.5500 - val_loss: 1.0113 - val_accuracy: 0.5349\n",
      "Epoch 22/200\n",
      "20/20 [==============================] - 0s 4ms/step - loss: 0.9180 - accuracy: 0.5450 - val_loss: 1.0222 - val_accuracy: 0.5349\n",
      "Epoch 23/200\n",
      "20/20 [==============================] - 0s 4ms/step - loss: 0.9269 - accuracy: 0.5450 - val_loss: 1.0144 - val_accuracy: 0.5349\n",
      "Epoch 24/200\n",
      "20/20 [==============================] - 0s 4ms/step - loss: 0.9159 - accuracy: 0.5350 - val_loss: 1.0148 - val_accuracy: 0.5349\n",
      "Epoch 25/200\n",
      "20/20 [==============================] - 0s 4ms/step - loss: 0.9165 - accuracy: 0.5500 - val_loss: 1.0085 - val_accuracy: 0.5465\n",
      "Epoch 26/200\n",
      "20/20 [==============================] - 0s 4ms/step - loss: 0.9169 - accuracy: 0.5450 - val_loss: 1.0179 - val_accuracy: 0.5349\n",
      "Epoch 27/200\n",
      "20/20 [==============================] - 0s 4ms/step - loss: 0.9409 - accuracy: 0.5250 - val_loss: 1.0058 - val_accuracy: 0.5349\n",
      "Epoch 28/200\n",
      "20/20 [==============================] - 0s 4ms/step - loss: 0.9167 - accuracy: 0.5800 - val_loss: 1.0087 - val_accuracy: 0.5349\n",
      "Epoch 29/200\n",
      "20/20 [==============================] - 0s 4ms/step - loss: 0.9059 - accuracy: 0.5750 - val_loss: 1.0068 - val_accuracy: 0.5349\n",
      "Epoch 30/200\n",
      "20/20 [==============================] - 0s 4ms/step - loss: 0.9287 - accuracy: 0.5550 - val_loss: 1.0011 - val_accuracy: 0.5465\n",
      "Epoch 31/200\n",
      "20/20 [==============================] - 0s 4ms/step - loss: 0.9032 - accuracy: 0.5700 - val_loss: 1.0144 - val_accuracy: 0.5349\n",
      "Epoch 32/200\n",
      "20/20 [==============================] - 0s 4ms/step - loss: 0.8858 - accuracy: 0.5550 - val_loss: 1.0205 - val_accuracy: 0.5349\n",
      "Epoch 33/200\n",
      "20/20 [==============================] - 0s 4ms/step - loss: 0.9239 - accuracy: 0.5350 - val_loss: 1.0029 - val_accuracy: 0.5349\n",
      "6/6 [==============================] - 0s 2ms/step - loss: 1.0222 - accuracy: 0.5445\n",
      "test_loss:  1.0221983194351196\n",
      "test_acc:  0.5445026159286499\n"
     ]
    }
   ],
   "source": [
    "hist = model.fit(\n",
    "    train_x, train_y,\n",
    "    batch_size = 10,  \n",
    "    epochs = 200,      \n",
    "    validation_split = 0.3,\n",
    "    shuffle = False,\n",
    "    callbacks=[tf.keras.callbacks.EarlyStopping(monitor='val_loss', patience=30)],\n",
    "    verbose=1)  \n",
    "\n",
    "# 테스트 데이터로 성능평가\n",
    "score = model.evaluate(test_x, test_y)\n",
    "print('test_loss: ', score[0])\n",
    "print('test_acc: ', score[1])"
   ]
  },
  {
   "cell_type": "code",
   "execution_count": 150,
   "id": "0e58587f",
   "metadata": {},
   "outputs": [
    {
     "data": {
      "image/png": "[encoded data removed]",
      "text/plain": [
       "<Figure size 432x288 with 2 Axes>"
      ]
     },
     "metadata": {
      "needs_background": "light"
     },
     "output_type": "display_data"
    }
   ],
   "source": [
    "import matplotlib.pyplot as plt\n",
    "\n",
    "fig, loss_ax = plt.subplots()\n",
    "acc_ax = loss_ax.twinx()\n",
    "\n",
    "loss_ax.plot(hist.history['loss'], 'y', label='train loss')\n",
    "loss_ax.plot(hist.history['val_loss'], 'r', label='val loss')\n",
    "\n",
    "acc_ax.plot(hist.history['accuracy'], 'b', label='train acc')\n",
    "acc_ax.plot(hist.history['val_accuracy'], 'g', label='val acc')\n",
    "\n",
    "loss_ax.set_xlabel('epoch')\n",
    "loss_ax.set_ylabel('loss')\n",
    "acc_ax.set_ylabel('accuray')\n",
    "\n",
    "loss_ax.legend(loc='upper left')\n",
    "acc_ax.legend(loc='lower left')\n",
    "\n",
    "plt.show()"
   ]
  },
  {
   "cell_type": "code",
   "execution_count": 151,
   "id": "2ce4afa7",
   "metadata": {},
   "outputs": [],
   "source": [
    "y_pred = model.predict(test_x)"
   ]
  },
  {
   "cell_type": "code",
   "execution_count": 152,
   "id": "05dfb180",
   "metadata": {},
   "outputs": [
    {
     "name": "stdout",
     "output_type": "stream",
     "text": [
      "[[0.06302699 0.5917855  0.3451875 ]\n",
      " [0.25858176 0.49178886 0.24962933]\n",
      " [0.08212775 0.73786706 0.18000512]\n",
      " [0.1540944  0.61542326 0.23048234]\n",
      " [0.2937651  0.37539923 0.3308356 ]\n",
      " [0.5793546  0.38736916 0.03327622]\n",
      " [0.48909578 0.46389118 0.04701298]\n",
      " [0.39050937 0.5199625  0.08952817]\n",
      " [0.33048373 0.45987856 0.20963761]\n",
      " [0.41838548 0.45199087 0.12962359]\n",
      " [0.1299128  0.5007373  0.36934993]\n",
      " [0.22932127 0.49720418 0.27347463]\n",
      " [0.07186753 0.5757916  0.35234082]\n",
      " [0.41838548 0.45199087 0.12962359]\n",
      " [0.29211298 0.47843415 0.22945292]\n",
      " [0.10943888 0.6881559  0.20240526]\n",
      " [0.3666369  0.4717077  0.16165541]\n",
      " [0.30449528 0.4567667  0.23873799]\n",
      " [0.09493655 0.65127754 0.25378588]\n",
      " [0.21609728 0.5096632  0.2742395 ]\n",
      " [0.22932127 0.49720418 0.27347463]\n",
      " [0.3666369  0.4717077  0.16165541]\n",
      " [0.09708893 0.5429779  0.35993314]\n",
      " [0.4118325  0.4657589  0.1224087 ]\n",
      " [0.13731074 0.5642594  0.29842988]\n",
      " [0.59085166 0.37909186 0.03005647]\n",
      " [0.17722663 0.54709846 0.27567488]\n",
      " [0.7021274  0.29085585 0.00701676]\n",
      " [0.30244124 0.57268786 0.12487094]\n",
      " [0.21609728 0.5096632  0.2742395 ]\n",
      " [0.10943884 0.6881559  0.20240526]\n",
      " [0.36663693 0.4717077  0.16165538]\n",
      " [0.10783037 0.5844525  0.30771708]\n",
      " [0.23253386 0.43106988 0.3363963 ]\n",
      " [0.31723362 0.51208675 0.17067958]\n",
      " [0.12384038 0.5629754  0.31318417]\n",
      " [0.2728382  0.3956745  0.3314873 ]\n",
      " [0.3429264  0.48721197 0.16986161]\n",
      " [0.3402417  0.4742736  0.18548472]\n",
      " [0.14394459 0.5816131  0.27444232]\n",
      " [0.2868203  0.55915743 0.15402225]\n",
      " [0.10943888 0.6881559  0.20240526]\n",
      " [0.29211298 0.47843415 0.22945292]\n",
      " [0.23677555 0.45639536 0.3068291 ]\n",
      " [0.30244124 0.57268786 0.12487094]\n",
      " [0.09493655 0.65127754 0.25378588]\n",
      " [0.22932127 0.49720418 0.27347463]\n",
      " [0.21609728 0.5096632  0.2742395 ]\n",
      " [0.25223482 0.41701496 0.3307502 ]\n",
      " [0.10943888 0.6881559  0.20240526]\n",
      " [0.17707415 0.45387694 0.36904886]\n",
      " [0.6753491  0.31960097 0.00504997]\n",
      " [0.22932127 0.49720418 0.27347463]\n",
      " [0.10943888 0.6881559  0.20240526]\n",
      " [0.09493655 0.65127754 0.25378588]\n",
      " [0.41012454 0.4923571  0.09751841]\n",
      " [0.21609728 0.5096632  0.2742395 ]\n",
      " [0.33443442 0.5251428  0.14042276]\n",
      " [0.10943888 0.6881559  0.20240526]\n",
      " [0.10943888 0.6881559  0.20240526]\n",
      " [0.3666369  0.4717077  0.16165541]\n",
      " [0.68798566 0.30643094 0.00558333]\n",
      " [0.07732382 0.6502711  0.27240506]\n",
      " [0.44971457 0.45823863 0.09204674]\n",
      " [0.10943888 0.6881559  0.20240526]\n",
      " [0.3666369  0.4717077  0.16165541]\n",
      " [0.08212775 0.73786706 0.18000512]\n",
      " [0.263626   0.3910143  0.3453597 ]\n",
      " [0.6528782  0.32103628 0.02608543]\n",
      " [0.29506785 0.37482014 0.330112  ]\n",
      " [0.18817258 0.47534946 0.33647797]\n",
      " [0.70472383 0.28272548 0.0125507 ]\n",
      " [0.04947777 0.6375408  0.3129813 ]\n",
      " [0.05016161 0.7723502  0.17748816]\n",
      " [0.28360495 0.4796292  0.23676582]\n",
      " [0.5793734  0.40110257 0.01952397]\n",
      " [0.11682238 0.57984906 0.30332857]\n",
      " [0.3313891  0.49614316 0.17246775]\n",
      " [0.46039796 0.4471685  0.09243362]\n",
      " [0.21609728 0.5096632  0.2742395 ]\n",
      " [0.3666369  0.4717077  0.16165541]\n",
      " [0.04665913 0.7816508  0.17169008]\n",
      " [0.30237442 0.37515056 0.32247502]\n",
      " [0.43722823 0.4580366  0.10473511]\n",
      " [0.39050937 0.5199625  0.08952817]\n",
      " [0.3666369  0.4717077  0.16165541]\n",
      " [0.4631635  0.45479667 0.08203986]\n",
      " [0.6419839  0.3451825  0.01283359]\n",
      " [0.64413553 0.3475494  0.0083151 ]\n",
      " [0.48909578 0.46389118 0.04701298]\n",
      " [0.27206805 0.5643851  0.16354688]\n",
      " [0.10943888 0.6881559  0.20240526]\n",
      " [0.3760888  0.4772977  0.14661354]\n",
      " [0.48909578 0.46389118 0.04701298]\n",
      " [0.3024412  0.5726879  0.12487091]\n",
      " [0.10943884 0.6881559  0.20240526]\n",
      " [0.05062326 0.7298495  0.21952724]\n",
      " [0.32146055 0.45925325 0.2192862 ]\n",
      " [0.10943888 0.6881559  0.20240526]\n",
      " [0.10943888 0.6881559  0.20240526]\n",
      " [0.5380516  0.41156283 0.05038556]\n",
      " [0.11914616 0.5199054  0.36094847]\n",
      " [0.04665913 0.7816508  0.17169008]\n",
      " [0.3074585  0.37334633 0.3191952 ]\n",
      " [0.36639315 0.5237247  0.10988219]\n",
      " [0.10783037 0.5844525  0.30771708]\n",
      " [0.6428974  0.34493756 0.01216493]\n",
      " [0.41838548 0.45199087 0.12962359]\n",
      " [0.43338993 0.4782929  0.08831716]\n",
      " [0.31111082 0.5023545  0.1865347 ]\n",
      " [0.5793734  0.40110257 0.01952397]\n",
      " [0.10943888 0.6881559  0.20240526]\n",
      " [0.18955378 0.53493565 0.27551064]\n",
      " [0.23677555 0.45639536 0.3068291 ]\n",
      " [0.09463115 0.6113993  0.29396957]\n",
      " [0.2937651  0.37539923 0.3308356 ]\n",
      " [0.17529549 0.5838572  0.24084736]\n",
      " [0.04665913 0.7816508  0.17169008]\n",
      " [0.11744048 0.67438453 0.2081749 ]\n",
      " [0.32098374 0.52814955 0.15086664]\n",
      " [0.32098374 0.52814955 0.15086664]\n",
      " [0.21588619 0.49013785 0.29397595]\n",
      " [0.11551545 0.5735152  0.31096938]\n",
      " [0.459087   0.45093974 0.08997323]\n",
      " [0.08856429 0.62458336 0.28685233]\n",
      " [0.29211298 0.47843415 0.22945292]\n",
      " [0.10943884 0.6881559  0.20240526]\n",
      " [0.20299469 0.42961037 0.367395  ]\n",
      " [0.37264982 0.4636971  0.16365312]\n",
      " [0.19505586 0.4597347  0.34520948]\n",
      " [0.32146055 0.45925325 0.2192862 ]\n",
      " [0.45240238 0.45122978 0.09636788]\n",
      " [0.21588619 0.49013785 0.29397595]\n",
      " [0.3433585  0.4636066  0.19303493]\n",
      " [0.55202013 0.422947   0.0250329 ]\n",
      " [0.08492921 0.6828256  0.23224513]\n",
      " [0.21609728 0.5096632  0.2742395 ]\n",
      " [0.459087   0.45093974 0.08997323]\n",
      " [0.22040735 0.4714951  0.30809748]\n",
      " [0.17543384 0.5490878  0.27547833]\n",
      " [0.10943888 0.6881559  0.20240526]\n",
      " [0.4446898  0.468449   0.0868612 ]\n",
      " [0.21609728 0.5096632  0.2742395 ]\n",
      " [0.33402848 0.5385493  0.12742217]\n",
      " [0.6304738  0.33933833 0.03018781]\n",
      " [0.21609728 0.5096632  0.2742395 ]\n",
      " [0.06579067 0.7723377  0.16187167]\n",
      " [0.46609643 0.45273972 0.08116384]\n",
      " [0.6559392  0.3214455  0.02261531]\n",
      " [0.17529549 0.5838572  0.24084736]\n",
      " [0.25223482 0.41701496 0.3307502 ]\n",
      " [0.6107328  0.35972014 0.02954705]\n",
      " [0.3666369  0.4717077  0.16165541]\n",
      " [0.19505586 0.4597347  0.34520948]\n",
      " [0.3666369  0.4717077  0.16165541]\n",
      " [0.33904997 0.5568977  0.10405236]\n",
      " [0.10943888 0.6881559  0.20240526]\n",
      " [0.11744048 0.67438453 0.2081749 ]\n",
      " [0.32721192 0.54545194 0.12733613]\n",
      " [0.2859705  0.43167806 0.28235137]\n",
      " [0.3666369  0.4717077  0.16165541]\n",
      " [0.21588619 0.49013785 0.29397595]\n",
      " [0.41838548 0.45199087 0.12962359]\n",
      " [0.5793546  0.38736916 0.03327622]\n",
      " [0.39957023 0.46330234 0.1371275 ]\n",
      " [0.08139936 0.5864113  0.33218932]\n",
      " [0.10783037 0.5844525  0.30771708]\n",
      " [0.2937651  0.37539923 0.3308356 ]\n",
      " [0.10943888 0.6881559  0.20240526]\n",
      " [0.30237442 0.37515056 0.32247502]\n",
      " [0.40399998 0.47696084 0.1190392 ]\n",
      " [0.10943888 0.6881559  0.20240526]\n",
      " [0.09463115 0.6113993  0.29396957]\n",
      " [0.724101   0.27251852 0.00338055]\n",
      " [0.3666369  0.4717077  0.16165541]\n",
      " [0.10943888 0.6881559  0.20240526]\n",
      " [0.10943888 0.6881559  0.20240526]\n",
      " [0.385635   0.5101418  0.10422328]\n",
      " [0.04665913 0.7816508  0.17169008]\n",
      " [0.41809896 0.45826086 0.12364013]\n",
      " [0.08253331 0.6912423  0.22622448]\n",
      " [0.36481455 0.47412124 0.16106424]\n",
      " [0.09493655 0.65127754 0.25378588]\n",
      " [0.3435092  0.45839834 0.1980925 ]\n",
      " [0.21609728 0.5096632  0.2742395 ]\n",
      " [0.21609728 0.5096632  0.2742395 ]\n",
      " [0.3666369  0.4717077  0.16165541]\n",
      " [0.05062326 0.7298495  0.21952724]\n",
      " [0.7021274  0.29085585 0.00701676]\n",
      " [0.6123389  0.37934813 0.00831299]\n",
      " [0.28333363 0.42793587 0.28873047]]\n"
     ]
    }
   ],
   "source": [
    "print(y_pred)"
   ]
  },
  {
   "cell_type": "code",
   "execution_count": 153,
   "id": "4fccbdc5",
   "metadata": {},
   "outputs": [
    {
     "data": {
      "text/plain": [
       "array([1, 1, 1, 1, 1, 0, 0, 1, 1, 1, 1, 1, 1, 1, 1, 1, 1, 1, 1, 1, 1, 1,\n",
       "       1, 1, 1, 0, 1, 0, 1, 1, 1, 1, 1, 1, 1, 1, 1, 1, 1, 1, 1, 1, 1, 1,\n",
       "       1, 1, 1, 1, 1, 1, 1, 0, 1, 1, 1, 1, 1, 1, 1, 1, 1, 0, 1, 1, 1, 1,\n",
       "       1, 1, 0, 1, 1, 0, 1, 1, 1, 0, 1, 1, 0, 1, 1, 1, 1, 1, 1, 1, 0, 0,\n",
       "       0, 0, 1, 1, 1, 0, 1, 1, 1, 1, 1, 1, 0, 1, 1, 1, 1, 1, 0, 1, 1, 1,\n",
       "       0, 1, 1, 1, 1, 1, 1, 1, 1, 1, 1, 1, 1, 0, 1, 1, 1, 1, 1, 1, 1, 0,\n",
       "       1, 1, 0, 1, 1, 0, 1, 1, 1, 1, 1, 1, 0, 1, 1, 0, 0, 1, 1, 0, 1, 1,\n",
       "       1, 1, 1, 1, 1, 1, 1, 1, 1, 0, 1, 1, 1, 1, 1, 1, 1, 1, 1, 0, 1, 1,\n",
       "       1, 1, 1, 1, 1, 1, 1, 1, 1, 1, 1, 1, 0, 0, 1], dtype=int64)"
      ]
     },
     "execution_count": 153,
     "metadata": {},
     "output_type": "execute_result"
    }
   ],
   "source": [
    "y_class = y_pred.argmax(axis=-1)\n",
    "y_class"
   ]
  },
  {
   "cell_type": "code",
   "execution_count": 154,
   "id": "238d51f4",
   "metadata": {},
   "outputs": [],
   "source": [
    "test_act = []\n",
    "for i in range(len(test_y)):\n",
    "    if test_y[i][1] == 1.0:\n",
    "        test_act.append(0)\n",
    "    elif test_y[i][2] == 1.0:\n",
    "        test_act.append(1)\n",
    "    else:\n",
    "        test_act.append(2)"
   ]
  },
  {
   "cell_type": "code",
   "execution_count": 155,
   "id": "137cbfde",
   "metadata": {},
   "outputs": [
    {
     "name": "stdout",
     "output_type": "stream",
     "text": [
      "[1, 0, 0, 0, 0, 0, 0, 1, 0, 2, 1, 2, 1, 2, 1, 2, 0, 0, 1, 1, 2, 0, 2, 1, 0, 1, 0, 2, 0, 0, 0, 0, 1, 1, 2, 0, 2, 0, 0, 0, 2, 2, 0, 0, 2, 0, 2, 0, 0, 2, 1, 0, 0, 0, 1, 0, 0, 0, 2, 0, 1, 2, 0, 0, 0, 1, 0, 1, 2, 0, 0, 0, 0, 2, 0, 2, 2, 1, 1, 0, 0, 0, 0, 0, 0, 0, 0, 2, 0, 2, 0, 0, 1, 2, 0, 0, 0, 2, 0, 0, 0, 0, 0, 0, 2, 1, 2, 2, 0, 0, 0, 0, 2, 2, 2, 0, 2, 2, 0, 0, 0, 0, 1, 0, 0, 2, 0, 1, 2, 1, 2, 2, 0, 0, 0, 0, 2, 2, 2, 1, 0, 2, 0, 1, 2, 1, 0, 2, 0, 2, 0, 0, 0, 1, 1, 0, 0, 2, 0, 2, 0, 0, 2, 2, 0, 1, 1, 1, 0, 0, 2, 0, 0, 0, 0, 2, 0, 0, 2, 0, 0, 0, 1, 0, 0, 2, 0, 2, 0, 1, 1]\n"
     ]
    }
   ],
   "source": [
    "print(test_act)"
   ]
  },
  {
   "cell_type": "code",
   "execution_count": 156,
   "id": "b340ad20",
   "metadata": {},
   "outputs": [
    {
     "name": "stdout",
     "output_type": "stream",
     "text": [
      "0.2197377501725328\n"
     ]
    },
    {
     "name": "stderr",
     "output_type": "stream",
     "text": [
      "C:\\Users\\USER\\anaconda3\\lib\\site-packages\\sklearn\\metrics\\_classification.py:1245: UndefinedMetricWarning: Precision is ill-defined and being set to 0.0 in labels with no predicted samples. Use `zero_division` parameter to control this behavior.\n",
      "  _warn_prf(average, modifier, msg_start, len(result))\n"
     ]
    }
   ],
   "source": [
    "from sklearn.metrics import precision_score , recall_score , confusion_matrix, f1_score\n",
    "precision = precision_score(test_act, y_class, average= \"macro\")\n",
    "print(precision)"
   ]
  },
  {
   "cell_type": "code",
   "execution_count": 157,
   "id": "931330d7",
   "metadata": {},
   "outputs": [
    {
     "name": "stdout",
     "output_type": "stream",
     "text": [
      "0.34836601307189546\n"
     ]
    }
   ],
   "source": [
    "recall = recall_score(test_act, y_class, average= \"macro\")\n",
    "print(recall)"
   ]
  },
  {
   "cell_type": "code",
   "execution_count": 158,
   "id": "579140ef",
   "metadata": {},
   "outputs": [
    {
     "name": "stdout",
     "output_type": "stream",
     "text": [
      "0.1751187084520418\n"
     ]
    }
   ],
   "source": [
    "print(f1_score(test_act, y_class, average= \"macro\"))"
   ]
  },
  {
   "cell_type": "code",
   "execution_count": null,
   "id": "0d26aefa",
   "metadata": {},
   "outputs": [],
   "source": []
  }
 ],
 "metadata": {
  "kernelspec": {
   "display_name": "Python 3",
   "language": "python",
   "name": "python3"
  },
  "language_info": {
   "codemirror_mode": {
    "name": "ipython",
    "version": 3
   },
   "file_extension": ".py",
   "mimetype": "text/x-python",
   "name": "python",
   "nbconvert_exporter": "python",
   "pygments_lexer": "ipython3",
   "version": "3.8.8"
  }
 },
 "nbformat": 4,
 "nbformat_minor": 5
}
