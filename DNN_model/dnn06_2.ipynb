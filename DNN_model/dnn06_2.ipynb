{
 "cells": [
  {
   "cell_type": "code",
   "execution_count": 65,
   "id": "0e289aed",
   "metadata": {},
   "outputs": [],
   "source": [
    "import numpy as np\n",
    "import pandas as pd\n",
    "import tensorflow as tf\n",
    "from tensorflow.keras import layers\n",
    "from sklearn.model_selection import train_test_split\n",
    "\n",
    "df = pd.read_csv('colchange3.csv')"
   ]
  },
  {
   "cell_type": "code",
   "execution_count": 66,
   "id": "1b5f4f17",
   "metadata": {},
   "outputs": [
    {
     "name": "stdout",
     "output_type": "stream",
     "text": [
      "          발매가  라인  콜라보  month  color_num  col1  col2  col3  col4  col5  day  \\\n",
      "0      259000  21    0      4          1     9     0     0     0     0    0   \n",
      "1      259000  21    0      4          1     9     0     0     0     0    1   \n",
      "2      259000  21    0      4          1     9     0     0     0     0    2   \n",
      "3      259000  21    0      4          1     9     0     0     0     0    3   \n",
      "4      259000  21    0      4          1     9     0     0     0     0    4   \n",
      "...       ...  ..  ...    ...        ...   ...   ...   ...   ...   ...  ...   \n",
      "43948  209000  28    0     10          1     9     0     0     0     0   88   \n",
      "43949  209000  28    0     10          1     9     0     0     0     0   89   \n",
      "43950  209000  28    0     10          1     9     0     0     0     0   90   \n",
      "43951  209000  28    0     10          1     9     0     0     0     0   91   \n",
      "43952  209000  28    0     10          1     9     0     0     0     0   92   \n",
      "\n",
      "       nike  jordan  newbalance  adidas  converse  콜라보유무  type  \n",
      "0         0       0           1       0         0      0     1  \n",
      "1         0       0           1       0         0      0     1  \n",
      "2         0       0           1       0         0      0     1  \n",
      "3         0       0           1       0         0      0     1  \n",
      "4         0       0           1       0         0      0     1  \n",
      "...     ...     ...         ...     ...       ...    ...   ...  \n",
      "43948     0       0           0       0         1      1     0  \n",
      "43949     0       0           0       0         1      1     0  \n",
      "43950     0       0           0       0         1      1     0  \n",
      "43951     0       0           0       0         1      1     0  \n",
      "43952     0       0           0       0         1      1     0  \n",
      "\n",
      "[43953 rows x 18 columns]\n"
     ]
    }
   ],
   "source": [
    "print(df)"
   ]
  },
  {
   "cell_type": "code",
   "execution_count": 67,
   "id": "c5005c61",
   "metadata": {},
   "outputs": [],
   "source": [
    "data= df[(df['day'] == 1)]"
   ]
  },
  {
   "cell_type": "code",
   "execution_count": 68,
   "id": "bc4fe3b2",
   "metadata": {},
   "outputs": [
    {
     "name": "stdout",
     "output_type": "stream",
     "text": [
      "          발매가  라인  콜라보  month  color_num  col1  col2  col3  col4  col5  day  \\\n",
      "1      259000  21    0      4          1     9     0     0     0     0    1   \n",
      "93     149000  24    0      9          1     9     0     0     0     0    1   \n",
      "185    139000  17    0      5          2     9     1     0     0     0    1   \n",
      "278    149000  24    0      2          1     9     0     0     0     0    1   \n",
      "368     99000  18    0      1          1     9     0     0     0     0    1   \n",
      "...       ...  ..  ...    ...        ...   ...   ...   ...   ...   ...  ...   \n",
      "43493  284400  25    0     12          1     6     0     0     0     0    1   \n",
      "43584  600000  26    0      9          2     1     1     0     0     0    1   \n",
      "43676  309000  25    0      4          1     4     0     0     0     0    1   \n",
      "43768  289000  25    0     10          1     9     0     0     0     0    1   \n",
      "43861  209000  28    0     10          1     9     0     0     0     0    1   \n",
      "\n",
      "       nike  jordan  newbalance  adidas  converse  콜라보유무  type  \n",
      "1         0       0           1       0         0      0     1  \n",
      "93        0       0           1       0         0      0     1  \n",
      "185       0       0           1       0         0      0     1  \n",
      "278       0       0           1       0         0      0     1  \n",
      "368       0       0           1       0         0      0     0  \n",
      "...     ...     ...         ...     ...       ...    ...   ...  \n",
      "43493     0       0           0       1         0      0     0  \n",
      "43584     0       0           0       1         0      1     1  \n",
      "43676     0       0           0       1         0      0     1  \n",
      "43768     0       0           0       1         0      0     0  \n",
      "43861     0       0           0       0         1      1     0  \n",
      "\n",
      "[477 rows x 18 columns]\n"
     ]
    }
   ],
   "source": [
    "print(data)"
   ]
  },
  {
   "cell_type": "code",
   "execution_count": 69,
   "id": "5192056f",
   "metadata": {},
   "outputs": [],
   "source": [
    "data = data.sample(frac=1).reset_index(drop=True)"
   ]
  },
  {
   "cell_type": "code",
   "execution_count": 70,
   "id": "3a006394",
   "metadata": {},
   "outputs": [
    {
     "name": "stdout",
     "output_type": "stream",
     "text": [
      "        발매가  라인  콜라보  month  color_num  col1  col2  col3  col4  col5  day  \\\n",
      "0    133600  17    0      3          2     2     3     0     0     0    1   \n",
      "1    159000  17    0     11          3     4     4     1     0     0    1   \n",
      "2    109000  27    0      6          3     7     1     1     0     0    1   \n",
      "3    139000  17    0      5          2     4    10     0     0     0    1   \n",
      "4    149000  29    0      6          2     3     2     0     0     0    1   \n",
      "..      ...  ..  ...    ...        ...   ...   ...   ...   ...   ...  ...   \n",
      "472  119000  29    0      8          3     4     3     9     0     0    1   \n",
      "473  289000  25    0      3          1     2     0     0     0     0    1   \n",
      "474  109000  17    0      2          1     4     0     0     0     0    1   \n",
      "475  600000  26    0      9          1     9     0     0     0     0    1   \n",
      "476  229000  11    0      2          4     8     9     1     3     0    1   \n",
      "\n",
      "     nike  jordan  newbalance  adidas  converse  콜라보유무  type  \n",
      "0       0       0           1       0         0      0     0  \n",
      "1       0       0           1       0         0      1     1  \n",
      "2       0       0           0       0         1      0     0  \n",
      "3       0       0           1       0         0      0     1  \n",
      "4       1       0           0       0         0      0     0  \n",
      "..    ...     ...         ...     ...       ...    ...   ...  \n",
      "472     1       0           0       0         0      0     1  \n",
      "473     0       0           0       1         0      0     1  \n",
      "474     0       0           1       0         0      0     1  \n",
      "475     0       0           0       1         0      1     1  \n",
      "476     0       1           0       0         0      0     1  \n",
      "\n",
      "[477 rows x 18 columns]\n"
     ]
    }
   ],
   "source": [
    "print(data)"
   ]
  },
  {
   "cell_type": "code",
   "execution_count": 71,
   "id": "6683640a",
   "metadata": {},
   "outputs": [
    {
     "name": "stdout",
     "output_type": "stream",
     "text": [
      "False\n"
     ]
    }
   ],
   "source": [
    "print(data.isnull().values.any())"
   ]
  },
  {
   "cell_type": "code",
   "execution_count": 72,
   "id": "4277bba6",
   "metadata": {},
   "outputs": [],
   "source": [
    "xy = data[\"type\"]"
   ]
  },
  {
   "cell_type": "code",
   "execution_count": 73,
   "id": "32b2a14d",
   "metadata": {},
   "outputs": [
    {
     "name": "stdout",
     "output_type": "stream",
     "text": [
      "0      0\n",
      "1      1\n",
      "2      0\n",
      "3      1\n",
      "4      0\n",
      "      ..\n",
      "472    1\n",
      "473    1\n",
      "474    1\n",
      "475    1\n",
      "476    1\n",
      "Name: type, Length: 477, dtype: int64\n"
     ]
    }
   ],
   "source": [
    "print(xy)"
   ]
  },
  {
   "cell_type": "code",
   "execution_count": 74,
   "id": "99fe5e49",
   "metadata": {},
   "outputs": [],
   "source": [
    "from sklearn.preprocessing import StandardScaler\n",
    "X = data[['콜라보유무', 'color_num', 'converse', 'jordan', '라인', '콜라보', 'col3', 'col5']]\n",
    "scaler = StandardScaler()\n",
    "scaler.fit(X)\n",
    "scale_X = scaler.fit_transform(X)\n",
    "scale_X  = np.asarray(scale_X ).astype(np.float64)\n",
    "y = np.empty((477,2))"
   ]
  },
  {
   "cell_type": "code",
   "execution_count": 75,
   "id": "561072d0",
   "metadata": {},
   "outputs": [
    {
     "name": "stdout",
     "output_type": "stream",
     "text": [
      "[[-0.52153619 -0.51900723 -0.30665404 ... -0.29839755 -0.70744174\n",
      "  -0.07955573]\n",
      " [ 1.91741247  0.49146807 -0.30665404 ... -0.29839755 -0.41902319\n",
      "  -0.07955573]\n",
      " [-0.52153619  0.49146807  3.26100389 ... -0.29839755 -0.41902319\n",
      "  -0.07955573]\n",
      " ...\n",
      " [-0.52153619 -1.52948253 -0.30665404 ... -0.29839755 -0.70744174\n",
      "  -0.07955573]\n",
      " [ 1.91741247 -1.52948253 -0.30665404 ... -0.29839755 -0.70744174\n",
      "  -0.07955573]\n",
      " [-0.52153619  1.50194337 -0.30665404 ... -0.29839755 -0.41902319\n",
      "  -0.07955573]]\n"
     ]
    }
   ],
   "source": [
    "print(scale_X)"
   ]
  },
  {
   "cell_type": "code",
   "execution_count": 45,
   "id": "97a3ae2f",
   "metadata": {},
   "outputs": [],
   "source": [
    "for i in range(477):\n",
    "    if xy[i] == 0.0:\n",
    "        y[i] = [1, 0]\n",
    "    elif xy[i] == 0:\n",
    "         y[i] = [1, 0]\n",
    "    elif xy[i] == '0':\n",
    "         y[i] = [1, 0]\n",
    "    else:\n",
    "        y[i] = [0, 1]"
   ]
  },
  {
   "cell_type": "code",
   "execution_count": 46,
   "id": "cff9f465",
   "metadata": {},
   "outputs": [],
   "source": [
    "train_x, test_x, train_y, test_y = train_test_split(scale_X, y, test_size = 0.3, random_state = 1)"
   ]
  },
  {
   "cell_type": "code",
   "execution_count": 47,
   "id": "3d82694b",
   "metadata": {},
   "outputs": [],
   "source": [
    "model = tf.keras.Sequential()  \n",
    "model.add(layers.Dense(16, input_shape=(8,)))  \n",
    "model.add(layers.Activation('relu')) \n",
    "model.add(layers.Dropout(0.01))        \n",
    "\n",
    "model.add(layers.Dense(16))         \n",
    "model.add(layers.Activation('relu'))\n",
    "model.add(layers.Dropout(0.01))\n",
    "\n",
    "model.add(layers.Dense(32))         \n",
    "model.add(layers.Activation('relu'))\n",
    "model.add(layers.Dropout(0.01))\n",
    "\n",
    "model.add(layers.Dense(16))         \n",
    "model.add(layers.Activation('relu'))\n",
    "model.add(layers.Dropout(0.01))\n",
    "\n",
    "model.add(layers.Dense(32))         \n",
    "model.add(layers.Activation('relu'))\n",
    "model.add(layers.Dropout(0.01))\n",
    "\n",
    "model.add(layers.Dense(16))         \n",
    "model.add(layers.Activation('relu'))\n",
    "model.add(layers.Dropout(0.01))\n",
    "\n",
    "model.add(layers.Dense(2))\n",
    "model.add(layers.Activation('softmax')) \n",
    "\n",
    "# 모델 구축\n",
    "model.compile(\n",
    "    loss= 'binary_crossentropy', \n",
    "    optimizer=\"adam\",   \n",
    "    metrics=['accuracy'])  "
   ]
  },
  {
   "cell_type": "code",
   "execution_count": 48,
   "id": "364d3d9f",
   "metadata": {},
   "outputs": [
    {
     "name": "stdout",
     "output_type": "stream",
     "text": [
      "Epoch 1/200\n",
      "24/24 [==============================] - 0s 18ms/step - loss: 0.6624 - accuracy: 0.6481 - val_loss: 0.6396 - val_accuracy: 0.6900\n",
      "Epoch 2/200\n",
      "24/24 [==============================] - 0s 4ms/step - loss: 0.5719 - accuracy: 0.7597 - val_loss: 0.5942 - val_accuracy: 0.6900\n",
      "Epoch 3/200\n",
      "24/24 [==============================] - 0s 4ms/step - loss: 0.5205 - accuracy: 0.7597 - val_loss: 0.5971 - val_accuracy: 0.6900\n",
      "Epoch 4/200\n",
      "24/24 [==============================] - 0s 3ms/step - loss: 0.5074 - accuracy: 0.7597 - val_loss: 0.5961 - val_accuracy: 0.6900\n",
      "Epoch 5/200\n",
      "24/24 [==============================] - 0s 4ms/step - loss: 0.5015 - accuracy: 0.7597 - val_loss: 0.5962 - val_accuracy: 0.6900\n",
      "Epoch 6/200\n",
      "24/24 [==============================] - 0s 3ms/step - loss: 0.4970 - accuracy: 0.7597 - val_loss: 0.5981 - val_accuracy: 0.6900\n",
      "Epoch 7/200\n",
      "24/24 [==============================] - 0s 4ms/step - loss: 0.4863 - accuracy: 0.7597 - val_loss: 0.6029 - val_accuracy: 0.6900\n",
      "Epoch 8/200\n",
      "24/24 [==============================] - 0s 4ms/step - loss: 0.4839 - accuracy: 0.7597 - val_loss: 0.6056 - val_accuracy: 0.6900\n",
      "Epoch 9/200\n",
      "24/24 [==============================] - 0s 4ms/step - loss: 0.4807 - accuracy: 0.7597 - val_loss: 0.6077 - val_accuracy: 0.6900\n",
      "Epoch 10/200\n",
      "24/24 [==============================] - 0s 4ms/step - loss: 0.4743 - accuracy: 0.7639 - val_loss: 0.6177 - val_accuracy: 0.6900\n",
      "Epoch 11/200\n",
      "24/24 [==============================] - 0s 4ms/step - loss: 0.4762 - accuracy: 0.7639 - val_loss: 0.6184 - val_accuracy: 0.6900\n",
      "Epoch 12/200\n",
      "24/24 [==============================] - 0s 4ms/step - loss: 0.4743 - accuracy: 0.7682 - val_loss: 0.6228 - val_accuracy: 0.6900\n",
      "Epoch 13/200\n",
      "24/24 [==============================] - 0s 4ms/step - loss: 0.4690 - accuracy: 0.7639 - val_loss: 0.6285 - val_accuracy: 0.6900\n",
      "Epoch 14/200\n",
      "24/24 [==============================] - 0s 4ms/step - loss: 0.4642 - accuracy: 0.7597 - val_loss: 0.6337 - val_accuracy: 0.6900\n",
      "Epoch 15/200\n",
      "24/24 [==============================] - 0s 4ms/step - loss: 0.4657 - accuracy: 0.7597 - val_loss: 0.6351 - val_accuracy: 0.6900\n",
      "Epoch 16/200\n",
      "24/24 [==============================] - 0s 4ms/step - loss: 0.4603 - accuracy: 0.7682 - val_loss: 0.6388 - val_accuracy: 0.6800\n",
      "Epoch 17/200\n",
      "24/24 [==============================] - 0s 4ms/step - loss: 0.4584 - accuracy: 0.7639 - val_loss: 0.6443 - val_accuracy: 0.6900\n",
      "Epoch 18/200\n",
      "24/24 [==============================] - 0s 4ms/step - loss: 0.4585 - accuracy: 0.7639 - val_loss: 0.6529 - val_accuracy: 0.6900\n",
      "Epoch 19/200\n",
      "24/24 [==============================] - 0s 4ms/step - loss: 0.4502 - accuracy: 0.7811 - val_loss: 0.6538 - val_accuracy: 0.7300\n",
      "Epoch 20/200\n",
      "24/24 [==============================] - 0s 4ms/step - loss: 0.4751 - accuracy: 0.7768 - val_loss: 0.6492 - val_accuracy: 0.7200\n",
      "Epoch 21/200\n",
      "24/24 [==============================] - 0s 4ms/step - loss: 0.4568 - accuracy: 0.7811 - val_loss: 0.6518 - val_accuracy: 0.6800\n",
      "Epoch 22/200\n",
      "24/24 [==============================] - 0s 4ms/step - loss: 0.4515 - accuracy: 0.7811 - val_loss: 0.6582 - val_accuracy: 0.7000\n",
      "Epoch 23/200\n",
      "24/24 [==============================] - 0s 4ms/step - loss: 0.4452 - accuracy: 0.7811 - val_loss: 0.6600 - val_accuracy: 0.7100\n",
      "Epoch 24/200\n",
      "24/24 [==============================] - 0s 5ms/step - loss: 0.4414 - accuracy: 0.7940 - val_loss: 0.6693 - val_accuracy: 0.7100\n",
      "Epoch 25/200\n",
      "24/24 [==============================] - 0s 4ms/step - loss: 0.4388 - accuracy: 0.7768 - val_loss: 0.6673 - val_accuracy: 0.7300\n",
      "Epoch 26/200\n",
      "24/24 [==============================] - 0s 4ms/step - loss: 0.4364 - accuracy: 0.7811 - val_loss: 0.6754 - val_accuracy: 0.7200\n",
      "Epoch 27/200\n",
      "24/24 [==============================] - 0s 4ms/step - loss: 0.4484 - accuracy: 0.7897 - val_loss: 0.6706 - val_accuracy: 0.7300\n",
      "Epoch 28/200\n",
      "24/24 [==============================] - 0s 4ms/step - loss: 0.4409 - accuracy: 0.7768 - val_loss: 0.6782 - val_accuracy: 0.7000\n",
      "Epoch 29/200\n",
      "24/24 [==============================] - 0s 5ms/step - loss: 0.4277 - accuracy: 0.7940 - val_loss: 0.6839 - val_accuracy: 0.7200\n",
      "Epoch 30/200\n",
      "24/24 [==============================] - 0s 4ms/step - loss: 0.4342 - accuracy: 0.7897 - val_loss: 0.6821 - val_accuracy: 0.7200\n",
      "Epoch 31/200\n",
      "24/24 [==============================] - 0s 4ms/step - loss: 0.4214 - accuracy: 0.7983 - val_loss: 0.6912 - val_accuracy: 0.7200\n",
      "Epoch 32/200\n",
      "24/24 [==============================] - 0s 4ms/step - loss: 0.4343 - accuracy: 0.7854 - val_loss: 0.6889 - val_accuracy: 0.7200\n",
      "5/5 [==============================] - 0s 2ms/step - loss: 0.5772 - accuracy: 0.7361\n",
      "test_loss:  0.5771706700325012\n",
      "test_acc:  0.7361111044883728\n"
     ]
    }
   ],
   "source": [
    "hist = model.fit(\n",
    "    train_x, train_y,\n",
    "    batch_size = 10,  \n",
    "    epochs = 200,      \n",
    "    validation_split = 0.3,\n",
    "    shuffle = False,\n",
    "    callbacks=[tf.keras.callbacks.EarlyStopping(monitor='val_loss', patience=30)],\n",
    "    verbose=1)  \n",
    "\n",
    "# 테스트 데이터로 성능평가\n",
    "score = model.evaluate(test_x, test_y)\n",
    "print('test_loss: ', score[0])\n",
    "print('test_acc: ', score[1])"
   ]
  },
  {
   "cell_type": "code",
   "execution_count": 49,
   "id": "0e58587f",
   "metadata": {},
   "outputs": [
    {
     "data": {
      "image/png": "[encoded data removed]",
      "text/plain": [
       "<Figure size 432x288 with 2 Axes>"
      ]
     },
     "metadata": {
      "needs_background": "light"
     },
     "output_type": "display_data"
    }
   ],
   "source": [
    "import matplotlib.pyplot as plt\n",
    "\n",
    "fig, loss_ax = plt.subplots()\n",
    "acc_ax = loss_ax.twinx()\n",
    "\n",
    "loss_ax.plot(hist.history['loss'], 'y', label='train loss')\n",
    "loss_ax.plot(hist.history['val_loss'], 'r', label='val loss')\n",
    "\n",
    "acc_ax.plot(hist.history['accuracy'], 'b', label='train acc')\n",
    "acc_ax.plot(hist.history['val_accuracy'], 'g', label='val acc')\n",
    "\n",
    "loss_ax.set_xlabel('epoch')\n",
    "loss_ax.set_ylabel('loss')\n",
    "acc_ax.set_ylabel('accuray')\n",
    "\n",
    "loss_ax.legend(loc='upper left')\n",
    "acc_ax.legend(loc='lower left')\n",
    "\n",
    "plt.show()"
   ]
  },
  {
   "cell_type": "code",
   "execution_count": 50,
   "id": "2ce4afa7",
   "metadata": {},
   "outputs": [],
   "source": [
    "y_pred = model.predict(test_x)"
   ]
  },
  {
   "cell_type": "code",
   "execution_count": 51,
   "id": "05dfb180",
   "metadata": {},
   "outputs": [
    {
     "name": "stdout",
     "output_type": "stream",
     "text": [
      "[[2.40052506e-01 7.59947479e-01]\n",
      " [1.19681833e-02 9.88031745e-01]\n",
      " [4.73001271e-01 5.26998758e-01]\n",
      " [8.46524462e-02 9.15347636e-01]\n",
      " [4.79629129e-01 5.20370901e-01]\n",
      " [2.76695430e-01 7.23304570e-01]\n",
      " [1.19681833e-02 9.88031745e-01]\n",
      " [1.83858406e-02 9.81614232e-01]\n",
      " [6.26959622e-01 3.73040348e-01]\n",
      " [4.36861306e-01 5.63138664e-01]\n",
      " [4.72924784e-02 9.52707529e-01]\n",
      " [6.18967533e-01 3.81032467e-01]\n",
      " [2.74509043e-01 7.25490928e-01]\n",
      " [1.77129637e-02 9.82287109e-01]\n",
      " [1.23843074e-01 8.76156867e-01]\n",
      " [2.40052506e-01 7.59947479e-01]\n",
      " [6.08164310e-01 3.91835690e-01]\n",
      " [2.40052506e-01 7.59947479e-01]\n",
      " [5.32164514e-01 4.67835486e-01]\n",
      " [4.39365357e-01 5.60634673e-01]\n",
      " [3.84560168e-01 6.15439832e-01]\n",
      " [2.40052506e-01 7.59947479e-01]\n",
      " [2.48180144e-02 9.75181997e-01]\n",
      " [4.73001271e-01 5.26998758e-01]\n",
      " [2.40052506e-01 7.59947479e-01]\n",
      " [4.53304142e-01 5.46695828e-01]\n",
      " [3.20276737e-01 6.79723263e-01]\n",
      " [4.42031741e-01 5.57968259e-01]\n",
      " [9.84749123e-02 9.01525080e-01]\n",
      " [9.75310377e-06 9.99990225e-01]\n",
      " [6.48235083e-01 3.51764888e-01]\n",
      " [1.74504578e-06 9.99998212e-01]\n",
      " [2.40052506e-01 7.59947479e-01]\n",
      " [4.95091170e-01 5.04908860e-01]\n",
      " [2.74509043e-01 7.25490928e-01]\n",
      " [3.89628500e-01 6.10371530e-01]\n",
      " [4.73001271e-01 5.26998758e-01]\n",
      " [2.40052506e-01 7.59947479e-01]\n",
      " [4.02673930e-01 5.97326040e-01]\n",
      " [6.17428660e-01 3.82571369e-01]\n",
      " [8.50139931e-02 9.14986014e-01]\n",
      " [2.39399835e-01 7.60600209e-01]\n",
      " [1.26656619e-06 9.99998689e-01]\n",
      " [3.88941288e-01 6.11058712e-01]\n",
      " [6.30225122e-01 3.69774848e-01]\n",
      " [4.42890465e-01 5.57109535e-01]\n",
      " [4.73001271e-01 5.26998758e-01]\n",
      " [4.81640041e-01 5.18359959e-01]\n",
      " [6.69360533e-02 9.33063984e-01]\n",
      " [4.73001271e-01 5.26998758e-01]\n",
      " [3.25352430e-01 6.74647570e-01]\n",
      " [3.88941288e-01 6.11058712e-01]\n",
      " [4.39700544e-01 5.60299397e-01]\n",
      " [1.19653709e-01 8.80346239e-01]\n",
      " [1.30591869e-01 8.69408131e-01]\n",
      " [2.88089154e-07 9.99999762e-01]\n",
      " [4.09582406e-01 5.90417624e-01]\n",
      " [4.02673930e-01 5.97326040e-01]\n",
      " [1.77129637e-02 9.82287109e-01]\n",
      " [1.79321449e-02 9.82067883e-01]\n",
      " [8.82986784e-02 9.11701381e-01]\n",
      " [6.27207816e-01 3.72792155e-01]\n",
      " [2.40052506e-01 7.59947479e-01]\n",
      " [4.73001212e-01 5.26998758e-01]\n",
      " [6.38440192e-01 3.61559808e-01]\n",
      " [1.19653709e-01 8.80346239e-01]\n",
      " [8.54807422e-02 9.14519250e-01]\n",
      " [4.07915473e-01 5.92084527e-01]\n",
      " [3.17929685e-02 9.68207061e-01]\n",
      " [5.09889543e-01 4.90110487e-01]\n",
      " [5.54424226e-01 4.45575833e-01]\n",
      " [3.87808442e-01 6.12191498e-01]\n",
      " [6.27650023e-01 3.72349948e-01]\n",
      " [3.28901619e-01 6.71098411e-01]\n",
      " [3.17140818e-02 9.68285978e-01]\n",
      " [1.77129637e-02 9.82287109e-01]\n",
      " [5.10332026e-02 9.48966742e-01]\n",
      " [4.04620647e-01 5.95379353e-01]\n",
      " [1.19653709e-01 8.80346239e-01]\n",
      " [4.01485533e-01 5.98514438e-01]\n",
      " [9.30060923e-01 6.99391440e-02]\n",
      " [4.05226082e-01 5.94773889e-01]\n",
      " [8.36139917e-02 9.16385949e-01]\n",
      " [4.03629273e-01 5.96370757e-01]\n",
      " [3.30600487e-05 9.99966979e-01]\n",
      " [4.73001271e-01 5.26998758e-01]\n",
      " [1.70839444e-01 8.29160631e-01]\n",
      " [3.63616407e-01 6.36383653e-01]\n",
      " [6.69360533e-02 9.33063984e-01]\n",
      " [2.40052506e-01 7.59947479e-01]\n",
      " [4.34556872e-01 5.65443158e-01]\n",
      " [3.90045125e-06 9.99996066e-01]\n",
      " [2.71085501e-01 7.28914559e-01]\n",
      " [6.08164310e-01 3.91835690e-01]\n",
      " [3.47965986e-01 6.52034044e-01]\n",
      " [6.27650023e-01 3.72349948e-01]\n",
      " [5.08652210e-01 4.91347820e-01]\n",
      " [5.32164514e-01 4.67835486e-01]\n",
      " [2.17181876e-01 7.82818139e-01]\n",
      " [1.23843074e-01 8.76156867e-01]\n",
      " [2.48180144e-02 9.75181997e-01]\n",
      " [2.71710455e-01 7.28289545e-01]\n",
      " [5.54424226e-01 4.45575833e-01]\n",
      " [3.65387142e-01 6.34612799e-01]\n",
      " [8.33525360e-02 9.16647494e-01]\n",
      " [4.79629129e-01 5.20370901e-01]\n",
      " [3.17929685e-02 9.68207061e-01]\n",
      " [1.33952082e-04 9.99866009e-01]\n",
      " [4.73001271e-01 5.26998758e-01]\n",
      " [6.16631031e-01 3.83368939e-01]\n",
      " [2.40052506e-01 7.59947479e-01]\n",
      " [3.56609285e-01 6.43390715e-01]\n",
      " [3.73641878e-01 6.26358032e-01]\n",
      " [4.38839763e-01 5.61160207e-01]\n",
      " [9.84749123e-02 9.01525080e-01]\n",
      " [2.40052506e-01 7.59947479e-01]\n",
      " [1.07242391e-02 9.89275694e-01]\n",
      " [1.25490442e-01 8.74509573e-01]\n",
      " [1.19653709e-01 8.80346239e-01]\n",
      " [5.05083501e-01 4.94916499e-01]\n",
      " [2.48180144e-02 9.75181997e-01]\n",
      " [4.73001271e-01 5.26998758e-01]\n",
      " [2.40254059e-01 7.59745955e-01]\n",
      " [1.19653709e-01 8.80346239e-01]\n",
      " [6.48235023e-01 3.51764947e-01]\n",
      " [6.69360533e-02 9.33063984e-01]\n",
      " [1.77129693e-02 9.82286990e-01]\n",
      " [1.21433280e-01 8.78566742e-01]\n",
      " [2.40052506e-01 7.59947479e-01]\n",
      " [3.65114063e-01 6.34885907e-01]\n",
      " [3.17929685e-02 9.68207061e-01]\n",
      " [2.40052506e-01 7.59947479e-01]\n",
      " [4.37788665e-01 5.62211335e-01]\n",
      " [3.25418115e-01 6.74581885e-01]\n",
      " [1.17570251e-01 8.82429719e-01]\n",
      " [5.38272178e-03 9.94617283e-01]\n",
      " [2.48180144e-02 9.75181997e-01]\n",
      " [4.04620647e-01 5.95379353e-01]\n",
      " [5.93788809e-06 9.99994040e-01]\n",
      " [6.52442515e-01 3.47557485e-01]\n",
      " [3.17140818e-02 9.68285978e-01]\n",
      " [2.40052506e-01 7.59947479e-01]\n",
      " [4.73001271e-01 5.26998758e-01]\n",
      " [1.74504407e-06 9.99998212e-01]]\n"
     ]
    }
   ],
   "source": [
    "print(y_pred)"
   ]
  },
  {
   "cell_type": "code",
   "execution_count": 52,
   "id": "4fccbdc5",
   "metadata": {},
   "outputs": [
    {
     "data": {
      "text/plain": [
       "array([1, 1, 1, 1, 1, 1, 1, 1, 0, 1, 1, 0, 1, 1, 1, 1, 0, 1, 0, 1, 1, 1,\n",
       "       1, 1, 1, 1, 1, 1, 1, 1, 0, 1, 1, 1, 1, 1, 1, 1, 1, 0, 1, 1, 1, 1,\n",
       "       0, 1, 1, 1, 1, 1, 1, 1, 1, 1, 1, 1, 1, 1, 1, 1, 1, 0, 1, 1, 0, 1,\n",
       "       1, 1, 1, 0, 0, 1, 0, 1, 1, 1, 1, 1, 1, 1, 0, 1, 1, 1, 1, 1, 1, 1,\n",
       "       1, 1, 1, 1, 1, 0, 1, 0, 0, 0, 1, 1, 1, 1, 0, 1, 1, 1, 1, 1, 1, 0,\n",
       "       1, 1, 1, 1, 1, 1, 1, 1, 1, 0, 1, 1, 1, 1, 0, 1, 1, 1, 1, 1, 1, 1,\n",
       "       1, 1, 1, 1, 1, 1, 1, 0, 1, 1, 1, 1], dtype=int64)"
      ]
     },
     "execution_count": 52,
     "metadata": {},
     "output_type": "execute_result"
    }
   ],
   "source": [
    "y_class = y_pred.argmax(axis=-1)\n",
    "y_class"
   ]
  },
  {
   "cell_type": "code",
   "execution_count": 53,
   "id": "238d51f4",
   "metadata": {},
   "outputs": [
    {
     "name": "stdout",
     "output_type": "stream",
     "text": [
      "[[0. 1.]\n",
      " [0. 1.]\n",
      " [0. 1.]\n",
      " [0. 1.]\n",
      " [1. 0.]\n",
      " [0. 1.]\n",
      " [0. 1.]\n",
      " [1. 0.]\n",
      " [1. 0.]\n",
      " [0. 1.]\n",
      " [0. 1.]\n",
      " [0. 1.]\n",
      " [0. 1.]\n",
      " [0. 1.]\n",
      " [0. 1.]\n",
      " [0. 1.]\n",
      " [0. 1.]\n",
      " [0. 1.]\n",
      " [0. 1.]\n",
      " [1. 0.]\n",
      " [0. 1.]\n",
      " [0. 1.]\n",
      " [0. 1.]\n",
      " [1. 0.]\n",
      " [0. 1.]\n",
      " [1. 0.]\n",
      " [0. 1.]\n",
      " [0. 1.]\n",
      " [0. 1.]\n",
      " [0. 1.]\n",
      " [1. 0.]\n",
      " [0. 1.]\n",
      " [0. 1.]\n",
      " [0. 1.]\n",
      " [0. 1.]\n",
      " [0. 1.]\n",
      " [0. 1.]\n",
      " [1. 0.]\n",
      " [0. 1.]\n",
      " [0. 1.]\n",
      " [0. 1.]\n",
      " [1. 0.]\n",
      " [0. 1.]\n",
      " [0. 1.]\n",
      " [1. 0.]\n",
      " [0. 1.]\n",
      " [0. 1.]\n",
      " [0. 1.]\n",
      " [0. 1.]\n",
      " [0. 1.]\n",
      " [1. 0.]\n",
      " [0. 1.]\n",
      " [0. 1.]\n",
      " [0. 1.]\n",
      " [0. 1.]\n",
      " [0. 1.]\n",
      " [0. 1.]\n",
      " [1. 0.]\n",
      " [0. 1.]\n",
      " [0. 1.]\n",
      " [0. 1.]\n",
      " [1. 0.]\n",
      " [0. 1.]\n",
      " [0. 1.]\n",
      " [0. 1.]\n",
      " [0. 1.]\n",
      " [0. 1.]\n",
      " [0. 1.]\n",
      " [1. 0.]\n",
      " [0. 1.]\n",
      " [1. 0.]\n",
      " [1. 0.]\n",
      " [1. 0.]\n",
      " [0. 1.]\n",
      " [1. 0.]\n",
      " [0. 1.]\n",
      " [1. 0.]\n",
      " [1. 0.]\n",
      " [0. 1.]\n",
      " [0. 1.]\n",
      " [1. 0.]\n",
      " [0. 1.]\n",
      " [0. 1.]\n",
      " [1. 0.]\n",
      " [0. 1.]\n",
      " [0. 1.]\n",
      " [0. 1.]\n",
      " [0. 1.]\n",
      " [0. 1.]\n",
      " [0. 1.]\n",
      " [1. 0.]\n",
      " [0. 1.]\n",
      " [0. 1.]\n",
      " [0. 1.]\n",
      " [0. 1.]\n",
      " [0. 1.]\n",
      " [0. 1.]\n",
      " [1. 0.]\n",
      " [0. 1.]\n",
      " [0. 1.]\n",
      " [0. 1.]\n",
      " [1. 0.]\n",
      " [0. 1.]\n",
      " [0. 1.]\n",
      " [1. 0.]\n",
      " [1. 0.]\n",
      " [0. 1.]\n",
      " [0. 1.]\n",
      " [0. 1.]\n",
      " [1. 0.]\n",
      " [0. 1.]\n",
      " [0. 1.]\n",
      " [0. 1.]\n",
      " [1. 0.]\n",
      " [1. 0.]\n",
      " [0. 1.]\n",
      " [0. 1.]\n",
      " [0. 1.]\n",
      " [0. 1.]\n",
      " [0. 1.]\n",
      " [0. 1.]\n",
      " [1. 0.]\n",
      " [1. 0.]\n",
      " [0. 1.]\n",
      " [1. 0.]\n",
      " [0. 1.]\n",
      " [0. 1.]\n",
      " [0. 1.]\n",
      " [1. 0.]\n",
      " [0. 1.]\n",
      " [0. 1.]\n",
      " [0. 1.]\n",
      " [0. 1.]\n",
      " [0. 1.]\n",
      " [1. 0.]\n",
      " [0. 1.]\n",
      " [1. 0.]\n",
      " [1. 0.]\n",
      " [0. 1.]\n",
      " [1. 0.]\n",
      " [0. 1.]\n",
      " [0. 1.]\n",
      " [0. 1.]\n",
      " [0. 1.]]\n"
     ]
    }
   ],
   "source": [
    "print(test_y)"
   ]
  },
  {
   "cell_type": "code",
   "execution_count": 54,
   "id": "150fd60e",
   "metadata": {},
   "outputs": [
    {
     "name": "stdout",
     "output_type": "stream",
     "text": [
      "1.0\n"
     ]
    }
   ],
   "source": [
    "print(test_y[1][1])"
   ]
  },
  {
   "cell_type": "code",
   "execution_count": 55,
   "id": "81d4a1a9",
   "metadata": {},
   "outputs": [],
   "source": [
    "test_act = []\n",
    "for i in range(len(test_y)):\n",
    "    if test_y[i][1] == 1.0:\n",
    "        test_act.append(0)\n",
    "    else:\n",
    "        test_act.append(1)"
   ]
  },
  {
   "cell_type": "code",
   "execution_count": 56,
   "id": "995cb47a",
   "metadata": {},
   "outputs": [
    {
     "name": "stdout",
     "output_type": "stream",
     "text": [
      "[0, 0, 0, 0, 1, 0, 0, 1, 1, 0, 0, 0, 0, 0, 0, 0, 0, 0, 0, 1, 0, 0, 0, 1, 0, 1, 0, 0, 0, 0, 1, 0, 0, 0, 0, 0, 0, 1, 0, 0, 0, 1, 0, 0, 1, 0, 0, 0, 0, 0, 1, 0, 0, 0, 0, 0, 0, 1, 0, 0, 0, 1, 0, 0, 0, 0, 0, 0, 1, 0, 1, 1, 1, 0, 1, 0, 1, 1, 0, 0, 1, 0, 0, 1, 0, 0, 0, 0, 0, 0, 1, 0, 0, 0, 0, 0, 0, 1, 0, 0, 0, 1, 0, 0, 1, 1, 0, 0, 0, 1, 0, 0, 0, 1, 1, 0, 0, 0, 0, 0, 0, 1, 1, 0, 1, 0, 0, 0, 1, 0, 0, 0, 0, 0, 1, 0, 1, 1, 0, 1, 0, 0, 0, 0]\n"
     ]
    }
   ],
   "source": [
    "print(test_act)"
   ]
  },
  {
   "cell_type": "code",
   "execution_count": 57,
   "id": "b340ad20",
   "metadata": {},
   "outputs": [
    {
     "name": "stdout",
     "output_type": "stream",
     "text": [
      "0.42645719489981787\n"
     ]
    }
   ],
   "source": [
    "from sklearn.metrics import precision_score , recall_score , confusion_matrix, f1_score\n",
    "precision = precision_score(test_act, y_class, average= \"weighted\")\n",
    "print(precision)"
   ]
  },
  {
   "cell_type": "code",
   "execution_count": 58,
   "id": "931330d7",
   "metadata": {},
   "outputs": [
    {
     "name": "stdout",
     "output_type": "stream",
     "text": [
      "0.2638888888888889\n"
     ]
    }
   ],
   "source": [
    "recall = recall_score(test_act, y_class, average= \"weighted\")\n",
    "print(recall)"
   ]
  },
  {
   "cell_type": "code",
   "execution_count": 59,
   "id": "bac593b5",
   "metadata": {},
   "outputs": [
    {
     "name": "stdout",
     "output_type": "stream",
     "text": [
      "[1 1 1 1 1 1 1 1 0 1 1 0 1 1 1 1 0 1 0 1 1 1 1 1 1 1 1 1 1 1 0 1 1 1 1 1 1\n",
      " 1 1 0 1 1 1 1 0 1 1 1 1 1 1 1 1 1 1 1 1 1 1 1 1 0 1 1 0 1 1 1 1 0 0 1 0 1\n",
      " 1 1 1 1 1 1 0 1 1 1 1 1 1 1 1 1 1 1 1 0 1 0 0 0 1 1 1 1 0 1 1 1 1 1 1 0 1\n",
      " 1 1 1 1 1 1 1 1 0 1 1 1 1 0 1 1 1 1 1 1 1 1 1 1 1 1 1 1 0 1 1 1 1]\n"
     ]
    }
   ],
   "source": [
    "print(y_class)"
   ]
  },
  {
   "cell_type": "code",
   "execution_count": 60,
   "id": "81c1ad17",
   "metadata": {},
   "outputs": [
    {
     "name": "stdout",
     "output_type": "stream",
     "text": [
      "[[0. 1.]\n",
      " [0. 1.]\n",
      " [0. 1.]\n",
      " [0. 1.]\n",
      " [1. 0.]\n",
      " [0. 1.]\n",
      " [0. 1.]\n",
      " [1. 0.]\n",
      " [1. 0.]\n",
      " [0. 1.]\n",
      " [0. 1.]\n",
      " [0. 1.]\n",
      " [0. 1.]\n",
      " [0. 1.]\n",
      " [0. 1.]\n",
      " [0. 1.]\n",
      " [0. 1.]\n",
      " [0. 1.]\n",
      " [0. 1.]\n",
      " [1. 0.]\n",
      " [0. 1.]\n",
      " [0. 1.]\n",
      " [0. 1.]\n",
      " [1. 0.]\n",
      " [0. 1.]\n",
      " [1. 0.]\n",
      " [0. 1.]\n",
      " [0. 1.]\n",
      " [0. 1.]\n",
      " [0. 1.]\n",
      " [1. 0.]\n",
      " [0. 1.]\n",
      " [0. 1.]\n",
      " [0. 1.]\n",
      " [0. 1.]\n",
      " [0. 1.]\n",
      " [0. 1.]\n",
      " [1. 0.]\n",
      " [0. 1.]\n",
      " [0. 1.]\n",
      " [0. 1.]\n",
      " [1. 0.]\n",
      " [0. 1.]\n",
      " [0. 1.]\n",
      " [1. 0.]\n",
      " [0. 1.]\n",
      " [0. 1.]\n",
      " [0. 1.]\n",
      " [0. 1.]\n",
      " [0. 1.]\n",
      " [1. 0.]\n",
      " [0. 1.]\n",
      " [0. 1.]\n",
      " [0. 1.]\n",
      " [0. 1.]\n",
      " [0. 1.]\n",
      " [0. 1.]\n",
      " [1. 0.]\n",
      " [0. 1.]\n",
      " [0. 1.]\n",
      " [0. 1.]\n",
      " [1. 0.]\n",
      " [0. 1.]\n",
      " [0. 1.]\n",
      " [0. 1.]\n",
      " [0. 1.]\n",
      " [0. 1.]\n",
      " [0. 1.]\n",
      " [1. 0.]\n",
      " [0. 1.]\n",
      " [1. 0.]\n",
      " [1. 0.]\n",
      " [1. 0.]\n",
      " [0. 1.]\n",
      " [1. 0.]\n",
      " [0. 1.]\n",
      " [1. 0.]\n",
      " [1. 0.]\n",
      " [0. 1.]\n",
      " [0. 1.]\n",
      " [1. 0.]\n",
      " [0. 1.]\n",
      " [0. 1.]\n",
      " [1. 0.]\n",
      " [0. 1.]\n",
      " [0. 1.]\n",
      " [0. 1.]\n",
      " [0. 1.]\n",
      " [0. 1.]\n",
      " [0. 1.]\n",
      " [1. 0.]\n",
      " [0. 1.]\n",
      " [0. 1.]\n",
      " [0. 1.]\n",
      " [0. 1.]\n",
      " [0. 1.]\n",
      " [0. 1.]\n",
      " [1. 0.]\n",
      " [0. 1.]\n",
      " [0. 1.]\n",
      " [0. 1.]\n",
      " [1. 0.]\n",
      " [0. 1.]\n",
      " [0. 1.]\n",
      " [1. 0.]\n",
      " [1. 0.]\n",
      " [0. 1.]\n",
      " [0. 1.]\n",
      " [0. 1.]\n",
      " [1. 0.]\n",
      " [0. 1.]\n",
      " [0. 1.]\n",
      " [0. 1.]\n",
      " [1. 0.]\n",
      " [1. 0.]\n",
      " [0. 1.]\n",
      " [0. 1.]\n",
      " [0. 1.]\n",
      " [0. 1.]\n",
      " [0. 1.]\n",
      " [0. 1.]\n",
      " [1. 0.]\n",
      " [1. 0.]\n",
      " [0. 1.]\n",
      " [1. 0.]\n",
      " [0. 1.]\n",
      " [0. 1.]\n",
      " [0. 1.]\n",
      " [1. 0.]\n",
      " [0. 1.]\n",
      " [0. 1.]\n",
      " [0. 1.]\n",
      " [0. 1.]\n",
      " [0. 1.]\n",
      " [1. 0.]\n",
      " [0. 1.]\n",
      " [1. 0.]\n",
      " [1. 0.]\n",
      " [0. 1.]\n",
      " [1. 0.]\n",
      " [0. 1.]\n",
      " [0. 1.]\n",
      " [0. 1.]\n",
      " [0. 1.]]\n"
     ]
    }
   ],
   "source": [
    "print(test_y)"
   ]
  },
  {
   "cell_type": "code",
   "execution_count": 61,
   "id": "ad53121a",
   "metadata": {},
   "outputs": [
    {
     "name": "stdout",
     "output_type": "stream",
     "text": [
      "0      1.0\n",
      "1      0.0\n",
      "2      0.0\n",
      "3      1.0\n",
      "4      1.0\n",
      "      ... \n",
      "472    NaN\n",
      "473    0.0\n",
      "474    1.0\n",
      "475    0.0\n",
      "476    1.0\n",
      "Name: type, Length: 477, dtype: float64\n"
     ]
    }
   ],
   "source": [
    "print(xy)"
   ]
  },
  {
   "cell_type": "code",
   "execution_count": 62,
   "id": "579140ef",
   "metadata": {},
   "outputs": [
    {
     "name": "stdout",
     "output_type": "stream",
     "text": [
      "0.21558159722222225\n"
     ]
    }
   ],
   "source": [
    "print(f1_score(test_act,y_class, average= \"weighted\"))"
   ]
  },
  {
   "cell_type": "code",
   "execution_count": 63,
   "id": "86379a21",
   "metadata": {},
   "outputs": [
    {
     "data": {
      "text/plain": [
       "array([[11, 95],\n",
       "       [11, 27]], dtype=int64)"
      ]
     },
     "execution_count": 63,
     "metadata": {},
     "output_type": "execute_result"
    }
   ],
   "source": [
    "confusion_matrix(test_act, y_class)"
   ]
  },
  {
   "cell_type": "code",
   "execution_count": null,
   "id": "7c3825c7",
   "metadata": {},
   "outputs": [],
   "source": []
  }
 ],
 "metadata": {
  "kernelspec": {
   "display_name": "Python 3",
   "language": "python",
   "name": "python3"
  },
  "language_info": {
   "codemirror_mode": {
    "name": "ipython",
    "version": 3
   },
   "file_extension": ".py",
   "mimetype": "text/x-python",
   "name": "python",
   "nbconvert_exporter": "python",
   "pygments_lexer": "ipython3",
   "version": "3.8.8"
  }
 },
 "nbformat": 4,
 "nbformat_minor": 5
}
